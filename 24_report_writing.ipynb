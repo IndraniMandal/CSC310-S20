{
  "nbformat": 4,
  "nbformat_minor": 0,
  "metadata": {
    "kernelspec": {
      "display_name": "Python 3",
      "language": "python",
      "name": "python3"
    },
    "language_info": {
      "codemirror_mode": {
        "name": "ipython",
        "version": 3
      },
      "file_extension": ".py",
      "mimetype": "text/x-python",
      "name": "python",
      "nbconvert_exporter": "python",
      "pygments_lexer": "ipython3",
      "version": "3.7.3"
    },
    "colab": {
      "name": "24-report-writing.ipynb",
      "provenance": [],
      "collapsed_sections": [],
      "include_colab_link": true
    }
  },
  "cells": [
    {
      "cell_type": "markdown",
      "metadata": {
        "id": "view-in-github",
        "colab_type": "text"
      },
      "source": [
        "<a href=\"https://colab.research.google.com/github/IndraniMandal/CSC310-S20/blob/master/24_report_writing.ipynb\" target=\"_parent\"><img src=\"https://colab.research.google.com/assets/colab-badge.svg\" alt=\"Open In Colab\"/></a>"
      ]
    },
    {
      "cell_type": "markdown",
      "metadata": {
        "id": "cn-mwtu0oYg1"
      },
      "source": [
        "# Structure of a Data Analysis Report"
      ]
    },
    {
      "cell_type": "markdown",
      "metadata": {
        "id": "WV_-RqXvoYg3"
      },
      "source": [
        "## The overall structure of a data analysis report\n",
        "1. Introduction\n",
        "2. Body\n",
        "3. Conclusion(s)/Discussion\n",
        "4. Appendix/Appendices"
      ]
    },
    {
      "cell_type": "markdown",
      "metadata": {
        "id": "ATJoGp-2oYg3"
      },
      "source": [
        "## A data analysis report has two very important features:\n",
        "\n",
        "* It is organized in a way that makes it easy for different audiences to skim/fish through it to find the topics and the level of detail that are of interest to them.\n",
        "    * Primary audience: boss, collaborator or client.\n",
        "    * Secondary Audience: An executive person, a technical supervisor. \n",
        "* The writing is as invisible/unremarkable as possible, so that the content of the analysis is what the reader remembers, not distracting quirks or tics in the writing. Examples of distractions include:\n",
        "    * Extra sentences, overly formal or flowery prose, or at the other extreme overly casual or overly brief prose.\n",
        "    * Grammatical and spelling errors.\n",
        "    * Placing the data analysis in too broad or too narrow a context for the questions of interest to your primary audience.\n",
        "    * Focusing on process rather than reporting procedures and outcomes.\n",
        "    * Getting bogged down in technical details, rather than presenting what is necessary to properly understand your conclusions on substantive questions of interest to the primary audience.\n",
        "\n",
        "    It is less important to worry about the latter two sub-items in the Appendix which is expected to be more detailed and process-oriented. However, there should be enough text annotating the technical material in the Appendix so that the reader can see how and why you carried out the more detailed work shown there.\n",
        "\n",
        "A data analysis report isn’t quite like a research paper or term paper in a class, nor like a research article in a journal. It is meant, primarily, to start an organized conversation between you and your client/collaborator. In that sense it is a kind of “internal” communication, sort of like an extended memo. On the other hand it also has an “external” life, informing a boss or supervisor what you’ve been doing."
      ]
    },
    {
      "cell_type": "markdown",
      "metadata": {
        "id": "90BoRKrpoYhB"
      },
      "source": [
        "## The basic outline of A data analysis report in more detail:\n",
        "1. **Introduction.** Good features for the Introduction include:\n",
        "    * Summary of the study and data, as well as any relevant substantive context, background, or framing issues.\n",
        "    * The \"big questions\" answered by your data analyses, and summaries of your conclusions about these questions.\n",
        "    * Brief outline of remainder of paper.\n",
        "\n",
        "    The above is a pretty good order to present this material in as well.\n",
        "    \n",
        "1. **Body.** The body can be organized in several ways. Here are two that often work well:\n",
        "\n",
        "    * *Traditional.* Divide the body up into several sections at the same level as the Introduction, with names like:\n",
        "        * Data\n",
        "        * Methods \n",
        "        * Analysis \n",
        "        * Results\n",
        "\n",
        "    This format is very familiar to those who have written psych research papers. It often works well for a data analysis paper as well, though one problem with it is that the Methods section often sounds like a bit of a stretch: In a psych research paper the Methods section describes what you did to get your data. In a data analysis paper, you should describe the analyses that you performed. Without the results as well, this can be pretty sterile sounding, so I often merge these “methods” pieces into the “Analysis” section when I write.\n",
        "\n",
        "    * *Question-oriented.* In this format there is a single Body section, usually called \"Analysis\", and then there is a subsection for each question raised in the introduction, usually taken in the same order as in the introduction (general to specific, decreasing order of importance, etc.). Within each subsection, statistical method, analyses, and conclusion would be described (for each question). \n",
        "    \n",
        "    For example:\n",
        "        * Analysis\n",
        "            * Question: Success Rate\n",
        "                * Methods \n",
        "                * Analysis \n",
        "                * Conclusions\n",
        "            * Question: Time to Relapse\n",
        "                * Methods \n",
        "                * Analysis \n",
        "                * Conclusions\n"
      ]
    },
    {
      "cell_type": "markdown",
      "metadata": {
        "id": "3Rvg4V-WoYhB"
      },
      "source": [
        "([Source](http://www.stat.cmu.edu/~brian/701/notes/paper-structure.pdf))"
      ]
    },
    {
      "cell_type": "code",
      "metadata": {
        "collapsed": true,
        "id": "D9g2S3TdoYhC"
      },
      "source": [
        ""
      ],
      "execution_count": null,
      "outputs": []
    }
  ]
}