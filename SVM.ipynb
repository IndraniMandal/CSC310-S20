{
  "nbformat": 4,
  "nbformat_minor": 0,
  "metadata": {
    "kernelspec": {
      "display_name": "Python 3",
      "language": "python",
      "name": "python3"
    },
    "language_info": {
      "codemirror_mode": {
        "name": "ipython",
        "version": 3
      },
      "file_extension": ".py",
      "mimetype": "text/x-python",
      "name": "python",
      "nbconvert_exporter": "python",
      "pygments_lexer": "ipython3",
      "version": "3.7.6"
    },
    "colab": {
      "provenance": [],
      "include_colab_link": true
    }
  },
  "cells": [
    {
      "cell_type": "markdown",
      "metadata": {
        "id": "view-in-github",
        "colab_type": "text"
      },
      "source": [
        "<a href=\"https://colab.research.google.com/github/IndraniMandal/CSC310-S20/blob/master/SVM.ipynb\" target=\"_parent\"><img src=\"https://colab.research.google.com/assets/colab-badge.svg\" alt=\"Open In Colab\"/></a>"
      ]
    },
    {
      "cell_type": "code",
      "metadata": {
        "id": "KZu2qPHvsXeY",
        "colab": {
          "base_uri": "https://localhost:8080/"
        },
        "outputId": "888416f5-901c-4ecc-9f4d-baa79faedd01"
      },
      "source": [
        "###### Set Up #####\n",
        "# verify our folder with the data and module assets is installed\n",
        "# if it is installed make sure it is the latest\n",
        "!test -e ds-assets && cd ds-assets && git pull && cd ..\n",
        "# if it is not installed clone it \n",
        "!test ! -e ds-assets && git clone https://github.com/IndraniMandal/ds-assets.git\n",
        "# point to the folder with the assets\n",
        "home = \"ds-assets/assets/\" \n",
        "import sys\n",
        "sys.path.append(home) "
      ],
      "execution_count": 1,
      "outputs": [
        {
          "output_type": "stream",
          "name": "stdout",
          "text": [
            "Cloning into 'ds-assets'...\n",
            "remote: Enumerating objects: 171, done.\u001b[K\n",
            "remote: Counting objects: 100% (7/7), done.\u001b[K\n",
            "remote: Compressing objects: 100% (7/7), done.\u001b[K\n",
            "remote: Total 171 (delta 1), reused 2 (delta 0), pack-reused 164\u001b[K\n",
            "Receiving objects: 100% (171/171), 7.40 MiB | 18.95 MiB/s, done.\n",
            "Resolving deltas: 100% (61/61), done.\n"
          ]
        }
      ]
    },
    {
      "cell_type": "markdown",
      "metadata": {
        "id": "kybDze2csXee"
      },
      "source": [
        "# SVM Code Examples\n",
        "\n"
      ]
    },
    {
      "cell_type": "code",
      "metadata": {
        "id": "MGWwUqh3sXef",
        "colab": {
          "base_uri": "https://localhost:8080/"
        },
        "outputId": "1437a1b7-c8fa-4c7b-b99c-d7dfd2c06bc4"
      },
      "source": [
        "# set up\n",
        "import pandas as pd\n",
        "import numpy as np\n",
        "np.set_printoptions(formatter={'float_kind':\"{:3.2f}\".format})\n",
        "from sklearn.svm import SVC\n",
        "from sklearn.model_selection import cross_val_score\n",
        "from sklearn.metrics import accuracy_score\n",
        "from sklearn.metrics import confusion_matrix\n",
        "\n",
        "# get data\n",
        "df = pd.read_csv(home+\"wdbc.csv\")\n",
        "df = df.drop(['ID'],axis=1)\n",
        "X  = df.drop(['Diagnosis'],axis=1)\n",
        "y = df['Diagnosis']\n",
        "\n",
        "\n",
        "# SVM model\n",
        "model = SVC(kernel='rbf', C=0.001, max_iter=10000)\n",
        "\n",
        "# do the 5-fold cross validation\n",
        "scores = cross_val_score(model, X, y, cv=5)\n",
        "print(\"Fold Accuracies: {}\".format(scores))\n",
        "print(\"Accuracy: {:3.2f}\".format(scores.mean()))"
      ],
      "execution_count": 2,
      "outputs": [
        {
          "output_type": "stream",
          "name": "stdout",
          "text": [
            "Fold Accuracies: [0.62 0.62 0.63 0.63 0.63]\n",
            "Accuracy: 0.63\n"
          ]
        }
      ]
    },
    {
      "cell_type": "markdown",
      "metadata": {
        "id": "89gGoAV8u1J8"
      },
      "source": [
        "## Kernel Functions\n",
        "The kernel function can be any of the following:\n",
        "\n",
        "* linear\n",
        "* polynomial\n",
        "* rbf( Gaussian kernel)\n",
        "* sigmoid "
      ]
    },
    {
      "cell_type": "markdown",
      "metadata": {
        "id": "T1XNPeVVsXek"
      },
      "source": [
        "## SVM Grid Search\n",
        "\n",
        "We can also perform a grid search to find the optimal model.\n",
        "\n",
        "BEWARE: a grid search over all possible parameters of an SVM is almost impossible - combinatoric explosion, too many different combinations possible.\n",
        "\n",
        "Here we only perform a grid over the number of hyperparameters.\n",
        "\n"
      ]
    },
    {
      "cell_type": "code",
      "metadata": {
        "id": "NQFitvS-sXel",
        "colab": {
          "base_uri": "https://localhost:8080/"
        },
        "outputId": "9264c740-b26f-4d46-856a-62ecb96e577c"
      },
      "source": [
        "# set up\n",
        "import pandas as pd\n",
        "import numpy as np\n",
        "np.set_printoptions(formatter={'float_kind':\"{:3.2f}\".format})\n",
        "from sklearn.svm import SVC\n",
        "from sklearn.model_selection import cross_val_score\n",
        "from sklearn.metrics import accuracy_score\n",
        "from sklearn.metrics import confusion_matrix\n",
        "from sklearn.model_selection import GridSearchCV\n",
        "from confint import classification_confint\n",
        "\n",
        "# get data\n",
        "df = pd.read_csv(home+\"wdbc.csv\")\n",
        "df = df.drop(['ID'],axis=1)\n",
        "X  = df.drop(['Diagnosis'],axis=1)\n",
        "actual_y = df['Diagnosis']\n",
        "\n",
        "# SVM model\n",
        "model = SVC(max_iter=10000)\n",
        "\n",
        "# grid search\n",
        "param_grid = [\n",
        "  {'C': [1, 10, 100, 1000], 'kernel': ['linear']},\n",
        "  {'C': [1, 10, 100, 1000], 'gamma': [0.001, 0.0001], 'kernel': ['rbf']},\n",
        " ]\n",
        "grid = GridSearchCV(model, param_grid, cv=5)\n",
        "grid.fit(X, actual_y)\n",
        "print(\"Grid Search: best parameters: {}\".format(grid.best_params_))\n",
        "\n",
        "# evaluate the best model\n",
        "best_model = grid.best_estimator_\n",
        "predict_y = best_model.predict(X)\n",
        "acc = accuracy_score(actual_y, predict_y)\n",
        "lb,ub = classification_confint(acc,X.shape[0])\n",
        "print(\"Accuracy: {:3.2f} ({:3.2f},{:3.2f})\".format(acc,lb,ub))\n",
        "\n",
        "# build the confusion matrix\n",
        "labels = ['M', 'B']\n",
        "cm = confusion_matrix(actual_y, predict_y, labels=labels)\n",
        "cm_df = pd.DataFrame(cm, index=labels, columns=labels)\n",
        "print(\"Confusion Matrix:\\n{}\".format(cm_df))"
      ],
      "execution_count": 4,
      "outputs": [
        {
          "output_type": "stream",
          "name": "stderr",
          "text": [
            "/usr/local/lib/python3.7/dist-packages/sklearn/svm/_base.py:289: ConvergenceWarning: Solver terminated early (max_iter=10000).  Consider pre-processing your data with StandardScaler or MinMaxScaler.\n",
            "  ConvergenceWarning,\n",
            "/usr/local/lib/python3.7/dist-packages/sklearn/svm/_base.py:289: ConvergenceWarning: Solver terminated early (max_iter=10000).  Consider pre-processing your data with StandardScaler or MinMaxScaler.\n",
            "  ConvergenceWarning,\n",
            "/usr/local/lib/python3.7/dist-packages/sklearn/svm/_base.py:289: ConvergenceWarning: Solver terminated early (max_iter=10000).  Consider pre-processing your data with StandardScaler or MinMaxScaler.\n",
            "  ConvergenceWarning,\n",
            "/usr/local/lib/python3.7/dist-packages/sklearn/svm/_base.py:289: ConvergenceWarning: Solver terminated early (max_iter=10000).  Consider pre-processing your data with StandardScaler or MinMaxScaler.\n",
            "  ConvergenceWarning,\n",
            "/usr/local/lib/python3.7/dist-packages/sklearn/svm/_base.py:289: ConvergenceWarning: Solver terminated early (max_iter=10000).  Consider pre-processing your data with StandardScaler or MinMaxScaler.\n",
            "  ConvergenceWarning,\n",
            "/usr/local/lib/python3.7/dist-packages/sklearn/svm/_base.py:289: ConvergenceWarning: Solver terminated early (max_iter=10000).  Consider pre-processing your data with StandardScaler or MinMaxScaler.\n",
            "  ConvergenceWarning,\n",
            "/usr/local/lib/python3.7/dist-packages/sklearn/svm/_base.py:289: ConvergenceWarning: Solver terminated early (max_iter=10000).  Consider pre-processing your data with StandardScaler or MinMaxScaler.\n",
            "  ConvergenceWarning,\n",
            "/usr/local/lib/python3.7/dist-packages/sklearn/svm/_base.py:289: ConvergenceWarning: Solver terminated early (max_iter=10000).  Consider pre-processing your data with StandardScaler or MinMaxScaler.\n",
            "  ConvergenceWarning,\n",
            "/usr/local/lib/python3.7/dist-packages/sklearn/svm/_base.py:289: ConvergenceWarning: Solver terminated early (max_iter=10000).  Consider pre-processing your data with StandardScaler or MinMaxScaler.\n",
            "  ConvergenceWarning,\n",
            "/usr/local/lib/python3.7/dist-packages/sklearn/svm/_base.py:289: ConvergenceWarning: Solver terminated early (max_iter=10000).  Consider pre-processing your data with StandardScaler or MinMaxScaler.\n",
            "  ConvergenceWarning,\n",
            "/usr/local/lib/python3.7/dist-packages/sklearn/svm/_base.py:289: ConvergenceWarning: Solver terminated early (max_iter=10000).  Consider pre-processing your data with StandardScaler or MinMaxScaler.\n",
            "  ConvergenceWarning,\n",
            "/usr/local/lib/python3.7/dist-packages/sklearn/svm/_base.py:289: ConvergenceWarning: Solver terminated early (max_iter=10000).  Consider pre-processing your data with StandardScaler or MinMaxScaler.\n",
            "  ConvergenceWarning,\n",
            "/usr/local/lib/python3.7/dist-packages/sklearn/svm/_base.py:289: ConvergenceWarning: Solver terminated early (max_iter=10000).  Consider pre-processing your data with StandardScaler or MinMaxScaler.\n",
            "  ConvergenceWarning,\n",
            "/usr/local/lib/python3.7/dist-packages/sklearn/svm/_base.py:289: ConvergenceWarning: Solver terminated early (max_iter=10000).  Consider pre-processing your data with StandardScaler or MinMaxScaler.\n",
            "  ConvergenceWarning,\n",
            "/usr/local/lib/python3.7/dist-packages/sklearn/svm/_base.py:289: ConvergenceWarning: Solver terminated early (max_iter=10000).  Consider pre-processing your data with StandardScaler or MinMaxScaler.\n",
            "  ConvergenceWarning,\n",
            "/usr/local/lib/python3.7/dist-packages/sklearn/svm/_base.py:289: ConvergenceWarning: Solver terminated early (max_iter=10000).  Consider pre-processing your data with StandardScaler or MinMaxScaler.\n",
            "  ConvergenceWarning,\n",
            "/usr/local/lib/python3.7/dist-packages/sklearn/svm/_base.py:289: ConvergenceWarning: Solver terminated early (max_iter=10000).  Consider pre-processing your data with StandardScaler or MinMaxScaler.\n",
            "  ConvergenceWarning,\n",
            "/usr/local/lib/python3.7/dist-packages/sklearn/svm/_base.py:289: ConvergenceWarning: Solver terminated early (max_iter=10000).  Consider pre-processing your data with StandardScaler or MinMaxScaler.\n",
            "  ConvergenceWarning,\n",
            "/usr/local/lib/python3.7/dist-packages/sklearn/svm/_base.py:289: ConvergenceWarning: Solver terminated early (max_iter=10000).  Consider pre-processing your data with StandardScaler or MinMaxScaler.\n",
            "  ConvergenceWarning,\n",
            "/usr/local/lib/python3.7/dist-packages/sklearn/svm/_base.py:289: ConvergenceWarning: Solver terminated early (max_iter=10000).  Consider pre-processing your data with StandardScaler or MinMaxScaler.\n",
            "  ConvergenceWarning,\n"
          ]
        },
        {
          "output_type": "stream",
          "name": "stdout",
          "text": [
            "Grid Search: best parameters: {'C': 100, 'gamma': 0.0001, 'kernel': 'rbf'}\n",
            "Accuracy: 0.99 (0.98,1.00)\n",
            "Confusion Matrix:\n",
            "     M    B\n",
            "M  207    5\n",
            "B    3  354\n"
          ]
        }
      ]
    },
    {
      "cell_type": "code",
      "metadata": {
        "colab": {
          "base_uri": "https://localhost:8080/"
        },
        "id": "gkYOcnDhrzpe",
        "outputId": "d744c4f8-ff62-4120-81a7-ad58f4313348"
      },
      "source": [
        "from sklearn.pipeline import make_pipeline\n",
        "from sklearn.preprocessing import StandardScaler\n",
        "model = make_pipeline(StandardScaler(), SVC(C= 100, gamma= 0.0001, kernel='rbf'))\n",
        "model.fit(X, actual_y)\n",
        "\n",
        "# evaluate the best model\n",
        "\n",
        "predict_y = model.predict(X)\n",
        "acc = accuracy_score(actual_y, predict_y)\n",
        "lb,ub = classification_confint(acc,X.shape[0])\n",
        "print(\"Accuracy: {:3.2f} ({:3.2f},{:3.2f})\".format(acc,lb,ub))\n",
        "\n",
        "# build the confusion matrix\n",
        "labels = ['M', 'B']\n",
        "cm = confusion_matrix(actual_y, predict_y, labels=labels)\n",
        "cm_df = pd.DataFrame(cm, index=labels, columns=labels)\n",
        "print(\"Confusion Matrix:\\n{}\".format(cm_df))"
      ],
      "execution_count": 5,
      "outputs": [
        {
          "output_type": "stream",
          "name": "stdout",
          "text": [
            "Accuracy: 0.98 (0.97,0.99)\n",
            "Confusion Matrix:\n",
            "     M    B\n",
            "M  202   10\n",
            "B    1  356\n"
          ]
        }
      ]
    }
  ]
}