{
  "nbformat": 4,
  "nbformat_minor": 0,
  "metadata": {
    "colab": {
      "name": "26-system.ipynb",
      "provenance": [],
      "collapsed_sections": [],
      "include_colab_link": true
    },
    "kernelspec": {
      "name": "python3",
      "display_name": "Python 3"
    },
    "language_info": {
      "name": "python"
    }
  },
  "cells": [
    {
      "cell_type": "markdown",
      "metadata": {
        "id": "view-in-github",
        "colab_type": "text"
      },
      "source": [
        "<a href=\"https://colab.research.google.com/github/IndraniMandal/CSC310-S20/blob/master/26_system.ipynb\" target=\"_parent\"><img src=\"https://colab.research.google.com/assets/colab-badge.svg\" alt=\"Open In Colab\"/></a>"
      ]
    },
    {
      "cell_type": "markdown",
      "source": [
        "# Understanding the Underlying Virtual Machine\n",
        "\n",
        "We have already seen that we can issue commands to the underlying system from our notebooks.  The prologue for our notebooks makes use of that functionality in order to import data into the virtual machine (VM).  We can use this functionality to investigate the underlying system further.\n"
      ],
      "metadata": {
        "id": "Ov5kcYOrh13q"
      }
    },
    {
      "cell_type": "markdown",
      "source": [
        "# Processor Architecture and OS\n",
        "\n",
        "First, let's find out a bit more about the hardware and the OS we are running on. Spoiler: we are running on Linux and it has a command called `uname` that lets you probe specifically the hardware and OS versions."
      ],
      "metadata": {
        "id": "O60mIEGJiuSx"
      }
    },
    {
      "cell_type": "code",
      "source": [
        "!echo \"operating system name\"; uname -s \n",
        "!echo \"operating system release\"; uname -r\n",
        "!echo \"operating system version\"; uname -v"
      ],
      "metadata": {
        "colab": {
          "base_uri": "https://localhost:8080/"
        },
        "id": "tukDTlPMfPLz",
        "outputId": "1ed2d4a8-8ff0-4f0e-b8a2-31f28575fd44"
      },
      "execution_count": 18,
      "outputs": [
        {
          "output_type": "stream",
          "name": "stdout",
          "text": [
            "operating system name\n",
            "Linux\n",
            "operating system release\n",
            "5.4.144+\n",
            "operating system version\n",
            "#1 SMP Tue Dec 7 09:58:10 PST 2021\n"
          ]
        }
      ]
    },
    {
      "cell_type": "markdown",
      "source": [
        "The `echo` command prints the given string to the terminal.  From the output of the three commands above we learn that we are indeed running on Linux under a particular kernel version.  The deployed version lags about six months behind the currently available kernel version. Finally, we see the OS version.\n",
        "Here, `SMP` means the kernel was built with *symmetric multi-processor support*. #1 indicates the kernel is the result of the first build from the kernel source on the machine where it was built. If it had been tweaked in some way and rebuilt, it would show #2.\n",
        "\n",
        "([Source](https://stackoverflow.com/questions/40916064/how-do-i-know-what-linux-kernel-version-does-a-distribution-use))\n",
        "\n",
        "Next, we'll look at the hardware,"
      ],
      "metadata": {
        "id": "wiQdVBPoe2WM"
      }
    },
    {
      "cell_type": "code",
      "execution_count": 19,
      "metadata": {
        "colab": {
          "base_uri": "https://localhost:8080/"
        },
        "id": "JIwxp5PkcIV3",
        "outputId": "e0224c1a-bf1a-4dde-bf82-8f8c1ecb41f4"
      },
      "outputs": [
        {
          "output_type": "stream",
          "name": "stdout",
          "text": [
            "machine hardware name\n",
            "x86_64\n",
            "nodename\n",
            "ee10f82badd0\n",
            "processor architecture name\n",
            "x86_64\n"
          ]
        }
      ],
      "source": [
        "!echo \"machine hardware name\"; uname -m\n",
        "!echo \"nodename\"; uname -n \n",
        "!echo \"processor architecture name\"; uname -p"
      ]
    },
    {
      "cell_type": "markdown",
      "source": [
        "Here we see that we are running on a 64-bit Intel chip.  The node name is something that only makes sense to Google and has no real impact on our work."
      ],
      "metadata": {
        "id": "6sNh0Ip-lD6S"
      }
    },
    {
      "cell_type": "markdown",
      "source": [
        "# The File System\n",
        "\n",
        "The file system is where the OS stores its and your data.  Therefore, knowing your way around the filesystem a bit might help you identify where your notebook might have saved something or find the file that you want to load into your notebook.\n",
        "\n",
        "Let's start at the beginning.  Where is the default location in the filesystem where our notebook assumes it can find something? We can find this out by issuing the `pwd` (print working directory) command to the underlying Linux system,"
      ],
      "metadata": {
        "id": "0k41Zk4mll1i"
      }
    },
    {
      "cell_type": "code",
      "source": [
        "!pwd"
      ],
      "metadata": {
        "colab": {
          "base_uri": "https://localhost:8080/"
        },
        "id": "n2KmOHxomwbC",
        "outputId": "9c3a03e3-6faf-43a9-a2d0-e091184a6116"
      },
      "execution_count": 20,
      "outputs": [
        {
          "output_type": "stream",
          "name": "stdout",
          "text": [
            "/content\n"
          ]
        }
      ]
    },
    {
      "cell_type": "markdown",
      "source": [
        "OK, our notebook assumes that all data is in a folder called `contents`. Just as aside, the `/` name refers to the *root* folder in Linux which contains all vital OS related information and additional folders.  We can take a peek,"
      ],
      "metadata": {
        "id": "qkV9arX7m5qH"
      }
    },
    {
      "cell_type": "code",
      "source": [
        "!cd ..; ls"
      ],
      "metadata": {
        "colab": {
          "base_uri": "https://localhost:8080/"
        },
        "id": "gOuvf_8In_8V",
        "outputId": "8c60a067-1200-40df-bc9d-6ac50468d7ee"
      },
      "execution_count": 21,
      "outputs": [
        {
          "output_type": "stream",
          "name": "stdout",
          "text": [
            "bin\t datalab  home\t lib64\topt\t    root  srv\t\t     tmp    var\n",
            "boot\t dev\t  lib\t media\tproc\t    run   sys\t\t     tools\n",
            "content  etc\t  lib32  mnt\tpython-apt  sbin  tensorflow-1.15.2  usr\n"
          ]
        }
      ]
    },
    {
      "cell_type": "markdown",
      "source": [
        "The command `cd ..` (change directory) means go up one level and `ls` means print a listing of the files in that directory. We can see that there are lots of folder with ominous names like `sys`, `boot`, and `root`.  It is best to leave all that alone.  Of course we can also see our `content` folder in that list of folders.\n",
        "\n",
        "We can take a look if there are files already in our `content` folder,"
      ],
      "metadata": {
        "id": "6cWrc16DoG-k"
      }
    },
    {
      "cell_type": "code",
      "source": [
        "!ls"
      ],
      "metadata": {
        "colab": {
          "base_uri": "https://localhost:8080/"
        },
        "id": "ZguaEWG3pl4D",
        "outputId": "439a0d34-a2be-4914-f94c-474e36ede48a"
      },
      "execution_count": 22,
      "outputs": [
        {
          "output_type": "stream",
          "name": "stdout",
          "text": [
            "drive  ds-assets  sample_data\n"
          ]
        }
      ]
    },
    {
      "cell_type": "markdown",
      "source": [
        "Sure thing, there is a folder called `sample_data`.  Let's take a peek what's in there,"
      ],
      "metadata": {
        "id": "ouQ06yCcpodv"
      }
    },
    {
      "cell_type": "code",
      "source": [
        "!cd sample_data; ls"
      ],
      "metadata": {
        "colab": {
          "base_uri": "https://localhost:8080/"
        },
        "id": "apNJ4UvqpzCp",
        "outputId": "d48c1fa0-f641-4fde-bb2e-718177fe2bdd"
      },
      "execution_count": 23,
      "outputs": [
        {
          "output_type": "stream",
          "name": "stdout",
          "text": [
            "anscombe.json\t\t      mnist_test.csv\n",
            "california_housing_test.csv   mnist_train_small.csv\n",
            "california_housing_train.csv  README.md\n"
          ]
        }
      ]
    },
    {
      "cell_type": "markdown",
      "source": [
        "We can see a bunch of CSV datafiles which we could play around with.  We also see a `README.md` file.  To find out what that says we can issue the following commands, "
      ],
      "metadata": {
        "id": "nxlSEhqGp-eJ"
      }
    },
    {
      "cell_type": "code",
      "source": [
        "!cd sample_data; cat README.md"
      ],
      "metadata": {
        "colab": {
          "base_uri": "https://localhost:8080/"
        },
        "id": "MXnkqAgBqQZ1",
        "outputId": "b1e79550-9ec1-49b8-e1cf-1d1bc2208636"
      },
      "execution_count": 24,
      "outputs": [
        {
          "output_type": "stream",
          "name": "stdout",
          "text": [
            "This directory includes a few sample datasets to get you started.\n",
            "\n",
            "*   `california_housing_data*.csv` is California housing data from the 1990 US\n",
            "    Census; more information is available at:\n",
            "    https://developers.google.com/machine-learning/crash-course/california-housing-data-description\n",
            "\n",
            "*   `mnist_*.csv` is a small sample of the\n",
            "    [MNIST database](https://en.wikipedia.org/wiki/MNIST_database), which is\n",
            "    described at: http://yann.lecun.com/exdb/mnist/\n",
            "\n",
            "*   `anscombe.json` contains a copy of\n",
            "    [Anscombe's quartet](https://en.wikipedia.org/wiki/Anscombe%27s_quartet); it\n",
            "    was originally described in\n",
            "\n",
            "    Anscombe, F. J. (1973). 'Graphs in Statistical Analysis'. American\n",
            "    Statistician. 27 (1): 17-21. JSTOR 2682899.\n",
            "\n",
            "    and our copy was prepared by the\n",
            "    [vega_datasets library](https://github.com/altair-viz/vega_datasets/blob/4f67bdaad10f45e3549984e17e1b3088c731503d/vega_datasets/_data/anscombe.json).\n"
          ]
        }
      ]
    },
    {
      "cell_type": "markdown",
      "source": [
        "Looks like datasets that might be intesting to explore.  However, what we would like to do is to try to understand in a more detailed manner of how we import the data we have been working with for all the previous chapters.  Our prologue looks like this,"
      ],
      "metadata": {
        "id": "PBd4fJMhqb1K"
      }
    },
    {
      "cell_type": "code",
      "source": [
        "###### Set Up #####\n",
        "# verify our folder with the data and module assets is installed\n",
        "# if it is installed make sure it is the latest\n",
        "!test -e ds-assets && cd ds-assets && git pull && cd ..\n",
        "# if it is not installed clone it \n",
        "!test ! -e ds-assets && git clone https://github.com/IndraniMandal/ds-assets.git\n",
        "# point to the folder with the assets\n",
        "home = \"ds-assets/assets/\" \n",
        "import sys\n",
        "sys.path.append(home)      # add home folder to module search path"
      ],
      "metadata": {
        "colab": {
          "base_uri": "https://localhost:8080/"
        },
        "id": "P-iTqnKNre8h",
        "outputId": "07f6ce62-9732-476b-8002-985508cffeb4"
      },
      "execution_count": 25,
      "outputs": [
        {
          "output_type": "stream",
          "name": "stdout",
          "text": [
            "Already up to date.\n"
          ]
        }
      ]
    },
    {
      "cell_type": "markdown",
      "source": [
        "If we now do an `ls` in our contents directory,"
      ],
      "metadata": {
        "id": "ogXzVzf-rxwG"
      }
    },
    {
      "cell_type": "code",
      "source": [
        "!ls"
      ],
      "metadata": {
        "colab": {
          "base_uri": "https://localhost:8080/"
        },
        "id": "8BMxJcS7r3Ow",
        "outputId": "d996b9a0-898e-4285-f374-0ec975c42393"
      },
      "execution_count": 26,
      "outputs": [
        {
          "output_type": "stream",
          "name": "stdout",
          "text": [
            "drive  ds-assets  sample_data\n"
          ]
        }
      ]
    },
    {
      "cell_type": "markdown",
      "source": [
        "We can see that the prologue created an additional folder here: `ds-assets`.  This folder contains all the data and Python modules we have been working with in the previous chapters,"
      ],
      "metadata": {
        "id": "Pu76GkJAr5P5"
      }
    },
    {
      "cell_type": "code",
      "source": [
        "!cd ds-assets/assets; ls"
      ],
      "metadata": {
        "colab": {
          "base_uri": "https://localhost:8080/"
        },
        "id": "jLAmkBrKsPye",
        "outputId": "a2b650bb-8102-40af-c7ab-4440f1010954"
      },
      "execution_count": 27,
      "outputs": [
        {
          "output_type": "stream",
          "name": "stdout",
          "text": [
            "2fold-xval.png\t\t   mlp.py\n",
            "5fold-xval.png\t\t   mlp_regression2.py\n",
            "abalone.csv\t\t   mlp_regression.py\n",
            "bootstrap.py\t\t   model-performance-curves.png\n",
            "caesarian.csv\t\t   newsgroups.csv\n",
            "cars.csv\t\t   newsgroups-noheaders.csv\n",
            "classification1.jpg\t   PandasPythonForDataScience.jpg\n",
            "classification2.jpg\t   PandasPythonForDataScience.pdf\n",
            "classification3.jpg\t   pdf-badge.png\n",
            "colab-badge.afdesign\t   perceptron-eq.jpg\n",
            "colab-icon.afdesign\t   perceptron.jpg\n",
            "colab-icon.png\t\t   perceptron.r\n",
            "confint.py\t\t   perceptron-search.png\n",
            "confusion1.png\t\t   perceptron-train.jpg\n",
            "confusion2.png\t\t   pipeline.png\n",
            "crohnd.csv\t\t   regression1.jpg\n",
            "cross-validated-curve.png  rs.png\n",
            "data-science.jpg\t   shuttle.csv\n",
            "divorce.csv\t\t   shuttle.pdf\n",
            "divorce-readme.txt\t   sobar-72.csv\n",
            "elbow.py\t\t   swans.jpg\n",
            "github-icon.png\t\t   tennis.csv\n",
            "google_drive.py\t\t   tennis_numeric.csv\n",
            "grid-stability.csv\t   training-curves.jpg\n",
            "helloagain.py\t\t   train-test-curves.png\n",
            "helloworld.py\t\t   train-test-data.png\n",
            "iris.csv\t\t   tree-model.png\n",
            "kmeans-steps.png\t   tree_regression2.py\n",
            "kmeans-steps.pptx\t   tree_regression.py\n",
            "knn.png\t\t\t   tree_regr_grid.py\n",
            "knn_regression2.py\t   tree-viz.png\n",
            "knn_regression.py\t   treeviz.py\n",
            "knn_regr_grid.py\t   wdbc.csv\n",
            "mammals.csv\t\t   yellowstone.jpg\n",
            "mammals-missing.csv\t   youtube-icon.png\n"
          ]
        }
      ]
    },
    {
      "cell_type": "markdown",
      "source": [
        "By the way, you can explore all this in a visual manner by clicking on the folder icon in the left, vertical navigation bar."
      ],
      "metadata": {
        "id": "l3K67GuBsiFV"
      }
    },
    {
      "cell_type": "markdown",
      "source": [
        "# Mounting your Google Drive\n",
        "\n",
        "In the first chapters we talked about accessing files on Google Drive via 'share links'.  There is another way of getting files on your Google Drive into the Colab VM: We can mount Google Drive into the VM filesystem.\n",
        "\n",
        "Here is the code that will accomplish this,"
      ],
      "metadata": {
        "id": "12R57B-Qs9c4"
      }
    },
    {
      "cell_type": "code",
      "source": [
        "mount_point = '/content/drive'\n",
        "from google.colab import drive\n",
        "drive.mount(mount_point)"
      ],
      "metadata": {
        "colab": {
          "base_uri": "https://localhost:8080/"
        },
        "id": "sTZJRyDwCmbZ",
        "outputId": "32ca7e60-ac23-4e49-c9d8-16b473afceb3"
      },
      "execution_count": 28,
      "outputs": [
        {
          "output_type": "stream",
          "name": "stdout",
          "text": [
            "Drive already mounted at /content/drive; to attempt to forcibly remount, call drive.mount(\"/content/drive\", force_remount=True).\n"
          ]
        }
      ]
    },
    {
      "cell_type": "markdown",
      "source": [
        "For the mount point we have to pick a directory that has no files in it.  In this case the 'drive' folder fits the bill.\n",
        "Once we have mounted the Google Drive we can look at its contents,"
      ],
      "metadata": {
        "id": "Qy7qkfrcDqKw"
      }
    },
    {
      "cell_type": "code",
      "source": [
        "!ls /content/drive"
      ],
      "metadata": {
        "colab": {
          "base_uri": "https://localhost:8080/"
        },
        "id": "g8riBm5BHkWU",
        "outputId": "f391b72e-6814-4203-e2ff-908b0f79fa97"
      },
      "execution_count": 29,
      "outputs": [
        {
          "output_type": "stream",
          "name": "stdout",
          "text": [
            "MyDrive  Shareddrives\n"
          ]
        }
      ]
    },
    {
      "cell_type": "markdown",
      "source": [
        "We can see that two directories have been created in our mount point.  I have a directory called `Example-Directory` in `MyDrive` which in turn contains the `iris-local.csv` file,"
      ],
      "metadata": {
        "id": "ncuiAkYcHtvt"
      }
    },
    {
      "cell_type": "code",
      "source": [
        "!ls /content/drive/MyDrive/Example-Directory/"
      ],
      "metadata": {
        "colab": {
          "base_uri": "https://localhost:8080/"
        },
        "id": "o_r5LgndIWVZ",
        "outputId": "73685e04-1483-4949-fe45-4de720c1beb7"
      },
      "execution_count": 33,
      "outputs": [
        {
          "output_type": "stream",
          "name": "stdout",
          "text": [
            "iris-local.csv\n"
          ]
        }
      ]
    },
    {
      "cell_type": "markdown",
      "source": [
        "That means we can this file from that directory into a Pandas dataframe,"
      ],
      "metadata": {
        "id": "C_upfjyxIzFn"
      }
    },
    {
      "cell_type": "code",
      "source": [
        "import pandas as pd\n",
        "path = '/content/drive/MyDrive/Example-Directory/'\n",
        "df = pd.read_csv(path+'iris-local.csv')\n",
        "df.head(n=10)"
      ],
      "metadata": {
        "colab": {
          "base_uri": "https://localhost:8080/",
          "height": 363
        },
        "id": "GgqXv4DPI7Aj",
        "outputId": "185cd2cf-fa07-4dbe-d159-42b9e0597c9f"
      },
      "execution_count": 34,
      "outputs": [
        {
          "output_type": "execute_result",
          "data": {
            "text/plain": [
              "   id  Sepal.Length  Sepal.Width  Petal.Length  Petal.Width Species\n",
              "0   1           5.1          3.5           1.4          0.2  setosa\n",
              "1   2           4.9          3.0           1.4          0.2  setosa\n",
              "2   3           4.7          3.2           1.3          0.2  setosa\n",
              "3   4           4.6          3.1           1.5          0.2  setosa\n",
              "4   5           5.0          3.6           1.4          0.2  setosa\n",
              "5   6           5.4          3.9           1.7          0.4  setosa\n",
              "6   7           4.6          3.4           1.4          0.3  setosa\n",
              "7   8           5.0          3.4           1.5          0.2  setosa\n",
              "8   9           4.4          2.9           1.4          0.2  setosa\n",
              "9  10           4.9          3.1           1.5          0.1  setosa"
            ],
            "text/html": [
              "\n",
              "  <div id=\"df-5f59a85a-c54f-4a81-90af-3ec3896b245f\">\n",
              "    <div class=\"colab-df-container\">\n",
              "      <div>\n",
              "<style scoped>\n",
              "    .dataframe tbody tr th:only-of-type {\n",
              "        vertical-align: middle;\n",
              "    }\n",
              "\n",
              "    .dataframe tbody tr th {\n",
              "        vertical-align: top;\n",
              "    }\n",
              "\n",
              "    .dataframe thead th {\n",
              "        text-align: right;\n",
              "    }\n",
              "</style>\n",
              "<table border=\"1\" class=\"dataframe\">\n",
              "  <thead>\n",
              "    <tr style=\"text-align: right;\">\n",
              "      <th></th>\n",
              "      <th>id</th>\n",
              "      <th>Sepal.Length</th>\n",
              "      <th>Sepal.Width</th>\n",
              "      <th>Petal.Length</th>\n",
              "      <th>Petal.Width</th>\n",
              "      <th>Species</th>\n",
              "    </tr>\n",
              "  </thead>\n",
              "  <tbody>\n",
              "    <tr>\n",
              "      <th>0</th>\n",
              "      <td>1</td>\n",
              "      <td>5.1</td>\n",
              "      <td>3.5</td>\n",
              "      <td>1.4</td>\n",
              "      <td>0.2</td>\n",
              "      <td>setosa</td>\n",
              "    </tr>\n",
              "    <tr>\n",
              "      <th>1</th>\n",
              "      <td>2</td>\n",
              "      <td>4.9</td>\n",
              "      <td>3.0</td>\n",
              "      <td>1.4</td>\n",
              "      <td>0.2</td>\n",
              "      <td>setosa</td>\n",
              "    </tr>\n",
              "    <tr>\n",
              "      <th>2</th>\n",
              "      <td>3</td>\n",
              "      <td>4.7</td>\n",
              "      <td>3.2</td>\n",
              "      <td>1.3</td>\n",
              "      <td>0.2</td>\n",
              "      <td>setosa</td>\n",
              "    </tr>\n",
              "    <tr>\n",
              "      <th>3</th>\n",
              "      <td>4</td>\n",
              "      <td>4.6</td>\n",
              "      <td>3.1</td>\n",
              "      <td>1.5</td>\n",
              "      <td>0.2</td>\n",
              "      <td>setosa</td>\n",
              "    </tr>\n",
              "    <tr>\n",
              "      <th>4</th>\n",
              "      <td>5</td>\n",
              "      <td>5.0</td>\n",
              "      <td>3.6</td>\n",
              "      <td>1.4</td>\n",
              "      <td>0.2</td>\n",
              "      <td>setosa</td>\n",
              "    </tr>\n",
              "    <tr>\n",
              "      <th>5</th>\n",
              "      <td>6</td>\n",
              "      <td>5.4</td>\n",
              "      <td>3.9</td>\n",
              "      <td>1.7</td>\n",
              "      <td>0.4</td>\n",
              "      <td>setosa</td>\n",
              "    </tr>\n",
              "    <tr>\n",
              "      <th>6</th>\n",
              "      <td>7</td>\n",
              "      <td>4.6</td>\n",
              "      <td>3.4</td>\n",
              "      <td>1.4</td>\n",
              "      <td>0.3</td>\n",
              "      <td>setosa</td>\n",
              "    </tr>\n",
              "    <tr>\n",
              "      <th>7</th>\n",
              "      <td>8</td>\n",
              "      <td>5.0</td>\n",
              "      <td>3.4</td>\n",
              "      <td>1.5</td>\n",
              "      <td>0.2</td>\n",
              "      <td>setosa</td>\n",
              "    </tr>\n",
              "    <tr>\n",
              "      <th>8</th>\n",
              "      <td>9</td>\n",
              "      <td>4.4</td>\n",
              "      <td>2.9</td>\n",
              "      <td>1.4</td>\n",
              "      <td>0.2</td>\n",
              "      <td>setosa</td>\n",
              "    </tr>\n",
              "    <tr>\n",
              "      <th>9</th>\n",
              "      <td>10</td>\n",
              "      <td>4.9</td>\n",
              "      <td>3.1</td>\n",
              "      <td>1.5</td>\n",
              "      <td>0.1</td>\n",
              "      <td>setosa</td>\n",
              "    </tr>\n",
              "  </tbody>\n",
              "</table>\n",
              "</div>\n",
              "      <button class=\"colab-df-convert\" onclick=\"convertToInteractive('df-5f59a85a-c54f-4a81-90af-3ec3896b245f')\"\n",
              "              title=\"Convert this dataframe to an interactive table.\"\n",
              "              style=\"display:none;\">\n",
              "        \n",
              "  <svg xmlns=\"http://www.w3.org/2000/svg\" height=\"24px\"viewBox=\"0 0 24 24\"\n",
              "       width=\"24px\">\n",
              "    <path d=\"M0 0h24v24H0V0z\" fill=\"none\"/>\n",
              "    <path d=\"M18.56 5.44l.94 2.06.94-2.06 2.06-.94-2.06-.94-.94-2.06-.94 2.06-2.06.94zm-11 1L8.5 8.5l.94-2.06 2.06-.94-2.06-.94L8.5 2.5l-.94 2.06-2.06.94zm10 10l.94 2.06.94-2.06 2.06-.94-2.06-.94-.94-2.06-.94 2.06-2.06.94z\"/><path d=\"M17.41 7.96l-1.37-1.37c-.4-.4-.92-.59-1.43-.59-.52 0-1.04.2-1.43.59L10.3 9.45l-7.72 7.72c-.78.78-.78 2.05 0 2.83L4 21.41c.39.39.9.59 1.41.59.51 0 1.02-.2 1.41-.59l7.78-7.78 2.81-2.81c.8-.78.8-2.07 0-2.86zM5.41 20L4 18.59l7.72-7.72 1.47 1.35L5.41 20z\"/>\n",
              "  </svg>\n",
              "      </button>\n",
              "      \n",
              "  <style>\n",
              "    .colab-df-container {\n",
              "      display:flex;\n",
              "      flex-wrap:wrap;\n",
              "      gap: 12px;\n",
              "    }\n",
              "\n",
              "    .colab-df-convert {\n",
              "      background-color: #E8F0FE;\n",
              "      border: none;\n",
              "      border-radius: 50%;\n",
              "      cursor: pointer;\n",
              "      display: none;\n",
              "      fill: #1967D2;\n",
              "      height: 32px;\n",
              "      padding: 0 0 0 0;\n",
              "      width: 32px;\n",
              "    }\n",
              "\n",
              "    .colab-df-convert:hover {\n",
              "      background-color: #E2EBFA;\n",
              "      box-shadow: 0px 1px 2px rgba(60, 64, 67, 0.3), 0px 1px 3px 1px rgba(60, 64, 67, 0.15);\n",
              "      fill: #174EA6;\n",
              "    }\n",
              "\n",
              "    [theme=dark] .colab-df-convert {\n",
              "      background-color: #3B4455;\n",
              "      fill: #D2E3FC;\n",
              "    }\n",
              "\n",
              "    [theme=dark] .colab-df-convert:hover {\n",
              "      background-color: #434B5C;\n",
              "      box-shadow: 0px 1px 3px 1px rgba(0, 0, 0, 0.15);\n",
              "      filter: drop-shadow(0px 1px 2px rgba(0, 0, 0, 0.3));\n",
              "      fill: #FFFFFF;\n",
              "    }\n",
              "  </style>\n",
              "\n",
              "      <script>\n",
              "        const buttonEl =\n",
              "          document.querySelector('#df-5f59a85a-c54f-4a81-90af-3ec3896b245f button.colab-df-convert');\n",
              "        buttonEl.style.display =\n",
              "          google.colab.kernel.accessAllowed ? 'block' : 'none';\n",
              "\n",
              "        async function convertToInteractive(key) {\n",
              "          const element = document.querySelector('#df-5f59a85a-c54f-4a81-90af-3ec3896b245f');\n",
              "          const dataTable =\n",
              "            await google.colab.kernel.invokeFunction('convertToInteractive',\n",
              "                                                     [key], {});\n",
              "          if (!dataTable) return;\n",
              "\n",
              "          const docLinkHtml = 'Like what you see? Visit the ' +\n",
              "            '<a target=\"_blank\" href=https://colab.research.google.com/notebooks/data_table.ipynb>data table notebook</a>'\n",
              "            + ' to learn more about interactive tables.';\n",
              "          element.innerHTML = '';\n",
              "          dataTable['output_type'] = 'display_data';\n",
              "          await google.colab.output.renderOutput(dataTable, element);\n",
              "          const docLink = document.createElement('div');\n",
              "          docLink.innerHTML = docLinkHtml;\n",
              "          element.appendChild(docLink);\n",
              "        }\n",
              "      </script>\n",
              "    </div>\n",
              "  </div>\n",
              "  "
            ]
          },
          "metadata": {},
          "execution_count": 34
        }
      ]
    },
    {
      "cell_type": "markdown",
      "source": [
        "The file is as expected in that it describes the iris flowers.  Of course we could create a dataframe and write it to the drive using the `to_csv` member function of dataframes as well."
      ],
      "metadata": {
        "id": "CsEs6-_xJtuw"
      }
    }
  ]
}