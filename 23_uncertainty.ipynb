{
  "nbformat": 4,
  "nbformat_minor": 0,
  "metadata": {
    "kernelspec": {
      "display_name": "Python 3",
      "language": "python",
      "name": "python3"
    },
    "language_info": {
      "codemirror_mode": {
        "name": "ipython",
        "version": 3
      },
      "file_extension": ".py",
      "mimetype": "text/x-python",
      "name": "python",
      "nbconvert_exporter": "python",
      "pygments_lexer": "ipython3",
      "version": "3.7.6"
    },
    "colab": {
      "provenance": [],
      "include_colab_link": true
    }
  },
  "cells": [
    {
      "cell_type": "markdown",
      "metadata": {
        "id": "view-in-github",
        "colab_type": "text"
      },
      "source": [
        "<a href=\"https://colab.research.google.com/github/IndraniMandal/CSC310-S20/blob/master/23_uncertainty.ipynb\" target=\"_parent\"><img src=\"https://colab.research.google.com/assets/colab-badge.svg\" alt=\"Open In Colab\"/></a>"
      ]
    },
    {
      "cell_type": "code",
      "metadata": {
        "id": "cxWjbZeJfUo7",
        "colab": {
          "base_uri": "https://localhost:8080/"
        },
        "outputId": "7ad2707d-2257-432b-b543-c3dd5133e3b4"
      },
      "source": [
        "###### Set Up #####\n",
        "# verify our folder with the data and module assets is installed\n",
        "# if it is installed make sure it is the latest\n",
        "!test -e ds-assets && cd ds-assets && git pull && cd ..\n",
        "# if it is not installed clone it\n",
        "!test ! -e ds-assets && git clone https://github.com/IndraniMandal/ds-assets.git\n",
        "# point to the folder with the assets\n",
        "home = \"ds-assets/assets/\"\n",
        "import sys\n",
        "sys.path.append(home)      # add home folder to module search path"
      ],
      "execution_count": 28,
      "outputs": [
        {
          "output_type": "stream",
          "name": "stdout",
          "text": [
            "remote: Enumerating objects: 6, done.\u001b[K\n",
            "remote: Counting objects:  16% (1/6)\u001b[K\rremote: Counting objects:  33% (2/6)\u001b[K\rremote: Counting objects:  50% (3/6)\u001b[K\rremote: Counting objects:  66% (4/6)\u001b[K\rremote: Counting objects:  83% (5/6)\u001b[K\rremote: Counting objects: 100% (6/6)\u001b[K\rremote: Counting objects: 100% (6/6), done.\u001b[K\n",
            "remote: Compressing objects:  25% (1/4)\u001b[K\rremote: Compressing objects:  50% (2/4)\u001b[K\rremote: Compressing objects:  75% (3/4)\u001b[K\rremote: Compressing objects: 100% (4/4)\u001b[K\rremote: Compressing objects: 100% (4/4), done.\u001b[K\n",
            "remote: Total 4 (delta 2), reused 0 (delta 0), pack-reused 0 (from 0)\u001b[K\n",
            "Unpacking objects:  25% (1/4)\rUnpacking objects:  50% (2/4)\rUnpacking objects:  75% (3/4)\rUnpacking objects: 100% (4/4)\rUnpacking objects: 100% (4/4), 3.19 KiB | 1.59 MiB/s, done.\n",
            "From https://github.com/IndraniMandal/ds-assets\n",
            "   be41c72..d3eda1e  main       -> origin/main\n",
            "Updating be41c72..d3eda1e\n",
            "Fast-forward\n",
            " assets/dsutils.py | 181 \u001b[32m++++++++++++++++++++++++++++++++++++++++++++++++++++++++++++++++++++++++++\u001b[m\n",
            " 1 file changed, 181 insertions(+)\n",
            " create mode 100644 assets/dsutils.py\n"
          ]
        }
      ]
    },
    {
      "cell_type": "markdown",
      "source": [
        "# Uncertainty\n",
        "\n",
        "Uncertainty is omnipresent in machine learning and in data science in general simply because we try to infer properties of a population at large from a small sample of that population.\n",
        "\n",
        "Consider the Wisconsin breast cancer data set with a few hundred observations.  It represents a tiny fraction of the overall human adult, female population and yet we use this data set to infer the characteristics of cancerous cells and use our machine learning models to predict whether or not a yet undiagnosed cell of an individual not in the training data is cancerous.  Given that the training data represents a tiny sample of the population at large there is some uncertainty connected with any prediction made based on that data.  That is why we predicate any performance claims with a confidence interval acknowledging that there is some uncertainty.\n",
        "\n",
        "## One Source of Uncertainty\n",
        "\n",
        "One way to look at the Wisconsin breast cancer data set is as a **sample** of the population at large.  If some other state would conduct a similar study they might create another sample with slightly different characteristics.\n",
        "\n",
        "Let's study the effect of taking a sample from a domain. We use our iris data set to do this."
      ],
      "metadata": {
        "id": "rxus2VrYlTvw"
      }
    },
    {
      "cell_type": "markdown",
      "source": [
        "## Sampling the Iris Dataset"
      ],
      "metadata": {
        "id": "AV7R73ltBHLh"
      }
    },
    {
      "cell_type": "code",
      "source": [
        "import pandas as pd\n",
        "import seaborn as sns\n",
        "sns.set_theme(rc={'figure.figsize':(4,3)})\n",
        "from matplotlib.pyplot import show\n",
        "from statistics import mean\n",
        "from numpy import percentile"
      ],
      "metadata": {
        "id": "APtfPewudt6G"
      },
      "execution_count": 5,
      "outputs": []
    },
    {
      "cell_type": "markdown",
      "source": [
        "We only use two dimensions of the dataset so that we can easily visualize things."
      ],
      "metadata": {
        "id": "NwfqXAlEBTvq"
      }
    },
    {
      "cell_type": "code",
      "source": [
        "df = pd.read_csv(home+\"iris.csv\")[['Petal.Length', 'Petal.Width','Species']]\n",
        "df.head()"
      ],
      "metadata": {
        "colab": {
          "base_uri": "https://localhost:8080/",
          "height": 204
        },
        "id": "fG2lkIDDd4cz",
        "outputId": "7c6bfe22-3017-4ac9-a018-ef357dfe66a1"
      },
      "execution_count": 6,
      "outputs": [
        {
          "output_type": "execute_result",
          "data": {
            "text/plain": [
              "   Petal.Length  Petal.Width Species\n",
              "0           1.4          0.2  setosa\n",
              "1           1.4          0.2  setosa\n",
              "2           1.3          0.2  setosa\n",
              "3           1.5          0.2  setosa\n",
              "4           1.4          0.2  setosa"
            ],
            "text/html": [
              "\n",
              "  <div id=\"df-89743dfb-67f0-46ea-887a-fbe2f71f54e6\" class=\"colab-df-container\">\n",
              "    <div>\n",
              "<style scoped>\n",
              "    .dataframe tbody tr th:only-of-type {\n",
              "        vertical-align: middle;\n",
              "    }\n",
              "\n",
              "    .dataframe tbody tr th {\n",
              "        vertical-align: top;\n",
              "    }\n",
              "\n",
              "    .dataframe thead th {\n",
              "        text-align: right;\n",
              "    }\n",
              "</style>\n",
              "<table border=\"1\" class=\"dataframe\">\n",
              "  <thead>\n",
              "    <tr style=\"text-align: right;\">\n",
              "      <th></th>\n",
              "      <th>Petal.Length</th>\n",
              "      <th>Petal.Width</th>\n",
              "      <th>Species</th>\n",
              "    </tr>\n",
              "  </thead>\n",
              "  <tbody>\n",
              "    <tr>\n",
              "      <th>0</th>\n",
              "      <td>1.4</td>\n",
              "      <td>0.2</td>\n",
              "      <td>setosa</td>\n",
              "    </tr>\n",
              "    <tr>\n",
              "      <th>1</th>\n",
              "      <td>1.4</td>\n",
              "      <td>0.2</td>\n",
              "      <td>setosa</td>\n",
              "    </tr>\n",
              "    <tr>\n",
              "      <th>2</th>\n",
              "      <td>1.3</td>\n",
              "      <td>0.2</td>\n",
              "      <td>setosa</td>\n",
              "    </tr>\n",
              "    <tr>\n",
              "      <th>3</th>\n",
              "      <td>1.5</td>\n",
              "      <td>0.2</td>\n",
              "      <td>setosa</td>\n",
              "    </tr>\n",
              "    <tr>\n",
              "      <th>4</th>\n",
              "      <td>1.4</td>\n",
              "      <td>0.2</td>\n",
              "      <td>setosa</td>\n",
              "    </tr>\n",
              "  </tbody>\n",
              "</table>\n",
              "</div>\n",
              "    <div class=\"colab-df-buttons\">\n",
              "\n",
              "  <div class=\"colab-df-container\">\n",
              "    <button class=\"colab-df-convert\" onclick=\"convertToInteractive('df-89743dfb-67f0-46ea-887a-fbe2f71f54e6')\"\n",
              "            title=\"Convert this dataframe to an interactive table.\"\n",
              "            style=\"display:none;\">\n",
              "\n",
              "  <svg xmlns=\"http://www.w3.org/2000/svg\" height=\"24px\" viewBox=\"0 -960 960 960\">\n",
              "    <path d=\"M120-120v-720h720v720H120Zm60-500h600v-160H180v160Zm220 220h160v-160H400v160Zm0 220h160v-160H400v160ZM180-400h160v-160H180v160Zm440 0h160v-160H620v160ZM180-180h160v-160H180v160Zm440 0h160v-160H620v160Z\"/>\n",
              "  </svg>\n",
              "    </button>\n",
              "\n",
              "  <style>\n",
              "    .colab-df-container {\n",
              "      display:flex;\n",
              "      gap: 12px;\n",
              "    }\n",
              "\n",
              "    .colab-df-convert {\n",
              "      background-color: #E8F0FE;\n",
              "      border: none;\n",
              "      border-radius: 50%;\n",
              "      cursor: pointer;\n",
              "      display: none;\n",
              "      fill: #1967D2;\n",
              "      height: 32px;\n",
              "      padding: 0 0 0 0;\n",
              "      width: 32px;\n",
              "    }\n",
              "\n",
              "    .colab-df-convert:hover {\n",
              "      background-color: #E2EBFA;\n",
              "      box-shadow: 0px 1px 2px rgba(60, 64, 67, 0.3), 0px 1px 3px 1px rgba(60, 64, 67, 0.15);\n",
              "      fill: #174EA6;\n",
              "    }\n",
              "\n",
              "    .colab-df-buttons div {\n",
              "      margin-bottom: 4px;\n",
              "    }\n",
              "\n",
              "    [theme=dark] .colab-df-convert {\n",
              "      background-color: #3B4455;\n",
              "      fill: #D2E3FC;\n",
              "    }\n",
              "\n",
              "    [theme=dark] .colab-df-convert:hover {\n",
              "      background-color: #434B5C;\n",
              "      box-shadow: 0px 1px 3px 1px rgba(0, 0, 0, 0.15);\n",
              "      filter: drop-shadow(0px 1px 2px rgba(0, 0, 0, 0.3));\n",
              "      fill: #FFFFFF;\n",
              "    }\n",
              "  </style>\n",
              "\n",
              "    <script>\n",
              "      const buttonEl =\n",
              "        document.querySelector('#df-89743dfb-67f0-46ea-887a-fbe2f71f54e6 button.colab-df-convert');\n",
              "      buttonEl.style.display =\n",
              "        google.colab.kernel.accessAllowed ? 'block' : 'none';\n",
              "\n",
              "      async function convertToInteractive(key) {\n",
              "        const element = document.querySelector('#df-89743dfb-67f0-46ea-887a-fbe2f71f54e6');\n",
              "        const dataTable =\n",
              "          await google.colab.kernel.invokeFunction('convertToInteractive',\n",
              "                                                    [key], {});\n",
              "        if (!dataTable) return;\n",
              "\n",
              "        const docLinkHtml = 'Like what you see? Visit the ' +\n",
              "          '<a target=\"_blank\" href=https://colab.research.google.com/notebooks/data_table.ipynb>data table notebook</a>'\n",
              "          + ' to learn more about interactive tables.';\n",
              "        element.innerHTML = '';\n",
              "        dataTable['output_type'] = 'display_data';\n",
              "        await google.colab.output.renderOutput(dataTable, element);\n",
              "        const docLink = document.createElement('div');\n",
              "        docLink.innerHTML = docLinkHtml;\n",
              "        element.appendChild(docLink);\n",
              "      }\n",
              "    </script>\n",
              "  </div>\n",
              "\n",
              "\n",
              "<div id=\"df-077f315e-6e96-46dd-965e-6d360888ad2f\">\n",
              "  <button class=\"colab-df-quickchart\" onclick=\"quickchart('df-077f315e-6e96-46dd-965e-6d360888ad2f')\"\n",
              "            title=\"Suggest charts\"\n",
              "            style=\"display:none;\">\n",
              "\n",
              "<svg xmlns=\"http://www.w3.org/2000/svg\" height=\"24px\"viewBox=\"0 0 24 24\"\n",
              "     width=\"24px\">\n",
              "    <g>\n",
              "        <path d=\"M19 3H5c-1.1 0-2 .9-2 2v14c0 1.1.9 2 2 2h14c1.1 0 2-.9 2-2V5c0-1.1-.9-2-2-2zM9 17H7v-7h2v7zm4 0h-2V7h2v10zm4 0h-2v-4h2v4z\"/>\n",
              "    </g>\n",
              "</svg>\n",
              "  </button>\n",
              "\n",
              "<style>\n",
              "  .colab-df-quickchart {\n",
              "      --bg-color: #E8F0FE;\n",
              "      --fill-color: #1967D2;\n",
              "      --hover-bg-color: #E2EBFA;\n",
              "      --hover-fill-color: #174EA6;\n",
              "      --disabled-fill-color: #AAA;\n",
              "      --disabled-bg-color: #DDD;\n",
              "  }\n",
              "\n",
              "  [theme=dark] .colab-df-quickchart {\n",
              "      --bg-color: #3B4455;\n",
              "      --fill-color: #D2E3FC;\n",
              "      --hover-bg-color: #434B5C;\n",
              "      --hover-fill-color: #FFFFFF;\n",
              "      --disabled-bg-color: #3B4455;\n",
              "      --disabled-fill-color: #666;\n",
              "  }\n",
              "\n",
              "  .colab-df-quickchart {\n",
              "    background-color: var(--bg-color);\n",
              "    border: none;\n",
              "    border-radius: 50%;\n",
              "    cursor: pointer;\n",
              "    display: none;\n",
              "    fill: var(--fill-color);\n",
              "    height: 32px;\n",
              "    padding: 0;\n",
              "    width: 32px;\n",
              "  }\n",
              "\n",
              "  .colab-df-quickchart:hover {\n",
              "    background-color: var(--hover-bg-color);\n",
              "    box-shadow: 0 1px 2px rgba(60, 64, 67, 0.3), 0 1px 3px 1px rgba(60, 64, 67, 0.15);\n",
              "    fill: var(--button-hover-fill-color);\n",
              "  }\n",
              "\n",
              "  .colab-df-quickchart-complete:disabled,\n",
              "  .colab-df-quickchart-complete:disabled:hover {\n",
              "    background-color: var(--disabled-bg-color);\n",
              "    fill: var(--disabled-fill-color);\n",
              "    box-shadow: none;\n",
              "  }\n",
              "\n",
              "  .colab-df-spinner {\n",
              "    border: 2px solid var(--fill-color);\n",
              "    border-color: transparent;\n",
              "    border-bottom-color: var(--fill-color);\n",
              "    animation:\n",
              "      spin 1s steps(1) infinite;\n",
              "  }\n",
              "\n",
              "  @keyframes spin {\n",
              "    0% {\n",
              "      border-color: transparent;\n",
              "      border-bottom-color: var(--fill-color);\n",
              "      border-left-color: var(--fill-color);\n",
              "    }\n",
              "    20% {\n",
              "      border-color: transparent;\n",
              "      border-left-color: var(--fill-color);\n",
              "      border-top-color: var(--fill-color);\n",
              "    }\n",
              "    30% {\n",
              "      border-color: transparent;\n",
              "      border-left-color: var(--fill-color);\n",
              "      border-top-color: var(--fill-color);\n",
              "      border-right-color: var(--fill-color);\n",
              "    }\n",
              "    40% {\n",
              "      border-color: transparent;\n",
              "      border-right-color: var(--fill-color);\n",
              "      border-top-color: var(--fill-color);\n",
              "    }\n",
              "    60% {\n",
              "      border-color: transparent;\n",
              "      border-right-color: var(--fill-color);\n",
              "    }\n",
              "    80% {\n",
              "      border-color: transparent;\n",
              "      border-right-color: var(--fill-color);\n",
              "      border-bottom-color: var(--fill-color);\n",
              "    }\n",
              "    90% {\n",
              "      border-color: transparent;\n",
              "      border-bottom-color: var(--fill-color);\n",
              "    }\n",
              "  }\n",
              "</style>\n",
              "\n",
              "  <script>\n",
              "    async function quickchart(key) {\n",
              "      const quickchartButtonEl =\n",
              "        document.querySelector('#' + key + ' button');\n",
              "      quickchartButtonEl.disabled = true;  // To prevent multiple clicks.\n",
              "      quickchartButtonEl.classList.add('colab-df-spinner');\n",
              "      try {\n",
              "        const charts = await google.colab.kernel.invokeFunction(\n",
              "            'suggestCharts', [key], {});\n",
              "      } catch (error) {\n",
              "        console.error('Error during call to suggestCharts:', error);\n",
              "      }\n",
              "      quickchartButtonEl.classList.remove('colab-df-spinner');\n",
              "      quickchartButtonEl.classList.add('colab-df-quickchart-complete');\n",
              "    }\n",
              "    (() => {\n",
              "      let quickchartButtonEl =\n",
              "        document.querySelector('#df-077f315e-6e96-46dd-965e-6d360888ad2f button');\n",
              "      quickchartButtonEl.style.display =\n",
              "        google.colab.kernel.accessAllowed ? 'block' : 'none';\n",
              "    })();\n",
              "  </script>\n",
              "</div>\n",
              "\n",
              "    </div>\n",
              "  </div>\n"
            ],
            "application/vnd.google.colaboratory.intrinsic+json": {
              "type": "dataframe",
              "variable_name": "df",
              "summary": "{\n  \"name\": \"df\",\n  \"rows\": 150,\n  \"fields\": [\n    {\n      \"column\": \"Petal.Length\",\n      \"properties\": {\n        \"dtype\": \"number\",\n        \"std\": 1.7652982332594667,\n        \"min\": 1.0,\n        \"max\": 6.9,\n        \"num_unique_values\": 43,\n        \"samples\": [\n          6.7,\n          3.8,\n          3.7\n        ],\n        \"semantic_type\": \"\",\n        \"description\": \"\"\n      }\n    },\n    {\n      \"column\": \"Petal.Width\",\n      \"properties\": {\n        \"dtype\": \"number\",\n        \"std\": 0.7622376689603465,\n        \"min\": 0.1,\n        \"max\": 2.5,\n        \"num_unique_values\": 22,\n        \"samples\": [\n          0.2,\n          1.2,\n          1.3\n        ],\n        \"semantic_type\": \"\",\n        \"description\": \"\"\n      }\n    },\n    {\n      \"column\": \"Species\",\n      \"properties\": {\n        \"dtype\": \"category\",\n        \"num_unique_values\": 3,\n        \"samples\": [\n          \"setosa\",\n          \"versicolor\",\n          \"virginica\"\n        ],\n        \"semantic_type\": \"\",\n        \"description\": \"\"\n      }\n    }\n  ]\n}"
            }
          },
          "metadata": {},
          "execution_count": 6
        }
      ]
    },
    {
      "cell_type": "markdown",
      "source": [
        "**Assumption**: Assume that our iris data set is the collection of **all** iris flowers in the world.  Essentially, **this data set is the domain of all iris flowers**."
      ],
      "metadata": {
        "id": "elMeNEfEhqUw"
      }
    },
    {
      "cell_type": "code",
      "source": [
        "sns.scatterplot(df, x='Petal.Width', y='Petal.Length', hue='Species')"
      ],
      "metadata": {
        "colab": {
          "base_uri": "https://localhost:8080/",
          "height": 336
        },
        "id": "wvQse8kbeawZ",
        "outputId": "47a41ac1-6881-4011-ef01-70717ad2f77a"
      },
      "execution_count": 7,
      "outputs": [
        {
          "output_type": "execute_result",
          "data": {
            "text/plain": [
              "<Axes: xlabel='Petal.Width', ylabel='Petal.Length'>"
            ]
          },
          "metadata": {},
          "execution_count": 7
        },
        {
          "output_type": "display_data",
          "data": {
            "text/plain": [
              "<Figure size 400x300 with 1 Axes>"
            ],
            "image/png": "[encoded data removed]"
          },
          "metadata": {}
        }
      ]
    },
    {
      "cell_type": "markdown",
      "source": [
        "Now assume that we cannot look at all the flowers in our iris domain at the same time.  We can only look at 30 flowers at the same time.  That is, in order to study the flowers we have to **sample** our domain."
      ],
      "metadata": {
        "id": "uVB9-3eLh8-R"
      }
    },
    {
      "cell_type": "code",
      "source": [
        "sample_size=30"
      ],
      "metadata": {
        "id": "rg9-DL0aiPE0"
      },
      "execution_count": 8,
      "outputs": []
    },
    {
      "cell_type": "markdown",
      "source": [
        "Assume we have 3 different scientist wanting to study the flowers each drawing their own sample in order to do so."
      ],
      "metadata": {
        "id": "GkFoPYiZiiO2"
      }
    },
    {
      "cell_type": "code",
      "source": [
        "n_scientists=3\n",
        "samples = []\n",
        "\n",
        "for i in range(n_scientists):\n",
        "  samples.append(df.sample(sample_size, axis=0, random_state=i+2))\n",
        "  sns.scatterplot(samples[i], x='Petal.Width', y='Petal.Length', hue='Species').set_title(\"Scientist #{}\".format(i))\n",
        "  show()"
      ],
      "metadata": {
        "colab": {
          "base_uri": "https://localhost:8080/",
          "height": 992
        },
        "id": "mzpCfvTjfOb8",
        "outputId": "ad27fd28-d0ea-4fe2-d14f-770d7934905d"
      },
      "execution_count": 9,
      "outputs": [
        {
          "output_type": "display_data",
          "data": {
            "text/plain": [
              "<Figure size 400x300 with 1 Axes>"
            ],
            "image/png": "[encoded data removed]"
          },
          "metadata": {}
        },
        {
          "output_type": "display_data",
          "data": {
            "text/plain": [
              "<Figure size 400x300 with 1 Axes>"
            ],
            "image/png": "[encoded data removed]"
          },
          "metadata": {}
        },
        {
          "output_type": "display_data",
          "data": {
            "text/plain": [
              "<Figure size 400x300 with 1 Axes>"
            ],
            "image/png": "[encoded data removed]"
          },
          "metadata": {}
        }
      ]
    },
    {
      "cell_type": "markdown",
      "source": [
        "**Observation**: Notice that due to the random nature of sampling **each scientist has a slightly different view of the iris flower domain**.  The view of the last scientist is particularly worrisome since here the versicolor cluster is practically non-existant.\n",
        "\n",
        "\n"
      ],
      "metadata": {
        "id": "mtLBnbPghX8O"
      }
    },
    {
      "cell_type": "markdown",
      "source": [
        "# Estimating Population Properties"
      ],
      "metadata": {
        "id": "NI3pVWzfF-dl"
      }
    },
    {
      "cell_type": "markdown",
      "source": [
        "Let's make this observation a bit more concrete.  Let's assume that our scientists are interested in studying the average petal length of  the iris flower.  Given the difference in samples we find that each scientist will have a slightly different outcome,"
      ],
      "metadata": {
        "id": "B3TiYU1ZB2eB"
      }
    },
    {
      "cell_type": "code",
      "source": [
        "samples[0]['Petal.Length'].mean() # scientist id: 0"
      ],
      "metadata": {
        "colab": {
          "base_uri": "https://localhost:8080/"
        },
        "id": "lplZhkbXC4of",
        "outputId": "1f923541-965a-4cc1-857e-5290f682bb46"
      },
      "execution_count": 10,
      "outputs": [
        {
          "output_type": "execute_result",
          "data": {
            "text/plain": [
              "np.float64(3.3433333333333333)"
            ]
          },
          "metadata": {},
          "execution_count": 10
        }
      ]
    },
    {
      "cell_type": "code",
      "source": [
        "samples[1]['Petal.Length'].mean() # scientist id: 1"
      ],
      "metadata": {
        "colab": {
          "base_uri": "https://localhost:8080/"
        },
        "id": "dVCKyADtDOGO",
        "outputId": "b9f93c6c-8ef4-43e2-b227-c3ce36b0f62d"
      },
      "execution_count": 11,
      "outputs": [
        {
          "output_type": "execute_result",
          "data": {
            "text/plain": [
              "np.float64(3.769999999999999)"
            ]
          },
          "metadata": {},
          "execution_count": 11
        }
      ]
    },
    {
      "cell_type": "code",
      "source": [
        "samples[2]['Petal.Length'].mean() # scientist id: 2"
      ],
      "metadata": {
        "colab": {
          "base_uri": "https://localhost:8080/"
        },
        "id": "OHO-X_UuDS1j",
        "outputId": "46ca07ef-c45c-4c9d-d4da-9ff39b76c2a6"
      },
      "execution_count": 12,
      "outputs": [
        {
          "output_type": "execute_result",
          "data": {
            "text/plain": [
              "np.float64(3.2266666666666657)"
            ]
          },
          "metadata": {},
          "execution_count": 12
        }
      ]
    },
    {
      "cell_type": "markdown",
      "source": [
        "**Observation**: We can directly observe the uncertainty sampling injects into this study.  Each one of the scientists obtains a slightly different result."
      ],
      "metadata": {
        "id": "owfaKBsfDcUU"
      }
    },
    {
      "cell_type": "markdown",
      "source": [
        "However, if we have enough trials (studies) and we average the results of these studies we can retrieve a pretty accurate estimate of the actual average of the petal lengths of the original population!"
      ],
      "metadata": {
        "id": "PDxX8DnpEB3V"
      }
    },
    {
      "cell_type": "code",
      "source": [
        "n_trials = 20\n",
        "sum_avg = 0\n",
        "\n",
        "for i in range(n_trials):\n",
        "  avg = df.sample(sample_size, axis=0, random_state=i+2)['Petal.Length'].mean()\n",
        "  print(\"trial #{}: {:.2f}\".format(i,avg))\n",
        "  sum_avg += avg\n",
        "\n",
        "print(\"estimated average: {:.2f}\".format(sum_avg/n_trials))\n",
        "print(\"actual average: {:.2f}\".format(df['Petal.Length'].mean()))"
      ],
      "metadata": {
        "colab": {
          "base_uri": "https://localhost:8080/"
        },
        "id": "s1wH4uMB-tdr",
        "outputId": "feba5f72-24aa-4caa-e0ea-9eafdedc67b8"
      },
      "execution_count": 13,
      "outputs": [
        {
          "output_type": "stream",
          "name": "stdout",
          "text": [
            "trial #0: 3.34\n",
            "trial #1: 3.77\n",
            "trial #2: 3.23\n",
            "trial #3: 4.03\n",
            "trial #4: 3.88\n",
            "trial #5: 4.09\n",
            "trial #6: 3.81\n",
            "trial #7: 3.37\n",
            "trial #8: 3.67\n",
            "trial #9: 3.80\n",
            "trial #10: 3.59\n",
            "trial #11: 4.01\n",
            "trial #12: 3.22\n",
            "trial #13: 3.89\n",
            "trial #14: 3.71\n",
            "trial #15: 4.06\n",
            "trial #16: 3.60\n",
            "trial #17: 3.66\n",
            "trial #18: 3.94\n",
            "trial #19: 3.53\n",
            "estimated average: 3.71\n",
            "actual average: 3.76\n"
          ]
        }
      ]
    },
    {
      "cell_type": "markdown",
      "source": [
        "That's pretty close..."
      ],
      "metadata": {
        "id": "0Paei2PWShUj"
      }
    },
    {
      "cell_type": "code",
      "source": [
        "print(\"Our estimate is {:.2f}% accurate\".format((1-(3.76-3.71)/3.76)*100))"
      ],
      "metadata": {
        "colab": {
          "base_uri": "https://localhost:8080/"
        },
        "id": "_X462ITSSz3g",
        "outputId": "38e55a20-eeb2-4e48-963b-66e67dc95cf9"
      },
      "execution_count": 14,
      "outputs": [
        {
          "output_type": "stream",
          "name": "stdout",
          "text": [
            "Our estimate is 98.67% accurate\n"
          ]
        }
      ]
    },
    {
      "cell_type": "markdown",
      "source": [
        "This means we can use repeated samples/trials to estimate population properties."
      ],
      "metadata": {
        "id": "WSgxGn_LTpxd"
      }
    },
    {
      "cell_type": "markdown",
      "source": [
        "# The Bootstrap"
      ],
      "metadata": {
        "id": "MuHd4WePTxrr"
      }
    },
    {
      "cell_type": "markdown",
      "source": [
        "Here is the problem, is most cases creating these sample/trials is very expensive.  Consider our Wisconsin breast cancer dataset.  In order to construct another dataset like this one would have to recruit hundreds of patients and perform hundreds of biopsies. The cost of doing that just once is prohibitive, let alone repeating it multiple times in order to construct enough trials to be able to estimate population properties.\n",
        "\n",
        "This is where the **bootstrap** comes in. In the 1990's statistician discovered that a single sample already contains substantial information about the variability of the overall population and that this information can be extracted from the sample by **resampling the sample**.  This is called the bootstrap. Reference: Tibshirani, R. J., & Efron, B. (1993). An introduction to the bootstrap. Monographs on statistics and applied probability, 57(1).\n",
        "\n",
        "**Observation**: This implies that we can use a single sample to estimate population properties by simply resampling the sample.  The result of this bootstrap procedure is an estimate of the population property together with a probability bound not unlike the confidence interval we used up to this point."
      ],
      "metadata": {
        "id": "D4Luf0VfTz2y"
      }
    },
    {
      "cell_type": "markdown",
      "source": [
        "## The Bootstrap Procedure"
      ],
      "metadata": {
        "id": "gep4bzhVYQu9"
      }
    },
    {
      "cell_type": "markdown",
      "source": [
        "The bootstrap can be used to estimate any population statistic together with a probability bound based on a single sample using the following steps:\n",
        "\n",
        "1. Resample our sample as many times as computationally possible (and you have patience for).  The new samples have to have the same size as the original sample, that means, we have to **sample with replacement** in order to get varying samples. We will construct 200 boostrap samples because that number will give us an easy way to compute the 95% bounds.\n",
        "\n",
        "1. For each sample compute the statistic in question.  \n",
        "\n",
        "1. Sort the samples according to the value of the statistic in question.\n",
        "\n",
        "1. Average the values of the sample statistics in order to estimate the population statistic.\n",
        "\n",
        "1. Extract the bound values from the sorted sample list.\n",
        "\n"
      ],
      "metadata": {
        "id": "vAv0sNrlXbuR"
      }
    },
    {
      "cell_type": "markdown",
      "source": [
        "# Bootstrapping the Iris Dataset"
      ],
      "metadata": {
        "id": "8hXlpM4dMuVz"
      }
    },
    {
      "cell_type": "markdown",
      "source": [
        "Let's try this with our iris dataset.  Let's assume that it is extraordinarily expensive to create a sample of iris flowers...trips to tropical countries, excursions into the jungle, etc.  Therefore we can only afford a single sample:"
      ],
      "metadata": {
        "id": "nj4IQ-AIWC1l"
      }
    },
    {
      "cell_type": "code",
      "source": [
        "our_sample = df.sample(sample_size, axis=0, random_state=1)"
      ],
      "metadata": {
        "id": "Rl1p8gS_Wm_F"
      },
      "execution_count": 15,
      "outputs": []
    },
    {
      "cell_type": "markdown",
      "source": [
        "We are still interested in the average petal length, so what does our sample say?"
      ],
      "metadata": {
        "id": "-CO5r1q4WxLa"
      }
    },
    {
      "cell_type": "code",
      "source": [
        "our_sample['Petal.Length'].mean()"
      ],
      "metadata": {
        "colab": {
          "base_uri": "https://localhost:8080/"
        },
        "id": "vzTKnNrAW5Zs",
        "outputId": "3475805b-ad38-44e7-ac06-620db2a6baf9"
      },
      "execution_count": 16,
      "outputs": [
        {
          "output_type": "execute_result",
          "data": {
            "text/plain": [
              "np.float64(3.55)"
            ]
          },
          "metadata": {},
          "execution_count": 16
        }
      ]
    },
    {
      "cell_type": "markdown",
      "source": [
        "We know that this is a little low compared to the actual population average of 3.76 we computed above and we are not surprised that it doesn't match given the uncertainty of creating samples."
      ],
      "metadata": {
        "id": "B1qo0vm5XJLE"
      }
    },
    {
      "cell_type": "markdown",
      "source": [
        "Let's apply the bootstrap procedure to our sample."
      ],
      "metadata": {
        "id": "Mq8o0S9Oa9K7"
      }
    },
    {
      "cell_type": "code",
      "source": [
        "n_bootsamples = 200 # this value let's us easily compute the 95% bounds\n",
        "sample_stats = []\n",
        "\n",
        "for i in range(n_bootsamples):\n",
        "  # resample our sample\n",
        "  bootsample = our_sample.sample(n=our_sample.shape[0],\n",
        "                                 replace=True,\n",
        "                                 axis=0,\n",
        "                                 random_state=i)\n",
        "  # compute statistic in question\n",
        "  sample_stats.append(bootsample['Petal.Length'].mean())\n",
        "\n",
        "# sort the bootstrap samples according to the statistic\n",
        "sample_stats.sort()\n",
        "\n",
        "# compute the estimated value of our population statistic\n",
        "avg = mean(sample_stats)\n",
        "\n",
        "# estimate the 95% probability bounds\n",
        "lb = percentile(sample_stats, 2.5)\n",
        "ub = percentile(sample_stats, 97.5)\n",
        "\n",
        "print(\"The population petal length average is {:.2f} with \"\\\n",
        "      \"the 95% probability bound ({:.2f},{:.2f}).\".format(avg,lb,ub))"
      ],
      "metadata": {
        "colab": {
          "base_uri": "https://localhost:8080/"
        },
        "id": "bL0kGQSQbFPF",
        "outputId": "c052cd70-c542-4957-b64f-75929aa9e8d4"
      },
      "execution_count": 17,
      "outputs": [
        {
          "output_type": "stream",
          "name": "stdout",
          "text": [
            "The population petal length average is 3.54 with the 95% probability bound (2.84,4.16).\n"
          ]
        }
      ]
    },
    {
      "cell_type": "markdown",
      "source": [
        "The result of the bootstrap tells us that the estimated average petal length of the overall population is 3.54 but the probability bounds tell us that it could be as low as 2.84 and as high as 4.18.\n",
        "\n",
        "**Observation**: The probability bounds cover the actual population average petal length of 3.76!"
      ],
      "metadata": {
        "id": "wDA8RKQf5Ps7"
      }
    },
    {
      "cell_type": "markdown",
      "source": [
        "# The Bootstrap and ML"
      ],
      "metadata": {
        "id": "kwLFQh2xqvJu"
      }
    },
    {
      "cell_type": "markdown",
      "source": [
        "Given that bootstrap samples expose variability of the underlying domain we can use this to compute the **expected performance of machine learning algorithms together with a probability bound**.\n",
        "\n",
        "Let's continue our iris example.  Let's say we want to compute a classification model based on neural networks.  We will continue to use our sample from above to do this work."
      ],
      "metadata": {
        "id": "PCduGsApq0cA"
      }
    },
    {
      "cell_type": "code",
      "source": [
        "our_sample.head()"
      ],
      "metadata": {
        "colab": {
          "base_uri": "https://localhost:8080/",
          "height": 204
        },
        "id": "8dxKAl9sr7z9",
        "outputId": "a9053513-760c-4934-85ce-6ddac183c751"
      },
      "execution_count": 18,
      "outputs": [
        {
          "output_type": "execute_result",
          "data": {
            "text/plain": [
              "     Petal.Length  Petal.Width     Species\n",
              "14            1.2          0.2      setosa\n",
              "98            3.0          1.1  versicolor\n",
              "75            4.4          1.4  versicolor\n",
              "16            1.3          0.4      setosa\n",
              "131           6.4          2.0   virginica"
            ],
            "text/html": [
              "\n",
              "  <div id=\"df-711b4262-cc34-4cd4-b7d9-9ae41f5ac196\" class=\"colab-df-container\">\n",
              "    <div>\n",
              "<style scoped>\n",
              "    .dataframe tbody tr th:only-of-type {\n",
              "        vertical-align: middle;\n",
              "    }\n",
              "\n",
              "    .dataframe tbody tr th {\n",
              "        vertical-align: top;\n",
              "    }\n",
              "\n",
              "    .dataframe thead th {\n",
              "        text-align: right;\n",
              "    }\n",
              "</style>\n",
              "<table border=\"1\" class=\"dataframe\">\n",
              "  <thead>\n",
              "    <tr style=\"text-align: right;\">\n",
              "      <th></th>\n",
              "      <th>Petal.Length</th>\n",
              "      <th>Petal.Width</th>\n",
              "      <th>Species</th>\n",
              "    </tr>\n",
              "  </thead>\n",
              "  <tbody>\n",
              "    <tr>\n",
              "      <th>14</th>\n",
              "      <td>1.2</td>\n",
              "      <td>0.2</td>\n",
              "      <td>setosa</td>\n",
              "    </tr>\n",
              "    <tr>\n",
              "      <th>98</th>\n",
              "      <td>3.0</td>\n",
              "      <td>1.1</td>\n",
              "      <td>versicolor</td>\n",
              "    </tr>\n",
              "    <tr>\n",
              "      <th>75</th>\n",
              "      <td>4.4</td>\n",
              "      <td>1.4</td>\n",
              "      <td>versicolor</td>\n",
              "    </tr>\n",
              "    <tr>\n",
              "      <th>16</th>\n",
              "      <td>1.3</td>\n",
              "      <td>0.4</td>\n",
              "      <td>setosa</td>\n",
              "    </tr>\n",
              "    <tr>\n",
              "      <th>131</th>\n",
              "      <td>6.4</td>\n",
              "      <td>2.0</td>\n",
              "      <td>virginica</td>\n",
              "    </tr>\n",
              "  </tbody>\n",
              "</table>\n",
              "</div>\n",
              "    <div class=\"colab-df-buttons\">\n",
              "\n",
              "  <div class=\"colab-df-container\">\n",
              "    <button class=\"colab-df-convert\" onclick=\"convertToInteractive('df-711b4262-cc34-4cd4-b7d9-9ae41f5ac196')\"\n",
              "            title=\"Convert this dataframe to an interactive table.\"\n",
              "            style=\"display:none;\">\n",
              "\n",
              "  <svg xmlns=\"http://www.w3.org/2000/svg\" height=\"24px\" viewBox=\"0 -960 960 960\">\n",
              "    <path d=\"M120-120v-720h720v720H120Zm60-500h600v-160H180v160Zm220 220h160v-160H400v160Zm0 220h160v-160H400v160ZM180-400h160v-160H180v160Zm440 0h160v-160H620v160ZM180-180h160v-160H180v160Zm440 0h160v-160H620v160Z\"/>\n",
              "  </svg>\n",
              "    </button>\n",
              "\n",
              "  <style>\n",
              "    .colab-df-container {\n",
              "      display:flex;\n",
              "      gap: 12px;\n",
              "    }\n",
              "\n",
              "    .colab-df-convert {\n",
              "      background-color: #E8F0FE;\n",
              "      border: none;\n",
              "      border-radius: 50%;\n",
              "      cursor: pointer;\n",
              "      display: none;\n",
              "      fill: #1967D2;\n",
              "      height: 32px;\n",
              "      padding: 0 0 0 0;\n",
              "      width: 32px;\n",
              "    }\n",
              "\n",
              "    .colab-df-convert:hover {\n",
              "      background-color: #E2EBFA;\n",
              "      box-shadow: 0px 1px 2px rgba(60, 64, 67, 0.3), 0px 1px 3px 1px rgba(60, 64, 67, 0.15);\n",
              "      fill: #174EA6;\n",
              "    }\n",
              "\n",
              "    .colab-df-buttons div {\n",
              "      margin-bottom: 4px;\n",
              "    }\n",
              "\n",
              "    [theme=dark] .colab-df-convert {\n",
              "      background-color: #3B4455;\n",
              "      fill: #D2E3FC;\n",
              "    }\n",
              "\n",
              "    [theme=dark] .colab-df-convert:hover {\n",
              "      background-color: #434B5C;\n",
              "      box-shadow: 0px 1px 3px 1px rgba(0, 0, 0, 0.15);\n",
              "      filter: drop-shadow(0px 1px 2px rgba(0, 0, 0, 0.3));\n",
              "      fill: #FFFFFF;\n",
              "    }\n",
              "  </style>\n",
              "\n",
              "    <script>\n",
              "      const buttonEl =\n",
              "        document.querySelector('#df-711b4262-cc34-4cd4-b7d9-9ae41f5ac196 button.colab-df-convert');\n",
              "      buttonEl.style.display =\n",
              "        google.colab.kernel.accessAllowed ? 'block' : 'none';\n",
              "\n",
              "      async function convertToInteractive(key) {\n",
              "        const element = document.querySelector('#df-711b4262-cc34-4cd4-b7d9-9ae41f5ac196');\n",
              "        const dataTable =\n",
              "          await google.colab.kernel.invokeFunction('convertToInteractive',\n",
              "                                                    [key], {});\n",
              "        if (!dataTable) return;\n",
              "\n",
              "        const docLinkHtml = 'Like what you see? Visit the ' +\n",
              "          '<a target=\"_blank\" href=https://colab.research.google.com/notebooks/data_table.ipynb>data table notebook</a>'\n",
              "          + ' to learn more about interactive tables.';\n",
              "        element.innerHTML = '';\n",
              "        dataTable['output_type'] = 'display_data';\n",
              "        await google.colab.output.renderOutput(dataTable, element);\n",
              "        const docLink = document.createElement('div');\n",
              "        docLink.innerHTML = docLinkHtml;\n",
              "        element.appendChild(docLink);\n",
              "      }\n",
              "    </script>\n",
              "  </div>\n",
              "\n",
              "\n",
              "<div id=\"df-f4a55642-d5c0-4a3c-869b-e83fbbf67167\">\n",
              "  <button class=\"colab-df-quickchart\" onclick=\"quickchart('df-f4a55642-d5c0-4a3c-869b-e83fbbf67167')\"\n",
              "            title=\"Suggest charts\"\n",
              "            style=\"display:none;\">\n",
              "\n",
              "<svg xmlns=\"http://www.w3.org/2000/svg\" height=\"24px\"viewBox=\"0 0 24 24\"\n",
              "     width=\"24px\">\n",
              "    <g>\n",
              "        <path d=\"M19 3H5c-1.1 0-2 .9-2 2v14c0 1.1.9 2 2 2h14c1.1 0 2-.9 2-2V5c0-1.1-.9-2-2-2zM9 17H7v-7h2v7zm4 0h-2V7h2v10zm4 0h-2v-4h2v4z\"/>\n",
              "    </g>\n",
              "</svg>\n",
              "  </button>\n",
              "\n",
              "<style>\n",
              "  .colab-df-quickchart {\n",
              "      --bg-color: #E8F0FE;\n",
              "      --fill-color: #1967D2;\n",
              "      --hover-bg-color: #E2EBFA;\n",
              "      --hover-fill-color: #174EA6;\n",
              "      --disabled-fill-color: #AAA;\n",
              "      --disabled-bg-color: #DDD;\n",
              "  }\n",
              "\n",
              "  [theme=dark] .colab-df-quickchart {\n",
              "      --bg-color: #3B4455;\n",
              "      --fill-color: #D2E3FC;\n",
              "      --hover-bg-color: #434B5C;\n",
              "      --hover-fill-color: #FFFFFF;\n",
              "      --disabled-bg-color: #3B4455;\n",
              "      --disabled-fill-color: #666;\n",
              "  }\n",
              "\n",
              "  .colab-df-quickchart {\n",
              "    background-color: var(--bg-color);\n",
              "    border: none;\n",
              "    border-radius: 50%;\n",
              "    cursor: pointer;\n",
              "    display: none;\n",
              "    fill: var(--fill-color);\n",
              "    height: 32px;\n",
              "    padding: 0;\n",
              "    width: 32px;\n",
              "  }\n",
              "\n",
              "  .colab-df-quickchart:hover {\n",
              "    background-color: var(--hover-bg-color);\n",
              "    box-shadow: 0 1px 2px rgba(60, 64, 67, 0.3), 0 1px 3px 1px rgba(60, 64, 67, 0.15);\n",
              "    fill: var(--button-hover-fill-color);\n",
              "  }\n",
              "\n",
              "  .colab-df-quickchart-complete:disabled,\n",
              "  .colab-df-quickchart-complete:disabled:hover {\n",
              "    background-color: var(--disabled-bg-color);\n",
              "    fill: var(--disabled-fill-color);\n",
              "    box-shadow: none;\n",
              "  }\n",
              "\n",
              "  .colab-df-spinner {\n",
              "    border: 2px solid var(--fill-color);\n",
              "    border-color: transparent;\n",
              "    border-bottom-color: var(--fill-color);\n",
              "    animation:\n",
              "      spin 1s steps(1) infinite;\n",
              "  }\n",
              "\n",
              "  @keyframes spin {\n",
              "    0% {\n",
              "      border-color: transparent;\n",
              "      border-bottom-color: var(--fill-color);\n",
              "      border-left-color: var(--fill-color);\n",
              "    }\n",
              "    20% {\n",
              "      border-color: transparent;\n",
              "      border-left-color: var(--fill-color);\n",
              "      border-top-color: var(--fill-color);\n",
              "    }\n",
              "    30% {\n",
              "      border-color: transparent;\n",
              "      border-left-color: var(--fill-color);\n",
              "      border-top-color: var(--fill-color);\n",
              "      border-right-color: var(--fill-color);\n",
              "    }\n",
              "    40% {\n",
              "      border-color: transparent;\n",
              "      border-right-color: var(--fill-color);\n",
              "      border-top-color: var(--fill-color);\n",
              "    }\n",
              "    60% {\n",
              "      border-color: transparent;\n",
              "      border-right-color: var(--fill-color);\n",
              "    }\n",
              "    80% {\n",
              "      border-color: transparent;\n",
              "      border-right-color: var(--fill-color);\n",
              "      border-bottom-color: var(--fill-color);\n",
              "    }\n",
              "    90% {\n",
              "      border-color: transparent;\n",
              "      border-bottom-color: var(--fill-color);\n",
              "    }\n",
              "  }\n",
              "</style>\n",
              "\n",
              "  <script>\n",
              "    async function quickchart(key) {\n",
              "      const quickchartButtonEl =\n",
              "        document.querySelector('#' + key + ' button');\n",
              "      quickchartButtonEl.disabled = true;  // To prevent multiple clicks.\n",
              "      quickchartButtonEl.classList.add('colab-df-spinner');\n",
              "      try {\n",
              "        const charts = await google.colab.kernel.invokeFunction(\n",
              "            'suggestCharts', [key], {});\n",
              "      } catch (error) {\n",
              "        console.error('Error during call to suggestCharts:', error);\n",
              "      }\n",
              "      quickchartButtonEl.classList.remove('colab-df-spinner');\n",
              "      quickchartButtonEl.classList.add('colab-df-quickchart-complete');\n",
              "    }\n",
              "    (() => {\n",
              "      let quickchartButtonEl =\n",
              "        document.querySelector('#df-f4a55642-d5c0-4a3c-869b-e83fbbf67167 button');\n",
              "      quickchartButtonEl.style.display =\n",
              "        google.colab.kernel.accessAllowed ? 'block' : 'none';\n",
              "    })();\n",
              "  </script>\n",
              "</div>\n",
              "\n",
              "    </div>\n",
              "  </div>\n"
            ],
            "application/vnd.google.colaboratory.intrinsic+json": {
              "type": "dataframe",
              "variable_name": "our_sample",
              "summary": "{\n  \"name\": \"our_sample\",\n  \"rows\": 30,\n  \"fields\": [\n    {\n      \"column\": \"Petal.Length\",\n      \"properties\": {\n        \"dtype\": \"number\",\n        \"std\": 1.751993937952038,\n        \"min\": 1.2,\n        \"max\": 6.4,\n        \"num_unique_values\": 20,\n        \"samples\": [\n          1.2,\n          6.0,\n          1.5\n        ],\n        \"semantic_type\": \"\",\n        \"description\": \"\"\n      }\n    },\n    {\n      \"column\": \"Petal.Width\",\n      \"properties\": {\n        \"dtype\": \"number\",\n        \"std\": 0.7082761978308977,\n        \"min\": 0.2,\n        \"max\": 2.3,\n        \"num_unique_values\": 15,\n        \"samples\": [\n          1.5,\n          1.7,\n          0.2\n        ],\n        \"semantic_type\": \"\",\n        \"description\": \"\"\n      }\n    },\n    {\n      \"column\": \"Species\",\n      \"properties\": {\n        \"dtype\": \"category\",\n        \"num_unique_values\": 3,\n        \"samples\": [\n          \"setosa\",\n          \"versicolor\",\n          \"virginica\"\n        ],\n        \"semantic_type\": \"\",\n        \"description\": \"\"\n      }\n    }\n  ]\n}"
            }
          },
          "metadata": {},
          "execution_count": 18
        }
      ]
    },
    {
      "cell_type": "markdown",
      "source": [
        "First we build our rule-of-thumb ANN and **capture the uncertainty of building the network on our sample by computing the confidence interval**."
      ],
      "metadata": {
        "id": "QclBlLImlmbE"
      }
    },
    {
      "cell_type": "code",
      "source": [
        "from sklearn.neural_network import MLPClassifier\n",
        "from confint import classification_confint\n",
        "from sklearn.metrics import accuracy_score\n",
        "\n",
        "# get data\n",
        "X  = our_sample.drop(columns=['Species'])\n",
        "y = our_sample['Species']\n",
        "\n",
        "# neural network\n",
        "nnodes = 2*len(list(X.columns))\n",
        "print(\"We are using {} nodes\".format(nnodes))\n",
        "\n",
        "# buils model object\n",
        "model = MLPClassifier(hidden_layer_sizes=(nnodes,),\n",
        "                      activation='tanh',\n",
        "                      max_iter=10000,\n",
        "                      random_state=1)\n",
        "\n",
        "# train the model\n",
        "model.fit(X, y) # ANN wants a series as the target\n",
        "\n",
        "# compute the accuracy of our classifier\n",
        "predict_y = model.predict(X)\n",
        "acc = accuracy_score(y, predict_y)\n",
        "observations = X.shape[0]\n",
        "lb,ub = classification_confint(acc,observations)\n",
        "\n",
        "# print accuracy\n",
        "print(\"Accuracy with confidence interval: {:3.2f} ({:3.2f}, {:3.2f})\"\n",
        "      .format(acc, lb, ub))"
      ],
      "metadata": {
        "colab": {
          "base_uri": "https://localhost:8080/"
        },
        "id": "hg1gLknYswhC",
        "outputId": "038a6a01-9ce2-4169-cd02-27b5907e1aaa"
      },
      "execution_count": 19,
      "outputs": [
        {
          "output_type": "stream",
          "name": "stdout",
          "text": [
            "We are using 4 nodes\n",
            "Accuracy with confidence interval: 0.97 (0.90, 1.00)\n"
          ]
        }
      ]
    },
    {
      "cell_type": "markdown",
      "source": [
        "Now, let's **capture the uncertainty by bootstrapping our sample**."
      ],
      "metadata": {
        "id": "oRn4jb_ImGTr"
      }
    },
    {
      "cell_type": "code",
      "source": [
        "n_bootsamples = 200 # this value let's us easily compute the 95% bounds\n",
        "sample_stats = []\n",
        "\n",
        "for i in range(n_bootsamples):\n",
        "  # resample our sample\n",
        "  bootsample = our_sample.sample(n=our_sample.shape[0],\n",
        "                                 replace=True,\n",
        "                                 axis=0,\n",
        "                                 random_state=i)\n",
        "  # compute statistic in question\n",
        "  model = MLPClassifier(hidden_layer_sizes=(nnodes,),\n",
        "                      activation='tanh',\n",
        "                      max_iter=10000,\n",
        "                      random_state=i)\n",
        "  X = bootsample.drop(columns=['Species'])\n",
        "  y = bootsample['Species']\n",
        "  model.fit(X,y)\n",
        "  predict_y = model.predict(X)\n",
        "  acc = accuracy_score(y, predict_y)\n",
        "  sample_stats.append(acc)\n",
        "\n",
        "# sort the bootstrap samples according to the statistic\n",
        "sample_stats.sort()\n",
        "\n",
        "# compute the estimated value of our population statistic\n",
        "avg = mean(sample_stats)\n",
        "\n",
        "# estimate the 95% probability bounds\n",
        "lb = percentile(sample_stats, 2.5)\n",
        "ub = percentile(sample_stats, 97.5)\n",
        "\n",
        "print(\"The accuracy is {:.2f} with a \"\\\n",
        "      \"95% probability bound ({:.2f},{:.2f}).\".format(avg,lb,ub))"
      ],
      "metadata": {
        "id": "GSyvkbOZtmYn",
        "outputId": "ac0c6e82-0840-48df-84e7-2b9494745592",
        "colab": {
          "base_uri": "https://localhost:8080/"
        }
      },
      "execution_count": 20,
      "outputs": [
        {
          "output_type": "stream",
          "name": "stdout",
          "text": [
            "The accuracy is 0.97 with a 95% probability bound (0.80,1.00).\n"
          ]
        }
      ]
    },
    {
      "cell_type": "markdown",
      "source": [
        "**Observation**: Our bootstrapped accuracy and the accuracy of our rule-of-thumb network built on our sample coincide.  In terms of bounds, the bootstrapped confidence bound is a little bit more conservative than the confidence interval we computed above."
      ],
      "metadata": {
        "id": "MhD-pf43mUSd"
      }
    },
    {
      "cell_type": "markdown",
      "source": [
        "# The DS Bootstrap Function"
      ],
      "metadata": {
        "id": "mEpxzBhQmXcZ"
      }
    },
    {
      "cell_type": "markdown",
      "source": [
        "We have embedded all the above computations of the bootstrap into a bootstrap function."
      ],
      "metadata": {
        "id": "h_SahCd-mehU"
      }
    },
    {
      "cell_type": "code",
      "source": [
        "from dsutils import bootstrap"
      ],
      "metadata": {
        "id": "3yGkL0hWmqcl"
      },
      "execution_count": 29,
      "outputs": []
    },
    {
      "cell_type": "code",
      "source": [
        "help(bootstrap)"
      ],
      "metadata": {
        "id": "ivbWAdq4myJB",
        "outputId": "2f1ee5bf-e7be-4a02-c0f4-e6bd1aa143d5",
        "colab": {
          "base_uri": "https://localhost:8080/"
        }
      },
      "execution_count": 22,
      "outputs": [
        {
          "output_type": "stream",
          "name": "stdout",
          "text": [
            "Help on function bootstrap in module bootstrap:\n",
            "\n",
            "bootstrap(model, D, target_name)\n",
            "\n"
          ]
        }
      ]
    },
    {
      "cell_type": "markdown",
      "source": [
        "Let's redo our neural network example with this procedure."
      ],
      "metadata": {
        "id": "oRdc7oeCm57r"
      }
    },
    {
      "cell_type": "code",
      "source": [
        "model = MLPClassifier(hidden_layer_sizes=(nnodes,),\n",
        "                      activation='tanh',\n",
        "                      max_iter=10000)\n",
        "X = our_sample.drop(columns=['Species'])\n",
        "y = our_sample['Species']\n",
        "\n",
        "score,lb,ub = bootstrap(model,X,y)\n",
        "\n",
        "print(\"The accuracy is {:.2f} with a \"\\\n",
        "      \"95% probability bound ({:.2f},{:.2f}).\".format(score,lb,ub))"
      ],
      "metadata": {
        "id": "N-a6DrzPnAHS",
        "outputId": "36636b5f-cad2-4e7a-ef76-a507204b6e93",
        "colab": {
          "base_uri": "https://localhost:8080/",
          "height": 326
        }
      },
      "execution_count": 23,
      "outputs": [
        {
          "output_type": "error",
          "ename": "TypeError",
          "evalue": "DataFrame.drop() takes from 1 to 2 positional arguments but 3 were given",
          "traceback": [
            "\u001b[0;31m---------------------------------------------------------------------------\u001b[0m",
            "\u001b[0;31mTypeError\u001b[0m                                 Traceback (most recent call last)",
            "\u001b[0;32m<ipython-input-23-f9c359b7d90a>\u001b[0m in \u001b[0;36m<cell line: 0>\u001b[0;34m()\u001b[0m\n\u001b[1;32m      5\u001b[0m \u001b[0my\u001b[0m \u001b[0;34m=\u001b[0m \u001b[0mour_sample\u001b[0m\u001b[0;34m[\u001b[0m\u001b[0;34m'Species'\u001b[0m\u001b[0;34m]\u001b[0m\u001b[0;34m\u001b[0m\u001b[0;34m\u001b[0m\u001b[0m\n\u001b[1;32m      6\u001b[0m \u001b[0;34m\u001b[0m\u001b[0m\n\u001b[0;32m----> 7\u001b[0;31m \u001b[0mscore\u001b[0m\u001b[0;34m,\u001b[0m\u001b[0mlb\u001b[0m\u001b[0;34m,\u001b[0m\u001b[0mub\u001b[0m \u001b[0;34m=\u001b[0m \u001b[0mbootstrap\u001b[0m\u001b[0;34m(\u001b[0m\u001b[0mmodel\u001b[0m\u001b[0;34m,\u001b[0m\u001b[0mX\u001b[0m\u001b[0;34m,\u001b[0m\u001b[0my\u001b[0m\u001b[0;34m)\u001b[0m\u001b[0;34m\u001b[0m\u001b[0;34m\u001b[0m\u001b[0m\n\u001b[0m\u001b[1;32m      8\u001b[0m \u001b[0;34m\u001b[0m\u001b[0m\n\u001b[1;32m      9\u001b[0m print(\"The accuracy is {:.2f} with a \"\\\n",
            "\u001b[0;32m/content/ds-assets/assets/bootstrap.py\u001b[0m in \u001b[0;36mbootstrap\u001b[0;34m(model, D, target_name)\u001b[0m\n\u001b[1;32m      8\u001b[0m     \u001b[0;32mfor\u001b[0m \u001b[0mi\u001b[0m \u001b[0;32min\u001b[0m \u001b[0mrange\u001b[0m\u001b[0;34m(\u001b[0m\u001b[0;36m200\u001b[0m\u001b[0;34m)\u001b[0m\u001b[0;34m:\u001b[0m\u001b[0;34m\u001b[0m\u001b[0;34m\u001b[0m\u001b[0m\n\u001b[1;32m      9\u001b[0m         \u001b[0mB\u001b[0m \u001b[0;34m=\u001b[0m \u001b[0mD\u001b[0m\u001b[0;34m.\u001b[0m\u001b[0msample\u001b[0m\u001b[0;34m(\u001b[0m\u001b[0mn\u001b[0m\u001b[0;34m=\u001b[0m\u001b[0mrows\u001b[0m\u001b[0;34m,\u001b[0m\u001b[0mreplace\u001b[0m\u001b[0;34m=\u001b[0m\u001b[0;32mTrue\u001b[0m\u001b[0;34m)\u001b[0m\u001b[0;34m\u001b[0m\u001b[0;34m\u001b[0m\u001b[0m\n\u001b[0;32m---> 10\u001b[0;31m         \u001b[0mX\u001b[0m \u001b[0;34m=\u001b[0m \u001b[0mB\u001b[0m\u001b[0;34m.\u001b[0m\u001b[0mdrop\u001b[0m\u001b[0;34m(\u001b[0m\u001b[0mtarget_name\u001b[0m\u001b[0;34m,\u001b[0m\u001b[0;36m1\u001b[0m\u001b[0;34m)\u001b[0m\u001b[0;34m\u001b[0m\u001b[0;34m\u001b[0m\u001b[0m\n\u001b[0m\u001b[1;32m     11\u001b[0m         \u001b[0my\u001b[0m \u001b[0;34m=\u001b[0m \u001b[0mB\u001b[0m\u001b[0;34m[\u001b[0m\u001b[0mtarget_name\u001b[0m\u001b[0;34m]\u001b[0m\u001b[0;34m\u001b[0m\u001b[0;34m\u001b[0m\u001b[0m\n\u001b[1;32m     12\u001b[0m         \u001b[0mtrain_X\u001b[0m\u001b[0;34m,\u001b[0m \u001b[0mtest_X\u001b[0m\u001b[0;34m,\u001b[0m \u001b[0mtrain_y\u001b[0m\u001b[0;34m,\u001b[0m \u001b[0mtest_y\u001b[0m \u001b[0;34m=\u001b[0m \u001b[0mtrain_test_split\u001b[0m\u001b[0;34m(\u001b[0m\u001b[0mX\u001b[0m\u001b[0;34m,\u001b[0m \u001b[0my\u001b[0m\u001b[0;34m,\u001b[0m \u001b[0mtrain_size\u001b[0m\u001b[0;34m=\u001b[0m\u001b[0;36m0.8\u001b[0m\u001b[0;34m,\u001b[0m \u001b[0mtest_size\u001b[0m\u001b[0;34m=\u001b[0m\u001b[0;36m0.2\u001b[0m\u001b[0;34m)\u001b[0m\u001b[0;34m\u001b[0m\u001b[0;34m\u001b[0m\u001b[0m\n",
            "\u001b[0;31mTypeError\u001b[0m: DataFrame.drop() takes from 1 to 2 positional arguments but 3 were given"
          ]
        }
      ]
    }
  ]
}