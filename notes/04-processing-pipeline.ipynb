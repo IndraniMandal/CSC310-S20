{
 "cells": [
  {
   "cell_type": "code",
   "execution_count": null,
   "metadata": {
    "colab": {
     "base_uri": "https://localhost:8080/"
    },
    "executionInfo": {
     "elapsed": 8026,
     "status": "ok",
     "timestamp": 1734011785895,
     "user": {
      "displayName": "Lutz Hamel",
      "userId": "10287662568849688016"
     },
     "user_tz": 300
    },
    "id": "ud4xpwG7Blbv",
    "outputId": "ae0a70f9-6ae5-46d1-c822-03e3921c31de"
   },
   "outputs": [],
   "source": [
    "###### Set Up #####\n",
    "import sys\n",
    "import os\n",
    "import platform\n",
    "\n",
    "if 'google.colab' in os.sys.modules:\n",
    "  # running in google colab\n",
    "  # update/clone ds-assets repo\n",
    "  !test -e ds-assets && cd ds-assets && git pull && cd ..\n",
    "  !test ! -e ds-assets && git clone https://github.com/lutzhamel/ds-assets.git\n",
    "  home = \"ds-assets/assets/\"\n",
    "else:\n",
    "  # running on local machine\n",
    "  # set this to the folder containing the DS assets\n",
    "  home = \"ds-assets/assets/\"\n",
    "\n",
    "system = platform.system() # \"Windows\", \"Linux\", \"Darwin\"\n",
    "sys.path.append(home)      # add home folder to module search path"
   ]
  },
  {
   "cell_type": "markdown",
   "metadata": {
    "id": "3TIyP-7VBlb3"
   },
   "source": [
    "# The Analysis Pipeline\n",
    "At the core of programming for data science we have the following pipeline:\n",
    "\n",
    "\n",
    "![pipeline.png](https://raw.githubusercontent.com/lutzhamel/ds-assets/main/assets/pipeline.png)"
   ]
  },
  {
   "cell_type": "markdown",
   "metadata": {
    "id": "vp0dBCSaGIVW"
   },
   "source": [
    "# Import and Explore"
   ]
  },
  {
   "cell_type": "markdown",
   "metadata": {
    "id": "n4uug1YCE3PD"
   },
   "source": [
    "\n",
    "\n",
    "## The Iris Dataset"
   ]
  },
  {
   "cell_type": "markdown",
   "metadata": {
    "id": "GwbuAgX4BlcA"
   },
   "source": [
    "\n",
    "* One of the most famous data sets in statistics/data science.\n",
    "* Describes three species of iris.\n",
    "* The data set is described further [here](https://archive.ics.uci.edu/dataset/53/iris)."
   ]
  },
  {
   "cell_type": "markdown",
   "metadata": {
    "id": "tIpny5OxBlb3"
   },
   "source": [
    "## Import CSV Files as Dataframes: Pandas\n",
    "Perhaps the simplest data source is the Comma Separated Value (CSV) file.  Here are the first couple of rows of the iris dataset (using a magic command to execute OS level commands):\n",
    "\n",
    "\n"
   ]
  },
  {
   "cell_type": "code",
   "execution_count": 21,
   "metadata": {
    "colab": {
     "base_uri": "https://localhost:8080/"
    },
    "executionInfo": {
     "elapsed": 148,
     "status": "ok",
     "timestamp": 1734011786021,
     "user": {
      "displayName": "Lutz Hamel",
      "userId": "10287662568849688016"
     },
     "user_tz": 300
    },
    "id": "f-2c2jZZJ1sN",
    "outputId": "6d8bb31e-888e-41f7-82c9-b5beee3ec181"
   },
   "outputs": [
    {
     "name": "stdout",
     "output_type": "stream",
     "text": [
      "\"id\",\"Sepal.Length\",\"Sepal.Width\",\"Petal.Length\",\"Petal.Width\",\"Species\"\n",
      "\"1\",5.1,3.5,1.4,0.2,\"setosa\"\n",
      "\"2\",4.9,3,1.4,0.2,\"setosa\"\n",
      "\"3\",4.7,3.2,1.3,0.2,\"setosa\"\n",
      "\"4\",4.6,3.1,1.5,0.2,\"setosa\"\n",
      "\"5\",5,3.6,1.4,0.2,\"setosa\"\n",
      "\"6\",5.4,3.9,1.7,0.4,\"setosa\"\n",
      "\"7\",4.6,3.4,1.4,0.3,\"setosa\"\n",
      "\"8\",5,3.4,1.5,0.2,\"setosa\"\n",
      "\"9\",4.4,2.9,1.4,0.2,\"setosa\"\n",
      "\"10\",4.9,3.1,1.5,0.1,\"setosa\"\n",
      "\"11\",5.4,3.7,1.5,0.2,\"setosa\"\n",
      "\"12\",4.8,3.4,1.6,0.2,\"setosa\"\n",
      "\"13\",4.8,3,1.4,0.1,\"setosa\"\n",
      "\"14\",4.3,3,1.1,0.1,\"setosa\"\n",
      "\"15\",5.8,4,1.2,0.2,\"setosa\"\n",
      "\"16\",5.7,4.4,1.5,0.4,\"setosa\"\n",
      "\"17\",5.4,3.9,1.3,0.4,\"setosa\"\n",
      "\"18\",5.1,3.5,1.4,0.3,\"setosa\"\n",
      "\"19\",5.7,3.8,1.7,0.3,\"setosa\"\n",
      "\"20\",5.1,3.8,1.5,0.3,\"setosa\"\n",
      "\"21\",5.4,3.4,1.7,0.2,\"setosa\"\n",
      "\"22\",5.1,3.7,1.5,0.4,\"setosa\"\n",
      "\"23\",4.6,3.6,1,0.2,\"setosa\"\n",
      "\"24\",5.1,3.3,1.7,0.5,\"setosa\"\n",
      "\"25\",4.8,3.4,1.9,0.2,\"setosa\"\n",
      "\"26\",5,3,1.6,0.2,\"setosa\"\n",
      "\"27\",5,3.4,1.6,0.4,\"setosa\"\n",
      "\"28\",5.2,3.5,1.5,0.2,\"setosa\"\n",
      "\"29\",5.2,3.4,1.4,0.2,\"setosa\"\n",
      "\"30\",4.7,3.2,1.6,0.2,\"setosa\"\n",
      "\"31\",4.8,3.1,1.6,0.2,\"setosa\"\n",
      "\"32\",5.4,3.4,1.5,0.4,\"setosa\"\n",
      "\"33\",5.2,4.1,1.5,0.1,\"setosa\"\n",
      "\"34\",5.5,4.2,1.4,0.2,\"setosa\"\n",
      "\"35\",4.9,3.1,1.5,0.2,\"setosa\"\n",
      "\"36\",5,3.2,1.2,0.2,\"setosa\"\n",
      "\"37\",5.5,3.5,1.3,0.2,\"setosa\"\n",
      "\"38\",4.9,3.6,1.4,0.1,\"setosa\"\n",
      "\"39\",4.4,3,1.3,0.2,\"setosa\"\n",
      "\"40\",5.1,3.4,1.5,0.2,\"setosa\"\n",
      "\"41\",5,3.5,1.3,0.3,\"setosa\"\n",
      "\"42\",4.5,2.3,1.3,0.3,\"setosa\"\n",
      "\"43\",4.4,3.2,1.3,0.2,\"setosa\"\n",
      "\"44\",5,3.5,1.6,0.6,\"setosa\"\n",
      "\"45\",5.1,3.8,1.9,0.4,\"setosa\"\n",
      "\"46\",4.8,3,1.4,0.3,\"setosa\"\n",
      "\"47\",5.1,3.8,1.6,0.2,\"setosa\"\n",
      "\"48\",4.6,3.2,1.4,0.2,\"setosa\"\n",
      "\"49\",5.3,3.7,1.5,0.2,\"setosa\"\n",
      "\"50\",5,3.3,1.4,0.2,\"setosa\"\n",
      "\"51\",7,3.2,4.7,1.4,\"versicolor\"\n",
      "\"52\",6.4,3.2,4.5,1.5,\"versicolor\"\n",
      "\"53\",6.9,3.1,4.9,1.5,\"versicolor\"\n",
      "\"54\",5.5,2.3,4,1.3,\"versicolor\"\n",
      "\"55\",6.5,2.8,4.6,1.5,\"versicolor\"\n",
      "\"56\",5.7,2.8,4.5,1.3,\"versicolor\"\n",
      "\"57\",6.3,3.3,4.7,1.6,\"versicolor\"\n",
      "\"58\",4.9,2.4,3.3,1,\"versicolor\"\n",
      "\"59\",6.6,2.9,4.6,1.3,\"versicolor\"\n",
      "\"60\",5.2,2.7,3.9,1.4,\"versicolor\"\n",
      "\"61\",5,2,3.5,1,\"versicolor\"\n",
      "\"62\",5.9,3,4.2,1.5,\"versicolor\"\n",
      "\"63\",6,2.2,4,1,\"versicolor\"\n",
      "\"64\",6.1,2.9,4.7,1.4,\"versicolor\"\n",
      "\"65\",5.6,2.9,3.6,1.3,\"versicolor\"\n",
      "\"66\",6.7,3.1,4.4,1.4,\"versicolor\"\n",
      "\"67\",5.6,3,4.5,1.5,\"versicolor\"\n",
      "\"68\",5.8,2.7,4.1,1,\"versicolor\"\n",
      "\"69\",6.2,2.2,4.5,1.5,\"versicolor\"\n",
      "\"70\",5.6,2.5,3.9,1.1,\"versicolor\"\n",
      "\"71\",5.9,3.2,4.8,1.8,\"versicolor\"\n",
      "\"72\",6.1,2.8,4,1.3,\"versicolor\"\n",
      "\"73\",6.3,2.5,4.9,1.5,\"versicolor\"\n",
      "\"74\",6.1,2.8,4.7,1.2,\"versicolor\"\n",
      "\"75\",6.4,2.9,4.3,1.3,\"versicolor\"\n",
      "\"76\",6.6,3,4.4,1.4,\"versicolor\"\n",
      "\"77\",6.8,2.8,4.8,1.4,\"versicolor\"\n",
      "\"78\",6.7,3,5,1.7,\"versicolor\"\n",
      "\"79\",6,2.9,4.5,1.5,\"versicolor\"\n",
      "\"80\",5.7,2.6,3.5,1,\"versicolor\"\n",
      "\"81\",5.5,2.4,3.8,1.1,\"versicolor\"\n",
      "\"82\",5.5,2.4,3.7,1,\"versicolor\"\n",
      "\"83\",5.8,2.7,3.9,1.2,\"versicolor\"\n",
      "\"84\",6,2.7,5.1,1.6,\"versicolor\"\n",
      "\"85\",5.4,3,4.5,1.5,\"versicolor\"\n",
      "\"86\",6,3.4,4.5,1.6,\"versicolor\"\n",
      "\"87\",6.7,3.1,4.7,1.5,\"versicolor\"\n",
      "\"88\",6.3,2.3,4.4,1.3,\"versicolor\"\n",
      "\"89\",5.6,3,4.1,1.3,\"versicolor\"\n",
      "\"90\",5.5,2.5,4,1.3,\"versicolor\"\n",
      "\"91\",5.5,2.6,4.4,1.2,\"versicolor\"\n",
      "\"92\",6.1,3,4.6,1.4,\"versicolor\"\n",
      "\"93\",5.8,2.6,4,1.2,\"versicolor\"\n",
      "\"94\",5,2.3,3.3,1,\"versicolor\"\n",
      "\"95\",5.6,2.7,4.2,1.3,\"versicolor\"\n",
      "\"96\",5.7,3,4.2,1.2,\"versicolor\"\n",
      "\"97\",5.7,2.9,4.2,1.3,\"versicolor\"\n",
      "\"98\",6.2,2.9,4.3,1.3,\"versicolor\"\n",
      "\"99\",5.1,2.5,3,1.1,\"versicolor\"\n",
      "\"100\",5.7,2.8,4.1,1.3,\"versicolor\"\n",
      "\"101\",6.3,3.3,6,2.5,\"virginica\"\n",
      "\"102\",5.8,2.7,5.1,1.9,\"virginica\"\n",
      "\"103\",7.1,3,5.9,2.1,\"virginica\"\n",
      "\"104\",6.3,2.9,5.6,1.8,\"virginica\"\n",
      "\"105\",6.5,3,5.8,2.2,\"virginica\"\n",
      "\"106\",7.6,3,6.6,2.1,\"virginica\"\n",
      "\"107\",4.9,2.5,4.5,1.7,\"virginica\"\n",
      "\"108\",7.3,2.9,6.3,1.8,\"virginica\"\n",
      "\"109\",6.7,2.5,5.8,1.8,\"virginica\"\n",
      "\"110\",7.2,3.6,6.1,2.5,\"virginica\"\n",
      "\"111\",6.5,3.2,5.1,2,\"virginica\"\n",
      "\"112\",6.4,2.7,5.3,1.9,\"virginica\"\n",
      "\"113\",6.8,3,5.5,2.1,\"virginica\"\n",
      "\"114\",5.7,2.5,5,2,\"virginica\"\n",
      "\"115\",5.8,2.8,5.1,2.4,\"virginica\"\n",
      "\"116\",6.4,3.2,5.3,2.3,\"virginica\"\n",
      "\"117\",6.5,3,5.5,1.8,\"virginica\"\n",
      "\"118\",7.7,3.8,6.7,2.2,\"virginica\"\n",
      "\"119\",7.7,2.6,6.9,2.3,\"virginica\"\n",
      "\"120\",6,2.2,5,1.5,\"virginica\"\n",
      "\"121\",6.9,3.2,5.7,2.3,\"virginica\"\n",
      "\"122\",5.6,2.8,4.9,2,\"virginica\"\n",
      "\"123\",7.7,2.8,6.7,2,\"virginica\"\n",
      "\"124\",6.3,2.7,4.9,1.8,\"virginica\"\n",
      "\"125\",6.7,3.3,5.7,2.1,\"virginica\"\n",
      "\"126\",7.2,3.2,6,1.8,\"virginica\"\n",
      "\"127\",6.2,2.8,4.8,1.8,\"virginica\"\n",
      "\"128\",6.1,3,4.9,1.8,\"virginica\"\n",
      "\"129\",6.4,2.8,5.6,2.1,\"virginica\"\n",
      "\"130\",7.2,3,5.8,1.6,\"virginica\"\n",
      "\"131\",7.4,2.8,6.1,1.9,\"virginica\"\n",
      "\"132\",7.9,3.8,6.4,2,\"virginica\"\n",
      "\"133\",6.4,2.8,5.6,2.2,\"virginica\"\n",
      "\"134\",6.3,2.8,5.1,1.5,\"virginica\"\n",
      "\"135\",6.1,2.6,5.6,1.4,\"virginica\"\n",
      "\"136\",7.7,3,6.1,2.3,\"virginica\"\n",
      "\"137\",6.3,3.4,5.6,2.4,\"virginica\"\n",
      "\"138\",6.4,3.1,5.5,1.8,\"virginica\"\n",
      "\"139\",6,3,4.8,1.8,\"virginica\"\n",
      "\"140\",6.9,3.1,5.4,2.1,\"virginica\"\n",
      "\"141\",6.7,3.1,5.6,2.4,\"virginica\"\n",
      "\"142\",6.9,3.1,5.1,2.3,\"virginica\"\n",
      "\"143\",5.8,2.7,5.1,1.9,\"virginica\"\n",
      "\"144\",6.8,3.2,5.9,2.3,\"virginica\"\n",
      "\"145\",6.7,3.3,5.7,2.5,\"virginica\"\n",
      "\"146\",6.7,3,5.2,2.3,\"virginica\"\n",
      "\"147\",6.3,2.5,5,1.9,\"virginica\"\n",
      "\"148\",6.5,3,5.2,2,\"virginica\"\n",
      "\"149\",6.2,3.4,5.4,2.3,\"virginica\"\n",
      "\"150\",5.9,3,5.1,1.8,\"virginica\"\n"
     ]
    }
   ],
   "source": [
    "if system == \"Windows\":\n",
    "  !type ds-assets\\assets\\iris.csv\n",
    "else:\n",
    "  !head ds-assets/assets/iris.csv"
   ]
  },
  {
   "cell_type": "markdown",
   "metadata": {
    "id": "21UVyuD2KRUK"
   },
   "source": [
    "**Header row**, column names comma separated.\n",
    "Then **one row for each observation/object**, attribute values are comma separated.\n"
   ]
  },
  {
   "cell_type": "markdown",
   "metadata": {
    "id": "abNeiXcXBlb4"
   },
   "source": [
    "Pandas has support for reading and writing CSV files and stores them as dataframes in the notebook.\n"
   ]
  },
  {
   "cell_type": "code",
   "execution_count": 3,
   "metadata": {
    "executionInfo": {
     "elapsed": 936,
     "status": "ok",
     "timestamp": 1734011786955,
     "user": {
      "displayName": "Lutz Hamel",
      "userId": "10287662568849688016"
     },
     "user_tz": 300
    },
    "id": "WeJt4WH7Blb4"
   },
   "outputs": [],
   "source": [
    "import pandas"
   ]
  },
  {
   "cell_type": "markdown",
   "metadata": {
    "id": "dvaabcrNHXhQ"
   },
   "source": [
    "Read the file: recall that the 'home' variable points to the CSC310 resources available to this notebook."
   ]
  },
  {
   "cell_type": "code",
   "execution_count": 4,
   "metadata": {
    "executionInfo": {
     "elapsed": 8,
     "status": "ok",
     "timestamp": 1734011786956,
     "user": {
      "displayName": "Lutz Hamel",
      "userId": "10287662568849688016"
     },
     "user_tz": 300
    },
    "id": "obURCmAuBlcB"
   },
   "outputs": [],
   "source": [
    "iris_df = pandas.read_csv(home+'iris.csv')"
   ]
  },
  {
   "cell_type": "markdown",
   "metadata": {
    "id": "fcBgQvbRHtd6"
   },
   "source": [
    "The 'shape' function is a quick way to see what the dataframe looks like in memory: (# rows, # columns)\n",
    "\n",
    "* rows - objects in the dataframe\n",
    "* columns - attributes of the objects\n",
    "\n",
    "\n"
   ]
  },
  {
   "cell_type": "code",
   "execution_count": 5,
   "metadata": {
    "colab": {
     "base_uri": "https://localhost:8080/"
    },
    "executionInfo": {
     "elapsed": 7,
     "status": "ok",
     "timestamp": 1734011786956,
     "user": {
      "displayName": "Lutz Hamel",
      "userId": "10287662568849688016"
     },
     "user_tz": 300
    },
    "id": "UzPEWcH8BlcB",
    "outputId": "ff8f0981-dfd0-4f1e-eed5-2076dbfb680d"
   },
   "outputs": [
    {
     "data": {
      "text/plain": [
       "(150, 6)"
      ]
     },
     "execution_count": 5,
     "metadata": {},
     "output_type": "execute_result"
    }
   ],
   "source": [
    "iris_df.shape"
   ]
  },
  {
   "cell_type": "markdown",
   "metadata": {
    "id": "-KIHfZCuH6-O"
   },
   "source": [
    "A more detailed view of the data set can be had with the 'head' function.  Although not very useful for data sets with a lot of attributes but it works great for the kind of data sets we are going to be working with.  Here n is the number of rows to display."
   ]
  },
  {
   "cell_type": "code",
   "execution_count": 6,
   "metadata": {
    "colab": {
     "base_uri": "https://localhost:8080/",
     "height": 206
    },
    "executionInfo": {
     "elapsed": 7,
     "status": "ok",
     "timestamp": 1734011786956,
     "user": {
      "displayName": "Lutz Hamel",
      "userId": "10287662568849688016"
     },
     "user_tz": 300
    },
    "id": "JGc1Fhb4BlcB",
    "outputId": "1444b2be-aa5a-4cf5-e7fe-1c686d2af3f7"
   },
   "outputs": [
    {
     "data": {
      "text/html": [
       "<div>\n",
       "<style scoped>\n",
       "    .dataframe tbody tr th:only-of-type {\n",
       "        vertical-align: middle;\n",
       "    }\n",
       "\n",
       "    .dataframe tbody tr th {\n",
       "        vertical-align: top;\n",
       "    }\n",
       "\n",
       "    .dataframe thead th {\n",
       "        text-align: right;\n",
       "    }\n",
       "</style>\n",
       "<table border=\"1\" class=\"dataframe\">\n",
       "  <thead>\n",
       "    <tr style=\"text-align: right;\">\n",
       "      <th></th>\n",
       "      <th>id</th>\n",
       "      <th>Sepal.Length</th>\n",
       "      <th>Sepal.Width</th>\n",
       "      <th>Petal.Length</th>\n",
       "      <th>Petal.Width</th>\n",
       "      <th>Species</th>\n",
       "    </tr>\n",
       "  </thead>\n",
       "  <tbody>\n",
       "    <tr>\n",
       "      <th>0</th>\n",
       "      <td>1</td>\n",
       "      <td>5.1</td>\n",
       "      <td>3.5</td>\n",
       "      <td>1.4</td>\n",
       "      <td>0.2</td>\n",
       "      <td>setosa</td>\n",
       "    </tr>\n",
       "    <tr>\n",
       "      <th>1</th>\n",
       "      <td>2</td>\n",
       "      <td>4.9</td>\n",
       "      <td>3.0</td>\n",
       "      <td>1.4</td>\n",
       "      <td>0.2</td>\n",
       "      <td>setosa</td>\n",
       "    </tr>\n",
       "    <tr>\n",
       "      <th>2</th>\n",
       "      <td>3</td>\n",
       "      <td>4.7</td>\n",
       "      <td>3.2</td>\n",
       "      <td>1.3</td>\n",
       "      <td>0.2</td>\n",
       "      <td>setosa</td>\n",
       "    </tr>\n",
       "    <tr>\n",
       "      <th>3</th>\n",
       "      <td>4</td>\n",
       "      <td>4.6</td>\n",
       "      <td>3.1</td>\n",
       "      <td>1.5</td>\n",
       "      <td>0.2</td>\n",
       "      <td>setosa</td>\n",
       "    </tr>\n",
       "    <tr>\n",
       "      <th>4</th>\n",
       "      <td>5</td>\n",
       "      <td>5.0</td>\n",
       "      <td>3.6</td>\n",
       "      <td>1.4</td>\n",
       "      <td>0.2</td>\n",
       "      <td>setosa</td>\n",
       "    </tr>\n",
       "  </tbody>\n",
       "</table>\n",
       "</div>"
      ],
      "text/plain": [
       "   id  Sepal.Length  Sepal.Width  Petal.Length  Petal.Width Species\n",
       "0   1           5.1          3.5           1.4          0.2  setosa\n",
       "1   2           4.9          3.0           1.4          0.2  setosa\n",
       "2   3           4.7          3.2           1.3          0.2  setosa\n",
       "3   4           4.6          3.1           1.5          0.2  setosa\n",
       "4   5           5.0          3.6           1.4          0.2  setosa"
      ]
     },
     "execution_count": 6,
     "metadata": {},
     "output_type": "execute_result"
    }
   ],
   "source": [
    "iris_df.head(n=5)"
   ]
  },
  {
   "cell_type": "markdown",
   "metadata": {
    "id": "Zw_6d_hILmNQ"
   },
   "source": [
    "Notice that for the rows Pandas insert its own row identifier.  For the column identifiers it uses the given attribute names."
   ]
  },
  {
   "cell_type": "markdown",
   "metadata": {
    "id": "uYRqI5dEGpQ2"
   },
   "source": [
    "## More Detailed Dataframe Analysis"
   ]
  },
  {
   "cell_type": "markdown",
   "metadata": {
    "id": "iv3cfdfU_9vv"
   },
   "source": [
    "Check whether columns are numerical or categorical. Almost everything with Pandas can be done via computations.  In this case we access the attribute names and then access the data type of that attribute in order to determine whether it is numerical or categorical."
   ]
  },
  {
   "cell_type": "code",
   "execution_count": 7,
   "metadata": {
    "colab": {
     "base_uri": "https://localhost:8080/"
    },
    "executionInfo": {
     "elapsed": 129,
     "status": "ok",
     "timestamp": 1734011787080,
     "user": {
      "displayName": "Lutz Hamel",
      "userId": "10287662568849688016"
     },
     "user_tz": 300
    },
    "id": "uZ56LKSNADMJ",
    "outputId": "e1ef0e33-9e6b-4cc6-f7b1-3bf44eb0a286"
   },
   "outputs": [
    {
     "name": "stdout",
     "output_type": "stream",
     "text": [
      "Attribute 'id' is numeric (int)\n",
      "Attribute 'Sepal.Length' is numeric (float)\n",
      "Attribute 'Sepal.Width' is numeric (float)\n",
      "Attribute 'Petal.Length' is numeric (float)\n",
      "Attribute 'Petal.Width' is numeric (float)\n",
      "Attribute 'Species' is categorical\n"
     ]
    }
   ],
   "source": [
    "# get the attribute names -- in Pandas attributes show up as columns in the dataframe\n",
    "attr_names = list(iris_df.columns)\n",
    "\n",
    "# check each attribute\n",
    "for a in attr_names:\n",
    "  if iris_df[a].dtype == 'int64':\n",
    "    print(\"Attribute '{}' is numeric (int)\".format(a))\n",
    "  elif iris_df[a].dtype == 'float64':\n",
    "    print(\"Attribute '{}' is numeric (float)\".format(a))\n",
    "  else:\n",
    "    print(\"Attribute '{}' is categorical\".format(a))\n"
   ]
  },
  {
   "cell_type": "markdown",
   "metadata": {
    "id": "kDISMarqBlcC"
   },
   "source": [
    "We have a mix of numeric and categorical attributes.\n"
   ]
  },
  {
   "cell_type": "markdown",
   "metadata": {
    "id": "4QF5JbKfZsFj"
   },
   "source": [
    "In data science basic descriptive statistics of  numerical attributes is so important that Pandas has a special function for that: 'describe'\n",
    "\n",
    "Even though we apply this function to the whole dataframe, this function only looks at the numerical attributes and returns a summary of the basic descriptive statistics for those attributes."
   ]
  },
  {
   "cell_type": "code",
   "execution_count": 8,
   "metadata": {
    "colab": {
     "base_uri": "https://localhost:8080/",
     "height": 300
    },
    "executionInfo": {
     "elapsed": 5,
     "status": "ok",
     "timestamp": 1734011787080,
     "user": {
      "displayName": "Lutz Hamel",
      "userId": "10287662568849688016"
     },
     "user_tz": 300
    },
    "id": "YhDYvzoZBlcC",
    "outputId": "4219c47e-64b2-42f0-b413-18a1079e7b80"
   },
   "outputs": [
    {
     "data": {
      "text/html": [
       "<div>\n",
       "<style scoped>\n",
       "    .dataframe tbody tr th:only-of-type {\n",
       "        vertical-align: middle;\n",
       "    }\n",
       "\n",
       "    .dataframe tbody tr th {\n",
       "        vertical-align: top;\n",
       "    }\n",
       "\n",
       "    .dataframe thead th {\n",
       "        text-align: right;\n",
       "    }\n",
       "</style>\n",
       "<table border=\"1\" class=\"dataframe\">\n",
       "  <thead>\n",
       "    <tr style=\"text-align: right;\">\n",
       "      <th></th>\n",
       "      <th>id</th>\n",
       "      <th>Sepal.Length</th>\n",
       "      <th>Sepal.Width</th>\n",
       "      <th>Petal.Length</th>\n",
       "      <th>Petal.Width</th>\n",
       "    </tr>\n",
       "  </thead>\n",
       "  <tbody>\n",
       "    <tr>\n",
       "      <th>count</th>\n",
       "      <td>150.000000</td>\n",
       "      <td>150.000000</td>\n",
       "      <td>150.000000</td>\n",
       "      <td>150.000000</td>\n",
       "      <td>150.000000</td>\n",
       "    </tr>\n",
       "    <tr>\n",
       "      <th>mean</th>\n",
       "      <td>75.500000</td>\n",
       "      <td>5.843333</td>\n",
       "      <td>3.057333</td>\n",
       "      <td>3.758000</td>\n",
       "      <td>1.199333</td>\n",
       "    </tr>\n",
       "    <tr>\n",
       "      <th>std</th>\n",
       "      <td>43.445368</td>\n",
       "      <td>0.828066</td>\n",
       "      <td>0.435866</td>\n",
       "      <td>1.765298</td>\n",
       "      <td>0.762238</td>\n",
       "    </tr>\n",
       "    <tr>\n",
       "      <th>min</th>\n",
       "      <td>1.000000</td>\n",
       "      <td>4.300000</td>\n",
       "      <td>2.000000</td>\n",
       "      <td>1.000000</td>\n",
       "      <td>0.100000</td>\n",
       "    </tr>\n",
       "    <tr>\n",
       "      <th>25%</th>\n",
       "      <td>38.250000</td>\n",
       "      <td>5.100000</td>\n",
       "      <td>2.800000</td>\n",
       "      <td>1.600000</td>\n",
       "      <td>0.300000</td>\n",
       "    </tr>\n",
       "    <tr>\n",
       "      <th>50%</th>\n",
       "      <td>75.500000</td>\n",
       "      <td>5.800000</td>\n",
       "      <td>3.000000</td>\n",
       "      <td>4.350000</td>\n",
       "      <td>1.300000</td>\n",
       "    </tr>\n",
       "    <tr>\n",
       "      <th>75%</th>\n",
       "      <td>112.750000</td>\n",
       "      <td>6.400000</td>\n",
       "      <td>3.300000</td>\n",
       "      <td>5.100000</td>\n",
       "      <td>1.800000</td>\n",
       "    </tr>\n",
       "    <tr>\n",
       "      <th>max</th>\n",
       "      <td>150.000000</td>\n",
       "      <td>7.900000</td>\n",
       "      <td>4.400000</td>\n",
       "      <td>6.900000</td>\n",
       "      <td>2.500000</td>\n",
       "    </tr>\n",
       "  </tbody>\n",
       "</table>\n",
       "</div>"
      ],
      "text/plain": [
       "               id  Sepal.Length  Sepal.Width  Petal.Length  Petal.Width\n",
       "count  150.000000    150.000000   150.000000    150.000000   150.000000\n",
       "mean    75.500000      5.843333     3.057333      3.758000     1.199333\n",
       "std     43.445368      0.828066     0.435866      1.765298     0.762238\n",
       "min      1.000000      4.300000     2.000000      1.000000     0.100000\n",
       "25%     38.250000      5.100000     2.800000      1.600000     0.300000\n",
       "50%     75.500000      5.800000     3.000000      4.350000     1.300000\n",
       "75%    112.750000      6.400000     3.300000      5.100000     1.800000\n",
       "max    150.000000      7.900000     4.400000      6.900000     2.500000"
      ]
     },
     "execution_count": 8,
     "metadata": {},
     "output_type": "execute_result"
    }
   ],
   "source": [
    "iris_df.describe()  # only deals with numerical attributes!"
   ]
  },
  {
   "cell_type": "markdown",
   "metadata": {
    "id": "55PXAAIgZw9E"
   },
   "source": [
    "For categorical attributes we have to do a little bit more work.  Two aspects of categorical variables are important:\n",
    "\n",
    "1.   What are the labels (levels) and how often does each of the labels appear in the dataframe?\n",
    "2.   What is the mode?\n",
    "\n",
    "The mode of a categorical attribute is the label that appear most often.\n",
    "\n",
    "Pandas has dataframe functions to answer both of those questions."
   ]
  },
  {
   "cell_type": "code",
   "execution_count": 9,
   "metadata": {
    "colab": {
     "base_uri": "https://localhost:8080/",
     "height": 210
    },
    "executionInfo": {
     "elapsed": 4,
     "status": "ok",
     "timestamp": 1734011787080,
     "user": {
      "displayName": "Lutz Hamel",
      "userId": "10287662568849688016"
     },
     "user_tz": 300
    },
    "id": "ooBudw7qZ15u",
    "outputId": "40ef009c-d880-4dbc-82b8-a6bed304af1b"
   },
   "outputs": [
    {
     "data": {
      "text/plain": [
       "Species\n",
       "setosa        50\n",
       "versicolor    50\n",
       "virginica     50\n",
       "Name: count, dtype: int64"
      ]
     },
     "execution_count": 9,
     "metadata": {},
     "output_type": "execute_result"
    }
   ],
   "source": [
    "# compute the labels/levels that appear in the attribute\n",
    "iris_df['Species'].value_counts()"
   ]
  },
  {
   "cell_type": "code",
   "execution_count": 10,
   "metadata": {
    "colab": {
     "base_uri": "https://localhost:8080/",
     "height": 178
    },
    "executionInfo": {
     "elapsed": 4,
     "status": "ok",
     "timestamp": 1734011787080,
     "user": {
      "displayName": "Lutz Hamel",
      "userId": "10287662568849688016"
     },
     "user_tz": 300
    },
    "id": "yL4FF13-aHsh",
    "outputId": "d914d508-b0e0-485b-a305-c1d8a40495c2"
   },
   "outputs": [
    {
     "data": {
      "text/plain": [
       "0        setosa\n",
       "1    versicolor\n",
       "2     virginica\n",
       "Name: Species, dtype: object"
      ]
     },
     "execution_count": 10,
     "metadata": {},
     "output_type": "execute_result"
    }
   ],
   "source": [
    "# compute the mode of the categorical attribuate 'Species'\n",
    "iris_df['Species'].mode()"
   ]
  },
  {
   "cell_type": "markdown",
   "metadata": {
    "id": "xbMJRyRTPdgL"
   },
   "source": [
    "Note that here all three labels represent the mode since they all appear an equal number of times."
   ]
  },
  {
   "cell_type": "markdown",
   "metadata": {
    "id": "9OVWPL8NPtEN"
   },
   "source": [
    "## The [x] vs [[x]] Notation\n",
    "\n",
    "Attributes in Pandas dataframes can be accessed in one of two ways:\n",
    "\n",
    "1. Using the simple square brackets 'df[x]'.  This will return a **series** which is Pandas' implementation of a Python vector.\n",
    "\n",
    "2. Using the double square brackets 'df[[x]]'. This will return a **dataframe**.\n",
    "\n",
    "The difference is subtle but we will encounter this later when we look at models where some models only work with dataframes and vice versa."
   ]
  },
  {
   "cell_type": "code",
   "execution_count": 11,
   "metadata": {
    "colab": {
     "base_uri": "https://localhost:8080/",
     "height": 204
    },
    "executionInfo": {
     "elapsed": 125,
     "status": "ok",
     "timestamp": 1734011787202,
     "user": {
      "displayName": "Lutz Hamel",
      "userId": "10287662568849688016"
     },
     "user_tz": 300
    },
    "id": "kDP5aeflQteA",
    "outputId": "b832ccc0-454d-4a20-d6e6-17ef00af8da2"
   },
   "outputs": [
    {
     "data": {
      "text/plain": [
       "pandas.core.series.Series"
      ]
     },
     "execution_count": 11,
     "metadata": {},
     "output_type": "execute_result"
    }
   ],
   "source": [
    "type(iris_df['Sepal.Length'])"
   ]
  },
  {
   "cell_type": "code",
   "execution_count": 12,
   "metadata": {
    "colab": {
     "base_uri": "https://localhost:8080/",
     "height": 204
    },
    "executionInfo": {
     "elapsed": 627,
     "status": "ok",
     "timestamp": 1734011787827,
     "user": {
      "displayName": "Lutz Hamel",
      "userId": "10287662568849688016"
     },
     "user_tz": 300
    },
    "id": "CnhXpGm0Q9ni",
    "outputId": "58d972e9-42db-48c1-f523-474a33102a3c"
   },
   "outputs": [
    {
     "data": {
      "text/plain": [
       "pandas.core.frame.DataFrame"
      ]
     },
     "execution_count": 12,
     "metadata": {},
     "output_type": "execute_result"
    }
   ],
   "source": [
    "type(iris_df[['Sepal.Length']])"
   ]
  },
  {
   "cell_type": "markdown",
   "metadata": {
    "id": "HndEZ5I0GzC7"
   },
   "source": [
    "## Basic Visualization"
   ]
  },
  {
   "cell_type": "markdown",
   "metadata": {
    "id": "-L4ztMFKBlcC"
   },
   "source": [
    "We saw in our detailed analysis that the dataset has mostly numeric variables but also has one categorical attribute: 'Species'\n",
    "\n"
   ]
  },
  {
   "cell_type": "markdown",
   "metadata": {
    "id": "vrYeBN_8Hc2b"
   },
   "source": [
    "Let's plot the categorical attribute via a bar graph."
   ]
  },
  {
   "cell_type": "code",
   "execution_count": 13,
   "metadata": {
    "colab": {
     "base_uri": "https://localhost:8080/",
     "height": 521
    },
    "executionInfo": {
     "elapsed": 470,
     "status": "ok",
     "timestamp": 1734011788295,
     "user": {
      "displayName": "Lutz Hamel",
      "userId": "10287662568849688016"
     },
     "user_tz": 300
    },
    "id": "277WEpfbHiXk",
    "outputId": "b6bc3540-03c8-4bd8-a0d5-36edae4d0384"
   },
   "outputs": [
    {
     "data": {
      "text/plain": [
       "<Axes: xlabel='Species'>"
      ]
     },
     "execution_count": 13,
     "metadata": {},
     "output_type": "execute_result"
    },
    {
     "data": {
      "image/png": "[encoded data removed]",
      "text/plain": [
       "<Figure size 640x480 with 1 Axes>"
      ]
     },
     "metadata": {},
     "output_type": "display_data"
    }
   ],
   "source": [
    "iris_df['Species'].value_counts().plot.bar()"
   ]
  },
  {
   "cell_type": "markdown",
   "metadata": {
    "id": "UjjDQjZ9IACA"
   },
   "source": [
    "**Observation**: The three labels of this categorical variable appear an equal number of times."
   ]
  },
  {
   "cell_type": "markdown",
   "metadata": {
    "id": "h941GN5eINE3"
   },
   "source": [
    "With numerical variables it is customary to plot them with **historgrams** which give us an insight of **how values are distributed**. E.g."
   ]
  },
  {
   "cell_type": "code",
   "execution_count": 14,
   "metadata": {
    "colab": {
     "base_uri": "https://localhost:8080/",
     "height": 232
    },
    "executionInfo": {
     "elapsed": 344,
     "status": "ok",
     "timestamp": 1734011788635,
     "user": {
      "displayName": "Lutz Hamel",
      "userId": "10287662568849688016"
     },
     "user_tz": 300
    },
    "id": "jKeNopjd8wHa",
    "outputId": "071adbaf-d348-4019-f134-ec3e1c2dc34e"
   },
   "outputs": [
    {
     "data": {
      "text/plain": [
       "<Axes: ylabel='Frequency'>"
      ]
     },
     "execution_count": 14,
     "metadata": {},
     "output_type": "execute_result"
    },
    {
     "data": {
      "image/png": "[encoded data removed]",
      "text/plain": [
       "<Figure size 500x200 with 1 Axes>"
      ]
     },
     "metadata": {},
     "output_type": "display_data"
    }
   ],
   "source": [
    "# histogram plot of a single attribute\n",
    "iris_df['Petal.Length'].plot.hist(figsize=(5,2))  # figsize = (width,height)"
   ]
  },
  {
   "cell_type": "markdown",
   "metadata": {
    "id": "qw7KKh9nDNXg"
   },
   "source": [
    "We can construct histograms for all our numerical attributes."
   ]
  },
  {
   "cell_type": "code",
   "execution_count": 15,
   "metadata": {
    "colab": {
     "base_uri": "https://localhost:8080/",
     "height": 1000
    },
    "executionInfo": {
     "elapsed": 1185,
     "status": "ok",
     "timestamp": 1734011789818,
     "user": {
      "displayName": "Lutz Hamel",
      "userId": "10287662568849688016"
     },
     "user_tz": 300
    },
    "id": "U4RahUUjDT0z",
    "outputId": "7866c3a2-bd91-4957-adfe-672aa34e151f"
   },
   "outputs": [
    {
     "name": "stdout",
     "output_type": "stream",
     "text": [
      "\tid\n"
     ]
    },
    {
     "data": {
      "image/png": "[encoded data removed]",
      "text/plain": [
       "<Figure size 500x200 with 1 Axes>"
      ]
     },
     "metadata": {},
     "output_type": "display_data"
    },
    {
     "name": "stdout",
     "output_type": "stream",
     "text": [
      "\tSepal.Length\n"
     ]
    },
    {
     "data": {
      "image/png": "[encoded data removed]",
      "text/plain": [
       "<Figure size 500x200 with 1 Axes>"
      ]
     },
     "metadata": {},
     "output_type": "display_data"
    },
    {
     "name": "stdout",
     "output_type": "stream",
     "text": [
      "\tSepal.Width\n"
     ]
    },
    {
     "data": {
      "image/png": "[encoded data removed]",
      "text/plain": [
       "<Figure size 500x200 with 1 Axes>"
      ]
     },
     "metadata": {},
     "output_type": "display_data"
    },
    {
     "name": "stdout",
     "output_type": "stream",
     "text": [
      "\tPetal.Length\n"
     ]
    },
    {
     "data": {
      "image/png": "[encoded data removed]",
      "text/plain": [
       "<Figure size 500x200 with 1 Axes>"
      ]
     },
     "metadata": {},
     "output_type": "display_data"
    },
    {
     "name": "stdout",
     "output_type": "stream",
     "text": [
      "\tPetal.Width\n"
     ]
    },
    {
     "data": {
      "image/png": "[encoded data removed]",
      "text/plain": [
       "<Figure size 500x200 with 1 Axes>"
      ]
     },
     "metadata": {},
     "output_type": "display_data"
    }
   ],
   "source": [
    "numerical_attrs = ['id','Sepal.Length', 'Sepal.Width', 'Petal.Length', 'Petal.Width']\n",
    "\n",
    "# we need the following to be able to force new plots\n",
    "import matplotlib.pyplot as plt\n",
    "\n",
    "\n",
    "for a in numerical_attrs:\n",
    "  print('\\t'+a) # print out the name of the attribute\n",
    "  iris_df[a].plot.hist(figsize=(5,2))\n",
    "  plt.show()\n"
   ]
  },
  {
   "cell_type": "markdown",
   "metadata": {
    "id": "WzHA2haPInty"
   },
   "source": [
    "**Observations**:\n",
    "\n",
    "1. The 'id' variables is **uniformly** distributed.\n",
    "\n",
    "1. The 'Sepal.Width' variable has a **normal distribution** and is **unimodal**\n",
    "\n",
    "1. The remaining variables are **multimodal** distribution."
   ]
  },
  {
   "cell_type": "markdown",
   "metadata": {
    "id": "UZgVoBEdBlcD"
   },
   "source": [
    "## Distributions\n",
    "\n",
    "Distributions tell us how values behave within a particular variable.  In **unimodal** distributions (distributions with one peak) the peak of the distribution often represents the mean or average of the values.\n",
    "\n",
    "<img src=\"https://www.statology.org/wp-content/uploads/2021/02/multimodal3.png\" height=\"300\" width=\"400\">\n",
    "\n",
    "The values of the y-axis tell us the likelihood of a particular value occuring in a dataset.\n",
    "\n",
    "**Multimodal** distributions have more than one peak.  The are often the result of multiple distributions occuring within a single variable.  \n",
    "\n",
    "Consider the scores of students in a a class. There is a distribution of grades of students who did study and then there is a distribution of students who did not study. Both distributions occuring in the same variable each giving rise to a different peak.\n",
    "\n",
    "<img src=\"https://raw.githubusercontent.com/lutzhamel/ds-assets/main/assets/bimodal-distribution-2.png\" height=\"350\" width=\"400\">\n",
    "\n",
    "We will have much more to say about distributions when we discuss data visualization in more detail.\n",
    "\n",
    "(source: http://www.statisticshowto.com/multimodal-distribution/)"
   ]
  },
  {
   "cell_type": "markdown",
   "metadata": {
    "id": "gRkPAmSuBlcH"
   },
   "source": [
    "# Transform\n",
    "\n",
    "Transforming the data is the next step in our pipeline.\n",
    "\n",
    "![pipeline.png](https://raw.githubusercontent.com/lutzhamel/ds-assets/main/assets/pipeline.png)\n",
    "\n",
    "* The `id` column in the iris dataset does not add any information, it has a **uniform** distribution.\n",
    "* It assigns a unique number to each row of the table.\n",
    "* We want to just drop this column from our dataset\n"
   ]
  },
  {
   "cell_type": "code",
   "execution_count": 16,
   "metadata": {
    "colab": {
     "base_uri": "https://localhost:8080/",
     "height": 448
    },
    "executionInfo": {
     "elapsed": 299,
     "status": "ok",
     "timestamp": 1734011790115,
     "user": {
      "displayName": "Lutz Hamel",
      "userId": "10287662568849688016"
     },
     "user_tz": 300
    },
    "id": "h_5uwiXHBlcI",
    "outputId": "dc68c51e-96a6-470a-8a68-b4b99fd5f91d"
   },
   "outputs": [
    {
     "data": {
      "text/plain": [
       "<Axes: ylabel='Frequency'>"
      ]
     },
     "execution_count": 16,
     "metadata": {},
     "output_type": "execute_result"
    },
    {
     "data": {
      "image/png": "[encoded data removed]",
      "text/plain": [
       "<Figure size 640x480 with 1 Axes>"
      ]
     },
     "metadata": {},
     "output_type": "display_data"
    }
   ],
   "source": [
    "iris_df['id'].plot.hist()"
   ]
  },
  {
   "cell_type": "markdown",
   "metadata": {
    "id": "w93tKnNcBlcI"
   },
   "source": [
    "We use the drop function to drop the ‘id’ column.\n"
   ]
  },
  {
   "cell_type": "code",
   "execution_count": 17,
   "metadata": {
    "colab": {
     "base_uri": "https://localhost:8080/"
    },
    "executionInfo": {
     "elapsed": 6,
     "status": "ok",
     "timestamp": 1734011790115,
     "user": {
      "displayName": "Lutz Hamel",
      "userId": "10287662568849688016"
     },
     "user_tz": 300
    },
    "id": "3XfAlPFyBlcI",
    "outputId": "6467574e-41cb-4fa0-f15d-5e5d01f3c76d"
   },
   "outputs": [
    {
     "data": {
      "text/plain": [
       "(150, 6)"
      ]
     },
     "execution_count": 17,
     "metadata": {},
     "output_type": "execute_result"
    }
   ],
   "source": [
    "iris_df.shape"
   ]
  },
  {
   "cell_type": "code",
   "execution_count": 18,
   "metadata": {
    "executionInfo": {
     "elapsed": 6,
     "status": "ok",
     "timestamp": 1734011790115,
     "user": {
      "displayName": "Lutz Hamel",
      "userId": "10287662568849688016"
     },
     "user_tz": 300
    },
    "id": "1Pa9853CBlcJ"
   },
   "outputs": [],
   "source": [
    "iris_new_df = iris_df.drop(columns=['id']) # columns = <list of column names>"
   ]
  },
  {
   "cell_type": "code",
   "execution_count": 19,
   "metadata": {
    "colab": {
     "base_uri": "https://localhost:8080/"
    },
    "executionInfo": {
     "elapsed": 5,
     "status": "ok",
     "timestamp": 1734011790115,
     "user": {
      "displayName": "Lutz Hamel",
      "userId": "10287662568849688016"
     },
     "user_tz": 300
    },
    "id": "LYiW6H3ABlcJ",
    "outputId": "ce37315d-6f67-4a5c-9789-00a00a0c6a4e"
   },
   "outputs": [
    {
     "data": {
      "text/plain": [
       "(150, 5)"
      ]
     },
     "execution_count": 19,
     "metadata": {},
     "output_type": "execute_result"
    }
   ],
   "source": [
    "iris_new_df.shape"
   ]
  },
  {
   "cell_type": "markdown",
   "metadata": {
    "id": "280qwvIR-lrN"
   },
   "source": [
    "Notice the fact that we have one less column in our new dataframe."
   ]
  },
  {
   "cell_type": "code",
   "execution_count": 20,
   "metadata": {
    "colab": {
     "base_uri": "https://localhost:8080/",
     "height": 206
    },
    "executionInfo": {
     "elapsed": 5,
     "status": "ok",
     "timestamp": 1734011790115,
     "user": {
      "displayName": "Lutz Hamel",
      "userId": "10287662568849688016"
     },
     "user_tz": 300
    },
    "id": "7cevhEqvBlcJ",
    "outputId": "3fec2e6a-e2d0-4667-f17c-a78320826e26"
   },
   "outputs": [
    {
     "data": {
      "text/html": [
       "<div>\n",
       "<style scoped>\n",
       "    .dataframe tbody tr th:only-of-type {\n",
       "        vertical-align: middle;\n",
       "    }\n",
       "\n",
       "    .dataframe tbody tr th {\n",
       "        vertical-align: top;\n",
       "    }\n",
       "\n",
       "    .dataframe thead th {\n",
       "        text-align: right;\n",
       "    }\n",
       "</style>\n",
       "<table border=\"1\" class=\"dataframe\">\n",
       "  <thead>\n",
       "    <tr style=\"text-align: right;\">\n",
       "      <th></th>\n",
       "      <th>Sepal.Length</th>\n",
       "      <th>Sepal.Width</th>\n",
       "      <th>Petal.Length</th>\n",
       "      <th>Petal.Width</th>\n",
       "      <th>Species</th>\n",
       "    </tr>\n",
       "  </thead>\n",
       "  <tbody>\n",
       "    <tr>\n",
       "      <th>0</th>\n",
       "      <td>5.1</td>\n",
       "      <td>3.5</td>\n",
       "      <td>1.4</td>\n",
       "      <td>0.2</td>\n",
       "      <td>setosa</td>\n",
       "    </tr>\n",
       "    <tr>\n",
       "      <th>1</th>\n",
       "      <td>4.9</td>\n",
       "      <td>3.0</td>\n",
       "      <td>1.4</td>\n",
       "      <td>0.2</td>\n",
       "      <td>setosa</td>\n",
       "    </tr>\n",
       "    <tr>\n",
       "      <th>2</th>\n",
       "      <td>4.7</td>\n",
       "      <td>3.2</td>\n",
       "      <td>1.3</td>\n",
       "      <td>0.2</td>\n",
       "      <td>setosa</td>\n",
       "    </tr>\n",
       "    <tr>\n",
       "      <th>3</th>\n",
       "      <td>4.6</td>\n",
       "      <td>3.1</td>\n",
       "      <td>1.5</td>\n",
       "      <td>0.2</td>\n",
       "      <td>setosa</td>\n",
       "    </tr>\n",
       "    <tr>\n",
       "      <th>4</th>\n",
       "      <td>5.0</td>\n",
       "      <td>3.6</td>\n",
       "      <td>1.4</td>\n",
       "      <td>0.2</td>\n",
       "      <td>setosa</td>\n",
       "    </tr>\n",
       "  </tbody>\n",
       "</table>\n",
       "</div>"
      ],
      "text/plain": [
       "   Sepal.Length  Sepal.Width  Petal.Length  Petal.Width Species\n",
       "0           5.1          3.5           1.4          0.2  setosa\n",
       "1           4.9          3.0           1.4          0.2  setosa\n",
       "2           4.7          3.2           1.3          0.2  setosa\n",
       "3           4.6          3.1           1.5          0.2  setosa\n",
       "4           5.0          3.6           1.4          0.2  setosa"
      ]
     },
     "execution_count": 20,
     "metadata": {},
     "output_type": "execute_result"
    }
   ],
   "source": [
    "iris_new_df.head(n=5)"
   ]
  },
  {
   "cell_type": "markdown",
   "metadata": {
    "id": "suc12K3wBlcJ"
   },
   "source": [
    "Looking at the remaining numerical attributes."
   ]
  },
  {
   "cell_type": "markdown",
   "metadata": {
    "id": "Ndh9sspzBlcK"
   },
   "source": [
    "# Reading\n",
    "\n",
    "* [2.1 Understanding Data Types in Python](https://jakevdp.github.io/PythonDataScienceHandbook/02.01-understanding-data-types.html)\n",
    "* [3.1 Introducing Pandas Objects](https://jakevdp.github.io/PythonDataScienceHandbook/03.01-introducing-pandas-objects.html)\n",
    "* [Pandas Dataframe API Reference](https://pandas.pydata.org/docs/reference/frame.html) - search for DataFrame.plot.{plot name}\n"
   ]
  },
  {
   "cell_type": "markdown",
   "metadata": {
    "collapsed": true,
    "id": "oXVL2w1RBlcK"
   },
   "source": [
    "# Project\n",
    "\n",
    "See Brightspace Assignment #1.\n",
    "\n"
   ]
  }
 ],
 "metadata": {
  "colab": {
   "provenance": [],
   "toc_visible": true
  },
  "kernelspec": {
   "display_name": "Python 3",
   "language": "python",
   "name": "python3"
  },
  "language_info": {
   "codemirror_mode": {
    "name": "ipython",
    "version": 3
   },
   "file_extension": ".py",
   "mimetype": "text/x-python",
   "name": "python",
   "nbconvert_exporter": "python",
   "pygments_lexer": "ipython3",
   "version": "3.12.6"
  }
 },
 "nbformat": 4,
 "nbformat_minor": 0
}
