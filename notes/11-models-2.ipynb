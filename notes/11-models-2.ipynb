{
 "cells": [
  {
   "cell_type": "code",
   "execution_count": 1,
   "metadata": {
    "colab": {
     "base_uri": "https://localhost:8080/"
    },
    "executionInfo": {
     "elapsed": 456,
     "status": "ok",
     "timestamp": 1707312228958,
     "user": {
      "displayName": "Lutz Hamel",
      "userId": "10287662568849688016"
     },
     "user_tz": 300
    },
    "id": "n8WKWoVMYqMy",
    "outputId": "184518ea-d365-482b-b65f-e1a2022654b8"
   },
   "outputs": [
    {
     "name": "stdout",
     "output_type": "stream",
     "text": [
      "Already up to date.\n"
     ]
    }
   ],
   "source": [
    "###### Config #####\n",
    "import sys, os, platform\n",
    "if os.path.isdir(\"ds-assets\"):\n",
    "  !cd ds-assets && git pull\n",
    "else:\n",
    "  !git clone https://github.com/lutzhamel/ds-assets.git\n",
    "colab = True if 'google.colab' in os.sys.modules else False\n",
    "system = platform.system() # \"Windows\", \"Linux\", \"Darwin\"\n",
    "home = \"ds-assets/assets/\"\n",
    "sys.path.append(home)  "
   ]
  },
  {
   "cell_type": "code",
   "execution_count": 2,
   "metadata": {},
   "outputs": [],
   "source": [
    "# notebook level imports\n",
    "import pandas as pd\n",
    "from sklearn import tree\n",
    "from sklearn import metrics \n",
    "from sklearn import model_selection \n",
    "import seaborn as sns; sns.set_theme()"
   ]
  },
  {
   "cell_type": "code",
   "execution_count": 3,
   "metadata": {
    "id": "j-Vbdm-RKsFE"
   },
   "outputs": [],
   "source": [
    "# format output from library calls\n",
    "import numpy as np\n",
    "np.set_printoptions(formatter={'float_kind':\"{:3.2f}\".format})"
   ]
  },
  {
   "cell_type": "markdown",
   "metadata": {
    "id": "gjsCjE04YqM6"
   },
   "source": [
    "# Evaluating Models"
   ]
  },
  {
   "cell_type": "markdown",
   "metadata": {
    "id": "GpGoX5wvYqM6"
   },
   "source": [
    "## Learning Curves\n",
    "\n",
    "Learning curves illustrate the general trends of learners. If we train and test models using **training data** and then apply the model\n",
    "to a separate **test data set** then we obtain these following typical curves:\n",
    "\n",
    "\n",
    "    \n"
   ]
  },
  {
   "cell_type": "markdown",
   "metadata": {
    "id": "3cUe2BZKYqM7"
   },
   "source": [
    "\n",
    "<!-- ![model curves](assets/model-performance-curves.png) -->\n",
    "\n",
    "<img src=\"https://raw.githubusercontent.com/lutzhamel/ds-assets/main/assets/train-test-curves.png\"  height=\"300\" width=\"450\">\n",
    "\n",
    "Note: Test data is data that the model has not seen yet as part of its training."
   ]
  },
  {
   "cell_type": "markdown",
   "metadata": {
    "id": "FpfBnlIgYqM8"
   },
   "source": [
    "\n",
    "It can be shown that any model can learn its training data perfectly - “memorize it”.  That is what the blue curve shows above. Any model can achieve a perfect score on the training data as long as it is allowed to be complex enough. In our case we have that at maximum model complexity the model has memorized the entire dataset;\n",
    "that is, it achieves 100% model accuracy when tested on the training data.\n",
    "\n",
    "But memorizing is not the same as learning inherent patterns and use those patterns to make predictions!  Memorization is extremely bad at predicting labels for data that it hasn't seen yet.  See what happens to the red line (testing score) as the model starts to memorize the training dataset -- the score on the test dataset actually falls, we say\n",
    "\n",
    "> **Memorization does not generalize well!**\n",
    "\n",
    "Simply put:\n",
    "\n",
    "1. Undertrained models (low complexity models) make a lot of errors on test data because they have not learned any of the patterns yet.\n",
    "\n",
    "2. Overtrained models (high complexity models) make a lot of errors on test data because memorization is extremely bad at predicting labels on data they haven't been trained on.\n",
    "\n",
    "3. The best models make a trade-off between errors and recognizing important patterns. **Notice that for the best models the training score is not 100%!**\n",
    "\n",
    "\n",
    "\n",
    "> **Observation**: In order to find the **best model** we have to **search its parameter space** to find just the right complexity level."
   ]
  },
  {
   "cell_type": "markdown",
   "metadata": {
    "id": "0OEfoZhwYqM8"
   },
   "source": [
    "**Note**: The code in this notebook takes advantage of the `random_state` parameter in a lot of scikit-learn functions.  This is only done to keep the results of this notebook deterministic.  This variable is strictly not necessary in general applications."
   ]
  },
  {
   "cell_type": "markdown",
   "metadata": {
    "id": "JYglFKc2YqM9"
   },
   "source": [
    "# Train and Test"
   ]
  },
  {
   "cell_type": "markdown",
   "metadata": {
    "id": "CZC_GX96YqM9"
   },
   "source": [
    "Given a data set to construct models with we split this data into two parts:\n",
    "\n",
    "* Training data\n",
    "* Testing data\n",
    "\n",
    "Typical splits are 70%-30% and 80%-20% for the training and testing sets, respectively.\n",
    "\n",
    "We will train our model on the training data as before but we will now test the model performance on the testing data which the model has not seen yet,\n",
    "\n",
    "> We force the model to make some generalizations. That is, we apply the model to data that it hasn't seen yet.\n"
   ]
  },
  {
   "cell_type": "markdown",
   "metadata": {
    "id": "sDAMtz1qYqM-"
   },
   "source": [
    "\n",
    "Let's see if we can observe the learning curves shown above in decision trees.  We apply decision tree models to two different datasets where we build models of different complexities.  \n",
    "\n"
   ]
  },
  {
   "cell_type": "markdown",
   "metadata": {
    "id": "G-4AxDwJMhTe"
   },
   "source": [
    "**Note**: For the remainder of this notebook we will give the accuracy as a fractional value rather than a percentage value.  You can easily recover the percentage value by multiplying the fractional value by 100%."
   ]
  },
  {
   "cell_type": "markdown",
   "metadata": {
    "id": "yx-cHZu7YqM-"
   },
   "source": [
    "### The Iris Dataset\n",
    "\n",
    "We start with the iris dataset.  We would expect a lower accuracy from both the low-complexity and high-complexity models compared to a medium-complexity model which most likely would be close to the ideal model.\n"
   ]
  },
  {
   "cell_type": "code",
   "execution_count": 4,
   "metadata": {
    "id": "Gkq8K9pYYqM-"
   },
   "outputs": [],
   "source": [
    "df = pd.read_csv(home+\"iris.csv\")\n",
    "X  = df.drop(columns=['id','Species'])\n",
    "y = df[['Species']]\n",
    "\n",
    "# split the data - 70% training 30% testing\n",
    "(X_train, X_test, y_train, y_test) = \\\n",
    "    model_selection.train_test_split(X, \n",
    "                                     y, \n",
    "                                     train_size=0.7, \n",
    "                                     test_size=0.3, \n",
    "                                     random_state=2)"
   ]
  },
  {
   "cell_type": "markdown",
   "metadata": {
    "id": "XhtZu3EbYqM_"
   },
   "source": [
    "#### Low Complexity Tree\n",
    "\n",
    "Here we limit the depth of decision tree to 1."
   ]
  },
  {
   "cell_type": "code",
   "execution_count": 5,
   "metadata": {
    "colab": {
     "base_uri": "https://localhost:8080/"
    },
    "executionInfo": {
     "elapsed": 3,
     "status": "ok",
     "timestamp": 1707312230003,
     "user": {
      "displayName": "Lutz Hamel",
      "userId": "10287662568849688016"
     },
     "user_tz": 300
    },
    "id": "bX5Blp7tYqM_",
    "outputId": "8187838b-7710-46bc-e324-97fb28c44046"
   },
   "outputs": [
    {
     "name": "stdout",
     "output_type": "stream",
     "text": [
      "|--- Petal.Width <= 0.80\n",
      "|   |--- class: setosa\n",
      "|--- Petal.Width >  0.80\n",
      "|   |--- class: virginica\n",
      "\n",
      "Train Accuracy: 0.67\n",
      "Test Accuracy: 0.67\n"
     ]
    }
   ],
   "source": [
    "# set up the tree model object\n",
    "model = tree.DecisionTreeClassifier(criterion='entropy',\n",
    "                                    max_depth=1, \n",
    "                                    random_state=2)\n",
    "\n",
    "# fit the model on the training data\n",
    "model.fit(X_train, y_train)\n",
    "print(tree.export_text(model,\n",
    "                       feature_names=list(X.columns)))\n",
    "\n",
    "# Train results: evaluate the model on the training data\n",
    "y_train_model = model.predict(X_train)\n",
    "print(\"Train Accuracy: {:3.2f}\"\n",
    "      .format(metrics.accuracy_score(y_train, y_train_model)))\n",
    "\n",
    "# Test results: evaluate the model on the testing data\n",
    "y_test_model = model.predict(X_test)\n",
    "print(\"Test Accuracy: {:3.2f}\"\n",
    "      .format(metrics.accuracy_score(y_test, y_test_model)))"
   ]
  },
  {
   "cell_type": "markdown",
   "metadata": {
    "id": "EEGUdBFvBZy5"
   },
   "source": [
    "Limiting the tree depth to 1 implies that we can only have a single if-then-else structure as the model.  That means the model can only discriminate between two alternatives.  However, our data has three labels. Consequently, the points of one of the labels will be misclassified.  Interestingly enough, this shows up in the accuracy scores: Only roughly two thirds of the data points are classified correctly and one third is misclassified.  Looking at the model itself we see that it discriminates between `setosa` and `virginica` implying that it misclassifies points with the label `versicolor`.\n",
    "\n",
    "Below is the visualization of the model and it is clear that `versicolor` is being misclassified as `virginica`.\n"
   ]
  },
  {
   "cell_type": "code",
   "execution_count": 6,
   "metadata": {
    "colab": {
     "base_uri": "https://localhost:8080/",
     "height": 476
    },
    "executionInfo": {
     "elapsed": 426,
     "status": "ok",
     "timestamp": 1707312230427,
     "user": {
      "displayName": "Lutz Hamel",
      "userId": "10287662568849688016"
     },
     "user_tz": 300
    },
    "id": "j7K5F9Teagqw",
    "outputId": "367bd113-2abf-44c1-be24-86685cc4aece"
   },
   "outputs": [
    {
     "data": {
      "text/plain": [
       "<Axes: xlabel='Petal.Length', ylabel='Petal.Width'>"
      ]
     },
     "execution_count": 6,
     "metadata": {},
     "output_type": "execute_result"
    },
    {
     "data": {
      "image/png": "[encoded data removed]",
      "text/plain": [
       "<Figure size 640x480 with 1 Axes>"
      ]
     },
     "metadata": {},
     "output_type": "display_data"
    }
   ],
   "source": [
    "# plot flower data\n",
    "sns.scatterplot(df, \n",
    "                x='Petal.Length', \n",
    "                y='Petal.Width', hue='Species')\n",
    "\n",
    "# plot the model\n",
    "sns.lineplot(x=[0,7.0], \n",
    "             y=[0.8,0.8], \n",
    "             color='red')\n"
   ]
  },
  {
   "cell_type": "markdown",
   "metadata": {
    "id": "_n_3glDSYqNB"
   },
   "source": [
    "#### Medium Complexity Tree\n",
    "\n",
    "Here we limit the depth of the decision tree to 3."
   ]
  },
  {
   "cell_type": "code",
   "execution_count": 7,
   "metadata": {
    "colab": {
     "base_uri": "https://localhost:8080/"
    },
    "executionInfo": {
     "elapsed": 272,
     "status": "ok",
     "timestamp": 1707312230695,
     "user": {
      "displayName": "Lutz Hamel",
      "userId": "10287662568849688016"
     },
     "user_tz": 300
    },
    "id": "TkwcT_FLYqNB",
    "outputId": "e2a12d92-8d47-4cc3-e622-af890116cff4"
   },
   "outputs": [
    {
     "name": "stdout",
     "output_type": "stream",
     "text": [
      "|--- Petal.Width <= 0.80\n",
      "|   |--- class: setosa\n",
      "|--- Petal.Width >  0.80\n",
      "|   |--- Petal.Width <= 1.65\n",
      "|   |   |--- Petal.Length <= 4.95\n",
      "|   |   |   |--- class: versicolor\n",
      "|   |   |--- Petal.Length >  4.95\n",
      "|   |   |   |--- class: virginica\n",
      "|   |--- Petal.Width >  1.65\n",
      "|   |   |--- Petal.Length <= 4.85\n",
      "|   |   |   |--- class: virginica\n",
      "|   |   |--- Petal.Length >  4.85\n",
      "|   |   |   |--- class: virginica\n",
      "\n",
      "Train Accuracy: 0.98\n",
      "Test Accuracy: 0.98\n"
     ]
    }
   ],
   "source": [
    "# set up the tree model object\n",
    "model = tree.DecisionTreeClassifier(criterion='entropy',\n",
    "                                    max_depth=3, \n",
    "                                    random_state=3)\n",
    "\n",
    "# fit the model on the training data\n",
    "model.fit(X_train, y_train)\n",
    "print(tree.export_text(model,\n",
    "                       feature_names=list(X.columns)))\n",
    "\n",
    "# Train results: evaluate the model on the training data\n",
    "y_train_model = model.predict(X_train)\n",
    "print(\"Train Accuracy: {:3.2f}\"\n",
    "      .format(metrics.accuracy_score(y_train, y_train_model)))\n",
    "\n",
    "# Test results: evaluate the model on the testing data\n",
    "y_test_model = model.predict(X_test)\n",
    "print(\"Test Accuracy: {:3.2f}\"\n",
    "      .format(metrics.accuracy_score(y_test, y_test_model)))"
   ]
  },
  {
   "cell_type": "markdown",
   "metadata": {
    "id": "y5k7y6tNYqNB"
   },
   "source": [
    "#### High Complexity Tree\n",
    "\n",
    "Here we do not place any limits on the structure of the decision tree."
   ]
  },
  {
   "cell_type": "code",
   "execution_count": 8,
   "metadata": {
    "colab": {
     "base_uri": "https://localhost:8080/"
    },
    "executionInfo": {
     "elapsed": 10,
     "status": "ok",
     "timestamp": 1707312231488,
     "user": {
      "displayName": "Lutz Hamel",
      "userId": "10287662568849688016"
     },
     "user_tz": 300
    },
    "id": "PeUOtP8qYqNB",
    "outputId": "53d5db47-a2a6-425e-b3b3-8196798986be"
   },
   "outputs": [
    {
     "name": "stdout",
     "output_type": "stream",
     "text": [
      "|--- Petal.Width <= 0.80\n",
      "|   |--- class: setosa\n",
      "|--- Petal.Width >  0.80\n",
      "|   |--- Petal.Width <= 1.65\n",
      "|   |   |--- Petal.Length <= 4.95\n",
      "|   |   |   |--- class: versicolor\n",
      "|   |   |--- Petal.Length >  4.95\n",
      "|   |   |   |--- Petal.Width <= 1.55\n",
      "|   |   |   |   |--- class: virginica\n",
      "|   |   |   |--- Petal.Width >  1.55\n",
      "|   |   |   |   |--- class: versicolor\n",
      "|   |--- Petal.Width >  1.65\n",
      "|   |   |--- Petal.Length <= 4.85\n",
      "|   |   |   |--- Sepal.Width <= 3.10\n",
      "|   |   |   |   |--- class: virginica\n",
      "|   |   |   |--- Sepal.Width >  3.10\n",
      "|   |   |   |   |--- class: versicolor\n",
      "|   |   |--- Petal.Length >  4.85\n",
      "|   |   |   |--- class: virginica\n",
      "\n",
      "Train Accuracy: 1.00\n",
      "Test Accuracy: 0.96\n"
     ]
    }
   ],
   "source": [
    "# set up the tree model object\n",
    "model = tree.DecisionTreeClassifier(criterion='entropy',\n",
    "                                    max_depth=None, \n",
    "                                    random_state=2)\n",
    "\n",
    "# fit the model on the training data\n",
    "model.fit(X_train, y_train)\n",
    "print(tree.export_text(model,\n",
    "                       feature_names=list(X.columns)))\n",
    "\n",
    "# Train results: evaluate the model on the training data\n",
    "y_train_model = model.predict(X_train)\n",
    "print(\"Train Accuracy: {:3.2f}\"\n",
    "      .format(metrics.accuracy_score(y_train, y_train_model)))\n",
    "\n",
    "# Test results: evaluate the model on the testing data\n",
    "y_test_model = model.predict(X_test)\n",
    "print(\"Test Accuracy: {:3.2f}\"\n",
    "      .format(metrics.accuracy_score(y_test, y_test_model)))"
   ]
  },
  {
   "cell_type": "markdown",
   "metadata": {
    "id": "9ynVxu2DuiF0"
   },
   "source": [
    "#### Observations\n",
    "\n",
    "We find that the **testing accuracy** of the three different models behaves just as predicted by our learning curves above, with the medium complexity model having the highest score.\n",
    "The **training accuracy** also behaves as predicted: the most complex model simply memorizes the dataset,\n"
   ]
  },
  {
   "cell_type": "markdown",
   "metadata": {
    "id": "2Is2IM9NYqNC"
   },
   "source": [
    "### Wisconsin Breast Cancer Dataset\n",
    "\n",
    "Let's try this again with a slightly larger datasest. This data set is available at <a href=\"https://archive.ics.uci.edu/ml/datasets/Breast+Cancer+Wisconsin+(Diagnostic)\">UCI</a>.\n",
    "The data set describes benign and malignent tumors based on image measurements."
   ]
  },
  {
   "cell_type": "code",
   "execution_count": 9,
   "metadata": {
    "colab": {
     "base_uri": "https://localhost:8080/",
     "height": 273
    },
    "executionInfo": {
     "elapsed": 9,
     "status": "ok",
     "timestamp": 1707312231488,
     "user": {
      "displayName": "Lutz Hamel",
      "userId": "10287662568849688016"
     },
     "user_tz": 300
    },
    "id": "Y9Z8F6qrYqNC",
    "outputId": "736bed53-8989-4718-fb98-879ace7f1487"
   },
   "outputs": [
    {
     "name": "stdout",
     "output_type": "stream",
     "text": [
      "(569, 32)\n"
     ]
    },
    {
     "data": {
      "text/html": [
       "<div>\n",
       "<style scoped>\n",
       "    .dataframe tbody tr th:only-of-type {\n",
       "        vertical-align: middle;\n",
       "    }\n",
       "\n",
       "    .dataframe tbody tr th {\n",
       "        vertical-align: top;\n",
       "    }\n",
       "\n",
       "    .dataframe thead th {\n",
       "        text-align: right;\n",
       "    }\n",
       "</style>\n",
       "<table border=\"1\" class=\"dataframe\">\n",
       "  <thead>\n",
       "    <tr style=\"text-align: right;\">\n",
       "      <th></th>\n",
       "      <th>ID</th>\n",
       "      <th>radius1</th>\n",
       "      <th>texture1</th>\n",
       "      <th>perimeter1</th>\n",
       "      <th>area1</th>\n",
       "      <th>smoothness1</th>\n",
       "      <th>compactness1</th>\n",
       "      <th>concavity1</th>\n",
       "      <th>concave_points1</th>\n",
       "      <th>symmetry1</th>\n",
       "      <th>...</th>\n",
       "      <th>texture3</th>\n",
       "      <th>perimeter3</th>\n",
       "      <th>area3</th>\n",
       "      <th>smoothness3</th>\n",
       "      <th>compactness3</th>\n",
       "      <th>concavity3</th>\n",
       "      <th>concave_points3</th>\n",
       "      <th>symmetry3</th>\n",
       "      <th>fractal_dimension3</th>\n",
       "      <th>Diagnosis</th>\n",
       "    </tr>\n",
       "  </thead>\n",
       "  <tbody>\n",
       "    <tr>\n",
       "      <th>0</th>\n",
       "      <td>1</td>\n",
       "      <td>17.99</td>\n",
       "      <td>10.38</td>\n",
       "      <td>122.80</td>\n",
       "      <td>1001.0</td>\n",
       "      <td>0.11840</td>\n",
       "      <td>0.27760</td>\n",
       "      <td>0.3001</td>\n",
       "      <td>0.14710</td>\n",
       "      <td>0.2419</td>\n",
       "      <td>...</td>\n",
       "      <td>17.33</td>\n",
       "      <td>184.60</td>\n",
       "      <td>2019.0</td>\n",
       "      <td>0.1622</td>\n",
       "      <td>0.6656</td>\n",
       "      <td>0.7119</td>\n",
       "      <td>0.2654</td>\n",
       "      <td>0.4601</td>\n",
       "      <td>0.11890</td>\n",
       "      <td>M</td>\n",
       "    </tr>\n",
       "    <tr>\n",
       "      <th>1</th>\n",
       "      <td>2</td>\n",
       "      <td>20.57</td>\n",
       "      <td>17.77</td>\n",
       "      <td>132.90</td>\n",
       "      <td>1326.0</td>\n",
       "      <td>0.08474</td>\n",
       "      <td>0.07864</td>\n",
       "      <td>0.0869</td>\n",
       "      <td>0.07017</td>\n",
       "      <td>0.1812</td>\n",
       "      <td>...</td>\n",
       "      <td>23.41</td>\n",
       "      <td>158.80</td>\n",
       "      <td>1956.0</td>\n",
       "      <td>0.1238</td>\n",
       "      <td>0.1866</td>\n",
       "      <td>0.2416</td>\n",
       "      <td>0.1860</td>\n",
       "      <td>0.2750</td>\n",
       "      <td>0.08902</td>\n",
       "      <td>M</td>\n",
       "    </tr>\n",
       "    <tr>\n",
       "      <th>2</th>\n",
       "      <td>3</td>\n",
       "      <td>19.69</td>\n",
       "      <td>21.25</td>\n",
       "      <td>130.00</td>\n",
       "      <td>1203.0</td>\n",
       "      <td>0.10960</td>\n",
       "      <td>0.15990</td>\n",
       "      <td>0.1974</td>\n",
       "      <td>0.12790</td>\n",
       "      <td>0.2069</td>\n",
       "      <td>...</td>\n",
       "      <td>25.53</td>\n",
       "      <td>152.50</td>\n",
       "      <td>1709.0</td>\n",
       "      <td>0.1444</td>\n",
       "      <td>0.4245</td>\n",
       "      <td>0.4504</td>\n",
       "      <td>0.2430</td>\n",
       "      <td>0.3613</td>\n",
       "      <td>0.08758</td>\n",
       "      <td>M</td>\n",
       "    </tr>\n",
       "    <tr>\n",
       "      <th>3</th>\n",
       "      <td>4</td>\n",
       "      <td>11.42</td>\n",
       "      <td>20.38</td>\n",
       "      <td>77.58</td>\n",
       "      <td>386.1</td>\n",
       "      <td>0.14250</td>\n",
       "      <td>0.28390</td>\n",
       "      <td>0.2414</td>\n",
       "      <td>0.10520</td>\n",
       "      <td>0.2597</td>\n",
       "      <td>...</td>\n",
       "      <td>26.50</td>\n",
       "      <td>98.87</td>\n",
       "      <td>567.7</td>\n",
       "      <td>0.2098</td>\n",
       "      <td>0.8663</td>\n",
       "      <td>0.6869</td>\n",
       "      <td>0.2575</td>\n",
       "      <td>0.6638</td>\n",
       "      <td>0.17300</td>\n",
       "      <td>M</td>\n",
       "    </tr>\n",
       "    <tr>\n",
       "      <th>4</th>\n",
       "      <td>5</td>\n",
       "      <td>20.29</td>\n",
       "      <td>14.34</td>\n",
       "      <td>135.10</td>\n",
       "      <td>1297.0</td>\n",
       "      <td>0.10030</td>\n",
       "      <td>0.13280</td>\n",
       "      <td>0.1980</td>\n",
       "      <td>0.10430</td>\n",
       "      <td>0.1809</td>\n",
       "      <td>...</td>\n",
       "      <td>16.67</td>\n",
       "      <td>152.20</td>\n",
       "      <td>1575.0</td>\n",
       "      <td>0.1374</td>\n",
       "      <td>0.2050</td>\n",
       "      <td>0.4000</td>\n",
       "      <td>0.1625</td>\n",
       "      <td>0.2364</td>\n",
       "      <td>0.07678</td>\n",
       "      <td>M</td>\n",
       "    </tr>\n",
       "  </tbody>\n",
       "</table>\n",
       "<p>5 rows × 32 columns</p>\n",
       "</div>"
      ],
      "text/plain": [
       "   ID  radius1  texture1  perimeter1   area1  smoothness1  compactness1  \\\n",
       "0   1    17.99     10.38      122.80  1001.0      0.11840       0.27760   \n",
       "1   2    20.57     17.77      132.90  1326.0      0.08474       0.07864   \n",
       "2   3    19.69     21.25      130.00  1203.0      0.10960       0.15990   \n",
       "3   4    11.42     20.38       77.58   386.1      0.14250       0.28390   \n",
       "4   5    20.29     14.34      135.10  1297.0      0.10030       0.13280   \n",
       "\n",
       "   concavity1  concave_points1  symmetry1  ...  texture3  perimeter3   area3  \\\n",
       "0      0.3001          0.14710     0.2419  ...     17.33      184.60  2019.0   \n",
       "1      0.0869          0.07017     0.1812  ...     23.41      158.80  1956.0   \n",
       "2      0.1974          0.12790     0.2069  ...     25.53      152.50  1709.0   \n",
       "3      0.2414          0.10520     0.2597  ...     26.50       98.87   567.7   \n",
       "4      0.1980          0.10430     0.1809  ...     16.67      152.20  1575.0   \n",
       "\n",
       "   smoothness3  compactness3  concavity3  concave_points3  symmetry3  \\\n",
       "0       0.1622        0.6656      0.7119           0.2654     0.4601   \n",
       "1       0.1238        0.1866      0.2416           0.1860     0.2750   \n",
       "2       0.1444        0.4245      0.4504           0.2430     0.3613   \n",
       "3       0.2098        0.8663      0.6869           0.2575     0.6638   \n",
       "4       0.1374        0.2050      0.4000           0.1625     0.2364   \n",
       "\n",
       "   fractal_dimension3  Diagnosis  \n",
       "0             0.11890          M  \n",
       "1             0.08902          M  \n",
       "2             0.08758          M  \n",
       "3             0.17300          M  \n",
       "4             0.07678          M  \n",
       "\n",
       "[5 rows x 32 columns]"
      ]
     },
     "execution_count": 9,
     "metadata": {},
     "output_type": "execute_result"
    }
   ],
   "source": [
    "# set up our sklearn data shape for the iris data\n",
    "df = pd.read_csv(home+\"wdbc.csv\")\n",
    "print(df.shape)\n",
    "df.head()"
   ]
  },
  {
   "cell_type": "markdown",
   "metadata": {},
   "source": [
    "The target variable is 'Diagnosis'."
   ]
  },
  {
   "cell_type": "code",
   "execution_count": 10,
   "metadata": {
    "colab": {
     "base_uri": "https://localhost:8080/"
    },
    "executionInfo": {
     "elapsed": 6,
     "status": "ok",
     "timestamp": 1707312231488,
     "user": {
      "displayName": "Lutz Hamel",
      "userId": "10287662568849688016"
     },
     "user_tz": 300
    },
    "id": "BBAt8H9RYqNE",
    "outputId": "b59a14e4-1680-469c-f0ae-54652828251b"
   },
   "outputs": [
    {
     "data": {
      "text/plain": [
       "Diagnosis\n",
       "B            357\n",
       "M            212\n",
       "Name: count, dtype: int64"
      ]
     },
     "execution_count": 10,
     "metadata": {},
     "output_type": "execute_result"
    }
   ],
   "source": [
    "# see if our data set is balanced\n",
    "df[['Diagnosis']].value_counts()"
   ]
  },
  {
   "cell_type": "markdown",
   "metadata": {},
   "source": [
    "**Observation**: Close enough, there is reasonable representation of each class."
   ]
  },
  {
   "cell_type": "code",
   "execution_count": 11,
   "metadata": {
    "id": "4YNNuJijYqNF"
   },
   "outputs": [],
   "source": [
    "# set up our datasets\n",
    "X  = df.drop(columns=['ID','Diagnosis'])\n",
    "y = df[['Diagnosis']]\n",
    "\n",
    "# split the data\n",
    "(X_train, X_test, y_train, y_test) = \\\n",
    "    model_selection.train_test_split(X, \n",
    "                                     y, \n",
    "                                     train_size=0.7, \n",
    "                                     test_size=0.3, \n",
    "                                     random_state=2)"
   ]
  },
  {
   "cell_type": "markdown",
   "metadata": {
    "id": "DO0NPMwrYqNF"
   },
   "source": [
    "#### Low Complexity Tree\n",
    "\n",
    "Limit the model to a depth of 1."
   ]
  },
  {
   "cell_type": "code",
   "execution_count": 12,
   "metadata": {
    "colab": {
     "base_uri": "https://localhost:8080/"
    },
    "executionInfo": {
     "elapsed": 237,
     "status": "ok",
     "timestamp": 1707312231721,
     "user": {
      "displayName": "Lutz Hamel",
      "userId": "10287662568849688016"
     },
     "user_tz": 300
    },
    "id": "UpY6qRv2YqNF",
    "outputId": "b7884b00-0832-4b7a-e935-14fba8b908d9"
   },
   "outputs": [
    {
     "name": "stdout",
     "output_type": "stream",
     "text": [
      "|--- perimeter3 <= 105.95\n",
      "|   |--- class: B\n",
      "|--- perimeter3 >  105.95\n",
      "|   |--- class: M\n",
      "\n",
      "Train Accuracy: 0.93\n",
      "Test Accuracy: 0.90\n"
     ]
    }
   ],
   "source": [
    "# set up the tree model object\n",
    "model = tree.DecisionTreeClassifier(criterion='entropy',\n",
    "                                    max_depth=1, \n",
    "                                    random_state=1)\n",
    "\n",
    "# fit the model on the training data\n",
    "model.fit(X_train, y_train)\n",
    "print(tree.export_text(model,\n",
    "                       feature_names=list(X.columns)))\n",
    "\n",
    "# Train results: evaluate the model on the traing data\n",
    "y_train_model = model.predict(X_train)\n",
    "print(\"Train Accuracy: {:3.2f}\"\n",
    "      .format(metrics.accuracy_score(y_train, y_train_model)))\n",
    "\n",
    "# Test results: evaluate the model on the testing data\n",
    "y_test_model = model.predict(X_test)\n",
    "print(\"Test Accuracy: {:3.2f}\"\n",
    "      .format(metrics.accuracy_score(y_test, y_test_model)))"
   ]
  },
  {
   "cell_type": "markdown",
   "metadata": {
    "id": "uNqiiOLBYqNG"
   },
   "source": [
    "#### Medium Complexity Tree\n",
    "\n",
    "Limit the model to a depth of 4."
   ]
  },
  {
   "cell_type": "code",
   "execution_count": 13,
   "metadata": {
    "colab": {
     "base_uri": "https://localhost:8080/"
    },
    "executionInfo": {
     "elapsed": 5,
     "status": "ok",
     "timestamp": 1707312231722,
     "user": {
      "displayName": "Lutz Hamel",
      "userId": "10287662568849688016"
     },
     "user_tz": 300
    },
    "id": "MV6Sv3yEYqNG",
    "outputId": "54c0f9ed-b6fd-4dfb-e01b-0ab1fca70b31"
   },
   "outputs": [
    {
     "name": "stdout",
     "output_type": "stream",
     "text": [
      "|--- perimeter3 <= 105.95\n",
      "|   |--- concave_points3 <= 0.14\n",
      "|   |   |--- area2 <= 46.32\n",
      "|   |   |   |--- texture3 <= 33.10\n",
      "|   |   |   |   |--- class: B\n",
      "|   |   |   |--- texture3 >  33.10\n",
      "|   |   |   |   |--- class: B\n",
      "|   |   |--- area2 >  46.32\n",
      "|   |   |   |--- radius2 <= 0.69\n",
      "|   |   |   |   |--- class: M\n",
      "|   |   |   |--- radius2 >  0.69\n",
      "|   |   |   |   |--- class: B\n",
      "|   |--- concave_points3 >  0.14\n",
      "|   |   |--- texture3 <= 27.58\n",
      "|   |   |   |--- symmetry3 <= 0.36\n",
      "|   |   |   |   |--- class: B\n",
      "|   |   |   |--- symmetry3 >  0.36\n",
      "|   |   |   |   |--- class: M\n",
      "|   |   |--- texture3 >  27.58\n",
      "|   |   |   |--- class: M\n",
      "|--- perimeter3 >  105.95\n",
      "|   |--- perimeter3 <= 116.05\n",
      "|   |   |--- texture3 <= 20.36\n",
      "|   |   |   |--- class: B\n",
      "|   |   |--- texture3 >  20.36\n",
      "|   |   |   |--- smoothness1 <= 0.09\n",
      "|   |   |   |   |--- class: B\n",
      "|   |   |   |--- smoothness1 >  0.09\n",
      "|   |   |   |   |--- class: M\n",
      "|   |--- perimeter3 >  116.05\n",
      "|   |   |--- class: M\n",
      "\n",
      "Train Accuracy: 0.99\n",
      "Test Accuracy: 0.95\n"
     ]
    }
   ],
   "source": [
    "# set up the tree model object\n",
    "model = tree.DecisionTreeClassifier(criterion='entropy',\n",
    "                                    max_depth=4, \n",
    "                                    random_state=2)\n",
    "\n",
    "# fit the model on the training set of data\n",
    "model.fit(X_train, y_train)\n",
    "print(tree.export_text(model,\n",
    "                       feature_names=list(X.columns)))\n",
    "\n",
    "# Train results: evaluate the model on the training data\n",
    "y_train_model = model.predict(X_train)\n",
    "print(\"Train Accuracy: {:3.2f}\"\n",
    "      .format(metrics.accuracy_score(y_train, y_train_model)))\n",
    "\n",
    "# Test results: evaluate the model on the testing data\n",
    "y_test_model = model.predict(X_test)\n",
    "print(\"Test Accuracy: {:3.2f}\"\n",
    "      .format(metrics.accuracy_score(y_test, y_test_model)))"
   ]
  },
  {
   "cell_type": "markdown",
   "metadata": {
    "id": "2Ilhu1CMYqNG"
   },
   "source": [
    "#### High Complexity Tree\n",
    "\n",
    "Unlimited model complexity."
   ]
  },
  {
   "cell_type": "code",
   "execution_count": 14,
   "metadata": {
    "colab": {
     "base_uri": "https://localhost:8080/"
    },
    "executionInfo": {
     "elapsed": 3,
     "status": "ok",
     "timestamp": 1707312231722,
     "user": {
      "displayName": "Lutz Hamel",
      "userId": "10287662568849688016"
     },
     "user_tz": 300
    },
    "id": "kolozCbJYqNG",
    "outputId": "3d8c9ee5-cec8-4e0c-f33c-7d40eeba9247"
   },
   "outputs": [
    {
     "name": "stdout",
     "output_type": "stream",
     "text": [
      "|--- perimeter3 <= 105.95\n",
      "|   |--- concave_points3 <= 0.14\n",
      "|   |   |--- area2 <= 46.32\n",
      "|   |   |   |--- texture3 <= 33.10\n",
      "|   |   |   |   |--- class: B\n",
      "|   |   |   |--- texture3 >  33.10\n",
      "|   |   |   |   |--- texture3 <= 33.56\n",
      "|   |   |   |   |   |--- class: M\n",
      "|   |   |   |   |--- texture3 >  33.56\n",
      "|   |   |   |   |   |--- class: B\n",
      "|   |   |--- area2 >  46.32\n",
      "|   |   |   |--- area3 <= 566.55\n",
      "|   |   |   |   |--- class: M\n",
      "|   |   |   |--- area3 >  566.55\n",
      "|   |   |   |   |--- class: B\n",
      "|   |--- concave_points3 >  0.14\n",
      "|   |   |--- texture3 <= 27.58\n",
      "|   |   |   |--- area3 <= 725.20\n",
      "|   |   |   |   |--- class: B\n",
      "|   |   |   |--- area3 >  725.20\n",
      "|   |   |   |   |--- smoothness3 <= 0.14\n",
      "|   |   |   |   |   |--- class: B\n",
      "|   |   |   |   |--- smoothness3 >  0.14\n",
      "|   |   |   |   |   |--- class: M\n",
      "|   |   |--- texture3 >  27.58\n",
      "|   |   |   |--- class: M\n",
      "|--- perimeter3 >  105.95\n",
      "|   |--- perimeter3 <= 116.05\n",
      "|   |   |--- texture3 <= 20.36\n",
      "|   |   |   |--- class: B\n",
      "|   |   |--- texture3 >  20.36\n",
      "|   |   |   |--- smoothness1 <= 0.09\n",
      "|   |   |   |   |--- radius1 <= 15.06\n",
      "|   |   |   |   |   |--- class: B\n",
      "|   |   |   |   |--- radius1 >  15.06\n",
      "|   |   |   |   |   |--- class: M\n",
      "|   |   |   |--- smoothness1 >  0.09\n",
      "|   |   |   |   |--- class: M\n",
      "|   |--- perimeter3 >  116.05\n",
      "|   |   |--- class: M\n",
      "\n",
      "Train Accuracy: 1.00\n",
      "Test Accuracy: 0.92\n"
     ]
    }
   ],
   "source": [
    "# set up the tree model object\n",
    "model = tree.DecisionTreeClassifier(criterion='entropy',\n",
    "                                    max_depth=None, \n",
    "                                    random_state=3)\n",
    "\n",
    "# fit the model on the training set of data\n",
    "model.fit(X_train, y_train)\n",
    "print(tree.export_text(model,\n",
    "                       feature_names=list(X.columns)))\n",
    "\n",
    "# Train results: evaluate the model on the training data\n",
    "y_train_model = model.predict(X_train)\n",
    "print(\"Train Accuracy: {:3.2f}\"\n",
    "      .format(metrics.accuracy_score(y_train, y_train_model)))\n",
    "\n",
    "# Test results: evaluate the model on the testing data\n",
    "y_test_model = model.predict(X_test)\n",
    "print(\"Test Accuracy: {:3.2f}\"\n",
    "      .format(metrics.accuracy_score(y_test, y_test_model)))"
   ]
  },
  {
   "cell_type": "markdown",
   "metadata": {
    "id": "jvzYVFHLGJ3Q"
   },
   "source": [
    "#### Observations\n",
    "\n",
    "Again, we find that the **testing accuracy** of the three different models behaves just as predicted by our learning curves above, with the medium complexity model having the highest score.\n",
    "The **training accuracy** also behaves as predicted: the most complex model simply memorizes the dataset,\n"
   ]
  },
  {
   "cell_type": "markdown",
   "metadata": {
    "id": "X6aOtYkFDsJ0"
   },
   "source": [
    "# Model Search\n",
    "\n",
    "From our discussion above it is clear that in order to find the best model we have to perform a **search** over the model space using parameters that dictate the complexity of the model.  In the case of the decision tree model the tree depth controls the complexity of the model.  In order to find our best model we had to try different values for that parameter, or\n",
    "\n",
    "> We had to **search** over the model space of the decision tree by trying different values for tree depth in order to find a model with just the right complexity.\n"
   ]
  },
  {
   "cell_type": "markdown",
   "metadata": {
    "id": "Tb6ecfT_YqNH"
   },
   "source": [
    "## Train and Test\n",
    "\n",
    "We have already seen that just using a training set for model evaluation does not work! Our solution was to split our data into a training and a test (validation) set.\n",
    "\n",
    "<img src=\"https://raw.githubusercontent.com/lutzhamel/ds-assets/main/assets/train-test-data.png\" height=\"200\" width=\"450\">"
   ]
  },
  {
   "cell_type": "markdown",
   "metadata": {
    "id": "C027zEXTYqNH"
   },
   "source": [
    "### Issues with Train and Test\n",
    "\n",
    "* Train-testing relies on randomly splitting the training data into two parts.\n",
    "\n",
    "* If this split just happens to be a 'bad' split our results might be biased.\n",
    "\n",
    "An example of a 'bad' split is that by chance all of the instances in our dataset with a particular label wind up in the test set and none in the training set.  In this case, the model has no way to learn about patterns regarding this particular label and will misclassify all of the instances with that label in the test set.\n",
    "\n",
    "Consider the following example using our iris dataset."
   ]
  },
  {
   "cell_type": "code",
   "execution_count": 15,
   "metadata": {
    "colab": {
     "base_uri": "https://localhost:8080/"
    },
    "executionInfo": {
     "elapsed": 4,
     "status": "ok",
     "timestamp": 1707312231940,
     "user": {
      "displayName": "Lutz Hamel",
      "userId": "10287662568849688016"
     },
     "user_tz": 300
    },
    "id": "X0Vl7cFsgM3Z",
    "outputId": "74eb4aab-0684-4e90-dbd9-0a8aab0f8ff7"
   },
   "outputs": [
    {
     "name": "stdout",
     "output_type": "stream",
     "text": [
      "Train Accuracy: 0.99\n",
      "Test Accuracy: 0.00\n"
     ]
    }
   ],
   "source": [
    "# set up our sklearn data shape for the iris data\n",
    "df = pd.read_csv(home+\"iris.csv\").drop(columns=['id'])\n",
    "\n",
    "# split the data - 70% training 30% testing\n",
    "# training data does not contain any setosa flowers\n",
    "X_train = df[df['Species'] != 'setosa'].drop(columns=['Species'])\n",
    "y_train = df[df['Species'] != 'setosa'][['Species']]\n",
    "\n",
    "# testing data only contains setosa flowers\n",
    "X_test = df[df['Species'] == 'setosa'].drop(columns=['Species'])\n",
    "y_test = df[df['Species'] == 'setosa'][['Species']]\n",
    "\n",
    "# build a medium complexity tree\n",
    "# set up the tree model object\n",
    "model = tree.DecisionTreeClassifier(criterion='entropy',\n",
    "                                    max_depth=3)\n",
    "\n",
    "# fit the model on the training set of data\n",
    "model.fit(X_train, y_train)\n",
    "\n",
    "# Train results: evaluate the model on the training data\n",
    "y_train_model = model.predict(X_train)\n",
    "print(\"Train Accuracy: {:3.2f}\"\n",
    "      .format(metrics.accuracy_score(y_train, y_train_model)))\n",
    "\n",
    "# Test results: evaluate the model on the testing data\n",
    "y_test_model = model.predict(X_test)\n",
    "print(\"Test Accuracy: {:3.2f}\"\n",
    "      .format(metrics.accuracy_score(y_test, y_test_model)))"
   ]
  },
  {
   "cell_type": "markdown",
   "metadata": {
    "id": "N8eqZgVBjjC0"
   },
   "source": [
    "**Observation**: As predicted, the model misclassified all of the instances in the test set since\n",
    "it had no way of learning what a 'Setosa' flower looks like."
   ]
  },
  {
   "cell_type": "markdown",
   "metadata": {
    "id": "FP2oquLWgDRU"
   },
   "source": [
    "**Solution:** Cross-validation\n"
   ]
  },
  {
   "cell_type": "markdown",
   "metadata": {
    "id": "J8QuQ5OoYqNH"
   },
   "source": [
    "## Cross-Validation\n",
    "\n",
    "In cross-validation we perform two trials (model constructions) where, in each trial, we switch the roles of our two sets (see the figure below).  In order to evaluate the model performance in cross-validation, we build and evaluate a model in each trial and then take the average performance between the two models as the performance of the cross-validation.  Notice that this will mitigate the 'bad' split issue mentioned above.\n",
    "\n",
    "**Note**: In cross-validation the testing set is called the **validation set**.\n",
    "\n",
    "\n",
    "\n",
    "<img src=\"https://raw.githubusercontent.com/lutzhamel/ds-assets/main/assets/2fold-xval.png\" height=\"400\" width=\"450\">\n"
   ]
  },
  {
   "cell_type": "markdown",
   "metadata": {
    "id": "TT_q2zlrYqNI"
   },
   "source": [
    "BUT, what if is the split was really bad: e.g. one of the sets does not contain any examples of one of the classes like our Iris example above.\n",
    "\n",
    "**Solution:** Create more trials - **n-fold cross-validation**"
   ]
  },
  {
   "cell_type": "markdown",
   "metadata": {
    "id": "BGoJM3nCYqNI"
   },
   "source": [
    "## N-Fold Cross-Validation\n",
    "\n",
    "Here we do the following:\n",
    "* perform the split N times,\n",
    "* then train and test on each fold,\n",
    "* take the average of the model performance over the folds in order to determine the **cross-validated model performance**\n",
    "\n",
    "Example:\n",
    "* 5-fold cross-validation - split the training data into 5 partitions (folds)\n",
    "* Use each fold as a test/validation set and the other folds as training set\n",
    "* Multiple splits - even if one is bad it will be balanced out by the others.\n",
    "\n",
    "<img src=\"https://raw.githubusercontent.com/lutzhamel/ds-assets/main/assets/5fold-xval.png\" height=\"400\" width=\"450\">\n",
    "\n",
    "**Note**: 5-fold cross-validation is interesting because each trial essentially has an 80-20 split: 80% of the data for training and 20% for testing.  This is one of the more common ways to split a dataset into training and testing sets.\n",
    "\n",
    "**Note**: We have to train and test models five times in 5-fold cross-validation."
   ]
  },
  {
   "cell_type": "markdown",
   "metadata": {
    "id": "EJcl8sk3k35o"
   },
   "source": [
    "# 5-Fold Cross-Validation and the Iris Data\n",
    "\n",
    "Let's try this in code.  The nice thing about cross-validation is that it is completely handled by the sklearn module, we don't have to manually split the data etc.\n",
    "\n",
    "We try this on our iris dataset."
   ]
  },
  {
   "cell_type": "code",
   "execution_count": 16,
   "metadata": {
    "colab": {
     "base_uri": "https://localhost:8080/"
    },
    "executionInfo": {
     "elapsed": 3,
     "status": "ok",
     "timestamp": 1707312231940,
     "user": {
      "displayName": "Lutz Hamel",
      "userId": "10287662568849688016"
     },
     "user_tz": 300
    },
    "id": "LJJCbpFdYqNI",
    "outputId": "f6de84f1-f5be-4140-912c-11f4679308da"
   },
   "outputs": [
    {
     "name": "stdout",
     "output_type": "stream",
     "text": [
      "DecisionTreeClassifier(criterion='entropy', max_depth=3)\n",
      "Fold Accuracies: [0.97 0.97 0.93 0.93 1.00]\n",
      "Accuracy: 0.96\n"
     ]
    }
   ],
   "source": [
    "df = pd.read_csv(home+\"iris.csv\")\n",
    "X  = df.drop(columns=['id','Species'])\n",
    "y = df[['Species']]\n",
    "\n",
    "model = tree.DecisionTreeClassifier(criterion='entropy',\n",
    "                                    max_depth=3)\n",
    "print(model)\n",
    "\n",
    "scores = model_selection.cross_val_score(model, \n",
    "                                         X, \n",
    "                                         y, \n",
    "                                         cv=5) # 5-Fold\n",
    "\n",
    "print(\"Fold Accuracies: {}\".format(scores))\n",
    "print(\"Accuracy: {:3.2f}\".format(scores.mean()))"
   ]
  },
  {
   "cell_type": "markdown",
   "metadata": {
    "id": "zkceHQ_Cd0sz"
   },
   "source": [
    "**Observations**:\n",
    "* Notice the fold accuracies and how they vary.  That is a typical feature of cross-validation.\n",
    "* We say that the parameter set criterion='entropy' and max_depth=3 has a cross-validated accuracy of 96%.\n",
    "* Also notice that at the cross-validation level we do not deal with models, just parameters!\n",
    "\n",
    "Constructing models in this way is hard work: Choose a set of parameter values, cross-validate it, repeat.  Finally build your model.  There is a better way: model search with **grid search**."
   ]
  },
  {
   "cell_type": "markdown",
   "metadata": {
    "id": "oPyEgFNmEo0R"
   },
   "source": [
    "## Model Search and Cross-Validation\n",
    "\n",
    "Once we switch to a cross-validation approach our model search becomes somewhat different.  Instead of searching over the model space we **search over\n",
    "the parameter space** for the best set of parameters.\n",
    "\n",
    "<img src=\"https://raw.githubusercontent.com/lutzhamel/ds-assets/main/assets/cross-validated-curve.png\"  height=\"300\" width=\"450\">\n",
    "\n",
    "This is due to the fact that cross-validation builds **multiple** models and the cross-validated performance is the **mean performance** of the models built on the various folds. Searching over the parameter space is called **grid search**.\n"
   ]
  },
  {
   "cell_type": "markdown",
   "metadata": {
    "id": "CIJS_MTJYqNJ"
   },
   "source": [
    "## Model Search as a Grid Search\n",
    "\n",
    "You probably figured out by now that the only way to find the best model for a particular dataset is to search for it by trying different parameters that control the complexity of the models.  Therefore:\n",
    "\n",
    "* Finding the best model involves searching for parameter values that give you the best cross-validation accuracy.\n",
    "* This is usually referred to as the **grid search**.\n",
    "\n"
   ]
  },
  {
   "cell_type": "markdown",
   "metadata": {
    "id": "gd2jmal2YqNK"
   },
   "source": [
    "Sklearn helps us do that efficiently:\n",
    "Sklearn has a built-in grid search that can optimize the model parameters.  In our case the decision tree classifiers has two parameters: criterion and depth. The grid search will find the optimal value for both of these parameters. The grid search function will return two things:\n",
    "\n",
    "1. the optimal parameter set\n",
    "2. the optimal classifier\n",
    "\n",
    "Consider,"
   ]
  },
  {
   "cell_type": "code",
   "execution_count": 17,
   "metadata": {
    "colab": {
     "base_uri": "https://localhost:8080/"
    },
    "executionInfo": {
     "elapsed": 2778,
     "status": "ok",
     "timestamp": 1707312234716,
     "user": {
      "displayName": "Lutz Hamel",
      "userId": "10287662568849688016"
     },
     "user_tz": 300
    },
    "id": "hJ3L6Tf2YqNK",
    "outputId": "7455e64e-53be-4ee0-c1ba-3e26c6fa095f"
   },
   "outputs": [
    {
     "name": "stdout",
     "output_type": "stream",
     "text": [
      "Best parameters: {'criterion': 'gini', 'max_depth': 4}\n",
      "Best tree:\n",
      "|--- Petal.Width <= 0.80\n",
      "|   |--- class: setosa\n",
      "|--- Petal.Width >  0.80\n",
      "|   |--- Petal.Width <= 1.75\n",
      "|   |   |--- Petal.Length <= 4.95\n",
      "|   |   |   |--- Petal.Width <= 1.65\n",
      "|   |   |   |   |--- class: versicolor\n",
      "|   |   |   |--- Petal.Width >  1.65\n",
      "|   |   |   |   |--- class: virginica\n",
      "|   |   |--- Petal.Length >  4.95\n",
      "|   |   |   |--- Petal.Width <= 1.55\n",
      "|   |   |   |   |--- class: virginica\n",
      "|   |   |   |--- Petal.Width >  1.55\n",
      "|   |   |   |   |--- class: versicolor\n",
      "|   |--- Petal.Width >  1.75\n",
      "|   |   |--- Petal.Length <= 4.85\n",
      "|   |   |   |--- Sepal.Length <= 5.95\n",
      "|   |   |   |   |--- class: versicolor\n",
      "|   |   |   |--- Sepal.Length >  5.95\n",
      "|   |   |   |   |--- class: virginica\n",
      "|   |   |--- Petal.Length >  4.85\n",
      "|   |   |   |--- class: virginica\n",
      "\n",
      "Accuracy of optimal classifier: 0.99\n"
     ]
    }
   ],
   "source": [
    "# Grid search with cross-validation for iris dataset\n",
    "\n",
    "# get data\n",
    "df = pd.read_csv(home+\"iris.csv\")\n",
    "X  = df.drop(columns=['id','Species'])\n",
    "y = df[['Species']]\n",
    "\n",
    "# setting up grid search\n",
    "model = tree.DecisionTreeClassifier(random_state=1)\n",
    "param_grid = {\n",
    "    'max_depth': list(range(1,11)),               # search 1..10\n",
    "    'criterion': ['entropy', 'gini', 'log_loss']  # search different split crit.\n",
    "    }\n",
    "grid = model_selection.GridSearchCV(model, \n",
    "                                    param_grid, \n",
    "                                    cv=5)\n",
    "\n",
    "# perform grid search\n",
    "grid.fit(X,y)\n",
    "\n",
    "# print out best parameters\n",
    "print(\"Best parameters: {}\".format(grid.best_params_))\n",
    "\n",
    "# print out the best model\n",
    "print(\"Best tree:\")\n",
    "print(tree.export_text(grid.best_estimator_,\n",
    "                       feature_names=list(X.columns)))\n",
    "\n",
    "# compute the accuracy of optimal classifier\n",
    "predict_y = grid.best_estimator_.predict(X)\n",
    "acc = metrics.accuracy_score(y, predict_y)\n",
    "print(\"Accuracy of optimal classifier: {:3.2f}\".format(acc))"
   ]
  },
  {
   "cell_type": "markdown",
   "metadata": {
    "id": "nC4tZjaJYqNL"
   },
   "source": [
    "**Note**: **Grid search is computationally very expensive!** In the example above we had three types of splitting criteria (gini/entropy/log loss) and we had 10 levels of depth.  In addition we performed 5-fold cross-validation for each parameter combination.  Doing the math , we built $3{\\times}10{\\times}5 = 150$ models for the grid search. Building 150 decision trees is not so problematic, the problem really arises when we use computationally expensive models like neural networks."
   ]
  },
  {
   "cell_type": "markdown",
   "metadata": {
    "id": "-dAakZWcYqNL"
   },
   "source": [
    "# Model Accuracy Reexamined\n",
    "\n",
    "The accuracy score for classifiers we have been looking at so far is a good first look at the \n",
    "performance of a classifier.  However, for sensitive classification tasks like biomedical applications\n",
    "we would like to understand the errors a classifier makes a little bit better.\n",
    "\n",
    "Consider a classification problem with two classes, then we can observe the following outcomes of a prediction of a classification model:\n",
    "\n",
    ">**true positive (TP)** -- predicted positive coincides with actual positive\n",
    ">\n",
    ">**true negative (TN)** -- predicted negative coincides with actual negative\n",
    ">\n",
    ">**false positive (FP)** -- predicted positive but actual negative (Type I error)\n",
    ">\n",
    ">**false negative (FN)** -- predicted negative but actual positive (Type II error)\n",
    ">\n",
    "\n",
    "**Observation**: Two types of errors possible!\n",
    "\n",
    "The distinction between these two types of errors is extremely important.  Consider a biomedical diagnostic\n",
    "decision model predicting the presence of a disease.  A false positive tends to not be problematic in this context because it will simply lead to more tests until it is discovered that the model make a false positive prediction.  The false negative prediction is much more troublesome; the patient is told to be disease free when in fact they are not.  Therefore, practitioners who build models for these kind of sensitive applications try to minimize false negative predictions of the models as much as possible.\n"
   ]
  },
  {
   "cell_type": "markdown",
   "metadata": {
    "id": "W3LEtcjRYqNL"
   },
   "source": [
    "### The Confusion Matrix\n",
    "\n",
    "An easy way to visualize the four outcomes of a binary decision model is the **confusion matrix**.\n",
    "* We can arrange the predictions in a matrix form\n",
    "* Errors will show up as values outside the major diagonal"
   ]
  },
  {
   "cell_type": "markdown",
   "metadata": {
    "id": "Ws6mbE8TYqNL"
   },
   "source": [
    "<img src=\"https://raw.githubusercontent.com/lutzhamel/ds-assets/main/assets/confusion2.png\" height=\"200\" width=\"250\">"
   ]
  },
  {
   "cell_type": "markdown",
   "metadata": {
    "id": "b0g6hVA9YqNM"
   },
   "source": [
    "## The Wisconsin Breast Cancer Data Set\n",
    "\n",
    "Let's look at the performance of a tree model for the Wisconsin Breast Cancer Dataset using a confusion matrix."
   ]
  },
  {
   "cell_type": "code",
   "execution_count": 18,
   "metadata": {
    "colab": {
     "base_uri": "https://localhost:8080/"
    },
    "executionInfo": {
     "elapsed": 3372,
     "status": "ok",
     "timestamp": 1707312238084,
     "user": {
      "displayName": "Lutz Hamel",
      "userId": "10287662568849688016"
     },
     "user_tz": 300
    },
    "id": "f3a_kG21YqNM",
    "outputId": "31763900-0c34-43a5-d9af-24b9676d97cc"
   },
   "outputs": [],
   "source": [
    "# build an optimal tree model\n",
    "\n",
    "# get data\n",
    "df = pd.read_csv(home+\"wdbc.csv\")\n",
    "\n",
    "# create our sklearn data\n",
    "X  = df.drop(columns=['ID','Diagnosis'])\n",
    "y = df[['Diagnosis']]\n",
    "\n",
    "# setting up a grid search using 5-fold CV\n",
    "model = tree.DecisionTreeClassifier(random_state=1)\n",
    "param_grid = {\n",
    "    'max_depth': list(range(1,11)),\n",
    "    'criterion': ['entropy', 'gini', 'log_loss']\n",
    "    }\n",
    "grid = model_selection.GridSearchCV(model, param_grid, cv=5)\n",
    "\n",
    "# performing grid search\n",
    "grid.fit(X,y)\n",
    "\n",
    "# create predicted values for target\n",
    "predict_y = grid.best_estimator_.predict(X)"
   ]
  },
  {
   "cell_type": "code",
   "execution_count": 19,
   "metadata": {},
   "outputs": [
    {
     "name": "stdout",
     "output_type": "stream",
     "text": [
      "     M    B\n",
      "M  210    2\n",
      "B    7  350\n"
     ]
    }
   ],
   "source": [
    "# M label top-left corner\n",
    "# we want the malignent tumor prediction to be out \"positive\"\n",
    "labels = ['M','B'] \n",
    "\n",
    "# build the confusion matrix\n",
    "cm = metrics.confusion_matrix(y,             # observed target values (rows)\n",
    "                              predict_y,     # predicted target values (columns)\n",
    "                              labels=labels) # labels for arranging the cm\n",
    "\n",
    "# cm is just an array of values, turn it into something readable\n",
    "cm_df = pd.DataFrame(cm, \n",
    "                     index=labels, \n",
    "                     columns=labels)\n",
    "\n",
    "print(cm_df)"
   ]
  },
  {
   "cell_type": "markdown",
   "metadata": {
    "id": "ZzN7cUPBgYap"
   },
   "source": [
    "We see that most of the instances lie on the major diagonal, that means the model predicted those instances correctly.  On the top line we also see that the model had 2 false negatives (predicted malignant as benign) and on the bottom line it had 7 false positives (predicted benign as malignant).\n",
    "\n"
   ]
  },
  {
   "cell_type": "markdown",
   "metadata": {},
   "source": [
    "Let's interpret this matrix in more detail.  Summing accross the rows gives us the observed target values.\n",
    "\n",
    "* M: $210+2=212$\n",
    "* B: $7+350=357$\n",
    "\n",
    "Notice that this coincides precisely with the label counts in our data,"
   ]
  },
  {
   "cell_type": "code",
   "execution_count": 20,
   "metadata": {},
   "outputs": [
    {
     "data": {
      "text/plain": [
       "Diagnosis\n",
       "B            357\n",
       "M            212\n",
       "Name: count, dtype: int64"
      ]
     },
     "execution_count": 20,
     "metadata": {},
     "output_type": "execute_result"
    }
   ],
   "source": [
    "df[['Diagnosis']].value_counts()"
   ]
  },
  {
   "cell_type": "markdown",
   "metadata": {},
   "source": [
    "This is an easy way to check that you set up your confusion matrix correcty!"
   ]
  },
  {
   "cell_type": "markdown",
   "metadata": {},
   "source": [
    "We can also retrieve our accuracy score from the confusion matrix by summing the errors\n",
    "the models makes, dividing by the total number of observations and then subtracting \n",
    "from 1,\n",
    "\n",
    "$$\n",
    "{\\rm acc} = 1 - \\frac{7+2}{210+2+7+350} = 0.98\n",
    "$$\n",
    "\n",
    "We can verify this by using the sklearn builtin,"
   ]
  },
  {
   "cell_type": "code",
   "execution_count": 21,
   "metadata": {},
   "outputs": [
    {
     "data": {
      "text/plain": [
       "0.984182776801406"
      ]
     },
     "execution_count": 21,
     "metadata": {},
     "output_type": "execute_result"
    }
   ],
   "source": [
    "metrics.accuracy_score(y, predict_y)"
   ]
  },
  {
   "cell_type": "markdown",
   "metadata": {
    "id": "ObcLj7XGvWGQ"
   },
   "source": [
    "## The Iris Data Set\n",
    "\n",
    "Here we are building a **three way confusion matrix** because we have three classification labels.  We apply our grid search to find the best model"
   ]
  },
  {
   "cell_type": "code",
   "execution_count": 22,
   "metadata": {
    "colab": {
     "base_uri": "https://localhost:8080/"
    },
    "executionInfo": {
     "elapsed": 2208,
     "status": "ok",
     "timestamp": 1707312240290,
     "user": {
      "displayName": "Lutz Hamel",
      "userId": "10287662568849688016"
     },
     "user_tz": 300
    },
    "id": "xsrwjAt-vuYh",
    "outputId": "71caefc8-7367-4a93-f06d-6f1df8cd0a2c"
   },
   "outputs": [
    {
     "name": "stdout",
     "output_type": "stream",
     "text": [
      "            setosa  versicolor  virginica\n",
      "setosa          50           0          0\n",
      "versicolor       0          50          0\n",
      "virginica        0           1         49\n"
     ]
    }
   ],
   "source": [
    "# get data\n",
    "df = pd.read_csv(home+\"iris.csv\")\n",
    "X  = df.drop(columns=['id','Species'])\n",
    "y = df[['Species']]\n",
    "\n",
    "# setting up grid search\n",
    "model = model = tree.DecisionTreeClassifier(random_state=1)\n",
    "param_grid = {\n",
    "    'max_depth': list(range(1,11)), # search 1..10\n",
    "    'criterion': ['entropy', 'gini', 'log_loss']\n",
    "    }\n",
    "grid = model_selection.GridSearchCV(model, param_grid, cv=5)\n",
    "\n",
    "# performing grid search and predict target\n",
    "grid.fit(X,y)\n",
    "predict_y = grid.best_estimator_.predict(X)\n",
    "\n",
    "# build and print the confusion matrix\n",
    "labels = ['setosa','versicolor','virginica'] # labels in alphabetic order\n",
    "cm = metrics.confusion_matrix(y,         # observed\n",
    "                              predict_y, # predicted\n",
    "                              labels=labels)\n",
    "cm_df = pd.DataFrame(cm, \n",
    "                     index=labels, \n",
    "                     columns=labels)\n",
    "print(cm_df)"
   ]
  },
  {
   "cell_type": "markdown",
   "metadata": {
    "id": "ocIWBmB0isbb"
   },
   "source": [
    "In a three-way confusion matrix we usually do not talk about false positives or negatives.  We just look for misclassifications and try to characterize them.  In our case the model makes one mistake and misclassifies a single instance of virginica as a versicolor flower."
   ]
  },
  {
   "cell_type": "markdown",
   "metadata": {
    "id": "84F_LVAOYqNM"
   },
   "source": [
    "# Reading\n",
    "\n",
    "5.3 [Hyperparameters and Model Validation](https://jakevdp.github.io/PythonDataScienceHandbook/05.03-hyperparameters-and-model-validation.html)"
   ]
  },
  {
   "cell_type": "markdown",
   "metadata": {
    "id": "ZloW_ew9YqNN"
   },
   "source": [
    "# Midterm\n",
    "\n",
    "Please refer to the midterm BrightSpace page."
   ]
  }
 ],
 "metadata": {
  "colab": {
   "provenance": [],
   "toc_visible": true
  },
  "kernelspec": {
   "display_name": "Python 3",
   "language": "python",
   "name": "python3"
  },
  "language_info": {
   "codemirror_mode": {
    "name": "ipython",
    "version": 3
   },
   "file_extension": ".py",
   "mimetype": "text/x-python",
   "name": "python",
   "nbconvert_exporter": "python",
   "pygments_lexer": "ipython3",
   "version": "3.13.1"
  }
 },
 "nbformat": 4,
 "nbformat_minor": 0
}
