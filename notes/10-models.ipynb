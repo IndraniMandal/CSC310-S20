{
 "cells": [
  {
   "cell_type": "markdown",
   "metadata": {
    "slideshow": {
     "slide_type": "slide"
    }
   },
   "source": [
    "# Models of Data\n",
    "\n",
    "We saw one model of data already -- the *Decision Tree* \n",
    "\n",
    "There are many more.  Here are a few more that are supported by scikit-learn:\n",
    "\n",
    ">Support Vector Machines, kNN, Random Forests, Linear Regression\n"
   ]
  },
  {
   "cell_type": "markdown",
   "metadata": {
    "slideshow": {
     "slide_type": "subslide"
    }
   },
   "source": [
    "## Statistical Models vs Machine Learning\n",
    "\n",
    "* Virtually no difference - more of a historical nomenclature given where the model came from (Statistics vs CS) than anything else\n",
    "\n",
    "* Some of the older stats models make assumptions on the shape (distribution) of the data they work on\n",
    "\n",
    "* To acknowledge that there is a confluence of Stats and Machine Learning we often talk about *Statistical Learning*\n",
    "\n",
    "* Here we talk about machine learning implying both statistical and computational approaches\n"
   ]
  },
  {
   "cell_type": "markdown",
   "metadata": {
    "slideshow": {
     "slide_type": "subslide"
    }
   },
   "source": [
    "## Machine Learning\n",
    "\n",
    "* Machine learning involves building models using computational approaches to help understand data. \n",
    "\n",
    "* Once these models have been fit to previously seen data, they can be used to predict and understand aspects of newly observed data.\n",
    "\n",
    "* These models exhibit features of learning because they let us draw  inferences from specific instances (data) to the general (prediction of unseen instances)\n"
   ]
  },
  {
   "cell_type": "markdown",
   "metadata": {
    "slideshow": {
     "slide_type": "subslide"
    }
   },
   "source": [
    "<!-- ![swan](assets/swans.jpg) -->\n",
    "<img src=\"assets/swans.jpg\" height=\"270\" width=\"480\">"
   ]
  },
  {
   "cell_type": "markdown",
   "metadata": {},
   "source": [
    "The [Black Swan Problem](https://en.wikipedia.org/wiki/Falsifiability) is a classic example posed by the philosopher [Karl Popper](https://en.wikipedia.org/wiki/Karl_Popper) in the early twentieth century.  It roughly states that learning/induction is always a probabilistic argument since we can only learn from a limited number of observations (D) and make generalization from those on the universe at large (X).  On a more technical level it argues this point based on *falsifiability of an hypothesis*."
   ]
  },
  {
   "cell_type": "markdown",
   "metadata": {
    "slideshow": {
     "slide_type": "subslide"
    }
   },
   "source": [
    "## Categories of Machine Learning: Supervised Learning\n",
    "\n",
    "*Supervised learning* involves modeling the relationship between measured features of data and some label associated with the data,  e.g. play tennis\n",
    "\n",
    "Once a model in this category is determined, it can be used to apply labels to new, unknown data. \n",
    "\n",
    "This is further subdivided into *classification* tasks and *regression* tasks: \n",
    "\n",
    "* classification, the labels are discrete categories, e.g. decision trees\n",
    "* regression, the labels are continuous quantities, e.g. linear regression\n"
   ]
  },
  {
   "cell_type": "markdown",
   "metadata": {
    "slideshow": {
     "slide_type": "subslide"
    }
   },
   "source": [
    "## Categories of Machine Learning: Unsupervised Learning\n",
    "\n",
    "\n",
    "*Unsupervised learning* involves modeling the features of a dataset without reference to any label, and is often described as “letting the dataset speak for itself.” \n",
    "\n",
    "These models include tasks such as *clustering* and *dimensionality reduction*: \n",
    "\n",
    "* clustering algorithms identify distinct groups of data, e.g. k-means\n",
    "* dimensionality reduction algorithms search for more succinct representations of the data, e.g. PCA\n"
   ]
  },
  {
   "cell_type": "markdown",
   "metadata": {
    "slideshow": {
     "slide_type": "subslide"
    }
   },
   "source": [
    "![class](assets/classification1.jpg)"
   ]
  },
  {
   "cell_type": "markdown",
   "metadata": {
    "slideshow": {
     "slide_type": "subslide"
    }
   },
   "source": [
    "![class](assets/classification2.jpg)"
   ]
  },
  {
   "cell_type": "markdown",
   "metadata": {},
   "source": [
    "# Simple Linear Classifier - The Perceptron\n",
    "\n",
    "The [perceptron](https://en.wikipedia.org/wiki/Perceptron) is a single neuron neural network that constructs a linear decision surface.  The learned parameters are the weights (representing the slope) and the bias term representing the 'y-offset'."
   ]
  },
  {
   "cell_type": "markdown",
   "metadata": {
    "slideshow": {
     "slide_type": "slide"
    }
   },
   "source": [
    "## The Perceptron\n",
    "\n",
    "\n",
    "<!-- ![perceptron](assets/perceptron.jpg) -->\n",
    "<img src=\"assets/perceptron.jpg\" height=\"450\" width=\"600\">"
   ]
  },
  {
   "cell_type": "markdown",
   "metadata": {
    "slideshow": {
     "slide_type": "subslide"
    }
   },
   "source": [
    "The perceptron implements the following equation:\n",
    "\n",
    "<!-- ![perceptron](assets/perceptron-eq.jpg) -->\n",
    "<img src=\"assets/perceptron-eq.jpg\" height=\"80\" width=\"600\">\n",
    "\n",
    "If you have taken linear algebra you will recognize the line/plane representation as a dot product.  The `sign` function implements the activation function of the neuron,\n",
    "```\n",
    "sign(x) = -1 if x <= 0 else 1\n",
    "```\n",
    "The symbol $\\hat{f}$ denotes the neural network model."
   ]
  },
  {
   "cell_type": "markdown",
   "metadata": {
    "slideshow": {
     "slide_type": "subslide"
    }
   },
   "source": [
    "Training a perceptron is a simple stochastic search:\n",
    "\n",
    "<!-- ![perceptron](assets/perceptron-train.jpg) -->\n",
    "<img src=\"assets/perceptron-train.jpg\"  height=\"300\" width=\"300\">\n",
    "\n",
    "This is a directed stochastic search. The `Update` function uses the *normal vector* of the decision surface w $\\bullet$ x + b as a guide in order to modify w and b."
   ]
  },
  {
   "cell_type": "markdown",
   "metadata": {
    "slideshow": {
     "slide_type": "slide"
    }
   },
   "source": [
    "### Demo - The Perceptron\n",
    "\n",
    "Perceptron learning a decision surface.\n",
    "\n"
   ]
  },
  {
   "cell_type": "markdown",
   "metadata": {},
   "source": [
    "Let's build a perceptron using Sci-Kit Learn."
   ]
  },
  {
   "cell_type": "code",
   "execution_count": 1,
   "metadata": {
    "collapsed": true,
    "slideshow": {
     "slide_type": "fragment"
    }
   },
   "outputs": [],
   "source": [
    "%matplotlib inline\n",
    "import matplotlib.pyplot as plt\n",
    "import numpy as np\n",
    "import pandas\n",
    "from sklearn.metrics import accuracy_score\n",
    "from sklearn.utils import shuffle"
   ]
  },
  {
   "cell_type": "code",
   "execution_count": 2,
   "metadata": {},
   "outputs": [],
   "source": [
    "# prepare our data - just grab the two independent variables from the Iris dataset that mattered\n",
    "# in addition to the target.\n",
    "iris_df = pandas.read_csv(\"assets/iris.csv\")\n",
    "shrink_df = iris_df[['Petal.Width','Petal.Length','Species']]\n",
    "\n",
    "# The perceptron can only deal with two labels at a \n",
    "# time so drop one of them: virginica\n",
    "model_df = shrink_df[shrink_df.Species != 'virginica']\n",
    "\n",
    "# feature matrix and target vector\n",
    "model_features_df = model_df[['Petal.Length','Petal.Width']]\n",
    "# neural networks can only deal with numerical target values,\n",
    "# recode the labels as numerical values\n",
    "f = (lambda x: 1 if x == 'setosa' else -1)\n",
    "model_target_df = model_df['Species'].apply(f)"
   ]
  },
  {
   "cell_type": "code",
   "execution_count": 3,
   "metadata": {},
   "outputs": [
    {
     "name": "stdout",
     "output_type": "stream",
     "text": [
      "Our model accuracy is: 1.0\n"
     ]
    },
    {
     "name": "stderr",
     "output_type": "stream",
     "text": [
      "/Users/lutz/anaconda/lib/python3.6/site-packages/sklearn/linear_model/stochastic_gradient.py:84: FutureWarning: max_iter and tol parameters have been added in <class 'sklearn.linear_model.perceptron.Perceptron'> in 0.19. If both are left unset, they default to max_iter=5 and tol=None. If tol is not None, max_iter defaults to max_iter=1000. From 0.21, default max_iter will be 1000, and default tol will be 1e-3.\n",
      "  \"and default tol will be 1e-3.\" % type(self), FutureWarning)\n"
     ]
    }
   ],
   "source": [
    "# build and fit the perceptron model\n",
    "from sklearn.linear_model import Perceptron\n",
    "model = Perceptron()\n",
    "model.fit(model_features_df, model_target_df)\n",
    "\n",
    "# model accuracy\n",
    "predict_array = model.predict(model_features_df)      # produces an array of labels\n",
    "predicted_values = pandas.DataFrame(predict_array)  # turn it into a DF\n",
    "predicted_values.columns = ['Species']          # name the column - same name as in target!\n",
    "print(\"Our model accuracy is: {}\".format(accuracy_score(model_target_df, predicted_values)))"
   ]
  },
  {
   "cell_type": "code",
   "execution_count": 4,
   "metadata": {},
   "outputs": [
    {
     "data": {
      "text/plain": [
       "[<matplotlib.lines.Line2D at 0x11b1f7cf8>]"
      ]
     },
     "execution_count": 4,
     "metadata": {},
     "output_type": "execute_result"
    },
    {
     "data": {
      "image/png": "[encoded data removed]",
      "text/plain": [
       "<matplotlib.figure.Figure at 0x117ecf470>"
      ]
     },
     "metadata": {},
     "output_type": "display_data"
    }
   ],
   "source": [
    "# compute the model in terms that we can plot\n",
    "slope = - model.coef_[0][0]/model.coef_[0][1]\n",
    "offset = - model.intercept_[0]/model.coef_[0][1]\n",
    "\n",
    "# scatter plot of the data\n",
    "plt.plot(model_df['Petal.Length'][model_df.Species == 'setosa'],\n",
    "         model_df['Petal.Width'][model_df.Species == 'setosa'],\n",
    "         'bo')\n",
    "plt.plot(model_df['Petal.Length'][model_df.Species == 'versicolor'],\n",
    "         model_df['Petal.Width'][model_df.Species == 'versicolor'],\n",
    "         'go')\n",
    "plt.axis([0, 6, 0, 4])\n",
    "plt.xlabel('Petal.Length')\n",
    "plt.ylabel('Petal.Width')\n",
    "plt.legend(['setosa','versicolor'])\n",
    "\n",
    "# plot the model\n",
    "x_ticks = [0,6]\n",
    "y_ticks = [slope * i + offset for i in x_ticks]\n",
    "plt.plot(x_ticks,y_ticks,\"k--\")"
   ]
  },
  {
   "cell_type": "markdown",
   "metadata": {
    "slideshow": {
     "slide_type": "slide"
    }
   },
   "source": [
    "# Linear Regression"
   ]
  },
  {
   "cell_type": "markdown",
   "metadata": {},
   "source": [
    "In linear regression we try to fit a line through (x,y) data.  This line becomes an estimator that given an x value will estimate the corresponding y value.\n",
    "\n",
    "Here is an example which given the speed of a car gives the breaking distance."
   ]
  },
  {
   "cell_type": "code",
   "execution_count": 5,
   "metadata": {
    "collapsed": true,
    "slideshow": {
     "slide_type": "fragment"
    }
   },
   "outputs": [],
   "source": [
    "%matplotlib inline\n",
    "import matplotlib.pyplot as plt\n",
    "import numpy as np\n",
    "import pandas"
   ]
  },
  {
   "cell_type": "code",
   "execution_count": 6,
   "metadata": {},
   "outputs": [
    {
     "data": {
      "text/html": [
       "<div>\n",
       "<style scoped>\n",
       "    .dataframe tbody tr th:only-of-type {\n",
       "        vertical-align: middle;\n",
       "    }\n",
       "\n",
       "    .dataframe tbody tr th {\n",
       "        vertical-align: top;\n",
       "    }\n",
       "\n",
       "    .dataframe thead th {\n",
       "        text-align: right;\n",
       "    }\n",
       "</style>\n",
       "<table border=\"1\" class=\"dataframe\">\n",
       "  <thead>\n",
       "    <tr style=\"text-align: right;\">\n",
       "      <th></th>\n",
       "      <th>speed</th>\n",
       "      <th>dist</th>\n",
       "    </tr>\n",
       "  </thead>\n",
       "  <tbody>\n",
       "    <tr>\n",
       "      <th>0</th>\n",
       "      <td>4</td>\n",
       "      <td>2</td>\n",
       "    </tr>\n",
       "    <tr>\n",
       "      <th>1</th>\n",
       "      <td>4</td>\n",
       "      <td>10</td>\n",
       "    </tr>\n",
       "    <tr>\n",
       "      <th>2</th>\n",
       "      <td>7</td>\n",
       "      <td>4</td>\n",
       "    </tr>\n",
       "    <tr>\n",
       "      <th>3</th>\n",
       "      <td>7</td>\n",
       "      <td>22</td>\n",
       "    </tr>\n",
       "    <tr>\n",
       "      <th>4</th>\n",
       "      <td>8</td>\n",
       "      <td>16</td>\n",
       "    </tr>\n",
       "  </tbody>\n",
       "</table>\n",
       "</div>"
      ],
      "text/plain": [
       "   speed  dist\n",
       "0      4     2\n",
       "1      4    10\n",
       "2      7     4\n",
       "3      7    22\n",
       "4      8    16"
      ]
     },
     "execution_count": 6,
     "metadata": {},
     "output_type": "execute_result"
    }
   ],
   "source": [
    "cars_df = pandas.read_csv(\"assets/cars.csv\")\n",
    "cars_df.head()"
   ]
  },
  {
   "cell_type": "code",
   "execution_count": 7,
   "metadata": {},
   "outputs": [
    {
     "data": {
      "text/plain": [
       "<matplotlib.text.Text at 0x11b398f28>"
      ]
     },
     "execution_count": 7,
     "metadata": {},
     "output_type": "execute_result"
    },
    {
     "data": {
      "image/png": "[encoded data removed]",
      "text/plain": [
       "<matplotlib.figure.Figure at 0x117ecfb70>"
      ]
     },
     "metadata": {},
     "output_type": "display_data"
    }
   ],
   "source": [
    "plt.scatter(cars_df['speed'],cars_df['dist'])\n",
    "plt.xlabel('speed')\n",
    "plt.ylabel('dist')"
   ]
  },
  {
   "cell_type": "markdown",
   "metadata": {},
   "source": [
    "We will model the relationship between speed and distance with a linear model."
   ]
  },
  {
   "cell_type": "code",
   "execution_count": 8,
   "metadata": {
    "slideshow": {
     "slide_type": "subslide"
    }
   },
   "outputs": [
    {
     "data": {
      "text/plain": [
       "LinearRegression(copy_X=True, fit_intercept=True, n_jobs=1, normalize=False)"
      ]
     },
     "execution_count": 8,
     "metadata": {},
     "output_type": "execute_result"
    }
   ],
   "source": [
    "# pick model\n",
    "from sklearn.linear_model import LinearRegression\n",
    "model = LinearRegression(fit_intercept=True)\n",
    "# We have to reshape the values array to make 'fit' happy because\n",
    "# the array only has a single feature\n",
    "model.fit(cars_df['speed'].values.reshape(-1,1),cars_df['dist'])"
   ]
  },
  {
   "cell_type": "code",
   "execution_count": 9,
   "metadata": {
    "slideshow": {
     "slide_type": "fragment"
    }
   },
   "outputs": [
    {
     "name": "stdout",
     "output_type": "stream",
     "text": [
      "slope: 3.9324087591240873\n",
      "intercept: -17.57909489051095\n"
     ]
    }
   ],
   "source": [
    "# look at the model parameters\n",
    "print(\"slope: {}\".format(model.coef_[0]))\n",
    "print(\"intercept: {}\".format(model.intercept_))"
   ]
  },
  {
   "cell_type": "code",
   "execution_count": 10,
   "metadata": {
    "slideshow": {
     "slide_type": "subslide"
    }
   },
   "outputs": [
    {
     "data": {
      "text/plain": [
       "[<matplotlib.lines.Line2D at 0x11b2baeb8>]"
      ]
     },
     "execution_count": 10,
     "metadata": {},
     "output_type": "execute_result"
    },
    {
     "data": {
      "image/png": "[encoded data removed]",
      "text/plain": [
       "<matplotlib.figure.Figure at 0x11b2baf60>"
      ]
     },
     "metadata": {},
     "output_type": "display_data"
    }
   ],
   "source": [
    "# plot the model ontop of the data\n",
    "plt.scatter(cars_df['speed'],cars_df['dist'])\n",
    "plt.xlabel('speed')\n",
    "plt.ylabel('dist')\n",
    "\n",
    "x_ticks = [0,25]\n",
    "y_ticks = [model.coef_[0] * i + model.intercept_ for i in x_ticks]\n",
    "plt.plot(x_ticks,y_ticks,\"r-\")\n"
   ]
  },
  {
   "cell_type": "markdown",
   "metadata": {
    "slideshow": {
     "slide_type": "subslide"
    }
   },
   "source": [
    "# Regression Model Evaluation\n",
    "\n",
    "Regression models do not have a notion of **classification accuracy** as we saw with trees but they have an [$R^2$ score](https://en.wikipedia.org/wiki/Coefficient_of_determination) - the closer to 1.0 the score the better the model. \n"
   ]
  },
  {
   "cell_type": "code",
   "execution_count": 11,
   "metadata": {
    "slideshow": {
     "slide_type": "fragment"
    }
   },
   "outputs": [
    {
     "name": "stdout",
     "output_type": "stream",
     "text": [
      "R^2 score: 0.6510793807582509\n"
     ]
    }
   ],
   "source": [
    "# compute the R^2 score \n",
    "print(\"R^2 score: {}\".format(model.score(cars_df['speed'].values.reshape(-1,1),cars_df['dist'])))\n"
   ]
  },
  {
   "cell_type": "markdown",
   "metadata": {},
   "source": [
    "Not that great.  The low score is mainly due to the fact of the large errors (also called residuals) at the higher end of the speed spectrum.  The problem is that the data probably does not follow a linear relationship between speed and braking distance.  Let's try a different (non-linear) regression model to see if it can pick up this non-linear relationship."
   ]
  },
  {
   "cell_type": "markdown",
   "metadata": {
    "slideshow": {
     "slide_type": "subslide"
    }
   },
   "source": [
    "## Non-Linear Regression: Regression Trees"
   ]
  },
  {
   "cell_type": "code",
   "execution_count": 12,
   "metadata": {},
   "outputs": [
    {
     "name": "stdout",
     "output_type": "stream",
     "text": [
      "R^2 score: 0.7921021699717283\n"
     ]
    },
    {
     "data": {
      "image/png": "[encoded data removed]",
      "text/plain": [
       "<matplotlib.figure.Figure at 0x11b4f0080>"
      ]
     },
     "metadata": {},
     "output_type": "display_data"
    }
   ],
   "source": [
    "%matplotlib inline\n",
    "import matplotlib.pyplot as plt\n",
    "import numpy as np\n",
    "import pandas\n",
    "\n",
    "# get our dataset\n",
    "cars_df = pandas.read_csv(\"assets/cars.csv\")\n",
    "\n",
    "# pick model\n",
    "from sklearn.tree import DecisionTreeRegressor\n",
    "model = DecisionTreeRegressor(max_depth=None)\n",
    "# We have to reshape the values array to make 'fit' happy because\n",
    "# the array only has a single feature\n",
    "model.fit(cars_df['speed'].values.reshape(-1,1),cars_df['dist'])\n",
    "\n",
    "# plot the model ontop of the data\n",
    "plt.scatter(cars_df['speed'],cars_df['dist'])\n",
    "plt.xlabel('speed')\n",
    "plt.ylabel('dist')\n",
    "\n",
    "x_ticks = np.arange(0,25.0,0.1)\n",
    "y_ticks = model.predict(x_ticks.reshape(-1, 1))\n",
    "plt.plot(x_ticks,y_ticks,\"r-\")\n",
    "\n",
    "# compute the R^2 score \n",
    "print(\"R^2 score: {}\".format(model.score(cars_df['speed'].values.reshape(-1,1),cars_df['dist'])))\n"
   ]
  },
  {
   "cell_type": "markdown",
   "metadata": {
    "slideshow": {
     "slide_type": "subslide"
    }
   },
   "source": [
    "# Scikit-Learn Models\n",
    "\n",
    "Scikit-Learn has a \"standardized\" view of how to build models and evaluate them:\n",
    "\n",
    "1. Prepare your data (using Pandas)\n",
    "  * `pd.read_csv`\n",
    "  * `df.drop`\n",
    "  * `df.head`\n",
    "1. Pick your model and instantiate the model object, e.g.\n",
    "  * decision trees: `tree.DecisionTreeClassifier(criterion='entropy')`\n",
    "  * linear models: `LinearRegression(fit_intercept=True)`\n",
    "1. Fit your model: the `fit` function.\n",
    "1. Evaluate your model:\n",
    "  * decision trees: `accuracy_score`\n",
    "  * linear models ($R^2$-score): `score`"
   ]
  },
  {
   "cell_type": "markdown",
   "metadata": {
    "slideshow": {
     "slide_type": "slide"
    }
   },
   "source": [
    "# Models\n",
    "\n",
    "In machine learning we focus on *model performance* rather than looking at the internal model parameters.\n",
    "\n",
    "For example, from a machine learning perspective in linear models the most important part is the $R^2$ score, the internal model coefficients are really coincidental and are only used to visualize the model.\n",
    "\n",
    "We see this approach throughout all of the models we will be looking at.  Furthermore, some machine learning models simply do not have useful model parameters to look at, *e.g.*, neural networks."
   ]
  }
 ],
 "metadata": {
  "kernelspec": {
   "display_name": "Python 3",
   "language": "python",
   "name": "python3"
  },
  "language_info": {
   "codemirror_mode": {
    "name": "ipython",
    "version": 3
   },
   "file_extension": ".py",
   "mimetype": "text/x-python",
   "name": "python",
   "nbconvert_exporter": "python",
   "pygments_lexer": "ipython3",
   "version": "3.6.1"
  }
 },
 "nbformat": 4,
 "nbformat_minor": 2
}
