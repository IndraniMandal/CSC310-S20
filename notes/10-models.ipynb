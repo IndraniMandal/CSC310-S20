{
 "cells": [
  {
   "cell_type": "code",
   "execution_count": 1,
   "metadata": {
    "colab": {
     "base_uri": "https://localhost:8080/"
    },
    "executionInfo": {
     "elapsed": 3222,
     "status": "ok",
     "timestamp": 1709256454655,
     "user": {
      "displayName": "Lutz Hamel",
      "userId": "10287662568849688016"
     },
     "user_tz": 300
    },
    "id": "HU4CPhDWYEzN",
    "outputId": "47a2dd8a-2b96-4bcc-91b5-1b0f67e7be2d"
   },
   "outputs": [
    {
     "name": "stdout",
     "output_type": "stream",
     "text": [
      "Already up to date.\n"
     ]
    }
   ],
   "source": [
    "###### Config #####\n",
    "import sys, os, platform\n",
    "if os.path.isdir(\"ds-assets\"):\n",
    "  !cd ds-assets && git pull\n",
    "else:\n",
    "  !git clone https://github.com/lutzhamel/ds-assets.git\n",
    "colab = True if 'google.colab' in os.sys.modules else False\n",
    "system = platform.system() # \"Windows\", \"Linux\", \"Darwin\"\n",
    "home = \"ds-assets/assets/\"\n",
    "sys.path.append(home)  "
   ]
  },
  {
   "cell_type": "code",
   "execution_count": 2,
   "metadata": {},
   "outputs": [],
   "source": [
    "# notebook level imports\n",
    "import pandas\n",
    "from sklearn import linear_model \n",
    "from sklearn import tree\n",
    "from sklearn import metrics      \n",
    "import seaborn as sns; sns.set_theme()"
   ]
  },
  {
   "cell_type": "markdown",
   "metadata": {
    "id": "PiR45nYVYEzP"
   },
   "source": [
    "# Models of Data\n",
    "\n",
    "For supervised learning models usually fall into one of two\n",
    "classes:\n",
    "\n",
    "* **Classification** - classify a set of objects into several  classes or categories\n",
    "\n",
    "* **Regression** - estimate a function given a set of example points\n"
   ]
  },
  {
   "cell_type": "markdown",
   "metadata": {
    "id": "TXdAouvzYEzQ"
   },
   "source": [
    "# Statistical Models vs Machine Learning\n",
    "\n",
    "* Virtually no difference - more of a historical nomenclature given where the model came from (Statistics vs CS) than anything else\n",
    "\n",
    "* Some of the older stats models make assumptions on the shape (distribution) of the data they work on\n",
    "\n",
    "* To acknowledge that there is a confluence of Stats and Machine Learning we often talk about *Statistical Learning*\n",
    "\n",
    "* Here, when we talk about machine learning we mean both statistical and computational approaches\n"
   ]
  },
  {
   "cell_type": "markdown",
   "metadata": {
    "id": "_x2RN24c4tPU"
   },
   "source": [
    "# Classification Revisited\n",
    "\n",
    "Up till now we have studied the decision tree which is an example of a classification model.\n",
    "We have looked at the classic tree visualization of the model. For example, the decision tree limited to a depth of 2 for the iris dataset,\n",
    "\n",
    "<pre>\n",
    "|--- Petal.Length <= 2.45\n",
    "|   |--- class: setosa\n",
    "|--- Petal.Length >  2.45\n",
    "|   |--- Petal.Width <= 1.75\n",
    "|   |   |--- class: versicolor\n",
    "|   |--- Petal.Width >  1.75\n",
    "|   |   |--- class: virginica\n",
    "</pre>\n",
    "\n",
    "We visualized this tree model as the piecewise linear model using a scatter plot,\n",
    "\n",
    "<img src=\"https://raw.githubusercontent.com/lutzhamel/ds-assets/main/assets/tree-viz.png\" height=\"240\" width=\"400\">\n",
    "\n",
    "Because decision tree models are composed of multiple linear decision surfaces -- lines that separate data points of different classes -- we call decision tree models often **piecewise linear models**."
   ]
  },
  {
   "cell_type": "markdown",
   "metadata": {
    "id": "CeYyTwUWFYQI"
   },
   "source": [
    "## Simple Linear Classifiers\n",
    "\n",
    "In classification problems involving two labels or classes where the data points of each of the classes form simple, non-overlapping clusters the classes can be separated by a  **linear decision surface** (a line or a plane).  The following is a typical scenario.\n",
    "\n",
    "<img src=\"https://raw.githubusercontent.com/lutzhamel/ds-assets/main/assets/classification2.jpg\" height=\"300\" width=\"300\">\n"
   ]
  },
  {
   "cell_type": "markdown",
   "metadata": {
    "id": "ZrCsFYArYEzT"
   },
   "source": [
    "## The Perceptron\n",
    "\n",
    "The [perceptron](https://en.wikipedia.org/wiki/Perceptron) is a particularly interesting classifier which consists of single neuron neural network and constructs a linear decision surface.  "
   ]
  },
  {
   "cell_type": "markdown",
   "metadata": {
    "id": "MiZrGAqaYEzU"
   },
   "source": [
    "\n",
    "\n",
    "<!-- ![perceptron](assets/perceptron.jpg) -->\n",
    "<img src=\"https://raw.githubusercontent.com/lutzhamel/ds-assets/main/assets/perceptron.jpg\" height=\"300\" width=\"500\">"
   ]
  },
  {
   "cell_type": "markdown",
   "metadata": {
    "id": "cIzOKcrvYEzU"
   },
   "source": [
    "The weights $w_i$ and the bias term $b$ are called the **free parameters** which are the values the perceptron training algorithm has to determine for each dataset. The perceptron implements the following equation:\n",
    "\n",
    "<!-- ![perceptron](assets/perceptron-eq.jpg) -->\n",
    "<img src=\"https://raw.githubusercontent.com/lutzhamel/ds-assets/main/assets/perceptron-eq.jpg\" height=\"80\" width=\"450\">\n",
    "\n",
    "If you have taken linear algebra you will recognize the line/plane representation as a dot product.  The ${\\rm sign}$ function implements the activation function of the neuron,\n",
    "\n",
    "$$\n",
    "{\\rm sign}(x) = -1 \\,\\,{\\rm if}\\,\\, x \\le 0 \\,\\,{\\rm else}\\,\\, 1\n",
    "$$\n",
    "\n",
    "The symbol $\\hat{f}$ denotes the neural network model."
   ]
  },
  {
   "cell_type": "markdown",
   "metadata": {
    "id": "Oz9df5VPYEzU"
   },
   "source": [
    "The training algorithm is a simple **directed search**:\n",
    "\n",
    "<!-- ![perceptron](assets/perceptron-train.jpg) -->\n",
    "<img src=\"https://raw.githubusercontent.com/lutzhamel/ds-assets/main/assets/perceptron-train.jpg\"  height=\"250\" width=\"280\">\n",
    "\n",
    "More precisely, this is a directed search in that the `Update` step uses the *normal vector* $\\bar{w}$ of the decision surface $\\bar{w} \\bullet \\bar{x} + b$ as a guide in order to modify $\\bar{w}$ and $\\bar{b}$."
   ]
  },
  {
   "cell_type": "markdown",
   "metadata": {
    "id": "R7RX6UBFYEzV"
   },
   "source": [
    "## Perceptron Learning\n",
    "\n",
    "Perceptron learning a decision surface.\n",
    "\n",
    "\n",
    "\n",
    "<img src=\"https://raw.githubusercontent.com/lutzhamel/ds-assets/main/assets/perceptron-learning.gif\"  height=\"400\" width=\"500\">\n",
    "\n",
    "**Observation**: The training algorithm searches the space of all possible decision surfaces in order to find one that separates the two classes correctly.\n",
    "\n",
    "<img src=\"https://raw.githubusercontent.com/lutzhamel/ds-assets/main/assets/perceptron-search.png\"  height=\"400\" width=\"500\">\n"
   ]
  },
  {
   "cell_type": "markdown",
   "metadata": {
    "id": "2hkiOm_IYEzV"
   },
   "source": [
    "## Building a Perceptron\n",
    "\n",
    "Let's build some perceptrons using Sci-Kit Learn.  Let's build a perceptron that classifies our iris flowers."
   ]
  },
  {
   "cell_type": "code",
   "execution_count": 3,
   "metadata": {
    "executionInfo": {
     "elapsed": 2,
     "status": "ok",
     "timestamp": 1709256457962,
     "user": {
      "displayName": "Lutz Hamel",
      "userId": "10287662568849688016"
     },
     "user_tz": 300
    },
    "id": "oijZtb7ZnQ1s"
   },
   "outputs": [],
   "source": [
    "# prepare our data\n",
    "iris_df = pandas.read_csv(home+\"iris.csv\")\n",
    "\n",
    "# The perceptron can only deal with two labels at a\n",
    "# time so drop one of them: virginica\n",
    "model_df = iris_df[iris_df.Species != 'virginica']"
   ]
  },
  {
   "cell_type": "code",
   "execution_count": 4,
   "metadata": {
    "executionInfo": {
     "elapsed": 1,
     "status": "ok",
     "timestamp": 1709256457962,
     "user": {
      "displayName": "Lutz Hamel",
      "userId": "10287662568849688016"
     },
     "user_tz": 300
    },
    "id": "SgEgPxpInVEB"
   },
   "outputs": [],
   "source": [
    "# training data\n",
    "X = model_df.drop(columns=['Species'])\n",
    "y = model_df['Species']"
   ]
  },
  {
   "cell_type": "code",
   "execution_count": 5,
   "metadata": {
    "colab": {
     "base_uri": "https://localhost:8080/"
    },
    "executionInfo": {
     "elapsed": 235,
     "status": "ok",
     "timestamp": 1709256458196,
     "user": {
      "displayName": "Lutz Hamel",
      "userId": "10287662568849688016"
     },
     "user_tz": 300
    },
    "id": "rZxVU_6AnZCO",
    "outputId": "74b5b8d3-330b-4739-db4b-0854620037f9"
   },
   "outputs": [
    {
     "name": "stdout",
     "output_type": "stream",
     "text": [
      "Our model accuracy is: 100.0%\n"
     ]
    }
   ],
   "source": [
    "# build and fit the perceptron model\n",
    "model = linear_model.Perceptron().fit(X, y)\n",
    "\n",
    "# model accuracy\n",
    "print(\"Our model accuracy is: {}%\"\n",
    "      .format(model.score(X,y)*100))"
   ]
  },
  {
   "cell_type": "markdown",
   "metadata": {
    "id": "YDcp_4D9naj3"
   },
   "source": [
    "The nice thing about perceptrons is that we can easily plot them.  Let's build a perceptron just on two variables so we can visualize it.  The two variables are the variables the tree model selected as most predictive.  \n",
    "\n",
    "**NOTE**: The following construction is **only** for the purpose of visualization.  For the proper perceptron see the above code."
   ]
  },
  {
   "cell_type": "code",
   "execution_count": 6,
   "metadata": {
    "executionInfo": {
     "elapsed": 4,
     "status": "ok",
     "timestamp": 1709256458197,
     "user": {
      "displayName": "Lutz Hamel",
      "userId": "10287662568849688016"
     },
     "user_tz": 300
    },
    "id": "AMJsI3_tYEzV"
   },
   "outputs": [],
   "source": [
    "# feature matrix\n",
    "# we only include the two variables that appeared in our tree model\n",
    "# in the previous notebook:\n",
    "# |--- Petal.Length <= 2.45\n",
    "# |   |--- class: setosa\n",
    "# |--- Petal.Length >  2.45\n",
    "# |   |--- Petal.Width <= 1.75\n",
    "# |   |   |--- class: versicolor\n",
    "# |   |--- Petal.Width >  1.75\n",
    "# |   |   |--- class: virginica\n",
    "\n",
    "X = model_df[['Petal.Length','Petal.Width']]\n",
    "\n",
    "# target vector\n",
    "# recode the labels as numerical values so we can plot\n",
    "# more easily.\n",
    "f = (lambda x: 1 if x == 'setosa' else -1)\n",
    "y = model_df['Species'].apply(f)"
   ]
  },
  {
   "cell_type": "code",
   "execution_count": 7,
   "metadata": {
    "colab": {
     "base_uri": "https://localhost:8080/"
    },
    "executionInfo": {
     "elapsed": 4,
     "status": "ok",
     "timestamp": 1709256458197,
     "user": {
      "displayName": "Lutz Hamel",
      "userId": "10287662568849688016"
     },
     "user_tz": 300
    },
    "id": "ouYKrWbTYEzW",
    "outputId": "075c7993-fa56-45c5-9141-b3b68b33b317"
   },
   "outputs": [
    {
     "name": "stdout",
     "output_type": "stream",
     "text": [
      "Our model accuracy is: 100.0%\n"
     ]
    }
   ],
   "source": [
    "# build and fit the perceptron model\n",
    "model = linear_model.Perceptron().fit(X, y)\n",
    "\n",
    "# model accuracy\n",
    "print(\"Our model accuracy is: {}%\"\n",
    "      .format(model.score(X,y)*100))"
   ]
  },
  {
   "cell_type": "code",
   "execution_count": 8,
   "metadata": {
    "colab": {
     "base_uri": "https://localhost:8080/",
     "height": 510
    },
    "executionInfo": {
     "elapsed": 1864,
     "status": "ok",
     "timestamp": 1709256460059,
     "user": {
      "displayName": "Lutz Hamel",
      "userId": "10287662568849688016"
     },
     "user_tz": 300
    },
    "id": "AMhRPr5GYEzW",
    "outputId": "fb460fb6-5104-45e5-82ac-773a9cb1a1e4"
   },
   "outputs": [
    {
     "name": "stdout",
     "output_type": "stream",
     "text": [
      "slope: -0.90\n",
      "intercept: 3.00\n"
     ]
    },
    {
     "data": {
      "text/plain": [
       "<Axes: xlabel='Petal.Length', ylabel='Petal.Width'>"
      ]
     },
     "execution_count": 8,
     "metadata": {},
     "output_type": "execute_result"
    },
    {
     "data": {
      "image/png": "[encoded data removed]",
      "text/plain": [
       "<Figure size 640x480 with 1 Axes>"
      ]
     },
     "metadata": {},
     "output_type": "display_data"
    }
   ],
   "source": [
    "# plot the model\n",
    "# compute the model in terms that we can plot\n",
    "slope = model.coef_[0][0]\n",
    "intercept = model.intercept_[0]\n",
    "print(\"slope: {:3.2f}\".format(slope))\n",
    "print(\"intercept: {:3.2f}\".format(intercept))\n",
    "\n",
    "# scatter plot of the data\n",
    "sns.scatterplot(model_df, \n",
    "                x='Petal.Length', \n",
    "                y='Petal.Width', \n",
    "                hue='Species')\n",
    "\n",
    "# plot the model on top of the data\n",
    "x_ticks = [0,6]\n",
    "y_ticks = [slope * i + intercept for i in x_ticks]\n",
    "sns.lineplot(x=x_ticks, \n",
    "             y=y_ticks, \n",
    "             color='red')"
   ]
  },
  {
   "cell_type": "markdown",
   "metadata": {
    "id": "Vb_OMhV2W3bh"
   },
   "source": [
    "As expected, we see that the model perfectly separates the two classes."
   ]
  },
  {
   "cell_type": "markdown",
   "metadata": {},
   "source": [
    "**Observation**: The perceptron can only separate points of two classes as long as the two classes are non-overlapping.  The decision tree can separate an arbitrary number of classes and there is no requirement that they are non-overlapping."
   ]
  },
  {
   "cell_type": "markdown",
   "metadata": {
    "id": "af38IWMRTWri"
   },
   "source": [
    "# Regression\n",
    "\n",
    "In regression problems we try to model continuous values rather than classifying a set of discrete values."
   ]
  },
  {
   "cell_type": "markdown",
   "metadata": {
    "id": "XiIxfatMYEzX"
   },
   "source": [
    "## Simple Linear Regression"
   ]
  },
  {
   "cell_type": "markdown",
   "metadata": {
    "id": "M2LwPB5-YEzX"
   },
   "source": [
    "In simple linear regression we try to fit a line to data with a single independent numeric variable (x-axis) and a single dependent numeric variable (y-axis),\n",
    "<br>\n",
    "<br>\n",
    "\n",
    "<center>\n",
    "<img src=\"https://raw.githubusercontent.com/lutzhamel/ds-assets/main/assets/linreg-scatter.png\"  height=\"400\" width=\"450\">\n",
    "</center>\n",
    "\n",
    "[source](https://towardsdatascience.com/mathematics-hidden-behind-linear-regression-431fe4d11969)\n",
    "\n",
    "The distances of the training points to the line (indicated by the vertical lines) are called **residuals** and represent the error the model makes when modeling the training data.  Given this, simple linear regression can be formalized as an optimization problem over the residuals,\n",
    "<br>\n",
    "<br>\n",
    "$$\n",
    "\\Large\n",
    "min_{a,b}\\,\\, \\Sigma_i (f(x_i) -y_i)^2\n",
    "$$\n",
    "\n",
    "<br>\n",
    "<br>\n",
    "\n",
    "where $f(x_i) = a\\times x_i + b$ represents the regression model (a line) with the two free parameters $a$ (the slope) and $b$ (the offset).  The quantity $f(x_i) - y_i$ is the residual for training point $(x_i,y_i)$. That is, it is the difference between the value computed by the model, $f(x_i)$, and the given value $y_i$\n",
    "\n",
    "We can paraphrase the above optimization problem as,\n",
    "\n",
    "> Using the free parameters $a$ and $b$ minimize the sum square of the residuals.\n",
    "\n",
    "Below is an illustration of the effects of the parameters $a$ and $b$ on the sum square of the residuals (SS_resid).\n"
   ]
  },
  {
   "cell_type": "markdown",
   "metadata": {
    "id": "PTlkwCcJJy0R"
   },
   "source": [
    "<br>\n",
    "<br>\n",
    "<center>\n",
    "<img src=\"https://raw.githubusercontent.com/lutzhamel/ds-assets/main/assets/linear-regression.gif\"  height=\"400\" width=\"650\">\n",
    "</center>\n",
    "<br>\n",
    "<br>\n",
    "\n",
    "[source](https://bookdown.org/ybrandvain/Applied-Biostats/linreg.html#the-regression-as-a-linear-model)\n"
   ]
  },
  {
   "cell_type": "markdown",
   "metadata": {
    "id": "6AlxQRWgSh9x"
   },
   "source": [
    "**Observation**: When the line is blue the residuals are minimized."
   ]
  },
  {
   "cell_type": "markdown",
   "metadata": {
    "id": "5OVcLnIJJyWi"
   },
   "source": [
    "Let's work through an example. Here is an example which given the speed of a car (as a numeric value) gives the breaking distance (as a numeric value)."
   ]
  },
  {
   "cell_type": "code",
   "execution_count": 9,
   "metadata": {
    "colab": {
     "base_uri": "https://localhost:8080/",
     "height": 206
    },
    "executionInfo": {
     "elapsed": 8,
     "status": "ok",
     "timestamp": 1709256460059,
     "user": {
      "displayName": "Lutz Hamel",
      "userId": "10287662568849688016"
     },
     "user_tz": 300
    },
    "id": "xNzFNfPDYEzX",
    "outputId": "4164eb90-9ad5-4eb3-97c4-a8bf55939e56"
   },
   "outputs": [
    {
     "data": {
      "text/html": [
       "<div>\n",
       "<style scoped>\n",
       "    .dataframe tbody tr th:only-of-type {\n",
       "        vertical-align: middle;\n",
       "    }\n",
       "\n",
       "    .dataframe tbody tr th {\n",
       "        vertical-align: top;\n",
       "    }\n",
       "\n",
       "    .dataframe thead th {\n",
       "        text-align: right;\n",
       "    }\n",
       "</style>\n",
       "<table border=\"1\" class=\"dataframe\">\n",
       "  <thead>\n",
       "    <tr style=\"text-align: right;\">\n",
       "      <th></th>\n",
       "      <th>speed</th>\n",
       "      <th>dist</th>\n",
       "    </tr>\n",
       "  </thead>\n",
       "  <tbody>\n",
       "    <tr>\n",
       "      <th>0</th>\n",
       "      <td>4</td>\n",
       "      <td>2</td>\n",
       "    </tr>\n",
       "    <tr>\n",
       "      <th>1</th>\n",
       "      <td>4</td>\n",
       "      <td>10</td>\n",
       "    </tr>\n",
       "    <tr>\n",
       "      <th>2</th>\n",
       "      <td>7</td>\n",
       "      <td>4</td>\n",
       "    </tr>\n",
       "    <tr>\n",
       "      <th>3</th>\n",
       "      <td>7</td>\n",
       "      <td>22</td>\n",
       "    </tr>\n",
       "    <tr>\n",
       "      <th>4</th>\n",
       "      <td>8</td>\n",
       "      <td>16</td>\n",
       "    </tr>\n",
       "  </tbody>\n",
       "</table>\n",
       "</div>"
      ],
      "text/plain": [
       "   speed  dist\n",
       "0      4     2\n",
       "1      4    10\n",
       "2      7     4\n",
       "3      7    22\n",
       "4      8    16"
      ]
     },
     "execution_count": 9,
     "metadata": {},
     "output_type": "execute_result"
    }
   ],
   "source": [
    "cars_df = pandas.read_csv(home+\"cars.csv\")\n",
    "cars_df.head()"
   ]
  },
  {
   "cell_type": "markdown",
   "metadata": {
    "id": "dboMtObRXiMy"
   },
   "source": [
    "We can create a scatter plot of the dependent and independent variables to get a better feel for what's going on."
   ]
  },
  {
   "cell_type": "code",
   "execution_count": 10,
   "metadata": {
    "colab": {
     "base_uri": "https://localhost:8080/",
     "height": 475
    },
    "executionInfo": {
     "elapsed": 750,
     "status": "ok",
     "timestamp": 1709256460803,
     "user": {
      "displayName": "Lutz Hamel",
      "userId": "10287662568849688016"
     },
     "user_tz": 300
    },
    "id": "LzJIxfMuYEzY",
    "outputId": "46f2b3ef-ee3a-4635-9565-5d7432343485"
   },
   "outputs": [
    {
     "data": {
      "text/plain": [
       "<Axes: xlabel='speed', ylabel='dist'>"
      ]
     },
     "execution_count": 10,
     "metadata": {},
     "output_type": "execute_result"
    },
    {
     "data": {
      "image/png": "[encoded data removed]",
      "text/plain": [
       "<Figure size 640x480 with 1 Axes>"
      ]
     },
     "metadata": {},
     "output_type": "display_data"
    }
   ],
   "source": [
    "sns.scatterplot(cars_df, \n",
    "                x='speed', \n",
    "                y='dist')"
   ]
  },
  {
   "cell_type": "markdown",
   "metadata": {
    "id": "YLa03KXqYEzY"
   },
   "source": [
    "We will model the relationship between speed and\n",
    "distance with a linear regression model."
   ]
  },
  {
   "cell_type": "code",
   "execution_count": 11,
   "metadata": {
    "colab": {
     "base_uri": "https://localhost:8080/",
     "height": 510
    },
    "executionInfo": {
     "elapsed": 1204,
     "status": "ok",
     "timestamp": 1709256462004,
     "user": {
      "displayName": "Lutz Hamel",
      "userId": "10287662568849688016"
     },
     "user_tz": 300
    },
    "id": "H1yG_3p0YEzZ",
    "outputId": "835e9515-f204-49cf-c69f-feacb0f62266"
   },
   "outputs": [
    {
     "name": "stdout",
     "output_type": "stream",
     "text": [
      "slope: 3.93\n",
      "intercept: -17.58\n"
     ]
    },
    {
     "data": {
      "text/plain": [
       "<Axes: xlabel='speed', ylabel='dist'>"
      ]
     },
     "execution_count": 11,
     "metadata": {},
     "output_type": "execute_result"
    },
    {
     "data": {
      "image/png": "[encoded data removed]",
      "text/plain": [
       "<Figure size 640x480 with 1 Axes>"
      ]
     },
     "metadata": {},
     "output_type": "display_data"
    }
   ],
   "source": [
    "# train the model\n",
    "model = linear_model.LinearRegression()\n",
    "model.fit(cars_df[['speed']],cars_df['dist'])\n",
    "\n",
    "# look at the model parameters\n",
    "slope = model.coef_[0]\n",
    "intercept = model.intercept_\n",
    "print(\"slope: {:3.2f}\".format(slope))\n",
    "print(\"intercept: {:3.2f}\".format(intercept))\n",
    "\n",
    "# scatter plot the data\n",
    "sns.scatterplot(cars_df, \n",
    "                x='speed', \n",
    "                y='dist')\n",
    "\n",
    "# plot the model on top of the data\n",
    "x_ticks = [0,25]\n",
    "y_ticks = [slope * i + intercept for i in x_ticks]\n",
    "sns.lineplot(x=x_ticks,\n",
    "             y=y_ticks,\n",
    "             color='red')"
   ]
  },
  {
   "cell_type": "markdown",
   "metadata": {
    "id": "a5VlDtXmYEza"
   },
   "source": [
    "## Regression Model Evaluation - $R^2$ Score\n",
    "\n",
    "Regression models do not have a notion of **classification accuracy** as we saw with decision trees and perceptrons, but they have an [$R^2$ score](https://en.wikipedia.org/wiki/Coefficient_of_determination).  Here, the closer to 1.0 the score the better the model.  The $R^2$ score is a measure of the residuals of the model (we will talk more about this later).\n"
   ]
  },
  {
   "cell_type": "code",
   "execution_count": 12,
   "metadata": {
    "colab": {
     "base_uri": "https://localhost:8080/"
    },
    "executionInfo": {
     "elapsed": 213,
     "status": "ok",
     "timestamp": 1709256462215,
     "user": {
      "displayName": "Lutz Hamel",
      "userId": "10287662568849688016"
     },
     "user_tz": 300
    },
    "id": "vZPg7V3CYEza",
    "outputId": "9a8192b1-e6fa-478d-d1e3-95148009fdf9"
   },
   "outputs": [
    {
     "name": "stdout",
     "output_type": "stream",
     "text": [
      "R^2 score: 0.65\n"
     ]
    }
   ],
   "source": [
    "# compute the R^2 score\n",
    "print(\"R^2 score: {:3.2f}\"\n",
    "      .format(model.score(cars_df[['speed']],cars_df[['dist']])))"
   ]
  },
  {
   "cell_type": "markdown",
   "metadata": {
    "id": "f108WEu9YEza"
   },
   "source": [
    "Not that great.  The low score is mainly due to the fact of the large errors (also called residuals) at the higher end of the speed spectrum.  The problem is that the data probably does not follow a linear relationship between speed and braking distance.  Let's try a different (non-linear) regression model to see if it can pick up this non-linear relationship."
   ]
  },
  {
   "cell_type": "markdown",
   "metadata": {
    "id": "astsTA59YEzb"
   },
   "source": [
    "## Non-Linear Regression: Regression Trees"
   ]
  },
  {
   "cell_type": "markdown",
   "metadata": {
    "id": "sq0NAEz-lXy-"
   },
   "source": [
    "Non-linear models allow us to model data that has non-linear relationship.  In our case we suspect that speed/dist has a non-linear relationship."
   ]
  },
  {
   "cell_type": "code",
   "execution_count": 13,
   "metadata": {
    "colab": {
     "base_uri": "https://localhost:8080/",
     "height": 475
    },
    "executionInfo": {
     "elapsed": 1394,
     "status": "ok",
     "timestamp": 1709256463607,
     "user": {
      "displayName": "Lutz Hamel",
      "userId": "10287662568849688016"
     },
     "user_tz": 300
    },
    "id": "lkRJpjLEYEzb",
    "outputId": "709dfb39-1681-42d0-8cbb-700ced3d047d"
   },
   "outputs": [
    {
     "data": {
      "text/plain": [
       "<Axes: xlabel='speed', ylabel='dist'>"
      ]
     },
     "execution_count": 13,
     "metadata": {},
     "output_type": "execute_result"
    },
    {
     "data": {
      "image/png": "[encoded data removed]",
      "text/plain": [
       "<Figure size 640x480 with 1 Axes>"
      ]
     },
     "metadata": {},
     "output_type": "display_data"
    }
   ],
   "source": [
    "# get our dataset\n",
    "cars_df = pandas.read_csv(home+\"cars.csv\")\n",
    "\n",
    "# pick model\n",
    "model = tree.DecisionTreeRegressor(max_depth=None)\n",
    "model.fit(cars_df[['speed']],cars_df[['dist']])\n",
    "\n",
    "# scatter plot the data\n",
    "sns.scatterplot(cars_df, \n",
    "                x='speed', \n",
    "                y='dist')\n",
    "\n",
    "# plot the model ontop of the data\n",
    "# x_ticks: 0 to 25 in .1 increments\n",
    "x_ticks = pandas.DataFrame({'speed':list(range(0,251))}) / 10.0   \n",
    "y_ticks = pandas.DataFrame(model.predict(x_ticks), columns=['dist'])\n",
    "tree_data = pandas.concat([x_ticks,y_ticks], axis=1)\n",
    "sns.lineplot(data=tree_data,x='speed',y='dist',color='red')"
   ]
  },
  {
   "cell_type": "code",
   "execution_count": 14,
   "metadata": {
    "colab": {
     "base_uri": "https://localhost:8080/"
    },
    "executionInfo": {
     "elapsed": 5,
     "status": "ok",
     "timestamp": 1709256463607,
     "user": {
      "displayName": "Lutz Hamel",
      "userId": "10287662568849688016"
     },
     "user_tz": 300
    },
    "id": "9vYcCDVi0yEC",
    "outputId": "52d969ec-1e9f-474c-f955-ffa469b998d8"
   },
   "outputs": [
    {
     "name": "stdout",
     "output_type": "stream",
     "text": [
      "R^2 score: 0.79\n"
     ]
    }
   ],
   "source": [
    "# compute the R^2 score\n",
    "print(\"R^2 score: {:3.2f}\"\n",
    "      .format(model.score(cars_df[['speed']],cars_df[['dist']])))"
   ]
  },
  {
   "cell_type": "markdown",
   "metadata": {
    "id": "cA2mM71hXWkH"
   },
   "source": [
    "Yes, going to a non-linear regression model certainly improved things.  We can see that in this non-linear model the residuals are smaller than in the linear model.  Notice that on average the residuals of this model are much smaller than in the linear model."
   ]
  },
  {
   "cell_type": "markdown",
   "metadata": {},
   "source": [
    "Finally, we can visualize the regression tree model."
   ]
  },
  {
   "cell_type": "code",
   "execution_count": 15,
   "metadata": {},
   "outputs": [
    {
     "name": "stdout",
     "output_type": "stream",
     "text": [
      "|--- speed <= 17.50\n",
      "|   |--- speed <= 12.50\n",
      "|   |   |--- speed <= 9.50\n",
      "|   |   |   |--- speed <= 5.50\n",
      "|   |   |   |   |--- value: [6.00]\n",
      "|   |   |   |--- speed >  5.50\n",
      "|   |   |   |   |--- speed <= 8.50\n",
      "|   |   |   |   |   |--- speed <= 7.50\n",
      "|   |   |   |   |   |   |--- value: [13.00]\n",
      "|   |   |   |   |   |--- speed >  7.50\n",
      "|   |   |   |   |   |   |--- value: [16.00]\n",
      "|   |   |   |   |--- speed >  8.50\n",
      "|   |   |   |   |   |--- value: [10.00]\n",
      "|   |   |--- speed >  9.50\n",
      "|   |   |   |--- speed <= 10.50\n",
      "|   |   |   |   |--- value: [26.00]\n",
      "|   |   |   |--- speed >  10.50\n",
      "|   |   |   |   |--- speed <= 11.50\n",
      "|   |   |   |   |   |--- value: [22.50]\n",
      "|   |   |   |   |--- speed >  11.50\n",
      "|   |   |   |   |   |--- value: [21.50]\n",
      "|   |--- speed >  12.50\n",
      "|   |   |--- speed <= 14.50\n",
      "|   |   |   |--- speed <= 13.50\n",
      "|   |   |   |   |--- value: [35.00]\n",
      "|   |   |   |--- speed >  13.50\n",
      "|   |   |   |   |--- value: [50.50]\n",
      "|   |   |--- speed >  14.50\n",
      "|   |   |   |--- speed <= 16.50\n",
      "|   |   |   |   |--- speed <= 15.50\n",
      "|   |   |   |   |   |--- value: [33.33]\n",
      "|   |   |   |   |--- speed >  15.50\n",
      "|   |   |   |   |   |--- value: [36.00]\n",
      "|   |   |   |--- speed >  16.50\n",
      "|   |   |   |   |--- value: [40.67]\n",
      "|--- speed >  17.50\n",
      "|   |--- speed <= 23.50\n",
      "|   |   |--- speed <= 18.50\n",
      "|   |   |   |--- value: [64.50]\n",
      "|   |   |--- speed >  18.50\n",
      "|   |   |   |--- speed <= 21.00\n",
      "|   |   |   |   |--- speed <= 19.50\n",
      "|   |   |   |   |   |--- value: [50.00]\n",
      "|   |   |   |   |--- speed >  19.50\n",
      "|   |   |   |   |   |--- value: [50.40]\n",
      "|   |   |   |--- speed >  21.00\n",
      "|   |   |   |   |--- speed <= 22.50\n",
      "|   |   |   |   |   |--- value: [66.00]\n",
      "|   |   |   |   |--- speed >  22.50\n",
      "|   |   |   |   |   |--- value: [54.00]\n",
      "|   |--- speed >  23.50\n",
      "|   |   |--- speed <= 24.50\n",
      "|   |   |   |--- value: [93.75]\n",
      "|   |   |--- speed >  24.50\n",
      "|   |   |   |--- value: [85.00]\n",
      "\n"
     ]
    }
   ],
   "source": [
    "print(tree.export_text(model,\n",
    "                       feature_names=['speed']))"
   ]
  }
 ],
 "metadata": {
  "colab": {
   "provenance": []
  },
  "kernelspec": {
   "display_name": "Python 3",
   "language": "python",
   "name": "python3"
  },
  "language_info": {
   "codemirror_mode": {
    "name": "ipython",
    "version": 3
   },
   "file_extension": ".py",
   "mimetype": "text/x-python",
   "name": "python",
   "nbconvert_exporter": "python",
   "pygments_lexer": "ipython3",
   "version": "3.13.1"
  }
 },
 "nbformat": 4,
 "nbformat_minor": 0
}
