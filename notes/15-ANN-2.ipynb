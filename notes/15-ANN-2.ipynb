{
 "cells": [
  {
   "cell_type": "code",
   "execution_count": 1,
   "metadata": {},
   "outputs": [],
   "source": [
    "# preamble to be able to run notebooks in Jupyter and Colab\n",
    "try:\n",
    "    from google.colab import drive\n",
    "    import sys\n",
    "    \n",
    "    drive.mount('/content/drive')\n",
    "    notes_home = \"/content/drive/Shared drives/CSC310/notes/\"\n",
    "    user_home = \"/content/drive/My Drive/\"\n",
    "    \n",
    "    sys.path.insert(1,notes_home) # let the notebook access the notes folder\n",
    "\n",
    "except ModuleNotFoundError:\n",
    "    notes_home = \"\" # running native Jupyter environment -- notes home is the same as the notebook\n",
    "    user_home = \"\"  # under Jupyter we assume the user directory is the same as the notebook"
   ]
  },
  {
   "cell_type": "markdown",
   "metadata": {},
   "source": [
    "# ANN (MLP) Code Examples"
   ]
  },
  {
   "cell_type": "code",
   "execution_count": 2,
   "metadata": {},
   "outputs": [
    {
     "name": "stdout",
     "output_type": "stream",
     "text": [
      "Accuracy: 0.92 (0.87, 0.97)\n"
     ]
    }
   ],
   "source": [
    "# set up\n",
    "import pandas as pd\n",
    "import numpy as np\n",
    "np.set_printoptions(formatter={'float_kind':\"{:3.2f}\".format})\n",
    "from sklearn.neural_network import MLPClassifier\n",
    "from sklearn.model_selection import train_test_split\n",
    "from sklearn.metrics import accuracy_score\n",
    "from assets.confint import classification_confint\n",
    "from sklearn.metrics import confusion_matrix\n",
    "\n",
    "# get data\n",
    "df = pd.read_csv(notes_home+\"assets/wdbc.csv\")\n",
    "df = df.drop(['ID'],axis=1)\n",
    "X  = df.drop(['Diagnosis'],axis=1)\n",
    "y = df['Diagnosis']\n",
    "\n",
    "\n",
    "# neural network\n",
    "# NOTE: a good rule of thumb for MLP starting point:\n",
    "# a) 1 hidden layer\n",
    "# b) the number of nodes in hidden layer: no_node = 2 * no_independents_vars\n",
    "#\n",
    "model = MLPClassifier(hidden_layer_sizes=(60,), activation='tanh', max_iter=1000, random_state=1)\n",
    "\n",
    "# train and test the model\n",
    "train_X, test_X, train_y, test_y = train_test_split(X, y, train_size=0.8, test_size=0.2, random_state=3)\n",
    "model.fit(train_X, train_y)\n",
    "predict_y = model.predict(test_X)\n",
    "acc = accuracy_score(test_y, predict_y)\n",
    "lb, ub = classification_confint(acc, test_X.shape[0])\n",
    "print(\"Accuracy: {:3.2f} ({:3.2f}, {:3.2f})\".format(acc, lb, ub))\n"
   ]
  },
  {
   "cell_type": "markdown",
   "metadata": {},
   "source": [
    "## MLP Grid Search\n",
    "\n",
    "We can also perform a grid search to find the optimal network.\n",
    "\n",
    "BEWARE: a grid search over all possible parameters of an MLP is almost impossible - combinatoric explosion, too many different combinations possible.\n",
    "\n",
    "Here we only perform a grid over the number of nodes in a single hidden layer.\n",
    "\n"
   ]
  },
  {
   "cell_type": "code",
   "execution_count": 3,
   "metadata": {},
   "outputs": [
    {
     "name": "stdout",
     "output_type": "stream",
     "text": [
      "Grid Search: best parameters: {'activation': 'logistic', 'hidden_layer_sizes': (30, 30)}\n",
      "Accuracy: 0.96 (0.94,0.97)\n",
      "Confusion Matrix:\n",
      "     M    B\n",
      "M  200   12\n",
      "B   13  344\n"
     ]
    }
   ],
   "source": [
    "# set up\n",
    "import pandas as pd\n",
    "import numpy as np\n",
    "np.set_printoptions(formatter={'float_kind':\"{:3.2f}\".format})\n",
    "from sklearn.neural_network import MLPClassifier\n",
    "from sklearn.model_selection import cross_val_score\n",
    "from sklearn.metrics import accuracy_score\n",
    "from sklearn.metrics import confusion_matrix\n",
    "from sklearn.model_selection import GridSearchCV\n",
    "from assets.confint import classification_confint\n",
    "\n",
    "# get data\n",
    "df = pd.read_csv(notes_home+\"assets/wdbc.csv\")\n",
    "df = df.drop(['ID'],axis=1)\n",
    "X  = df.drop(['Diagnosis'],axis=1)\n",
    "actual_y = df['Diagnosis']\n",
    "\n",
    "# neural network\n",
    "model = MLPClassifier(max_iter=10000, random_state=1)\n",
    "\n",
    "# grid search\n",
    "param_grid = {'hidden_layer_sizes': [ (30,), (60,), (120,),\n",
    "                                      (30,30), (30, 60), (30, 120),\n",
    "                                      (60, 30), (60,60), (60, 120),\n",
    "                                      (120, 30), (120, 60), (120, 120)\n",
    "                                    ],\n",
    "              'activation' : ['logistic', 'tanh', 'relu']\n",
    "             }\n",
    "grid = GridSearchCV(model, param_grid, cv=3)\n",
    "grid.fit(X, actual_y)\n",
    "print(\"Grid Search: best parameters: {}\".format(grid.best_params_))\n",
    "\n",
    "# evaluate the best model\n",
    "best_model = grid.best_estimator_\n",
    "predict_y = best_model.predict(X)\n",
    "acc = accuracy_score(actual_y, predict_y)\n",
    "lb,ub = classification_confint(acc,X.shape[0])\n",
    "print(\"Accuracy: {:3.2f} ({:3.2f},{:3.2f})\".format(acc,lb,ub))\n",
    "\n",
    "# build the confusion matrix\n",
    "labels = ['M', 'B']\n",
    "cm = confusion_matrix(actual_y, predict_y, labels=labels)\n",
    "cm_df = pd.DataFrame(cm, index=labels, columns=labels)\n",
    "print(\"Confusion Matrix:\\n{}\".format(cm_df))"
   ]
  },
  {
   "cell_type": "markdown",
   "metadata": {},
   "source": [
    "Notice that even though our first instinct is that the optimized MLP is much better than the straight forward MLP using our rule of thumb the difference in accuracy between these two models is statistically not significant because their confidence intervals overlap!"
   ]
  },
  {
   "cell_type": "markdown",
   "metadata": {},
   "source": [
    "# Team Exercise\n",
    "\n",
    "Use the Crohn’s Disease dataset: [crohnd](https://raw.githubusercontent.com/lutzhamel/ds/master/notes/assets/crohnd.csv)\n",
    "\n",
    "Do the following:\n",
    "\n",
    "* Build a 1-hidden-layer MLP according to our rule of thumb.\n",
    "* Build a multi-layer MLP using grid-search search over layers and activation functions (see [MLP documentation](https://scikit-learn.org/stable/modules/generated/sklearn.neural_network.MLPClassifier.html)\n",
    "* Build the best decision tree using grid-search for this data set\n",
    "\n",
    "Evaluation:\n",
    "* Which one of the models has the best accuracy?\n",
    "* Are the differences in accuracy between the various models statistically significant?\n"
   ]
  },
  {
   "cell_type": "markdown",
   "metadata": {},
   "source": [
    "# Teams\n",
    "\n",
    "```\n",
    "team 1:  Joshua D, Yeury, Zachary T\n",
    "team 2:  Jake Adam, Joey, Cole\n",
    "team 3:  Timothy, Cody Rithysan, Michael Russell\n",
    "team 4:  Joshua Patrick, Korakot, Phidias\n",
    "team 5:  Kenney A, Samantha N, Patrick M\n",
    "team 6:  Jaeke R, Stephanie, Hennjer\n",
    "team 7:  Timothy Terence, Camren Joseph, Emmely\n",
    "team 8:  Sofia R, Julio, Luca G\n",
    "team 9:  John Francis, Evan Jonathan, C.J.\n",
    "team 10: Andrew Michael, William Jordan, Jared P\n",
    "team 11: Ryan Richard, Giulia, Tony Levada\n",
    "team 12: Shannon Patrice, Dan Steven\n",
    "```"
   ]
  },
  {
   "cell_type": "code",
   "execution_count": null,
   "metadata": {},
   "outputs": [],
   "source": []
  }
 ],
 "metadata": {
  "kernelspec": {
   "display_name": "Python 3",
   "language": "python",
   "name": "python3"
  },
  "language_info": {
   "codemirror_mode": {
    "name": "ipython",
    "version": 3
   },
   "file_extension": ".py",
   "mimetype": "text/x-python",
   "name": "python",
   "nbconvert_exporter": "python",
   "pygments_lexer": "ipython3",
   "version": "3.7.6"
  }
 },
 "nbformat": 4,
 "nbformat_minor": 2
}
