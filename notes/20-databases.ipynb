{
 "cells": [
  {
   "cell_type": "code",
   "execution_count": 1,
   "metadata": {},
   "outputs": [],
   "source": [
    "# preamble to be able to run notebooks in Jupyter and Colab\n",
    "try:\n",
    "    from google.colab import drive\n",
    "    import sys\n",
    "    \n",
    "    drive.mount('/content/drive')\n",
    "    notes_home = \"/content/drive/Shared drives/CSC310/notes/\"\n",
    "    user_home = \"/content/drive/My Drive/\"\n",
    "    \n",
    "    sys.path.insert(1,notes_home) # let the notebook access the notes folder\n",
    "    \n",
    "    !pip install PyMySQL\n",
    "\n",
    "except ModuleNotFoundError:\n",
    "    notes_home = \"\" # running native Jupyter environment -- notes home is the same as the notebook\n",
    "    user_home = \"\"  # under Jupyter we assume the user directory is the same as the notebook"
   ]
  },
  {
   "cell_type": "markdown",
   "metadata": {},
   "source": [
    "# Relational Databases\n",
    "\n",
    "* The data you need will often live in *databases*, systems designed for efficiently storing and querying data. \n",
    "\n",
    "* The bulk of these are relational databases, such as Oracle, MySQL, and SQL Serverl.  These are also called *Relational Database Management Systems* ([RDBMS](https://en.wikipedia.org/wiki/Relational_database_management_system)).\n",
    "\n",
    "* These systems store data in tables and are typically queried using *Structured Query Language* ([SQL](https://en.wikipedia.org/wiki/SQL)), a declarative language for manipulating data.\n",
    "\n"
   ]
  },
  {
   "cell_type": "markdown",
   "metadata": {},
   "source": [
    "## Relational Databases\n",
    "\n",
    "* A relational database is a collection of tables.\n",
    "* A table is simply a collection of rows and columns, very similar to Pandas DataFrames.\n",
    "* A database typically contains multiple tables.\n",
    "* Each table typically has at least one column called the **primary or foreign key**. \n",
    "* These special columns allow the user to pose queries across multiple different tables at the same time - to perform a **join** across tables.\n",
    "* A primary key is a column that holds a **unique** value for each row in the table.  This is used by the db engine to optimize queries against the table.\n",
    "* A foreign key is a column where each value point to the primary key of another table.  So you can think of a foreign key as pointer from one table to another.\n",
    "* Tables together with primary/foreign key relationships are called the **schema of a database**.\n",
    "* SQL is used to query the data in a relational database.  \n",
    "* Data returned from an SQL query is returned as a table.\n",
    "\n",
    "These databases are called relational because each table defines a [mathematical relation](https://www.xaprb.com/blog/2012/03/13/what-makes-relational-databases-relational)!\n",
    "\n"
   ]
  },
  {
   "cell_type": "markdown",
   "metadata": {},
   "source": [
    "## SQL Queries and Result Tables\n",
    "\n",
    "![alt](https://www.w3resource.com/w3r_images/sql-works-with-rdbms.gif)"
   ]
  },
  {
   "cell_type": "markdown",
   "metadata": {},
   "source": [
    "## There is a lot to RDBMS\n",
    "\n",
    "![alt](https://www.assignmenthelp.net/blog/wp-content/uploads/2011/07/RDBMS.png)"
   ]
  },
  {
   "cell_type": "markdown",
   "metadata": {},
   "source": [
    "## SQL\n",
    "\n",
    "SQL (Structured Query Language) is a domain-specific language used in programming and designed for managing data held in a relational database management system.\n",
    "\n",
    "SQL was one of the first commercial languages for Edgar F. Codd's relational model, as described in his influential 1970 paper, \"[A Relational Model of Data for Large Shared Data Banks](https://sfu-db.github.io/dbsystems/Papers/p377-codd.pdf).\"\n",
    "\n",
    "Here is a nice [SQL tutorial](https://www.w3schools.com/sql).\n"
   ]
  },
  {
   "cell_type": "markdown",
   "metadata": {},
   "source": [
    "## What Can SQL do?\n",
    "* SQL can execute queries against a database\n",
    "* SQL can retrieve data from a database\n",
    "* SQL can insert records in a database\n",
    "* SQL can update records in a database\n",
    "* SQL can delete records from a database\n",
    "* SQL can create new databases\n",
    "* SQL can create new tables in a database\n",
    "* SQL can create stored procedures in a database\n",
    "* SQL can create views in a database\n",
    "* SQL can set permissions on tables, procedures, and views\n",
    "\n",
    "\n"
   ]
  },
  {
   "cell_type": "markdown",
   "metadata": {},
   "source": [
    "## SQL is actually made up of a couple of sub-languages:\n",
    "\n",
    "* DDL: Data Definition Language, e.g. ‘create’ a table or database\n",
    "* DML: Data Manipulation Language, e.g. insert or delete a row in a table\n",
    "* TCL: Transaction Control Language, e.g. commit or rollback database changes\n",
    "* DCL: Data Control Language, e.g. grant access permissions\n",
    "* **DQL: Data Query Language**, e.g. retrieve records from one or more table\n",
    "\n",
    "**Note:** Only a small part of SQL actually has to do with information retrieval/querying"
   ]
  },
  {
   "cell_type": "markdown",
   "metadata": {},
   "source": [
    "## Data Retrieval with `SELECT`\n",
    "\n",
    "From our perspective, the most important is the `SELECT` statement that allows you to extract data from the DB tables:\n",
    "```\n",
    "SELECT * FROM Customers;               -- get entire contents of table Customers\n",
    "SELECT * FROM Customers LIMIT 2;       -- get the first two rows\n",
    "SELECT CustomerID,CustomerName FROM Customers;    \n",
    "                                       -- get columns CustomerID, CustomerName of table Customers\n",
    "SELECT CustomerName,City FROM Customers WHERE CustomerID = 3;  \n",
    "                                       -- get data subject to some conditions\n",
    "```"
   ]
  },
  {
   "cell_type": "markdown",
   "metadata": {},
   "source": [
    "Take a peek at the W3Schools [reference manual for SQL](https://www.w3schools.com/sql/)."
   ]
  },
  {
   "cell_type": "markdown",
   "metadata": {},
   "source": [
    "# SQL and Python\n",
    "\n",
    "We will use the [PyMySQL](https://pymysql.readthedocs.io/en/latest/) package together with  [Pandas DataFrames' ability to query databases using SQL](https://pandas.pydata.org/pandas-docs/stable/reference/api/pandas.read_sql.html) to connect to a [MySQL server](https://www.mysql.com) and issue SQL commands.\n",
    "\n",
    "We will use the 'world' database from the [MySQL website](https://dev.mysql.com/doc/world-setup/en). "
   ]
  },
  {
   "cell_type": "code",
   "execution_count": 2,
   "metadata": {},
   "outputs": [],
   "source": [
    "# our database\n",
    "host = 'testdb.cwy05wfzuxbv.us-east-1.rds.amazonaws.com'\n",
    "userdb = 'world'\n",
    "user = 'csc310'\n",
    "password = 'csc310$is$fun'"
   ]
  },
  {
   "cell_type": "markdown",
   "metadata": {},
   "source": [
    "The **schema** of the world database looks as follows:\n",
    "\n",
    "<img src=\"https://static.packt-cdn.com/products/9781788390415/graphics/cac1f609-1c45-46d7-b066-d9481ceddf18.png\">\n",
    "\n",
    "The database consists of three tables the central table being the 'country' table.  The other two tables are related to the 'country' table via the 'CountryCode' columns that are set up as *foreign keys*."
   ]
  },
  {
   "cell_type": "markdown",
   "metadata": {},
   "source": [
    "### Basic Queries\n",
    "\n",
    "Here is a basic program that prints out the tables contained within a database.  Notice, that the results are returned as a Pandas dataframe and therefore, once we have the results, we can apply standard Pandas things to the results."
   ]
  },
  {
   "cell_type": "code",
   "execution_count": 3,
   "metadata": {},
   "outputs": [
    {
     "name": "stdout",
     "output_type": "stream",
     "text": [
      "   ID            Name CountryCode       District  Population\n",
      "0   1           Kabul         AFG          Kabol     1780000\n",
      "1   2        Qandahar         AFG       Qandahar      237500\n",
      "2   3           Herat         AFG          Herat      186800\n",
      "3   4  Mazar-e-Sharif         AFG          Balkh      127800\n",
      "4   5       Amsterdam         NLD  Noord-Holland      731200\n",
      "5   6       Rotterdam         NLD   Zuid-Holland      593321\n",
      "6   7            Haag         NLD   Zuid-Holland      440900\n",
      "7   8         Utrecht         NLD        Utrecht      234323\n",
      "8   9       Eindhoven         NLD  Noord-Brabant      201843\n",
      "9  10         Tilburg         NLD  Noord-Brabant      193238\n"
     ]
    }
   ],
   "source": [
    "# query city table\n",
    "# if the following import fails try: conda install -c anaconda pymysql\n",
    "import pymysql as sql\n",
    "import pandas as pd\n",
    "\n",
    "# Open database connection to our test database\n",
    "db = sql.connect(host, user, password, userdb)\n",
    "\n",
    "# get data using a pandas dataframe\n",
    "sql_string = 'SELECT * FROM city limit 10;'\n",
    "data = pd.read_sql(sql_string, con=db) \n",
    "print (data)\n",
    "\n",
    "# disconnect from server\n",
    "db.close()"
   ]
  },
  {
   "cell_type": "code",
   "execution_count": 4,
   "metadata": {},
   "outputs": [
    {
     "name": "stdout",
     "output_type": "stream",
     "text": [
      "                 name countrycode  population\n",
      "0     Mumbai (Bombay)         IND    10500000\n",
      "1               Seoul         KOR     9981619\n",
      "2           São Paulo         BRA     9968485\n",
      "3            Shanghai         CHN     9696300\n",
      "4             Jakarta         IDN     9604900\n",
      "5             Karachi         PAK     9269265\n",
      "6            Istanbul         TUR     8787958\n",
      "7    Ciudad de México         MEX     8591309\n",
      "8              Moscow         RUS     8389200\n",
      "9            New York         USA     8008278\n",
      "10              Tokyo         JPN     7980230\n",
      "11             Peking         CHN     7472000\n",
      "12             London         GBR     7285000\n",
      "13              Delhi         IND     7206704\n",
      "14              Cairo         EGY     6789479\n",
      "15            Teheran         IRN     6758845\n",
      "16               Lima         PER     6464693\n",
      "17          Chongqing         CHN     6351600\n",
      "18            Bangkok         THA     6320174\n",
      "19  Santafé de Bogotá         COL     6260862\n",
      "20     Rio de Janeiro         BRA     5598953\n",
      "21            Tianjin         CHN     5286800\n",
      "22           Kinshasa         COD     5064000\n",
      "23             Lahore         PAK     5063499\n"
     ]
    }
   ],
   "source": [
    "# show only cities where the population is greater than 5,000,000\n",
    "import pymysql as sql\n",
    "import pandas as pd\n",
    "\n",
    "# Open database connection to our test database\n",
    "db = sql.connect(host, user, password, userdb)\n",
    "\n",
    "# get data using a pandas dataframe\n",
    "sql_string = \\\n",
    "'''\n",
    "SELECT \n",
    "    name, \n",
    "    countrycode, \n",
    "    population \n",
    "FROM \n",
    "    city \n",
    "WHERE \n",
    "    population > 5000000\n",
    "ORDER \n",
    "    by population DESC\n",
    "'''\n",
    "\n",
    "data = pd.read_sql(sql_string, con=db) \n",
    "print (data)\n",
    "\n",
    "# disconnect from server\n",
    "db.close()"
   ]
  },
  {
   "cell_type": "code",
   "execution_count": 5,
   "metadata": {},
   "outputs": [],
   "source": [
    "def sql_client(host, user, password, userdb):\n",
    "    # simple SQL client for executing SQL commands\n",
    "    import pymysql as sql\n",
    "    import pandas as pd\n",
    "\n",
    "    # Open database connection to our database\n",
    "    db = sql.connect(host, user, password, userdb)\n",
    "\n",
    "    # get data using a pandas dataframe\n",
    "    while True:\n",
    "        try:\n",
    "            sql_string = input('SQL> ')\n",
    "            if sql_string == 'quit' or sql_string == 'quit;':\n",
    "                print('Bye.')\n",
    "                break\n",
    "            data = pd.read_sql(sql_string, con=db) \n",
    "            print (data)\n",
    "        except Exception as e:\n",
    "            print('Error: ' + str(e))\n",
    "\n",
    "    # disconnect from server\n",
    "    db.close()"
   ]
  },
  {
   "cell_type": "code",
   "execution_count": 6,
   "metadata": {},
   "outputs": [
    {
     "name": "stdout",
     "output_type": "stream",
     "text": [
      "SQL> select * from countrylanguage where isofficial = 'T';\n",
      "    CountryCode   Language IsOfficial  Percentage\n",
      "0           ABW      Dutch          T         5.3\n",
      "1           AFG       Dari          T        32.1\n",
      "2           AFG     Pashto          T        52.4\n",
      "3           AIA    English          T         0.0\n",
      "4           ALB  Albaniana          T        97.9\n",
      "..          ...        ...        ...         ...\n",
      "233         ZAF  Afrikaans          T        14.3\n",
      "234         ZAF    English          T         8.5\n",
      "235         ZAF      Xhosa          T        17.7\n",
      "236         ZAF       Zulu          T        22.7\n",
      "237         ZWE    English          T         2.2\n",
      "\n",
      "[238 rows x 4 columns]\n",
      "SQL> quit\n",
      "Bye.\n"
     ]
    }
   ],
   "source": [
    "sql_client(host, user, password, userdb)"
   ]
  },
  {
   "cell_type": "markdown",
   "metadata": {},
   "source": [
    "### DB Meta Information\n",
    "\n",
    "We can use SQL to access meta-information about the data and the db."
   ]
  },
  {
   "cell_type": "code",
   "execution_count": 7,
   "metadata": {},
   "outputs": [
    {
     "name": "stdout",
     "output_type": "stream",
     "text": [
      "Shape: (3, 1)\n",
      "   Tables_in_world\n",
      "0             city\n",
      "1          country\n",
      "2  countrylanguage\n"
     ]
    }
   ],
   "source": [
    "# show tables in the db\n",
    "# if the following import fails try: conda install -c anaconda pymysql\n",
    "import pymysql as sql\n",
    "import pandas as pd\n",
    "\n",
    "# Open database connection to our test database\n",
    "db = sql.connect(host, user, password, userdb)\n",
    "\n",
    "# get data using a pandas dataframe\n",
    "sql_string = 'SHOW TABLES'\n",
    "data = pd.read_sql(sql_string, con=db) \n",
    "print(\"Shape: {}\".format(data.shape))\n",
    "print (data)\n",
    "\n",
    "# disconnect from server\n",
    "db.close()"
   ]
  },
  {
   "cell_type": "markdown",
   "metadata": {},
   "source": [
    "We can manipulate the data that comes back from the DB before printing it for example."
   ]
  },
  {
   "cell_type": "code",
   "execution_count": 8,
   "metadata": {},
   "outputs": [
    {
     "name": "stdout",
     "output_type": "stream",
     "text": [
      "There are 3 tables in the world database\n",
      "The tables are: city, country, countrylanguage\n"
     ]
    }
   ],
   "source": [
    "# show tables in the db\n",
    "# if the following import fails try: conda install -c anaconda pymysql\n",
    "import pymysql as sql\n",
    "import pandas as pd\n",
    "\n",
    "# Open database connection to our test database\n",
    "db = sql.connect(host, user, password, userdb)\n",
    "\n",
    "# get data using a pandas dataframe\n",
    "sql_string = 'SHOW TABLES'\n",
    "data = pd.read_sql(sql_string, con=db) \n",
    "\n",
    "# format the output nicely\n",
    "print(\"There are {:d} tables in the {:s} database\".format(data.shape[0],userdb))\n",
    "print(\"The tables are: \" + \", \".join(list(data.iloc[:,0])))\n",
    "\n",
    "# disconnect from server\n",
    "db.close()"
   ]
  },
  {
   "cell_type": "markdown",
   "metadata": {},
   "source": [
    "We can look at columns of a table together with their meta-information."
   ]
  },
  {
   "cell_type": "code",
   "execution_count": 9,
   "metadata": {},
   "outputs": [
    {
     "name": "stdout",
     "output_type": "stream",
     "text": [
      "Shape: (15, 6)\n",
      "Meta Info:  Field, Type, Null, Key, Default, Extra\n",
      "The Column Names (Fields) and their Types:\n",
      "             Field                                               Type\n",
      "0             Code                                            char(3)\n",
      "1             Name                                           char(52)\n",
      "2        Continent  enum('Asia','Europe','North America','Africa',...\n",
      "3           Region                                           char(26)\n",
      "4      SurfaceArea                                        float(10,2)\n",
      "5        IndepYear                                        smallint(6)\n",
      "6       Population                                            int(11)\n",
      "7   LifeExpectancy                                         float(3,1)\n",
      "8              GNP                                        float(10,2)\n",
      "9           GNPOld                                        float(10,2)\n",
      "10       LocalName                                           char(45)\n",
      "11  GovernmentForm                                           char(45)\n",
      "12     HeadOfState                                           char(60)\n",
      "13         Capital                                            int(11)\n",
      "14           Code2                                            char(2)\n",
      "The Column Names (Fields) and their Key Status:\n",
      "             Field  Key\n",
      "0             Code  PRI\n",
      "1             Name     \n",
      "2        Continent     \n",
      "3           Region     \n",
      "4      SurfaceArea     \n",
      "5        IndepYear     \n",
      "6       Population     \n",
      "7   LifeExpectancy     \n",
      "8              GNP     \n",
      "9           GNPOld     \n",
      "10       LocalName     \n",
      "11  GovernmentForm     \n",
      "12     HeadOfState     \n",
      "13         Capital     \n",
      "14           Code2     \n"
     ]
    }
   ],
   "source": [
    "# show columns from db table 'country'\n",
    "# if the following import fails try: conda install -c anaconda pymysql\n",
    "import pymysql as sql\n",
    "import pandas as pd\n",
    "\n",
    "# Open database connection to our test database\n",
    "db = sql.connect(host, user, password, userdb)\n",
    "\n",
    "# get data using a pandas dataframe\n",
    "# show columns with their associated meta info\n",
    "sql_string = 'SHOW COLUMNS FROM country'\n",
    "data = pd.read_sql(sql_string, con=db) \n",
    "\n",
    "print(\"Shape: {}\".format(data.shape))\n",
    "print(\"Meta Info:  {}\".format(\", \".join(list(data.columns))))\n",
    "\n",
    "print(\"The Column Names (Fields) and their Types:\")\n",
    "print (data.loc[:,['Field','Type']])\n",
    "\n",
    "print(\"The Column Names (Fields) and their Key Status:\")\n",
    "print (data.loc[:,['Field','Key']])\n",
    "\n",
    "# disconnect from server\n",
    "db.close()"
   ]
  },
  {
   "cell_type": "code",
   "execution_count": 10,
   "metadata": {},
   "outputs": [
    {
     "name": "stdout",
     "output_type": "stream",
     "text": [
      "The Column Names (Fields) and their Key Status:\n",
      "         Field  Key\n",
      "0           ID  PRI\n",
      "1         Name     \n",
      "2  CountryCode  MUL\n",
      "3     District     \n",
      "4   Population     \n"
     ]
    }
   ],
   "source": [
    "# show columns from db table 'city'\n",
    "# if the following import fails try: conda install -c anaconda pymysql\n",
    "import pymysql as sql\n",
    "import pandas as pd\n",
    "\n",
    "# Open database connection to our test database\n",
    "db = sql.connect(host, user, password, userdb)\n",
    "\n",
    "# get data using a pandas dataframe\n",
    "# show columns with their associated meta info\n",
    "sql_string = 'SHOW COLUMNS FROM city'\n",
    "data = pd.read_sql(sql_string, con=db) \n",
    "print(\"The Column Names (Fields) and their Key Status:\")\n",
    "print (data.loc[:,['Field','Key']])\n",
    "\n",
    "# disconnect from server\n",
    "db.close()"
   ]
  },
  {
   "cell_type": "code",
   "execution_count": 11,
   "metadata": {},
   "outputs": [
    {
     "name": "stdout",
     "output_type": "stream",
     "text": [
      "The Column Names (Fields) and their Key Status:\n",
      "         Field  Key\n",
      "0  CountryCode  PRI\n",
      "1     Language  PRI\n",
      "2   IsOfficial     \n",
      "3   Percentage     \n"
     ]
    }
   ],
   "source": [
    "# show columns from db table 'countrylanguage'\n",
    "# if the following import fails try: conda install -c anaconda pymysql\n",
    "import pymysql as sql\n",
    "import pandas as pd\n",
    "\n",
    "# Open database connection to our test database\n",
    "db = sql.connect(host, user, password, userdb)\n",
    "\n",
    "# get data using a pandas dataframe\n",
    "# show columns with their associated meta info\n",
    "sql_string = 'SHOW COLUMNS FROM countrylanguage'\n",
    "data = pd.read_sql(sql_string, con=db) \n",
    "print(\"The Column Names (Fields) and their Key Status:\")\n",
    "print (data.loc[:,['Field','Key']])\n",
    "\n",
    "# disconnect from server\n",
    "db.close()"
   ]
  },
  {
   "cell_type": "code",
   "execution_count": 12,
   "metadata": {},
   "outputs": [
    {
     "name": "stdout",
     "output_type": "stream",
     "text": [
      "                            Table 1                 Table 2\n",
      "TABLE_NAME                     city         countrylanguage\n",
      "COLUMN_NAME             CountryCode             CountryCode\n",
      "CONSTRAINT_NAME         city_ibfk_1  countryLanguage_ibfk_1\n",
      "REFERENCED_TABLE_NAME       country                 country\n",
      "REFERENCED_COLUMN_NAME         code                    code\n"
     ]
    },
    {
     "name": "stderr",
     "output_type": "stream",
     "text": [
      "/Users/lutz/opt/anaconda3/lib/python3.7/site-packages/pymysql/cursors.py:170: Warning: (3719, \"'utf8' is currently an alias for the character set UTF8MB3, which will be replaced by UTF8MB4 in a future release. Please consider using UTF8MB4 in order to be unambiguous.\")\n",
      "  result = self._query(query)\n"
     ]
    }
   ],
   "source": [
    "# show all the foreign keys in the world db\n",
    "# if the following import fails try: conda install -c anaconda pymysql\n",
    "import pymysql as sql\n",
    "import pandas as pd\n",
    "\n",
    "# Open database connection to our test database\n",
    "db = sql.connect(host, user, password, userdb)\n",
    "\n",
    "# get data using a pandas dataframe\n",
    "# show columns with their associated meta info\n",
    "sql_string = \\\n",
    "'''\n",
    "SELECT \n",
    "  TABLE_NAME,\n",
    "  COLUMN_NAME,\n",
    "  CONSTRAINT_NAME, \n",
    "  REFERENCED_TABLE_NAME,\n",
    "  REFERENCED_COLUMN_NAME\n",
    "FROM\n",
    "  INFORMATION_SCHEMA.KEY_COLUMN_USAGE\n",
    "WHERE\n",
    "  REFERENCED_TABLE_SCHEMA = \"world\";\n",
    "'''\n",
    "data = pd.read_sql(sql_string, con=db)\n",
    "data.index = ['Table {}'.format(i+1) for i in range(data.shape[0])]\n",
    "print (data.transpose())\n",
    "\n",
    "# disconnect from server\n",
    "db.close()"
   ]
  },
  {
   "cell_type": "markdown",
   "metadata": {},
   "source": [
    "## Joins\n",
    "\n",
    "A [SQL join](https://en.wikipedia.org/wiki/Join_(SQL)) combines columns from one or more tables in a relational database.  A JOIN is a means for combining columns from one (self-join) or more tables by using values common to each.  The most common and default join is the `INNER JOIN` which returns the rows from each table for which the join condition is true.\n",
    "\n",
    "![alt](https://www.w3schools.com/sql/img_innerjoin.gif)"
   ]
  },
  {
   "cell_type": "markdown",
   "metadata": {},
   "source": [
    "This is where the foreign keys come in handy -- recall that foreign keys are like pointers from one table to another,\n",
    "\n",
    "<img src=\"https://static.packt-cdn.com/products/9781788390415/graphics/cac1f609-1c45-46d7-b066-d9481ceddf18.png\">\n",
    "\n"
   ]
  },
  {
   "cell_type": "markdown",
   "metadata": {},
   "source": [
    "Let's try a join on our 'world' database: We want to print out the city names with their country names where the population is greater than 5mil."
   ]
  },
  {
   "cell_type": "code",
   "execution_count": 13,
   "metadata": {
    "scrolled": true
   },
   "outputs": [
    {
     "name": "stdout",
     "output_type": "stream",
     "text": [
      "                 City                                Country\n",
      "0           São Paulo                                 Brazil\n",
      "1      Rio de Janeiro                                 Brazil\n",
      "2              London                         United Kingdom\n",
      "3               Cairo                                  Egypt\n",
      "4             Jakarta                              Indonesia\n",
      "5     Mumbai (Bombay)                                  India\n",
      "6               Delhi                                  India\n",
      "7             Teheran                                   Iran\n",
      "8               Tokyo                                  Japan\n",
      "9            Shanghai                                  China\n",
      "10             Peking                                  China\n",
      "11          Chongqing                                  China\n",
      "12            Tianjin                                  China\n",
      "13  Santafé de Bogotá                               Colombia\n",
      "14           Kinshasa  Congo, The Democratic Republic of the\n",
      "15              Seoul                            South Korea\n",
      "16   Ciudad de México                                 Mexico\n",
      "17            Karachi                               Pakistan\n",
      "18             Lahore                               Pakistan\n",
      "19               Lima                                   Peru\n",
      "20            Bangkok                               Thailand\n",
      "21           Istanbul                                 Turkey\n",
      "22             Moscow                     Russian Federation\n",
      "23           New York                          United States\n"
     ]
    }
   ],
   "source": [
    "# print out the city names with their country names where the population is greater than 5mil.\n",
    "import pymysql as sql\n",
    "import pandas as pd\n",
    "\n",
    "# Open database connection to our test database\n",
    "db = sql.connect(host, user, password, userdb)\n",
    "\n",
    "# get data using a pandas dataframe\n",
    "sql_string = \\\n",
    "'''\n",
    "SELECT \n",
    "    city.name as City, \n",
    "    country.name as Country\n",
    "FROM \n",
    "    city \n",
    "JOIN \n",
    "    country \n",
    "ON \n",
    "    city.countrycode = country.code \n",
    "WHERE \n",
    "    city.population > 5000000;\n",
    "'''\n",
    "\n",
    "data = pd.read_sql(sql_string, con=db) \n",
    "print (data)\n",
    "\n",
    "# disconnect from server\n",
    "db.close()"
   ]
  },
  {
   "cell_type": "markdown",
   "metadata": {},
   "source": [
    "Let's try another one: let's query each city with its population and its country's population."
   ]
  },
  {
   "cell_type": "code",
   "execution_count": 14,
   "metadata": {
    "scrolled": true
   },
   "outputs": [
    {
     "name": "stdout",
     "output_type": "stream",
     "text": [
      "                City  CityPopulation  CountryPopulation\n",
      "0         Oranjestad           29034             103000\n",
      "1              Kabul         1780000           22720000\n",
      "2           Qandahar          237500           22720000\n",
      "3              Herat          186800           22720000\n",
      "4     Mazar-e-Sharif          127800           22720000\n",
      "...              ...             ...                ...\n",
      "4074        Bulawayo          621742           11669000\n",
      "4075     Chitungwiza          274912           11669000\n",
      "4076    Mount Darwin          164362           11669000\n",
      "4077          Mutare          131367           11669000\n",
      "4078           Gweru          128037           11669000\n",
      "\n",
      "[4079 rows x 3 columns]\n"
     ]
    }
   ],
   "source": [
    "# let's query each city with its population and its country's population.\n",
    "import pymysql as sql\n",
    "import pandas as pd\n",
    "\n",
    "# Open database connection to our test database\n",
    "db = sql.connect(host, user, password, userdb)\n",
    "\n",
    "# get data using a pandas dataframe\n",
    "sql_string = \\\n",
    "'''\n",
    "SELECT \n",
    "    city.name as City,\n",
    "    city.population as CityPopulation,\n",
    "    country.population as CountryPopulation\n",
    "FROM \n",
    "    city \n",
    "JOIN \n",
    "    country \n",
    "ON \n",
    "    city.countrycode = country.code \n",
    "'''\n",
    "\n",
    "data = pd.read_sql(sql_string, con=db) \n",
    "print (data)\n",
    "\n",
    "# disconnect from server\n",
    "db.close()"
   ]
  },
  {
   "cell_type": "markdown",
   "metadata": {},
   "source": [
    "One more! Print out how many cities are recorded for the USA, their average population, total population of US."
   ]
  },
  {
   "cell_type": "code",
   "execution_count": 15,
   "metadata": {
    "scrolled": true
   },
   "outputs": [
    {
     "name": "stdout",
     "output_type": "stream",
     "text": [
      "   number      avg_pop  population\n",
      "0     274  286955.3796   278357000\n"
     ]
    }
   ],
   "source": [
    "# print out the city names with their country names where the population is greater than 5mil.\n",
    "import pymysql as sql\n",
    "import pandas as pd\n",
    "\n",
    "# Open database connection to our test database\n",
    "db = sql.connect(host, user, password, userdb)\n",
    "\n",
    "# get data using a pandas dataframe\n",
    "sql_string = \\\n",
    "'''\n",
    "SELECT \n",
    "    COUNT(city.name) as number, \n",
    "    AVG(city.population) as avg_pop,\n",
    "    country.population as population\n",
    "FROM \n",
    "    city \n",
    "JOIN \n",
    "    country \n",
    "ON \n",
    "    city.countrycode = country.code \n",
    "WHERE \n",
    "    country.code = 'USA';\n",
    "'''\n",
    "\n",
    "data = pd.read_sql(sql_string, con=db) \n",
    "print (data)\n",
    "\n",
    "# disconnect from server\n",
    "db.close()"
   ]
  },
  {
   "cell_type": "markdown",
   "metadata": {},
   "source": [
    "We have not touched upon DDL and DML but as data scientists we are mostly consumers of data and therefore querying databases takes priority over all other database activities."
   ]
  },
  {
   "cell_type": "markdown",
   "metadata": {},
   "source": [
    "## Exercise\n",
    "\n",
    "1. Explore the `customer` database further with the [SQL TryIt Editor](https://www.w3schools.com/sql/trysql.asp?filename=trysql_asc). Perhaps creating additional inner joins.\n",
    "\n",
    "1. Explore the `world` database further using Python."
   ]
  },
  {
   "cell_type": "code",
   "execution_count": null,
   "metadata": {},
   "outputs": [],
   "source": []
  }
 ],
 "metadata": {
  "kernelspec": {
   "display_name": "Python 3",
   "language": "python",
   "name": "python3"
  },
  "language_info": {
   "codemirror_mode": {
    "name": "ipython",
    "version": 3
   },
   "file_extension": ".py",
   "mimetype": "text/x-python",
   "name": "python",
   "nbconvert_exporter": "python",
   "pygments_lexer": "ipython3",
   "version": "3.7.6"
  }
 },
 "nbformat": 4,
 "nbformat_minor": 2
}
