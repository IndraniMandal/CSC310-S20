{
 "cells": [
  {
   "cell_type": "code",
   "execution_count": 1,
   "metadata": {},
   "outputs": [],
   "source": [
    "# preamble to be able to run notebooks in Jupyter and Colab\n",
    "try:\n",
    "    from google.colab import drive\n",
    "    import sys\n",
    "    \n",
    "    drive.mount('/content/drive')\n",
    "    notes_home = \"/content/drive/Shared drives/CSC310/notes/\"\n",
    "    user_home = \"/content/drive/My Drive/\"\n",
    "    \n",
    "    sys.path.insert(1,notes_home) # let the notebook access the notes folder\n",
    "    \n",
    "    !pip install PyMySQL\n",
    "\n",
    "except ModuleNotFoundError:\n",
    "    notes_home = \"\" # running native Jupyter environment -- notes home is the same as the notebook\n",
    "    user_home = \"\"  # under Jupyter we assume the user directory is the same as the notebook"
   ]
  },
  {
   "cell_type": "markdown",
   "metadata": {},
   "source": [
    "# Databases\n",
    "\n",
    "* The data you need will often live in *databases*, systems designed for efficiently storing and querying data. \n",
    "\n",
    "* The bulk of these are relational databases, such as Oracle, MySQL, and SQL Serverl.  These are also called *Relational Database Management Systems* ([RDBMS](https://en.wikipedia.org/wiki/Relational_database_management_system)).\n",
    "\n",
    "* These systems store data in tables and are typically queried using *Structured Query Language* ([SQL](https://en.wikipedia.org/wiki/SQL)), a declarative language for manipulating data.\n",
    "\n"
   ]
  },
  {
   "cell_type": "markdown",
   "metadata": {},
   "source": [
    "## Relational Databases\n",
    "\n",
    "* A relational database is a collection of tables.\n",
    "* A table is simply a collection of rows and columns, very similar to Pandas DataFrames.\n",
    "* A database typically contains multiple tables.\n",
    "* Each table typically has at least one column called the primary or foreign key. These special columns allows the user to pose queries across multiple different tables at the same time.\n",
    "* Tables together with primary/foreign key relationships are called the *schema* of a database\n",
    "\n",
    "It is called relational because each table defines a [mathematical relation](https://www.xaprb.com/blog/2012/03/13/what-makes-relational-databases-relational)!\n",
    "\n"
   ]
  },
  {
   "cell_type": "markdown",
   "metadata": {},
   "source": [
    "## SQL Queries and Result Tables\n",
    "\n",
    "![alt](https://www.w3resource.com/w3r_images/sql-works-with-rdbms.gif)"
   ]
  },
  {
   "cell_type": "markdown",
   "metadata": {},
   "source": [
    "## There is a lot to RDBMS\n",
    "\n",
    "![alt](https://www.assignmenthelp.net/blog/wp-content/uploads/2011/07/RDBMS.png)"
   ]
  },
  {
   "cell_type": "markdown",
   "metadata": {},
   "source": [
    "## SQL\n",
    "\n",
    "SQL (Structured Query Language) is a domain-specific language used in programming and designed for managing data held in a relational database management system (RDBMS).\n",
    "\n",
    "SQL was one of the first commercial languages for Edgar F. Codd's relational model, as described in his influential 1970 paper, \"[A Relational Model of Data for Large Shared Data Banks](https://sfu-db.github.io/dbsystems/Papers/p377-codd.pdf).\" Despite not entirely adhering to the relational model as described by Codd, it became the most widely used database language.\n",
    "\n",
    "Here is a nice [SQL tutorial](https://www.w3schools.com/sql).\n"
   ]
  },
  {
   "cell_type": "markdown",
   "metadata": {},
   "source": [
    "## What Can SQL do?\n",
    "* SQL can execute queries against a database\n",
    "* SQL can retrieve data from a database\n",
    "* SQL can insert records in a database\n",
    "* SQL can update records in a database\n",
    "* SQL can delete records from a database\n",
    "* SQL can create new databases\n",
    "* SQL can create new tables in a database\n",
    "* SQL can create stored procedures in a database\n",
    "* SQL can create views in a database\n",
    "* SQL can set permissions on tables, procedures, and views\n",
    "\n",
    "\n"
   ]
  },
  {
   "cell_type": "markdown",
   "metadata": {},
   "source": [
    "## SQL is actually made up of a couple of sub-languages:\n",
    "\n",
    "* DDL: Data Definition Language, e.g. ‘create’ a table or database\n",
    "* DML: Data Manipulation Language, e.g. insert or delete a row in a table\n",
    "* TCL: Transaction Control Language, e.g. commit or rollback database changes\n",
    "* DCL: Data Control Language, e.g. grant access permissions\n",
    "* **DQL: Data Query Language**, e.g. retrieve records from one or more table\n",
    "\n",
    "**Note:** Only a small part of SQL actually has to do with information retrieval/querying"
   ]
  },
  {
   "cell_type": "markdown",
   "metadata": {},
   "source": [
    "## Data Retrieval with `SELECT`\n",
    "\n",
    "From our perspective, the most important is the `SELECT` statement that allows you to extract data from the DB tables:\n",
    "```\n",
    "SELECT * FROM customers;               -- get entire contents of table ‘customers’\n",
    "SELECT * FROM customers LIMIT 2;       -- get the first two rows\n",
    "SELECT customername FROM customers;    -- get column ‘customername’ of table ‘customers’\n",
    "SELECT customername FROM customers WHERE customerid = 3;  \n",
    "                                       -- get data subject to some conditions\n",
    "```"
   ]
  },
  {
   "cell_type": "markdown",
   "metadata": {},
   "source": [
    "## Demo\n",
    "\n",
    "[SQL TryIt Editor](https://www.w3schools.com/sql/trysql.asp?filename=trysql_asc)"
   ]
  },
  {
   "cell_type": "markdown",
   "metadata": {},
   "source": [
    "## Details on `SELECT`\n",
    "\n",
    "You can also use SELECT statements to compute on rows: \n",
    "```\n",
    "SELECT COUNT(*) FROM customers WHERE city = ‘London’;\n",
    "```\n",
    "W3Schools maintains a nice [reference manual for SQL](https://www.w3schools.com/sql/)."
   ]
  },
  {
   "cell_type": "markdown",
   "metadata": {},
   "source": [
    "# SQL and Python\n",
    "\n",
    "We will use the [PyMySQL](https://pymysql.readthedocs.io/en/latest/) package together with  [Pandas DataFrames' ability to query databases using SQL](https://pandas.pydata.org/pandas-docs/stable/reference/api/pandas.read_sql.html) to connect to a [MySQL server](https://www.mysql.com) and issue SQL commands.\n",
    "\n",
    "Here is a basic program that prints out the tables contained within a database"
   ]
  },
  {
   "cell_type": "code",
   "execution_count": 2,
   "metadata": {},
   "outputs": [
    {
     "name": "stdout",
     "output_type": "stream",
     "text": [
      "   Tables_in_world\n",
      "0             city\n",
      "1          country\n",
      "2  countrylanguage\n"
     ]
    }
   ],
   "source": [
    "# show tables in the db\n",
    "# if the following import fails try: conda install -c anaconda pymysql\n",
    "import pymysql as sql\n",
    "import pandas as pd\n",
    "\n",
    "# Open database connection to our test database\n",
    "host = 'testdb.cwy05wfzuxbv.us-east-1.rds.amazonaws.com'\n",
    "userdb = 'world'\n",
    "user = 'csc310'\n",
    "password = 'csc310$is$fun'\n",
    "db = sql.connect(host, user, password, userdb)\n",
    "\n",
    "# get data using a pandas dataframe\n",
    "sql_string = 'SHOW TABLES'\n",
    "data = pd.read_sql(sql_string, con=db) \n",
    "print (data)\n",
    "\n",
    "# disconnect from server\n",
    "db.close()"
   ]
  },
  {
   "cell_type": "code",
   "execution_count": 3,
   "metadata": {},
   "outputs": [
    {
     "name": "stdout",
     "output_type": "stream",
     "text": [
      "SQL> select name, capital from country\n",
      "             name  capital\n",
      "0           Aruba    129.0\n",
      "1     Afghanistan      1.0\n",
      "2          Angola     56.0\n",
      "3        Anguilla     62.0\n",
      "4         Albania     34.0\n",
      "..            ...      ...\n",
      "234         Yemen   1780.0\n",
      "235    Yugoslavia   1792.0\n",
      "236  South Africa    716.0\n",
      "237        Zambia   3162.0\n",
      "238      Zimbabwe   4068.0\n",
      "\n",
      "[239 rows x 2 columns]\n"
     ]
    }
   ],
   "source": [
    "# simple SQL client for executing SQL commands\n",
    "import pymysql as sql\n",
    "import pandas as pd\n",
    "\n",
    "# Open database connection to our test database\n",
    "host = 'testdb.cwy05wfzuxbv.us-east-1.rds.amazonaws.com'\n",
    "userdb = 'world'\n",
    "user = 'csc310'\n",
    "password = 'csc310$is$fun'\n",
    "db = sql.connect(host, user, password, userdb)\n",
    "\n",
    "# get data using a pandas dataframe\n",
    "sql_string = input('SQL> ')\n",
    "data = pd.read_sql(sql_string, con=db) \n",
    "print (data)\n",
    "\n",
    "# disconnect from server\n",
    "db.close()"
   ]
  },
  {
   "cell_type": "code",
   "execution_count": 4,
   "metadata": {},
   "outputs": [
    {
     "name": "stdout",
     "output_type": "stream",
     "text": [
      "                 name countrycode  population\n",
      "0     Mumbai (Bombay)         IND    10500000\n",
      "1               Seoul         KOR     9981619\n",
      "2           São Paulo         BRA     9968485\n",
      "3            Shanghai         CHN     9696300\n",
      "4             Jakarta         IDN     9604900\n",
      "5             Karachi         PAK     9269265\n",
      "6            Istanbul         TUR     8787958\n",
      "7    Ciudad de México         MEX     8591309\n",
      "8              Moscow         RUS     8389200\n",
      "9            New York         USA     8008278\n",
      "10              Tokyo         JPN     7980230\n",
      "11             Peking         CHN     7472000\n",
      "12             London         GBR     7285000\n",
      "13              Delhi         IND     7206704\n",
      "14              Cairo         EGY     6789479\n",
      "15            Teheran         IRN     6758845\n",
      "16               Lima         PER     6464693\n",
      "17          Chongqing         CHN     6351600\n",
      "18            Bangkok         THA     6320174\n",
      "19  Santafé de Bogotá         COL     6260862\n",
      "20     Rio de Janeiro         BRA     5598953\n",
      "21            Tianjin         CHN     5286800\n",
      "22           Kinshasa         COD     5064000\n",
      "23             Lahore         PAK     5063499\n"
     ]
    }
   ],
   "source": [
    "# show only cities where the population is greater than 5,000,000\n",
    "import pymysql as sql\n",
    "import pandas as pd\n",
    "\n",
    "# Open database connection to our test database\n",
    "host = 'testdb.cwy05wfzuxbv.us-east-1.rds.amazonaws.com'\n",
    "userdb = 'world'\n",
    "user = 'csc310'\n",
    "password = 'csc310$is$fun'\n",
    "db = sql.connect(host, user, password, userdb)\n",
    "\n",
    "# get data using a pandas dataframe\n",
    "sql_string = \\\n",
    "'''\n",
    "SELECT name, countrycode, population \n",
    "FROM city \n",
    "WHERE population > 5000000\n",
    "ORDER by population DESC\n",
    "'''\n",
    "\n",
    "data = pd.read_sql(sql_string, con=db) \n",
    "print (data)\n",
    "\n",
    "# disconnect from server\n",
    "db.close()"
   ]
  },
  {
   "cell_type": "markdown",
   "metadata": {},
   "source": [
    "## Joins\n",
    "\n",
    "A [SQL join](https://en.wikipedia.org/wiki/Join_(SQL)) combines columns from one or more tables in a relational database. It creates a set that can be saved as a table or used as it is. A JOIN is a means for combining columns from one (self-join) or more tables by using values common to each.  The most common and default join is the `INNER JOIN` which returns the rows from each table for which the join condition is true.\n",
    "\n",
    "![alt](https://www.w3schools.com/sql/img_innerjoin.gif)"
   ]
  },
  {
   "cell_type": "markdown",
   "metadata": {},
   "source": [
    "Back to the product database:\n",
    "[SQL TryIt Editor](https://www.w3schools.com/sql/trysql.asp?filename=trysql_asc)\n",
    "\n",
    "Recall that we have a `products` table and a `suppliers` table.  We want to print out a result table including the product name, supplier name, and supplier country.\n",
    "\n",
    "```\n",
    "SELECT products.productname, suppliers.suppliername, suppliers.country\n",
    "FROM products\n",
    "JOIN suppliers\n",
    "ON products.supplierid = suppliers.supplierid;\n",
    "```"
   ]
  },
  {
   "cell_type": "markdown",
   "metadata": {},
   "source": [
    "Let's try something similar with our `world` database.  Here are the columns for the `city` table,\n",
    "```\n",
    "SQL> show columns in city\n",
    "         Field      Type Null  Key Default           Extra\n",
    "0           ID   int(11)   NO  PRI    None  auto_increment\n",
    "1         Name  char(35)   NO                             \n",
    "2  CountryCode   char(3)   NO  MUL                        \n",
    "3     District  char(20)   NO                             \n",
    "4   Population   int(11)   NO            0                \n",
    "```\n",
    "And here are the columns for the `country` table,\n",
    "```\n",
    "SQL> show columns from country\n",
    "             Field                                               Type Null  \n",
    "0             Code                                            char(3)   NO   \n",
    "1             Name                                           char(52)   NO   \n",
    "2        Continent  enum('Asia','Europe','North America','Africa',...   NO   \n",
    "3           Region                                           char(26)   NO   \n",
    "4      SurfaceArea                                        float(10,2)   NO   \n",
    "5        IndepYear                                        smallint(6)  YES   \n",
    "6       Population                                            int(11)   NO   \n",
    "7   LifeExpectancy                                         float(3,1)  YES   \n",
    "8              GNP                                        float(10,2)  YES   \n",
    "9           GNPOld                                        float(10,2)  YES   \n",
    "10       LocalName                                           char(45)   NO   \n",
    "11  GovernmentForm                                           char(45)   NO   \n",
    "12     HeadOfState                                           char(60)  YES   \n",
    "13         Capital                                            int(11)  YES   \n",
    "14           Code2                                            char(2)   NO   \n",
    "```\n",
    "We want to construct a join that gives us the name of a city, which country it is located in, and the two letter country code."
   ]
  },
  {
   "cell_type": "code",
   "execution_count": 5,
   "metadata": {
    "scrolled": true
   },
   "outputs": [
    {
     "name": "stdout",
     "output_type": "stream",
     "text": [
      "            CityName  CountryName CountryCode\n",
      "0         Oranjestad        Aruba          AW\n",
      "1              Kabul  Afghanistan          AF\n",
      "2           Qandahar  Afghanistan          AF\n",
      "3              Herat  Afghanistan          AF\n",
      "4     Mazar-e-Sharif  Afghanistan          AF\n",
      "...              ...          ...         ...\n",
      "4074        Bulawayo     Zimbabwe          ZW\n",
      "4075     Chitungwiza     Zimbabwe          ZW\n",
      "4076    Mount Darwin     Zimbabwe          ZW\n",
      "4077          Mutare     Zimbabwe          ZW\n",
      "4078           Gweru     Zimbabwe          ZW\n",
      "\n",
      "[4079 rows x 3 columns]\n"
     ]
    }
   ],
   "source": [
    "# show name of a city, which country it is located in, and the two letter country code.\n",
    "import pymysql as sql\n",
    "import pandas as pd\n",
    "\n",
    "# Open database connection to our test database\n",
    "host = 'testdb.cwy05wfzuxbv.us-east-1.rds.amazonaws.com'\n",
    "userdb = 'world'\n",
    "user = 'csc310'\n",
    "password = 'csc310$is$fun'\n",
    "db = sql.connect(host, user, password, userdb)\n",
    "\n",
    "# get data using a pandas dataframe\n",
    "sql_string = \\\n",
    "'''\n",
    "SELECT city.Name as CityName, \n",
    "       country.Name as CountryName, \n",
    "       country.Code2 as CountryCode \n",
    "FROM city\n",
    "JOIN country\n",
    "ON city.CountryCode = country.Code\n",
    "'''\n",
    "\n",
    "data = pd.read_sql(sql_string, con=db) \n",
    "print (data)\n",
    "\n",
    "# disconnect from server\n",
    "db.close()"
   ]
  },
  {
   "cell_type": "markdown",
   "metadata": {},
   "source": [
    "We have not touched upon DDL and DML but as data scientists we are mostly consumers of data and therefore querying databases takes priority over all other database activities."
   ]
  },
  {
   "cell_type": "markdown",
   "metadata": {},
   "source": [
    "## Exercise\n",
    "\n",
    "1. Explore the `customer` database further with the [SQL TryIt Editor](https://www.w3schools.com/sql/trysql.asp?filename=trysql_asc). Perhaps creating additional inner joins.\n",
    "\n",
    "1. Explore the `world` database further using Python."
   ]
  },
  {
   "cell_type": "code",
   "execution_count": null,
   "metadata": {},
   "outputs": [],
   "source": []
  }
 ],
 "metadata": {
  "kernelspec": {
   "display_name": "Python 3",
   "language": "python",
   "name": "python3"
  },
  "language_info": {
   "codemirror_mode": {
    "name": "ipython",
    "version": 3
   },
   "file_extension": ".py",
   "mimetype": "text/x-python",
   "name": "python",
   "nbconvert_exporter": "python",
   "pygments_lexer": "ipython3",
   "version": "3.7.6"
  }
 },
 "nbformat": 4,
 "nbformat_minor": 2
}
