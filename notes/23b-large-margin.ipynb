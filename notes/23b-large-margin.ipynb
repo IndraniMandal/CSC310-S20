{
 "cells": [
  {
   "cell_type": "code",
   "execution_count": 1,
   "metadata": {
    "colab": {
     "base_uri": "https://localhost:8080/"
    },
    "executionInfo": {
     "elapsed": 11763,
     "status": "ok",
     "timestamp": 1713544969180,
     "user": {
      "displayName": "Lutz Hamel",
      "userId": "10287662568849688016"
     },
     "user_tz": 240
    },
    "id": "oS8brvhDnkew",
    "outputId": "45dadd4b-1b0d-4177-89fe-c505d6ad82bb"
   },
   "outputs": [
    {
     "name": "stdout",
     "output_type": "stream",
     "text": [
      "Already up to date.\n"
     ]
    }
   ],
   "source": [
    "###### Config #####\n",
    "import sys, os, platform\n",
    "if os.path.isdir(\"ds-assets\"):\n",
    "  !cd ds-assets && git pull\n",
    "else:\n",
    "  !git clone https://github.com/lutzhamel/ds-assets.git\n",
    "colab = True if 'google.colab' in os.sys.modules else False\n",
    "system = platform.system() # \"Windows\", \"Linux\", \"Darwin\"\n",
    "home = \"ds-assets/assets/\"\n",
    "sys.path.append(home)"
   ]
  },
  {
   "cell_type": "code",
   "execution_count": 2,
   "metadata": {
    "executionInfo": {
     "elapsed": 6240,
     "status": "ok",
     "timestamp": 1713544975417,
     "user": {
      "displayName": "Lutz Hamel",
      "userId": "10287662568849688016"
     },
     "user_tz": 240
    },
    "id": "JvFN5vR0knX6"
   },
   "outputs": [],
   "source": [
    "import pandas as pd\n",
    "import numpy as np\n",
    "import matplotlib.pyplot as plt\n",
    "import seaborn as sns; sns.set_theme()\n",
    "#from scipy import stats\n",
    "from sklearn.datasets import make_blobs\n",
    "from sklearn.datasets import make_circles\n",
    "from sklearn.inspection import DecisionBoundaryDisplay\n",
    "from sklearn.linear_model import Perceptron\n",
    "from sklearn.svm import SVC\n",
    "from sklearn.feature_extraction.text import CountVectorizer\n",
    "from sklearn.model_selection import train_test_split\n",
    "from sklearn.model_selection import GridSearchCV\n",
    "from sklearn.metrics import confusion_matrix\n",
    "from nltk.stem import PorterStemmer\n",
    "from dsutils import classification_confint"
   ]
  },
  {
   "cell_type": "code",
   "execution_count": 3,
   "metadata": {
    "executionInfo": {
     "elapsed": 5,
     "status": "ok",
     "timestamp": 1713544975417,
     "user": {
      "displayName": "Lutz Hamel",
      "userId": "10287662568849688016"
     },
     "user_tz": 240
    },
    "id": "koZMmqthw98_"
   },
   "outputs": [],
   "source": [
    "# aux function\n",
    "def plot_svm_surface(clf,X,surface_only=False,support_only=False):\n",
    "  ax = plt.gca()\n",
    "  if not support_only:\n",
    "    DecisionBoundaryDisplay.from_estimator(\n",
    "        clf,\n",
    "        X,\n",
    "        plot_method=\"contour\",\n",
    "        colors=\"k\",\n",
    "        levels= [0] if surface_only else [-1, 0, 1],\n",
    "        alpha=0.5,\n",
    "        linestyles= [\"-\"] if surface_only else [\"--\", \"-\", \"--\"],\n",
    "        ax=ax,\n",
    "    )\n",
    "  # plot support vectors\n",
    "  if (not surface_only) or support_only:\n",
    "    ax.scatter(\n",
    "        clf.support_vectors_[:, 0],\n",
    "        clf.support_vectors_[:, 1],\n",
    "        s=100,\n",
    "        linewidth=1,\n",
    "        facecolors=\"none\",\n",
    "        edgecolors=\"k\",\n",
    "    )"
   ]
  },
  {
   "cell_type": "code",
   "execution_count": 4,
   "metadata": {
    "executionInfo": {
     "elapsed": 4,
     "status": "ok",
     "timestamp": 1713544975417,
     "user": {
      "displayName": "Lutz Hamel",
      "userId": "10287662568849688016"
     },
     "user_tz": 240
    },
    "id": "OlU8l9a40dPC"
   },
   "outputs": [],
   "source": [
    "# aux function\n",
    "def plot_perceptron_surface(clf, X):\n",
    "  ax = plt.gca()\n",
    "  DecisionBoundaryDisplay.from_estimator(\n",
    "      clf,\n",
    "      X,\n",
    "      plot_method=\"contour\",\n",
    "      levels = [0],\n",
    "      colors=\"g\",\n",
    "      alpha=0.5,\n",
    "      linestyles= '-',\n",
    "      ax=ax,\n",
    "  )"
   ]
  },
  {
   "cell_type": "markdown",
   "metadata": {
    "id": "LGC4ewNin8zg"
   },
   "source": [
    "# Large Margin Classifiers"
   ]
  },
  {
   "cell_type": "markdown",
   "metadata": {
    "id": "zqqP39BYVGbT"
   },
   "source": [
    "Large margin classifiers are a refinement of perceptron learning in that they are classification algorithms that can discriminate between two classes.\n"
   ]
  },
  {
   "cell_type": "markdown",
   "metadata": {
    "id": "0ZZI6kPkVINa"
   },
   "source": [
    "## Perceptron Learning"
   ]
  },
  {
   "cell_type": "markdown",
   "metadata": {
    "id": "7HT3SbgyoJxO"
   },
   "source": [
    "Recall that the perceptron training algorithm keeps modifying the weights and the bias term of the perceptron architecture until a decision surface is found that separates the two classes,\n",
    "\n",
    "<center>\n",
    "<img src=\"https://raw.githubusercontent.com/lutzhamel/ds-assets/main/assets/perceptron-train.jpg\"  height=\"250\" width=\"280\">\n",
    "</center>\n",
    "\n",
    "Visualizing the search,\n",
    "\n",
    "<center>\n",
    "<img src=\"https://raw.githubusercontent.com/lutzhamel/ds-assets/main/assets/perceptron-learning.gif\"  height=\"400\" width=\"500\">\n",
    "</center>\n",
    "\n",
    "The training algorithm searches the space of all possible decision surfaces in order to find one that separates the two classes correctly.  Here is the final stage of the search where the algorithm found a decision surface that separates the two classes.\n",
    "\n",
    "<center>\n",
    "<img src=\"https://raw.githubusercontent.com/lutzhamel/ds-assets/main/assets/perceptron-search.png\"  height=\"400\" width=\"500\">\n",
    "</center>\n"
   ]
  },
  {
   "cell_type": "markdown",
   "metadata": {
    "id": "WdGrpV57plDV"
   },
   "source": [
    "The problem with the learning heuristic for perceptrons is that it can give rise to **suboptimal decision surfaces**.  Consider the figure below,"
   ]
  },
  {
   "cell_type": "code",
   "execution_count": 5,
   "metadata": {
    "executionInfo": {
     "elapsed": 5,
     "status": "ok",
     "timestamp": 1713544975418,
     "user": {
      "displayName": "Lutz Hamel",
      "userId": "10287662568849688016"
     },
     "user_tz": 240
    },
    "id": "8XzbZO5gldYr"
   },
   "outputs": [
    {
     "data": {
      "text/plain": [
       "<matplotlib.collections.PathCollection at 0x11fc6b230>"
      ]
     },
     "execution_count": 5,
     "metadata": {},
     "output_type": "execute_result"
    },
    {
     "data": {
      "image/png": "[encoded data removed]",
      "text/plain": [
       "<Figure size 640x480 with 1 Axes>"
      ]
     },
     "metadata": {},
     "output_type": "display_data"
    }
   ],
   "source": [
    "# make our training data\n",
    "X, y = make_blobs(n_samples=50, centers=2,\n",
    "                  random_state=0, cluster_std=0.60)\n",
    "plt.scatter(X[:, 0], X[:, 1], c=y, cmap='autumn')"
   ]
  },
  {
   "cell_type": "code",
   "execution_count": 6,
   "metadata": {
    "executionInfo": {
     "elapsed": 4,
     "status": "ok",
     "timestamp": 1713544975418,
     "user": {
      "displayName": "Lutz Hamel",
      "userId": "10287662568849688016"
     },
     "user_tz": 240
    },
    "id": "xaJijdAs8B0K"
   },
   "outputs": [
    {
     "data": {
      "text/plain": [
       "array([-1.        , -0.90816327, -0.81632653, -0.7244898 , -0.63265306,\n",
       "       -0.54081633, -0.44897959, -0.35714286, -0.26530612, -0.17346939,\n",
       "       -0.08163265,  0.01020408,  0.10204082,  0.19387755,  0.28571429,\n",
       "        0.37755102,  0.46938776,  0.56122449,  0.65306122,  0.74489796,\n",
       "        0.83673469,  0.92857143,  1.02040816,  1.1122449 ,  1.20408163,\n",
       "        1.29591837,  1.3877551 ,  1.47959184,  1.57142857,  1.66326531,\n",
       "        1.75510204,  1.84693878,  1.93877551,  2.03061224,  2.12244898,\n",
       "        2.21428571,  2.30612245,  2.39795918,  2.48979592,  2.58163265,\n",
       "        2.67346939,  2.76530612,  2.85714286,  2.94897959,  3.04081633,\n",
       "        3.13265306,  3.2244898 ,  3.31632653,  3.40816327,  3.5       ])"
      ]
     },
     "execution_count": 6,
     "metadata": {},
     "output_type": "execute_result"
    }
   ],
   "source": [
    "# generate some values between -1 and 3.5\n",
    "xfit = np.linspace(-1, 3.5)\n",
    "xfit"
   ]
  },
  {
   "cell_type": "code",
   "execution_count": 7,
   "metadata": {
    "colab": {
     "base_uri": "https://localhost:8080/",
     "height": 434
    },
    "executionInfo": {
     "elapsed": 1393,
     "status": "ok",
     "timestamp": 1713544976807,
     "user": {
      "displayName": "Lutz Hamel",
      "userId": "10287662568849688016"
     },
     "user_tz": 240
    },
    "id": "74uoj-2mkzCN",
    "outputId": "7d53f393-f343-4e5b-ac5a-bd9de7ecc15a"
   },
   "outputs": [
    {
     "data": {
      "image/png": "[encoded data removed]",
      "text/plain": [
       "<Figure size 640x480 with 1 Axes>"
      ]
     },
     "metadata": {},
     "output_type": "display_data"
    }
   ],
   "source": [
    "plt.scatter(X[:, 0], X[:, 1], c=y, cmap='autumn')\n",
    "\n",
    "# plot three decision surfaces\n",
    "for (slope, offset, color) in [(1, 0.65, ':g'), (0.5, 1.6,'-k'), (-0.2, 2.9,':b')]:\n",
    "    plt.plot(xfit, slope*xfit+offset, color)"
   ]
  },
  {
   "cell_type": "markdown",
   "metadata": {
    "id": "RTWBhhWUvxnU"
   },
   "source": [
    "[source](https://jakevdp.github.io/PythonDataScienceHandbook/05.07-support-vector-machines.html)"
   ]
  },
  {
   "cell_type": "markdown",
   "metadata": {
    "id": "hRcBMCh8p3qb"
   },
   "source": [
    "Here the **suboptimal decision surfaces** are shown as dotted lines. Intuitively we call them suboptimal because each of them has a **higher likelihood to misclassify points** compared to the optimal decision surface shown in black.  Consider the blue dotted decision surface, on the upper left it has a high likelihood of misclassifying red points than the optimal decision surface and at the lower right is has higher likelihood of misclassifying yellow points. Conversely for the green dotted decision surface.  We can observe that the **optimal decision surface has equal likelihood to misclassify either points**."
   ]
  },
  {
   "cell_type": "markdown",
   "metadata": {
    "id": "NaMElM5ArMHO"
   },
   "source": [
    "## Maximizing the Margin"
   ]
  },
  {
   "cell_type": "markdown",
   "metadata": {
    "id": "zH8xywCqrUpF"
   },
   "source": [
    "How do we construct the optimal decision surface?  One way to do this is to **maximize the margin**.  You can think of the margin as a **symmetric tube around the decision surface** that fits between the two classes. The optimal decision surface has the largest margin compared to all the other decision surfaces we can construct."
   ]
  },
  {
   "cell_type": "code",
   "execution_count": 8,
   "metadata": {
    "colab": {
     "base_uri": "https://localhost:8080/",
     "height": 434
    },
    "executionInfo": {
     "elapsed": 908,
     "status": "ok",
     "timestamp": 1713544977713,
     "user": {
      "displayName": "Lutz Hamel",
      "userId": "10287662568849688016"
     },
     "user_tz": 240
    },
    "id": "PR3LGHq9tC19",
    "outputId": "8d27571f-0e19-4291-8eb7-078a5a93060a"
   },
   "outputs": [
    {
     "data": {
      "image/png": "[encoded data removed]",
      "text/plain": [
       "<Figure size 640x480 with 1 Axes>"
      ]
     },
     "metadata": {},
     "output_type": "display_data"
    }
   ],
   "source": [
    "plt.scatter(X[:, 0], X[:, 1], c=y, cmap='autumn')\n",
    "\n",
    "# decision surfaces with margins\n",
    "surfaces = [(1, 0.65, 0.33, ':b','b'), (0.5, 1.6, 0.55, '-k','k'), (-0.2, 2.9, 0.2,':g','g')]\n",
    "\n",
    "for (slope, offset, margin_size, line_color, margin_color) in surfaces:\n",
    "    yfit = slope * xfit + offset\n",
    "    # decision surface\n",
    "    plt.plot(xfit, yfit, line_color)\n",
    "    # margin\n",
    "    plt.fill_between(xfit, \n",
    "                     yfit - margin_size, \n",
    "                     yfit + margin_size, \n",
    "                     color=margin_color, \n",
    "                     edgecolor='none',\n",
    "                     alpha=0.2)"
   ]
  },
  {
   "cell_type": "markdown",
   "metadata": {
    "id": "3hwhKsHIuIx8"
   },
   "source": [
    "**Observation**: Decision surface with large margins have a lower likelihood of misclassification because the class distributions are further away from the decision surface."
   ]
  },
  {
   "cell_type": "markdown",
   "metadata": {
    "id": "RU7C0_QRvjA9"
   },
   "source": [
    "# Support Vector Machines"
   ]
  },
  {
   "cell_type": "markdown",
   "metadata": {
    "id": "QwvUICThseW-"
   },
   "source": [
    "Support vector machines (SVMs) compute the maximum (optimal) margin between two classes and then place the decision surface at the center of the margin."
   ]
  },
  {
   "cell_type": "code",
   "execution_count": 9,
   "metadata": {
    "colab": {
     "base_uri": "https://localhost:8080/",
     "height": 434
    },
    "executionInfo": {
     "elapsed": 1299,
     "status": "ok",
     "timestamp": 1713544979011,
     "user": {
      "displayName": "Lutz Hamel",
      "userId": "10287662568849688016"
     },
     "user_tz": 240
    },
    "id": "LlPVqZvxxJk8",
    "outputId": "381e818a-264d-4e17-d80b-b7275f4bd35d"
   },
   "outputs": [
    {
     "data": {
      "image/png": "[encoded data removed]",
      "text/plain": [
       "<Figure size 640x480 with 1 Axes>"
      ]
     },
     "metadata": {},
     "output_type": "display_data"
    }
   ],
   "source": [
    "model = SVC(kernel='linear').fit(X, y)\n",
    "plot_svm_surface(model, X);"
   ]
  },
  {
   "cell_type": "markdown",
   "metadata": {
    "id": "lYzksvoEsugN"
   },
   "source": [
    "As you can see from the figure the margin is limited by points from the two classes.  These limiting points are called **support vectors**.  One way to think about these points is that they **support** the position of the optimal decision surface essentially act as **constraints** on the width and position of the optimal decision surface.\n",
    "\n",
    "The fact we are using a **linear kernel** in our example means that we are constructing the margin and the decision surface in training data space.  If we use kernels other than the linear kernels we map our training data into  other, extremely high-dimensional spaces and build our SVMs there.  This gives rise to non-linear decision surfaces when we map the decision surface from the high-dimensional space to training data space."
   ]
  },
  {
   "cell_type": "markdown",
   "metadata": {
    "id": "Jgn9Dhu4vqG8"
   },
   "source": [
    "## Comparing SVMs and Perceptrons"
   ]
  },
  {
   "cell_type": "markdown",
   "metadata": {
    "id": "HdpcQ1rC6FvE"
   },
   "source": [
    "We can compare the two algorithms side-by-side."
   ]
  },
  {
   "cell_type": "code",
   "execution_count": 10,
   "metadata": {
    "colab": {
     "base_uri": "https://localhost:8080/",
     "height": 75
    },
    "executionInfo": {
     "elapsed": 5,
     "status": "ok",
     "timestamp": 1713544979011,
     "user": {
      "displayName": "Lutz Hamel",
      "userId": "10287662568849688016"
     },
     "user_tz": 240
    },
    "id": "LiVwJ0Wy0TI4",
    "outputId": "4b48c4a0-63b2-4eb1-8c99-05cf0288dff9"
   },
   "outputs": [],
   "source": [
    "pmodel = Perceptron().fit(X,y)"
   ]
  },
  {
   "cell_type": "markdown",
   "metadata": {
    "id": "2b4aviaW6PfR"
   },
   "source": [
    "Plotting the two decision surfaces."
   ]
  },
  {
   "cell_type": "code",
   "execution_count": 11,
   "metadata": {
    "colab": {
     "base_uri": "https://localhost:8080/",
     "height": 434
    },
    "executionInfo": {
     "elapsed": 1573,
     "status": "ok",
     "timestamp": 1713544980581,
     "user": {
      "displayName": "Lutz Hamel",
      "userId": "10287662568849688016"
     },
     "user_tz": 240
    },
    "id": "rR4uGNHh5UOF",
    "outputId": "ca41e3f4-b386-407e-fe79-1c5c5a1e7353"
   },
   "outputs": [
    {
     "data": {
      "image/png": "[encoded data removed]",
      "text/plain": [
       "<Figure size 640x480 with 1 Axes>"
      ]
     },
     "metadata": {},
     "output_type": "display_data"
    }
   ],
   "source": [
    "plt.scatter(X[:, 0], X[:, 1], c=y, s=50, cmap='autumn')\n",
    "plot_svm_surface(model, X, surface_only=True);\n",
    "plot_perceptron_surface(pmodel,X)"
   ]
  },
  {
   "cell_type": "markdown",
   "metadata": {
    "id": "IEd7p3e06ThX"
   },
   "source": [
    "The decision surface for the SVM is given in black and the decision surface for the perceptron is given in green.  We can clearly see that the decision surface for the SVM is what we consider optimal."
   ]
  },
  {
   "cell_type": "markdown",
   "metadata": {
    "id": "-UFapw2q71CG"
   },
   "source": [
    "## Dealing with Noisy Data - Soft Margins"
   ]
  },
  {
   "cell_type": "markdown",
   "metadata": {
    "id": "6JKqf2YbMRof"
   },
   "source": [
    "Let regenerate our original data..."
   ]
  },
  {
   "cell_type": "code",
   "execution_count": 12,
   "metadata": {
    "executionInfo": {
     "elapsed": 5,
     "status": "ok",
     "timestamp": 1713544980581,
     "user": {
      "displayName": "Lutz Hamel",
      "userId": "10287662568849688016"
     },
     "user_tz": 240
    },
    "id": "Dx2G1YH98E-3"
   },
   "outputs": [],
   "source": [
    "X, y = make_blobs(n_samples=50, centers=2,\n",
    "                  random_state=0, cluster_std=0.60)"
   ]
  },
  {
   "cell_type": "markdown",
   "metadata": {
    "id": "ekhGimVtMVy3"
   },
   "source": [
    "but we will introduce a noisy point..."
   ]
  },
  {
   "cell_type": "code",
   "execution_count": 13,
   "metadata": {
    "executionInfo": {
     "elapsed": 5,
     "status": "ok",
     "timestamp": 1713544980881,
     "user": {
      "displayName": "Lutz Hamel",
      "userId": "10287662568849688016"
     },
     "user_tz": 240
    },
    "id": "f5cCklyO8VF7"
   },
   "outputs": [],
   "source": [
    "y[-5] = 0 # introducing noise by mapping a 1 class point to the 0 class"
   ]
  },
  {
   "cell_type": "code",
   "execution_count": 14,
   "metadata": {
    "colab": {
     "base_uri": "https://localhost:8080/",
     "height": 452
    },
    "executionInfo": {
     "elapsed": 2031,
     "status": "ok",
     "timestamp": 1713544982908,
     "user": {
      "displayName": "Lutz Hamel",
      "userId": "10287662568849688016"
     },
     "user_tz": 240
    },
    "id": "BY0O_FY_9Bg1",
    "outputId": "e8c07b2e-ac8d-42c5-debb-ac0a0ab4074a"
   },
   "outputs": [
    {
     "data": {
      "text/plain": [
       "<matplotlib.collections.PathCollection at 0x11ff465d0>"
      ]
     },
     "execution_count": 14,
     "metadata": {},
     "output_type": "execute_result"
    },
    {
     "data": {
      "image/png": "[encoded data removed]",
      "text/plain": [
       "<Figure size 640x480 with 1 Axes>"
      ]
     },
     "metadata": {},
     "output_type": "display_data"
    }
   ],
   "source": [
    "plt.scatter(X[:, 0], X[:, 1], c=y, s=50, cmap='autumn')\n"
   ]
  },
  {
   "cell_type": "markdown",
   "metadata": {
    "id": "o-gfrs6EMazs"
   },
   "source": [
    "Notice, there is one red point in the \"wrong\" class distribution.  Now let's fit an SVM with a hard margin.  Note that\n",
    "\n",
    "* margin_hardness = 1 is considered a soft margin (more on that further down)\n",
    "* margin_hardness > 100 is considered a hard margin"
   ]
  },
  {
   "cell_type": "code",
   "execution_count": 15,
   "metadata": {
    "executionInfo": {
     "elapsed": 3,
     "status": "ok",
     "timestamp": 1713544982908,
     "user": {
      "displayName": "Lutz Hamel",
      "userId": "10287662568849688016"
     },
     "user_tz": 240
    },
    "id": "7C39jCbXMuc3"
   },
   "outputs": [],
   "source": [
    "margin_hardness = 1000  # very hard margin"
   ]
  },
  {
   "cell_type": "markdown",
   "metadata": {
    "id": "I08bK1snMiZ7"
   },
   "source": [
    "The parameter C controls the margin, here we assign it a hardness value of 1,000."
   ]
  },
  {
   "cell_type": "code",
   "execution_count": 16,
   "metadata": {
    "colab": {
     "base_uri": "https://localhost:8080/",
     "height": 434
    },
    "executionInfo": {
     "elapsed": 1363,
     "status": "ok",
     "timestamp": 1713544984269,
     "user": {
      "displayName": "Lutz Hamel",
      "userId": "10287662568849688016"
     },
     "user_tz": 240
    },
    "id": "BqyOFj6_9ZZg",
    "outputId": "e0722d68-0f82-49d4-ee6f-dea6e2a763b3"
   },
   "outputs": [
    {
     "data": {
      "image/png": "[encoded data removed]",
      "text/plain": [
       "<Figure size 640x480 with 1 Axes>"
      ]
     },
     "metadata": {},
     "output_type": "display_data"
    }
   ],
   "source": [
    "model = SVC(kernel='linear', C=margin_hardness).fit(X, y)\n",
    "plt.scatter(X[:, 0], X[:, 1], c=y, s=50, cmap='autumn')\n",
    "plot_svm_surface(model, X);"
   ]
  },
  {
   "cell_type": "markdown",
   "metadata": {
    "id": "IEmSawUNNFFn"
   },
   "source": [
    "Notice that because of that one noisy point we obtain a suboptimal decision surface; a surface very close to the yellow class meaning that has a high likelihood to misclassify yellow points.\n",
    "\n",
    "Now, let's set the margin hardness to 1 meaning that the margin construction is \"soft\" and and can ignore noisy points."
   ]
  },
  {
   "cell_type": "code",
   "execution_count": 17,
   "metadata": {
    "executionInfo": {
     "elapsed": 4,
     "status": "ok",
     "timestamp": 1713544984270,
     "user": {
      "displayName": "Lutz Hamel",
      "userId": "10287662568849688016"
     },
     "user_tz": 240
    },
    "id": "uYLYF1WrNtXY"
   },
   "outputs": [],
   "source": [
    "margin_hardness = 1"
   ]
  },
  {
   "cell_type": "markdown",
   "metadata": {
    "id": "G6nu0y_oNxUv"
   },
   "source": [
    "Again, we set the C parameter to our margin hardness for fitting,"
   ]
  },
  {
   "cell_type": "code",
   "execution_count": 18,
   "metadata": {
    "colab": {
     "base_uri": "https://localhost:8080/",
     "height": 434
    },
    "executionInfo": {
     "elapsed": 1101,
     "status": "ok",
     "timestamp": 1713544985368,
     "user": {
      "displayName": "Lutz Hamel",
      "userId": "10287662568849688016"
     },
     "user_tz": 240
    },
    "id": "4-RAVYrVN5uP",
    "outputId": "58098c1a-ac18-4595-9d68-a1e3306c18b5"
   },
   "outputs": [
    {
     "data": {
      "image/png": "[encoded data removed]",
      "text/plain": [
       "<Figure size 640x480 with 1 Axes>"
      ]
     },
     "metadata": {},
     "output_type": "display_data"
    }
   ],
   "source": [
    "model = SVC(kernel='linear', C=margin_hardness).fit(X, y)\n",
    "plt.scatter(X[:, 0], X[:, 1], c=y, s=50, cmap='autumn')\n",
    "plot_svm_surface(model, X);"
   ]
  },
  {
   "cell_type": "markdown",
   "metadata": {
    "id": "0uw5jHanOMWy"
   },
   "source": [
    "Notice that we regained a margin that is optimal or close to optimal.  Also notice that the noisy point is on the wrong side of the decision surface.  In essence, the margin construction ingnored the noisy point in favor of a more optimal decision surface.  Exactly the kind of result we would like to see in noisy data.\n",
    "\n",
    "Note that the default for SVMs is `C=1`, that is, by default the construction uses soft margins."
   ]
  },
  {
   "cell_type": "markdown",
   "metadata": {
    "id": "OPS_SM7tPF98"
   },
   "source": [
    "## Nonlinear Data"
   ]
  },
  {
   "cell_type": "markdown",
   "metadata": {
    "id": "XkoRnss0PJ5Y"
   },
   "source": [
    "Not all data is separable by a linear decision surface.  For example, in the extreme case where one class is embedded in another class, like so,"
   ]
  },
  {
   "cell_type": "code",
   "execution_count": 19,
   "metadata": {
    "executionInfo": {
     "elapsed": 2,
     "status": "ok",
     "timestamp": 1713544985368,
     "user": {
      "displayName": "Lutz Hamel",
      "userId": "10287662568849688016"
     },
     "user_tz": 240
    },
    "id": "FxQGMU5DYlSB"
   },
   "outputs": [
    {
     "data": {
      "text/plain": [
       "<matplotlib.collections.PathCollection at 0x128433390>"
      ]
     },
     "execution_count": 19,
     "metadata": {},
     "output_type": "execute_result"
    },
    {
     "data": {
      "image/png": "[encoded data removed]",
      "text/plain": [
       "<Figure size 640x480 with 1 Axes>"
      ]
     },
     "metadata": {},
     "output_type": "display_data"
    }
   ],
   "source": [
    "X, y = make_circles(100, factor=.1, noise=.1)\n",
    "\n",
    "plt.scatter(X[:, 0], X[:, 1], c=y, s=50, cmap='autumn')"
   ]
  },
  {
   "cell_type": "markdown",
   "metadata": {
    "id": "4LUQWX8BY9z1"
   },
   "source": [
    "Here we can use **kernels** to model the non-linearities of the data.\n",
    "\n",
    "Let's use the **radial basis function (rbf)** kernel.  We will also use a **hard margin** because we know that the two classes are well separated.\n",
    "\n"
   ]
  },
  {
   "cell_type": "code",
   "execution_count": 20,
   "metadata": {
    "colab": {
     "base_uri": "https://localhost:8080/",
     "height": 75
    },
    "executionInfo": {
     "elapsed": 4,
     "status": "ok",
     "timestamp": 1713544986338,
     "user": {
      "displayName": "Lutz Hamel",
      "userId": "10287662568849688016"
     },
     "user_tz": 240
    },
    "id": "RdD_gwyeZuDe",
    "outputId": "fd64870c-2a49-4cc5-a108-072c20d7bf42"
   },
   "outputs": [],
   "source": [
    "model = SVC(kernel='rbf', C=1000).fit(X, y)"
   ]
  },
  {
   "cell_type": "markdown",
   "metadata": {
    "id": "urtp5DnVaTQ1"
   },
   "source": [
    "Let's visualize this decision surface in our training data space."
   ]
  },
  {
   "cell_type": "code",
   "execution_count": 21,
   "metadata": {
    "colab": {
     "base_uri": "https://localhost:8080/",
     "height": 434
    },
    "executionInfo": {
     "elapsed": 1240,
     "status": "ok",
     "timestamp": 1713544987574,
     "user": {
      "displayName": "Lutz Hamel",
      "userId": "10287662568849688016"
     },
     "user_tz": 240
    },
    "id": "QBkok5gVaa_2",
    "outputId": "c349cd11-c9fa-4c5a-c639-0b34ac37fa89"
   },
   "outputs": [
    {
     "data": {
      "image/png": "[encoded data removed]",
      "text/plain": [
       "<Figure size 640x480 with 1 Axes>"
      ]
     },
     "metadata": {},
     "output_type": "display_data"
    }
   ],
   "source": [
    "plt.scatter(X[:, 0], X[:, 1], c=y, s=50, cmap='autumn')\n",
    "plot_svm_surface(model,X,surface_only=True) # show surface\n",
    "plot_svm_surface(model,X,support_only=True) # show support vectors"
   ]
  },
  {
   "cell_type": "markdown",
   "metadata": {
    "id": "9CHf40a1b-1R"
   },
   "source": [
    "We can see the non-linear decision surface with its support vectors"
   ]
  },
  {
   "cell_type": "markdown",
   "metadata": {
    "id": "90qll5vrcoYF"
   },
   "source": [
    "# Example: Text Classification\n",
    "\n",
    "Because the SVM algorithm does not deteriorate with high dimensional data we can try it on our text classification problem."
   ]
  },
  {
   "cell_type": "code",
   "execution_count": 22,
   "metadata": {
    "colab": {
     "base_uri": "https://localhost:8080/",
     "height": 363
    },
    "executionInfo": {
     "elapsed": 6,
     "status": "ok",
     "timestamp": 1713544988858,
     "user": {
      "displayName": "Lutz Hamel",
      "userId": "10287662568849688016"
     },
     "user_tz": 240
    },
    "id": "Vv8m0ZBXDetq",
    "outputId": "a49e5b10-1e5a-4283-afd3-0fbc5afbe6bc"
   },
   "outputs": [
    {
     "data": {
      "text/html": [
       "<div>\n",
       "<style scoped>\n",
       "    .dataframe tbody tr th:only-of-type {\n",
       "        vertical-align: middle;\n",
       "    }\n",
       "\n",
       "    .dataframe tbody tr th {\n",
       "        vertical-align: top;\n",
       "    }\n",
       "\n",
       "    .dataframe thead th {\n",
       "        text-align: right;\n",
       "    }\n",
       "</style>\n",
       "<table border=\"1\" class=\"dataframe\">\n",
       "  <thead>\n",
       "    <tr style=\"text-align: right;\">\n",
       "      <th></th>\n",
       "      <th>text</th>\n",
       "      <th>label</th>\n",
       "    </tr>\n",
       "  </thead>\n",
       "  <tbody>\n",
       "    <tr>\n",
       "      <th>0</th>\n",
       "      <td>\\nIn billions of dollars (%GNP):\\nyear  GNP   ...</td>\n",
       "      <td>space</td>\n",
       "    </tr>\n",
       "    <tr>\n",
       "      <th>1</th>\n",
       "      <td>ajteel@dendrite.cs.Colorado.EDU (A.J. Teel) w...</td>\n",
       "      <td>space</td>\n",
       "    </tr>\n",
       "    <tr>\n",
       "      <th>2</th>\n",
       "      <td>\\nMy opinion is this:  In a society whose econ...</td>\n",
       "      <td>space</td>\n",
       "    </tr>\n",
       "    <tr>\n",
       "      <th>3</th>\n",
       "      <td>Ahhh, remember the days of Yesterday?  When we...</td>\n",
       "      <td>space</td>\n",
       "    </tr>\n",
       "    <tr>\n",
       "      <th>4</th>\n",
       "      <td>\\n\"...a la Chrysler\"??  Okay kids, to the near...</td>\n",
       "      <td>space</td>\n",
       "    </tr>\n",
       "    <tr>\n",
       "      <th>5</th>\n",
       "      <td>\\n   As for advertising -- sure, why not?  A N...</td>\n",
       "      <td>politics</td>\n",
       "    </tr>\n",
       "    <tr>\n",
       "      <th>6</th>\n",
       "      <td>\\n  What, pray tell, does this mean? Just who ...</td>\n",
       "      <td>space</td>\n",
       "    </tr>\n",
       "    <tr>\n",
       "      <th>7</th>\n",
       "      <td>\\nWhere does the shadow come from?  There's no...</td>\n",
       "      <td>politics</td>\n",
       "    </tr>\n",
       "    <tr>\n",
       "      <th>8</th>\n",
       "      <td>^^^^^^^^^...</td>\n",
       "      <td>politics</td>\n",
       "    </tr>\n",
       "    <tr>\n",
       "      <th>9</th>\n",
       "      <td>#Yet, when a law was proposed for Virginia tha...</td>\n",
       "      <td>space</td>\n",
       "    </tr>\n",
       "  </tbody>\n",
       "</table>\n",
       "</div>"
      ],
      "text/plain": [
       "                                                text     label\n",
       "0  \\nIn billions of dollars (%GNP):\\nyear  GNP   ...     space\n",
       "1   ajteel@dendrite.cs.Colorado.EDU (A.J. Teel) w...     space\n",
       "2  \\nMy opinion is this:  In a society whose econ...     space\n",
       "3  Ahhh, remember the days of Yesterday?  When we...     space\n",
       "4  \\n\"...a la Chrysler\"??  Okay kids, to the near...     space\n",
       "5  \\n   As for advertising -- sure, why not?  A N...  politics\n",
       "6  \\n  What, pray tell, does this mean? Just who ...     space\n",
       "7  \\nWhere does the shadow come from?  There's no...  politics\n",
       "8                                       ^^^^^^^^^...  politics\n",
       "9  #Yet, when a law was proposed for Virginia tha...     space"
      ]
     },
     "execution_count": 22,
     "metadata": {},
     "output_type": "execute_result"
    }
   ],
   "source": [
    "# get the newsgroup database\n",
    "newsgroups = pd.read_csv(home+\"newsgroups-noheaders.csv\")\n",
    "newsgroups.head(n=10)"
   ]
  },
  {
   "cell_type": "code",
   "execution_count": 23,
   "metadata": {
    "colab": {
     "base_uri": "https://localhost:8080/",
     "height": 273
    },
    "executionInfo": {
     "elapsed": 9669,
     "status": "ok",
     "timestamp": 1713544998523,
     "user": {
      "displayName": "Lutz Hamel",
      "userId": "10287662568849688016"
     },
     "user_tz": 240
    },
    "id": "W90EhJ8qDr_U",
    "outputId": "39f8c0a5-3187-43dc-9a1c-ec57d7150d33"
   },
   "outputs": [
    {
     "data": {
      "text/html": [
       "<div>\n",
       "<style scoped>\n",
       "    .dataframe tbody tr th:only-of-type {\n",
       "        vertical-align: middle;\n",
       "    }\n",
       "\n",
       "    .dataframe tbody tr th {\n",
       "        vertical-align: top;\n",
       "    }\n",
       "\n",
       "    .dataframe thead th {\n",
       "        text-align: right;\n",
       "    }\n",
       "</style>\n",
       "<table border=\"1\" class=\"dataframe\">\n",
       "  <thead>\n",
       "    <tr style=\"text-align: right;\">\n",
       "      <th></th>\n",
       "      <th>aa</th>\n",
       "      <th>abandon</th>\n",
       "      <th>abbey</th>\n",
       "      <th>abc</th>\n",
       "      <th>abil</th>\n",
       "      <th>abl</th>\n",
       "      <th>aboard</th>\n",
       "      <th>abolish</th>\n",
       "      <th>abort</th>\n",
       "      <th>abroad</th>\n",
       "      <th>...</th>\n",
       "      <th>yugoslavia</th>\n",
       "      <th>yup</th>\n",
       "      <th>z</th>\n",
       "      <th>zealand</th>\n",
       "      <th>zenit</th>\n",
       "      <th>zero</th>\n",
       "      <th>zeta</th>\n",
       "      <th>zip</th>\n",
       "      <th>zone</th>\n",
       "      <th>zoo</th>\n",
       "    </tr>\n",
       "  </thead>\n",
       "  <tbody>\n",
       "    <tr>\n",
       "      <th>0</th>\n",
       "      <td>0</td>\n",
       "      <td>0</td>\n",
       "      <td>0</td>\n",
       "      <td>0</td>\n",
       "      <td>0</td>\n",
       "      <td>0</td>\n",
       "      <td>0</td>\n",
       "      <td>0</td>\n",
       "      <td>0</td>\n",
       "      <td>0</td>\n",
       "      <td>...</td>\n",
       "      <td>0</td>\n",
       "      <td>0</td>\n",
       "      <td>0</td>\n",
       "      <td>0</td>\n",
       "      <td>0</td>\n",
       "      <td>0</td>\n",
       "      <td>0</td>\n",
       "      <td>0</td>\n",
       "      <td>0</td>\n",
       "      <td>0</td>\n",
       "    </tr>\n",
       "    <tr>\n",
       "      <th>1</th>\n",
       "      <td>0</td>\n",
       "      <td>0</td>\n",
       "      <td>0</td>\n",
       "      <td>0</td>\n",
       "      <td>0</td>\n",
       "      <td>0</td>\n",
       "      <td>0</td>\n",
       "      <td>0</td>\n",
       "      <td>0</td>\n",
       "      <td>0</td>\n",
       "      <td>...</td>\n",
       "      <td>0</td>\n",
       "      <td>0</td>\n",
       "      <td>0</td>\n",
       "      <td>0</td>\n",
       "      <td>0</td>\n",
       "      <td>0</td>\n",
       "      <td>0</td>\n",
       "      <td>0</td>\n",
       "      <td>0</td>\n",
       "      <td>0</td>\n",
       "    </tr>\n",
       "    <tr>\n",
       "      <th>2</th>\n",
       "      <td>0</td>\n",
       "      <td>0</td>\n",
       "      <td>0</td>\n",
       "      <td>0</td>\n",
       "      <td>0</td>\n",
       "      <td>0</td>\n",
       "      <td>0</td>\n",
       "      <td>0</td>\n",
       "      <td>0</td>\n",
       "      <td>0</td>\n",
       "      <td>...</td>\n",
       "      <td>0</td>\n",
       "      <td>0</td>\n",
       "      <td>0</td>\n",
       "      <td>0</td>\n",
       "      <td>0</td>\n",
       "      <td>0</td>\n",
       "      <td>0</td>\n",
       "      <td>0</td>\n",
       "      <td>0</td>\n",
       "      <td>0</td>\n",
       "    </tr>\n",
       "    <tr>\n",
       "      <th>3</th>\n",
       "      <td>0</td>\n",
       "      <td>0</td>\n",
       "      <td>0</td>\n",
       "      <td>0</td>\n",
       "      <td>0</td>\n",
       "      <td>0</td>\n",
       "      <td>0</td>\n",
       "      <td>0</td>\n",
       "      <td>0</td>\n",
       "      <td>0</td>\n",
       "      <td>...</td>\n",
       "      <td>0</td>\n",
       "      <td>0</td>\n",
       "      <td>0</td>\n",
       "      <td>0</td>\n",
       "      <td>0</td>\n",
       "      <td>0</td>\n",
       "      <td>0</td>\n",
       "      <td>0</td>\n",
       "      <td>0</td>\n",
       "      <td>0</td>\n",
       "    </tr>\n",
       "    <tr>\n",
       "      <th>4</th>\n",
       "      <td>0</td>\n",
       "      <td>0</td>\n",
       "      <td>0</td>\n",
       "      <td>0</td>\n",
       "      <td>0</td>\n",
       "      <td>0</td>\n",
       "      <td>0</td>\n",
       "      <td>0</td>\n",
       "      <td>0</td>\n",
       "      <td>0</td>\n",
       "      <td>...</td>\n",
       "      <td>0</td>\n",
       "      <td>0</td>\n",
       "      <td>0</td>\n",
       "      <td>0</td>\n",
       "      <td>0</td>\n",
       "      <td>1</td>\n",
       "      <td>0</td>\n",
       "      <td>0</td>\n",
       "      <td>0</td>\n",
       "      <td>0</td>\n",
       "    </tr>\n",
       "    <tr>\n",
       "      <th>...</th>\n",
       "      <td>...</td>\n",
       "      <td>...</td>\n",
       "      <td>...</td>\n",
       "      <td>...</td>\n",
       "      <td>...</td>\n",
       "      <td>...</td>\n",
       "      <td>...</td>\n",
       "      <td>...</td>\n",
       "      <td>...</td>\n",
       "      <td>...</td>\n",
       "      <td>...</td>\n",
       "      <td>...</td>\n",
       "      <td>...</td>\n",
       "      <td>...</td>\n",
       "      <td>...</td>\n",
       "      <td>...</td>\n",
       "      <td>...</td>\n",
       "      <td>...</td>\n",
       "      <td>...</td>\n",
       "      <td>...</td>\n",
       "      <td>...</td>\n",
       "    </tr>\n",
       "    <tr>\n",
       "      <th>1033</th>\n",
       "      <td>0</td>\n",
       "      <td>0</td>\n",
       "      <td>0</td>\n",
       "      <td>0</td>\n",
       "      <td>0</td>\n",
       "      <td>0</td>\n",
       "      <td>0</td>\n",
       "      <td>0</td>\n",
       "      <td>0</td>\n",
       "      <td>0</td>\n",
       "      <td>...</td>\n",
       "      <td>0</td>\n",
       "      <td>0</td>\n",
       "      <td>0</td>\n",
       "      <td>0</td>\n",
       "      <td>0</td>\n",
       "      <td>0</td>\n",
       "      <td>0</td>\n",
       "      <td>0</td>\n",
       "      <td>0</td>\n",
       "      <td>0</td>\n",
       "    </tr>\n",
       "    <tr>\n",
       "      <th>1034</th>\n",
       "      <td>0</td>\n",
       "      <td>0</td>\n",
       "      <td>0</td>\n",
       "      <td>0</td>\n",
       "      <td>0</td>\n",
       "      <td>0</td>\n",
       "      <td>0</td>\n",
       "      <td>0</td>\n",
       "      <td>0</td>\n",
       "      <td>0</td>\n",
       "      <td>...</td>\n",
       "      <td>0</td>\n",
       "      <td>0</td>\n",
       "      <td>0</td>\n",
       "      <td>0</td>\n",
       "      <td>0</td>\n",
       "      <td>0</td>\n",
       "      <td>0</td>\n",
       "      <td>0</td>\n",
       "      <td>0</td>\n",
       "      <td>0</td>\n",
       "    </tr>\n",
       "    <tr>\n",
       "      <th>1035</th>\n",
       "      <td>0</td>\n",
       "      <td>0</td>\n",
       "      <td>0</td>\n",
       "      <td>0</td>\n",
       "      <td>0</td>\n",
       "      <td>0</td>\n",
       "      <td>0</td>\n",
       "      <td>0</td>\n",
       "      <td>0</td>\n",
       "      <td>0</td>\n",
       "      <td>...</td>\n",
       "      <td>0</td>\n",
       "      <td>0</td>\n",
       "      <td>0</td>\n",
       "      <td>0</td>\n",
       "      <td>0</td>\n",
       "      <td>0</td>\n",
       "      <td>0</td>\n",
       "      <td>0</td>\n",
       "      <td>0</td>\n",
       "      <td>0</td>\n",
       "    </tr>\n",
       "    <tr>\n",
       "      <th>1036</th>\n",
       "      <td>0</td>\n",
       "      <td>0</td>\n",
       "      <td>0</td>\n",
       "      <td>0</td>\n",
       "      <td>0</td>\n",
       "      <td>0</td>\n",
       "      <td>0</td>\n",
       "      <td>0</td>\n",
       "      <td>0</td>\n",
       "      <td>0</td>\n",
       "      <td>...</td>\n",
       "      <td>0</td>\n",
       "      <td>0</td>\n",
       "      <td>0</td>\n",
       "      <td>0</td>\n",
       "      <td>0</td>\n",
       "      <td>0</td>\n",
       "      <td>0</td>\n",
       "      <td>0</td>\n",
       "      <td>0</td>\n",
       "      <td>0</td>\n",
       "    </tr>\n",
       "    <tr>\n",
       "      <th>1037</th>\n",
       "      <td>0</td>\n",
       "      <td>0</td>\n",
       "      <td>0</td>\n",
       "      <td>0</td>\n",
       "      <td>0</td>\n",
       "      <td>0</td>\n",
       "      <td>0</td>\n",
       "      <td>0</td>\n",
       "      <td>0</td>\n",
       "      <td>0</td>\n",
       "      <td>...</td>\n",
       "      <td>0</td>\n",
       "      <td>0</td>\n",
       "      <td>0</td>\n",
       "      <td>0</td>\n",
       "      <td>0</td>\n",
       "      <td>0</td>\n",
       "      <td>0</td>\n",
       "      <td>0</td>\n",
       "      <td>0</td>\n",
       "      <td>0</td>\n",
       "    </tr>\n",
       "  </tbody>\n",
       "</table>\n",
       "<p>1038 rows × 6045 columns</p>\n",
       "</div>"
      ],
      "text/plain": [
       "      aa  abandon  abbey  abc  abil  abl  aboard  abolish  abort  abroad  ...  \\\n",
       "0      0        0      0    0     0    0       0        0      0       0  ...   \n",
       "1      0        0      0    0     0    0       0        0      0       0  ...   \n",
       "2      0        0      0    0     0    0       0        0      0       0  ...   \n",
       "3      0        0      0    0     0    0       0        0      0       0  ...   \n",
       "4      0        0      0    0     0    0       0        0      0       0  ...   \n",
       "...   ..      ...    ...  ...   ...  ...     ...      ...    ...     ...  ...   \n",
       "1033   0        0      0    0     0    0       0        0      0       0  ...   \n",
       "1034   0        0      0    0     0    0       0        0      0       0  ...   \n",
       "1035   0        0      0    0     0    0       0        0      0       0  ...   \n",
       "1036   0        0      0    0     0    0       0        0      0       0  ...   \n",
       "1037   0        0      0    0     0    0       0        0      0       0  ...   \n",
       "\n",
       "      yugoslavia  yup  z  zealand  zenit  zero  zeta  zip  zone  zoo  \n",
       "0              0    0  0        0      0     0     0    0     0    0  \n",
       "1              0    0  0        0      0     0     0    0     0    0  \n",
       "2              0    0  0        0      0     0     0    0     0    0  \n",
       "3              0    0  0        0      0     0     0    0     0    0  \n",
       "4              0    0  0        0      0     1     0    0     0    0  \n",
       "...          ...  ... ..      ...    ...   ...   ...  ...   ...  ...  \n",
       "1033           0    0  0        0      0     0     0    0     0    0  \n",
       "1034           0    0  0        0      0     0     0    0     0    0  \n",
       "1035           0    0  0        0      0     0     0    0     0    0  \n",
       "1036           0    0  0        0      0     0     0    0     0    0  \n",
       "1037           0    0  0        0      0     0     0    0     0    0  \n",
       "\n",
       "[1038 rows x 6045 columns]"
      ]
     },
     "execution_count": 23,
     "metadata": {},
     "output_type": "execute_result"
    }
   ],
   "source": [
    "# construct the docterm matrix\n",
    "stemmer = PorterStemmer()\n",
    "analyzer= CountVectorizer(analyzer = \"word\",\n",
    "                          stop_words = 'english',\n",
    "                          token_pattern = \"[a-zA-Z]+\")\\\n",
    "            .build_analyzer()\n",
    "def doc_stemmer(doc):\n",
    "    return [stemmer.stem(w) for w in analyzer(doc)]\n",
    "vectorizer = CountVectorizer(analyzer=doc_stemmer,\n",
    "                             binary=True,\n",
    "                             min_df=2) \n",
    "docterm = pd.DataFrame(data=vectorizer.fit_transform(newsgroups['text']).toarray(), \n",
    "                       columns=list(vectorizer.get_feature_names_out()))\n",
    "docterm"
   ]
  },
  {
   "cell_type": "code",
   "execution_count": 24,
   "metadata": {
    "executionInfo": {
     "elapsed": 20,
     "status": "ok",
     "timestamp": 1713544998523,
     "user": {
      "displayName": "Lutz Hamel",
      "userId": "10287662568849688016"
     },
     "user_tz": 240
    },
    "id": "oXz82TTHPtLS"
   },
   "outputs": [],
   "source": [
    "# set up train and test sets\n",
    "X_train, X_test, y_train, y_test = \\\n",
    "  train_test_split(docterm,   # as X\n",
    "                   newsgroups['label'],  # as y\n",
    "                   train_size=0.8,\n",
    "                   test_size=0.2,\n",
    "                   random_state=2)"
   ]
  },
  {
   "cell_type": "code",
   "execution_count": 25,
   "metadata": {
    "colab": {
     "base_uri": "https://localhost:8080/"
    },
    "executionInfo": {
     "elapsed": 86222,
     "status": "ok",
     "timestamp": 1713545084726,
     "user": {
      "displayName": "Lutz Hamel",
      "userId": "10287662568849688016"
     },
     "user_tz": 240
    },
    "id": "u9QfQssvP6m5",
    "outputId": "d1bda4ae-62fd-452d-f79d-c4acb3f8d9a7"
   },
   "outputs": [],
   "source": [
    "# model object\n",
    "model = SVC()"
   ]
  },
  {
   "cell_type": "code",
   "execution_count": 26,
   "metadata": {},
   "outputs": [
    {
     "name": "stdout",
     "output_type": "stream",
     "text": [
      "Grid Search: best parameters: {'C': 10, 'gamma': 0.01, 'kernel': 'rbf'}\n"
     ]
    }
   ],
   "source": [
    "# grid search\n",
    "param_grid = {\n",
    "      'kernel':['linear','rbf'],\n",
    "      'C': [1, 10, 100, 1000],\n",
    "      'gamma': [0.0001, 0.001, 0.01]\n",
    "}\n",
    "grid = GridSearchCV(model, param_grid, cv=3).fit(X_train, y_train)\n",
    "print(\"Grid Search: best parameters: {}\".format(grid.best_params_))\n",
    "best_model = grid.best_estimator_"
   ]
  },
  {
   "cell_type": "code",
   "execution_count": 27,
   "metadata": {
    "colab": {
     "base_uri": "https://localhost:8080/"
    },
    "executionInfo": {
     "elapsed": 954,
     "status": "ok",
     "timestamp": 1713545085642,
     "user": {
      "displayName": "Lutz Hamel",
      "userId": "10287662568849688016"
     },
     "user_tz": 240
    },
    "id": "DS3_GfdLQ0ZI",
    "outputId": "b6d35356-a051-4318-9ef0-02f1ade2323b"
   },
   "outputs": [
    {
     "name": "stdout",
     "output_type": "stream",
     "text": [
      "Accuracy: 0.88 (0.84,0.93)\n"
     ]
    }
   ],
   "source": [
    "# Evaluate the best model\n",
    "acc = best_model.score(X_test,y_test)\n",
    "lb,ub = classification_confint(acc,X_test.shape[0])\n",
    "print(\"Accuracy: {:3.2f} ({:3.2f},{:3.2f})\".format(acc,lb,ub))"
   ]
  },
  {
   "cell_type": "code",
   "execution_count": 28,
   "metadata": {
    "colab": {
     "base_uri": "https://localhost:8080/",
     "height": 112
    },
    "executionInfo": {
     "elapsed": 14,
     "status": "ok",
     "timestamp": 1713545085642,
     "user": {
      "displayName": "Lutz Hamel",
      "userId": "10287662568849688016"
     },
     "user_tz": 240
    },
    "id": "45tqIEJHQ1lK",
    "outputId": "ca69cb3b-a3b6-4fc9-ea20-6bc7c4a5b927"
   },
   "outputs": [
    {
     "data": {
      "text/html": [
       "<div>\n",
       "<style scoped>\n",
       "    .dataframe tbody tr th:only-of-type {\n",
       "        vertical-align: middle;\n",
       "    }\n",
       "\n",
       "    .dataframe tbody tr th {\n",
       "        vertical-align: top;\n",
       "    }\n",
       "\n",
       "    .dataframe thead th {\n",
       "        text-align: right;\n",
       "    }\n",
       "</style>\n",
       "<table border=\"1\" class=\"dataframe\">\n",
       "  <thead>\n",
       "    <tr style=\"text-align: right;\">\n",
       "      <th></th>\n",
       "      <th>politics</th>\n",
       "      <th>space</th>\n",
       "    </tr>\n",
       "  </thead>\n",
       "  <tbody>\n",
       "    <tr>\n",
       "      <th>politics</th>\n",
       "      <td>100</td>\n",
       "      <td>9</td>\n",
       "    </tr>\n",
       "    <tr>\n",
       "      <th>space</th>\n",
       "      <td>15</td>\n",
       "      <td>84</td>\n",
       "    </tr>\n",
       "  </tbody>\n",
       "</table>\n",
       "</div>"
      ],
      "text/plain": [
       "          politics  space\n",
       "politics       100      9\n",
       "space           15     84"
      ]
     },
     "execution_count": 28,
     "metadata": {},
     "output_type": "execute_result"
    }
   ],
   "source": [
    "# build the confusion matrix\n",
    "labels = ['politics','space']\n",
    "cm = pd.DataFrame(data=confusion_matrix(y_test,best_model.predict(X_test),labels=labels), \n",
    "                  index=labels, \n",
    "                  columns=labels)\n",
    "cm"
   ]
  },
  {
   "cell_type": "markdown",
   "metadata": {
    "id": "lcQwkdnkiLpM"
   },
   "source": [
    "Putting this into context with all the other classifiers we tried on this dataset:\n",
    "\n",
    "**decision tree**: Accuracy: 0.74 (0.68,0.80)\n",
    "\n",
    "**SVM**: Accuracy: 0.88 (0.84,0.93)\n",
    "\n",
    "**random forest**: Accuracy: 0.90 (0.86,0.94)\n",
    "\n",
    "**gradient boosting**: Accuracy: 0.91 (0.87,0.95)\n",
    "\n",
    "**naive bayes**: 0.96 (0.93,0.98)\n"
   ]
  },
  {
   "cell_type": "markdown",
   "metadata": {
    "id": "YElq6teKigzY"
   },
   "source": [
    "# Example: Handwritten Digit Classification\n",
    "\n",
    "Our handwritten digit information lives in 64 dimensional space.  Again, very suitable for the SVM algorithm."
   ]
  },
  {
   "cell_type": "code",
   "execution_count": 29,
   "metadata": {
    "colab": {
     "base_uri": "https://localhost:8080/"
    },
    "executionInfo": {
     "elapsed": 7842,
     "status": "ok",
     "timestamp": 1713545093475,
     "user": {
      "displayName": "Lutz Hamel",
      "userId": "10287662568849688016"
     },
     "user_tz": 240
    },
    "id": "me9Uoh1sRcnP",
    "outputId": "39f2ddb5-3281-4c4b-e2b1-ddd8c8a72a34"
   },
   "outputs": [
    {
     "data": {
      "text/html": [
       "<div>\n",
       "<style scoped>\n",
       "    .dataframe tbody tr th:only-of-type {\n",
       "        vertical-align: middle;\n",
       "    }\n",
       "\n",
       "    .dataframe tbody tr th {\n",
       "        vertical-align: top;\n",
       "    }\n",
       "\n",
       "    .dataframe thead th {\n",
       "        text-align: right;\n",
       "    }\n",
       "</style>\n",
       "<table border=\"1\" class=\"dataframe\">\n",
       "  <thead>\n",
       "    <tr style=\"text-align: right;\">\n",
       "      <th></th>\n",
       "      <th>a1</th>\n",
       "      <th>a2</th>\n",
       "      <th>a3</th>\n",
       "      <th>a4</th>\n",
       "      <th>a5</th>\n",
       "      <th>a6</th>\n",
       "      <th>a7</th>\n",
       "      <th>a8</th>\n",
       "      <th>a9</th>\n",
       "      <th>a10</th>\n",
       "      <th>...</th>\n",
       "      <th>a56</th>\n",
       "      <th>a57</th>\n",
       "      <th>a58</th>\n",
       "      <th>a59</th>\n",
       "      <th>a60</th>\n",
       "      <th>a61</th>\n",
       "      <th>a62</th>\n",
       "      <th>a63</th>\n",
       "      <th>a64</th>\n",
       "      <th>digit</th>\n",
       "    </tr>\n",
       "  </thead>\n",
       "  <tbody>\n",
       "    <tr>\n",
       "      <th>0</th>\n",
       "      <td>0</td>\n",
       "      <td>1</td>\n",
       "      <td>6</td>\n",
       "      <td>15</td>\n",
       "      <td>12</td>\n",
       "      <td>1</td>\n",
       "      <td>0</td>\n",
       "      <td>0</td>\n",
       "      <td>0</td>\n",
       "      <td>7</td>\n",
       "      <td>...</td>\n",
       "      <td>0</td>\n",
       "      <td>0</td>\n",
       "      <td>0</td>\n",
       "      <td>6</td>\n",
       "      <td>14</td>\n",
       "      <td>7</td>\n",
       "      <td>1</td>\n",
       "      <td>0</td>\n",
       "      <td>0</td>\n",
       "      <td>0</td>\n",
       "    </tr>\n",
       "    <tr>\n",
       "      <th>1</th>\n",
       "      <td>0</td>\n",
       "      <td>0</td>\n",
       "      <td>10</td>\n",
       "      <td>16</td>\n",
       "      <td>6</td>\n",
       "      <td>0</td>\n",
       "      <td>0</td>\n",
       "      <td>0</td>\n",
       "      <td>0</td>\n",
       "      <td>7</td>\n",
       "      <td>...</td>\n",
       "      <td>0</td>\n",
       "      <td>0</td>\n",
       "      <td>0</td>\n",
       "      <td>10</td>\n",
       "      <td>16</td>\n",
       "      <td>15</td>\n",
       "      <td>3</td>\n",
       "      <td>0</td>\n",
       "      <td>0</td>\n",
       "      <td>0</td>\n",
       "    </tr>\n",
       "    <tr>\n",
       "      <th>2</th>\n",
       "      <td>0</td>\n",
       "      <td>0</td>\n",
       "      <td>8</td>\n",
       "      <td>15</td>\n",
       "      <td>16</td>\n",
       "      <td>13</td>\n",
       "      <td>0</td>\n",
       "      <td>0</td>\n",
       "      <td>0</td>\n",
       "      <td>1</td>\n",
       "      <td>...</td>\n",
       "      <td>0</td>\n",
       "      <td>0</td>\n",
       "      <td>0</td>\n",
       "      <td>9</td>\n",
       "      <td>14</td>\n",
       "      <td>0</td>\n",
       "      <td>0</td>\n",
       "      <td>0</td>\n",
       "      <td>0</td>\n",
       "      <td>7</td>\n",
       "    </tr>\n",
       "    <tr>\n",
       "      <th>3</th>\n",
       "      <td>0</td>\n",
       "      <td>0</td>\n",
       "      <td>0</td>\n",
       "      <td>3</td>\n",
       "      <td>11</td>\n",
       "      <td>16</td>\n",
       "      <td>0</td>\n",
       "      <td>0</td>\n",
       "      <td>0</td>\n",
       "      <td>0</td>\n",
       "      <td>...</td>\n",
       "      <td>0</td>\n",
       "      <td>0</td>\n",
       "      <td>0</td>\n",
       "      <td>0</td>\n",
       "      <td>1</td>\n",
       "      <td>15</td>\n",
       "      <td>2</td>\n",
       "      <td>0</td>\n",
       "      <td>0</td>\n",
       "      <td>4</td>\n",
       "    </tr>\n",
       "    <tr>\n",
       "      <th>4</th>\n",
       "      <td>0</td>\n",
       "      <td>0</td>\n",
       "      <td>5</td>\n",
       "      <td>14</td>\n",
       "      <td>4</td>\n",
       "      <td>0</td>\n",
       "      <td>0</td>\n",
       "      <td>0</td>\n",
       "      <td>0</td>\n",
       "      <td>0</td>\n",
       "      <td>...</td>\n",
       "      <td>0</td>\n",
       "      <td>0</td>\n",
       "      <td>0</td>\n",
       "      <td>4</td>\n",
       "      <td>12</td>\n",
       "      <td>14</td>\n",
       "      <td>7</td>\n",
       "      <td>0</td>\n",
       "      <td>0</td>\n",
       "      <td>6</td>\n",
       "    </tr>\n",
       "    <tr>\n",
       "      <th>...</th>\n",
       "      <td>...</td>\n",
       "      <td>...</td>\n",
       "      <td>...</td>\n",
       "      <td>...</td>\n",
       "      <td>...</td>\n",
       "      <td>...</td>\n",
       "      <td>...</td>\n",
       "      <td>...</td>\n",
       "      <td>...</td>\n",
       "      <td>...</td>\n",
       "      <td>...</td>\n",
       "      <td>...</td>\n",
       "      <td>...</td>\n",
       "      <td>...</td>\n",
       "      <td>...</td>\n",
       "      <td>...</td>\n",
       "      <td>...</td>\n",
       "      <td>...</td>\n",
       "      <td>...</td>\n",
       "      <td>...</td>\n",
       "      <td>...</td>\n",
       "    </tr>\n",
       "    <tr>\n",
       "      <th>5615</th>\n",
       "      <td>0</td>\n",
       "      <td>0</td>\n",
       "      <td>4</td>\n",
       "      <td>10</td>\n",
       "      <td>13</td>\n",
       "      <td>6</td>\n",
       "      <td>0</td>\n",
       "      <td>0</td>\n",
       "      <td>0</td>\n",
       "      <td>1</td>\n",
       "      <td>...</td>\n",
       "      <td>0</td>\n",
       "      <td>0</td>\n",
       "      <td>0</td>\n",
       "      <td>2</td>\n",
       "      <td>14</td>\n",
       "      <td>15</td>\n",
       "      <td>9</td>\n",
       "      <td>0</td>\n",
       "      <td>0</td>\n",
       "      <td>9</td>\n",
       "    </tr>\n",
       "    <tr>\n",
       "      <th>5616</th>\n",
       "      <td>0</td>\n",
       "      <td>0</td>\n",
       "      <td>6</td>\n",
       "      <td>16</td>\n",
       "      <td>13</td>\n",
       "      <td>11</td>\n",
       "      <td>1</td>\n",
       "      <td>0</td>\n",
       "      <td>0</td>\n",
       "      <td>0</td>\n",
       "      <td>...</td>\n",
       "      <td>0</td>\n",
       "      <td>0</td>\n",
       "      <td>0</td>\n",
       "      <td>6</td>\n",
       "      <td>16</td>\n",
       "      <td>14</td>\n",
       "      <td>6</td>\n",
       "      <td>0</td>\n",
       "      <td>0</td>\n",
       "      <td>0</td>\n",
       "    </tr>\n",
       "    <tr>\n",
       "      <th>5617</th>\n",
       "      <td>0</td>\n",
       "      <td>0</td>\n",
       "      <td>1</td>\n",
       "      <td>11</td>\n",
       "      <td>15</td>\n",
       "      <td>1</td>\n",
       "      <td>0</td>\n",
       "      <td>0</td>\n",
       "      <td>0</td>\n",
       "      <td>0</td>\n",
       "      <td>...</td>\n",
       "      <td>0</td>\n",
       "      <td>0</td>\n",
       "      <td>0</td>\n",
       "      <td>2</td>\n",
       "      <td>9</td>\n",
       "      <td>13</td>\n",
       "      <td>6</td>\n",
       "      <td>0</td>\n",
       "      <td>0</td>\n",
       "      <td>8</td>\n",
       "    </tr>\n",
       "    <tr>\n",
       "      <th>5618</th>\n",
       "      <td>0</td>\n",
       "      <td>0</td>\n",
       "      <td>2</td>\n",
       "      <td>10</td>\n",
       "      <td>7</td>\n",
       "      <td>0</td>\n",
       "      <td>0</td>\n",
       "      <td>0</td>\n",
       "      <td>0</td>\n",
       "      <td>0</td>\n",
       "      <td>...</td>\n",
       "      <td>0</td>\n",
       "      <td>0</td>\n",
       "      <td>0</td>\n",
       "      <td>5</td>\n",
       "      <td>12</td>\n",
       "      <td>16</td>\n",
       "      <td>12</td>\n",
       "      <td>0</td>\n",
       "      <td>0</td>\n",
       "      <td>9</td>\n",
       "    </tr>\n",
       "    <tr>\n",
       "      <th>5619</th>\n",
       "      <td>0</td>\n",
       "      <td>0</td>\n",
       "      <td>10</td>\n",
       "      <td>14</td>\n",
       "      <td>8</td>\n",
       "      <td>1</td>\n",
       "      <td>0</td>\n",
       "      <td>0</td>\n",
       "      <td>0</td>\n",
       "      <td>2</td>\n",
       "      <td>...</td>\n",
       "      <td>0</td>\n",
       "      <td>0</td>\n",
       "      <td>1</td>\n",
       "      <td>8</td>\n",
       "      <td>12</td>\n",
       "      <td>14</td>\n",
       "      <td>12</td>\n",
       "      <td>1</td>\n",
       "      <td>0</td>\n",
       "      <td>8</td>\n",
       "    </tr>\n",
       "  </tbody>\n",
       "</table>\n",
       "<p>5620 rows × 65 columns</p>\n",
       "</div>"
      ],
      "text/plain": [
       "      a1  a2  a3  a4  a5  a6  a7  a8  a9  a10  ...  a56  a57  a58  a59  a60  \\\n",
       "0      0   1   6  15  12   1   0   0   0    7  ...    0    0    0    6   14   \n",
       "1      0   0  10  16   6   0   0   0   0    7  ...    0    0    0   10   16   \n",
       "2      0   0   8  15  16  13   0   0   0    1  ...    0    0    0    9   14   \n",
       "3      0   0   0   3  11  16   0   0   0    0  ...    0    0    0    0    1   \n",
       "4      0   0   5  14   4   0   0   0   0    0  ...    0    0    0    4   12   \n",
       "...   ..  ..  ..  ..  ..  ..  ..  ..  ..  ...  ...  ...  ...  ...  ...  ...   \n",
       "5615   0   0   4  10  13   6   0   0   0    1  ...    0    0    0    2   14   \n",
       "5616   0   0   6  16  13  11   1   0   0    0  ...    0    0    0    6   16   \n",
       "5617   0   0   1  11  15   1   0   0   0    0  ...    0    0    0    2    9   \n",
       "5618   0   0   2  10   7   0   0   0   0    0  ...    0    0    0    5   12   \n",
       "5619   0   0  10  14   8   1   0   0   0    2  ...    0    0    1    8   12   \n",
       "\n",
       "      a61  a62  a63  a64  digit  \n",
       "0       7    1    0    0      0  \n",
       "1      15    3    0    0      0  \n",
       "2       0    0    0    0      7  \n",
       "3      15    2    0    0      4  \n",
       "4      14    7    0    0      6  \n",
       "...   ...  ...  ...  ...    ...  \n",
       "5615   15    9    0    0      9  \n",
       "5616   14    6    0    0      0  \n",
       "5617   13    6    0    0      8  \n",
       "5618   16   12    0    0      9  \n",
       "5619   14   12    1    0      8  \n",
       "\n",
       "[5620 rows x 65 columns]"
      ]
     },
     "execution_count": 29,
     "metadata": {},
     "output_type": "execute_result"
    }
   ],
   "source": [
    "# fetch dataset\n",
    "digits = pd.read_csv(home+'optdigits.csv', header=None)\n",
    "digits.columns = ['a'+str(i) for i in range(1,65)] + ['digit']\n",
    "digits"
   ]
  },
  {
   "cell_type": "code",
   "execution_count": 30,
   "metadata": {},
   "outputs": [],
   "source": [
    "# data\n",
    "X = digits.drop(columns=['digit'])\n",
    "y = digits[['digit']]"
   ]
  },
  {
   "cell_type": "markdown",
   "metadata": {
    "id": "nc_r-2noQcZe"
   },
   "source": [
    "Note that this is a 10-way classification problem.  A single SVM can only discriminate two classes. The sklearn SVM implementation deals with it by building one SVM for each class (digit in this case) and then uses an aggregation scheme to come up with a single classification."
   ]
  },
  {
   "cell_type": "code",
   "execution_count": 31,
   "metadata": {
    "executionInfo": {
     "elapsed": 3,
     "status": "ok",
     "timestamp": 1713545193790,
     "user": {
      "displayName": "Lutz Hamel",
      "userId": "10287662568849688016"
     },
     "user_tz": 240
    },
    "id": "bVWw0RV0Rx1C"
   },
   "outputs": [],
   "source": [
    "# setting up training/testing data\n",
    "X_train, X_test, y_train, y_test = train_test_split(\n",
    "    X,\n",
    "    y['digit'], # we want a series as target\n",
    "    train_size=0.8,\n",
    "    test_size=0.2,\n",
    "    random_state=1\n",
    ")"
   ]
  },
  {
   "cell_type": "code",
   "execution_count": 32,
   "metadata": {
    "colab": {
     "base_uri": "https://localhost:8080/"
    },
    "executionInfo": {
     "elapsed": 53054,
     "status": "ok",
     "timestamp": 1713545246842,
     "user": {
      "displayName": "Lutz Hamel",
      "userId": "10287662568849688016"
     },
     "user_tz": 240
    },
    "id": "Dm3jZpYljEFX",
    "outputId": "82a75e2f-b2c1-46ee-d09e-33c81037f4c0"
   },
   "outputs": [],
   "source": [
    "# model object\n",
    "model = SVC()\n"
   ]
  },
  {
   "cell_type": "code",
   "execution_count": 33,
   "metadata": {},
   "outputs": [
    {
     "name": "stdout",
     "output_type": "stream",
     "text": [
      "Grid Search: best parameters: {'C': 10, 'gamma': 0.001, 'kernel': 'rbf'}\n"
     ]
    }
   ],
   "source": [
    "# grid search\n",
    "param_grid = {\n",
    "      'kernel':['linear','rbf'],\n",
    "      'C': [1, 10, 100, 1000],\n",
    "      'gamma': [0.0001, 0.001, 0.01, 0.1]\n",
    "}\n",
    "grid = GridSearchCV(model, param_grid, cv=3).fit(X_train, y_train)\n",
    "print(\"Grid Search: best parameters: {}\".format(grid.best_params_))\n",
    "best_model = grid.best_estimator_"
   ]
  },
  {
   "cell_type": "code",
   "execution_count": 34,
   "metadata": {
    "colab": {
     "base_uri": "https://localhost:8080/"
    },
    "executionInfo": {
     "elapsed": 225,
     "status": "ok",
     "timestamp": 1713545247049,
     "user": {
      "displayName": "Lutz Hamel",
      "userId": "10287662568849688016"
     },
     "user_tz": 240
    },
    "id": "1oa9sYuVjEFm",
    "outputId": "7607968b-e53f-4679-93e9-88b4e0b8a6fd"
   },
   "outputs": [
    {
     "name": "stdout",
     "output_type": "stream",
     "text": [
      "Accuracy: 0.99 (0.99,1.00)\n"
     ]
    }
   ],
   "source": [
    "# Evaluate the best model\n",
    "acc = best_model.score(X_test,y_test)\n",
    "lb,ub = classification_confint(acc,X_test.shape[0])\n",
    "print(\"Accuracy: {:3.2f} ({:3.2f},{:3.2f})\".format(acc,lb,ub))"
   ]
  },
  {
   "cell_type": "code",
   "execution_count": 35,
   "metadata": {
    "colab": {
     "base_uri": "https://localhost:8080/",
     "height": 363
    },
    "executionInfo": {
     "elapsed": 4,
     "status": "ok",
     "timestamp": 1713545247049,
     "user": {
      "displayName": "Lutz Hamel",
      "userId": "10287662568849688016"
     },
     "user_tz": 240
    },
    "id": "bSjTLNpZTIeF",
    "outputId": "5c84226e-a4b2-42e7-f7c0-98fbb30751b5"
   },
   "outputs": [
    {
     "data": {
      "text/html": [
       "<div>\n",
       "<style scoped>\n",
       "    .dataframe tbody tr th:only-of-type {\n",
       "        vertical-align: middle;\n",
       "    }\n",
       "\n",
       "    .dataframe tbody tr th {\n",
       "        vertical-align: top;\n",
       "    }\n",
       "\n",
       "    .dataframe thead th {\n",
       "        text-align: right;\n",
       "    }\n",
       "</style>\n",
       "<table border=\"1\" class=\"dataframe\">\n",
       "  <thead>\n",
       "    <tr style=\"text-align: right;\">\n",
       "      <th></th>\n",
       "      <th>0</th>\n",
       "      <th>1</th>\n",
       "      <th>2</th>\n",
       "      <th>3</th>\n",
       "      <th>4</th>\n",
       "      <th>5</th>\n",
       "      <th>6</th>\n",
       "      <th>7</th>\n",
       "      <th>8</th>\n",
       "      <th>9</th>\n",
       "    </tr>\n",
       "  </thead>\n",
       "  <tbody>\n",
       "    <tr>\n",
       "      <th>0</th>\n",
       "      <td>105</td>\n",
       "      <td>0</td>\n",
       "      <td>0</td>\n",
       "      <td>0</td>\n",
       "      <td>0</td>\n",
       "      <td>0</td>\n",
       "      <td>0</td>\n",
       "      <td>0</td>\n",
       "      <td>0</td>\n",
       "      <td>0</td>\n",
       "    </tr>\n",
       "    <tr>\n",
       "      <th>1</th>\n",
       "      <td>0</td>\n",
       "      <td>129</td>\n",
       "      <td>0</td>\n",
       "      <td>0</td>\n",
       "      <td>0</td>\n",
       "      <td>0</td>\n",
       "      <td>0</td>\n",
       "      <td>1</td>\n",
       "      <td>0</td>\n",
       "      <td>0</td>\n",
       "    </tr>\n",
       "    <tr>\n",
       "      <th>2</th>\n",
       "      <td>0</td>\n",
       "      <td>0</td>\n",
       "      <td>91</td>\n",
       "      <td>0</td>\n",
       "      <td>0</td>\n",
       "      <td>0</td>\n",
       "      <td>0</td>\n",
       "      <td>0</td>\n",
       "      <td>0</td>\n",
       "      <td>0</td>\n",
       "    </tr>\n",
       "    <tr>\n",
       "      <th>3</th>\n",
       "      <td>0</td>\n",
       "      <td>0</td>\n",
       "      <td>0</td>\n",
       "      <td>118</td>\n",
       "      <td>0</td>\n",
       "      <td>0</td>\n",
       "      <td>0</td>\n",
       "      <td>0</td>\n",
       "      <td>0</td>\n",
       "      <td>0</td>\n",
       "    </tr>\n",
       "    <tr>\n",
       "      <th>4</th>\n",
       "      <td>0</td>\n",
       "      <td>0</td>\n",
       "      <td>0</td>\n",
       "      <td>0</td>\n",
       "      <td>107</td>\n",
       "      <td>0</td>\n",
       "      <td>0</td>\n",
       "      <td>1</td>\n",
       "      <td>0</td>\n",
       "      <td>0</td>\n",
       "    </tr>\n",
       "    <tr>\n",
       "      <th>5</th>\n",
       "      <td>0</td>\n",
       "      <td>0</td>\n",
       "      <td>0</td>\n",
       "      <td>0</td>\n",
       "      <td>0</td>\n",
       "      <td>96</td>\n",
       "      <td>0</td>\n",
       "      <td>0</td>\n",
       "      <td>0</td>\n",
       "      <td>0</td>\n",
       "    </tr>\n",
       "    <tr>\n",
       "      <th>6</th>\n",
       "      <td>0</td>\n",
       "      <td>0</td>\n",
       "      <td>0</td>\n",
       "      <td>0</td>\n",
       "      <td>1</td>\n",
       "      <td>0</td>\n",
       "      <td>111</td>\n",
       "      <td>0</td>\n",
       "      <td>0</td>\n",
       "      <td>0</td>\n",
       "    </tr>\n",
       "    <tr>\n",
       "      <th>7</th>\n",
       "      <td>0</td>\n",
       "      <td>0</td>\n",
       "      <td>0</td>\n",
       "      <td>1</td>\n",
       "      <td>0</td>\n",
       "      <td>0</td>\n",
       "      <td>0</td>\n",
       "      <td>129</td>\n",
       "      <td>0</td>\n",
       "      <td>0</td>\n",
       "    </tr>\n",
       "    <tr>\n",
       "      <th>8</th>\n",
       "      <td>0</td>\n",
       "      <td>1</td>\n",
       "      <td>0</td>\n",
       "      <td>0</td>\n",
       "      <td>1</td>\n",
       "      <td>0</td>\n",
       "      <td>0</td>\n",
       "      <td>0</td>\n",
       "      <td>118</td>\n",
       "      <td>1</td>\n",
       "    </tr>\n",
       "    <tr>\n",
       "      <th>9</th>\n",
       "      <td>0</td>\n",
       "      <td>0</td>\n",
       "      <td>0</td>\n",
       "      <td>0</td>\n",
       "      <td>0</td>\n",
       "      <td>0</td>\n",
       "      <td>0</td>\n",
       "      <td>0</td>\n",
       "      <td>0</td>\n",
       "      <td>113</td>\n",
       "    </tr>\n",
       "  </tbody>\n",
       "</table>\n",
       "</div>"
      ],
      "text/plain": [
       "     0    1   2    3    4   5    6    7    8    9\n",
       "0  105    0   0    0    0   0    0    0    0    0\n",
       "1    0  129   0    0    0   0    0    1    0    0\n",
       "2    0    0  91    0    0   0    0    0    0    0\n",
       "3    0    0   0  118    0   0    0    0    0    0\n",
       "4    0    0   0    0  107   0    0    1    0    0\n",
       "5    0    0   0    0    0  96    0    0    0    0\n",
       "6    0    0   0    0    1   0  111    0    0    0\n",
       "7    0    0   0    1    0   0    0  129    0    0\n",
       "8    0    1   0    0    1   0    0    0  118    1\n",
       "9    0    0   0    0    0   0    0    0    0  113"
      ]
     },
     "execution_count": 35,
     "metadata": {},
     "output_type": "execute_result"
    }
   ],
   "source": [
    "# build the confusion matrix\n",
    "cm = pd.DataFrame(confusion_matrix(y_test, best_model.predict(X_test)))\n",
    "cm"
   ]
  },
  {
   "cell_type": "markdown",
   "metadata": {
    "id": "Eu6qGJPynTNI"
   },
   "source": [
    "Putting the SVM results in the context of our previous results,\n",
    "\n",
    "**decision tree**: 0.92 (0.90, 0.93)\n",
    "\n",
    "**random forest**: 0.98 (0.98,0.99)\n",
    "\n",
    "**gradient boosting**: 0.99 (0.98,0.99)\n",
    "\n",
    "**SVM**: 0.99 (0.99,1.00)\n",
    "\n"
   ]
  }
 ],
 "metadata": {
  "colab": {
   "authorship_tag": "ABX9TyPGrqcRdBimKhbbSIFVCvA8",
   "provenance": [],
   "toc_visible": true
  },
  "kernelspec": {
   "display_name": "Python 3",
   "name": "python3"
  },
  "language_info": {
   "codemirror_mode": {
    "name": "ipython",
    "version": 3
   },
   "file_extension": ".py",
   "mimetype": "text/x-python",
   "name": "python",
   "nbconvert_exporter": "python",
   "pygments_lexer": "ipython3",
   "version": "3.13.1"
  }
 },
 "nbformat": 4,
 "nbformat_minor": 0
}
