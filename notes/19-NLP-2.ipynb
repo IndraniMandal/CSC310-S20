{
 "cells": [
  {
   "cell_type": "code",
   "execution_count": 18,
   "metadata": {
    "colab": {
     "base_uri": "https://localhost:8080/"
    },
    "executionInfo": {
     "elapsed": 13316,
     "status": "ok",
     "timestamp": 1736866759272,
     "user": {
      "displayName": "Lutz Hamel",
      "userId": "10287662568849688016"
     },
     "user_tz": 300
    },
    "id": "NcBu5VHyfb_U",
    "outputId": "04d0acef-0a4d-42b0-da3e-e99aa7d66c44"
   },
   "outputs": [
    {
     "name": "stdout",
     "output_type": "stream",
     "text": [
      "Already up to date.\n"
     ]
    }
   ],
   "source": [
    "###### Config #####\n",
    "import sys, os, platform\n",
    "if os.path.isdir(\"ds-assets\"):\n",
    "  !cd ds-assets && git pull\n",
    "else:\n",
    "  !git clone https://github.com/lutzhamel/ds-assets.git\n",
    "colab = True if 'google.colab' in os.sys.modules else False\n",
    "system = platform.system() # \"Windows\", \"Linux\", \"Darwin\"\n",
    "home = \"ds-assets/assets/\"\n",
    "sys.path.append(home)"
   ]
  },
  {
   "cell_type": "code",
   "execution_count": 19,
   "metadata": {
    "executionInfo": {
     "elapsed": 27481,
     "status": "ok",
     "timestamp": 1736866786751,
     "user": {
      "displayName": "Lutz Hamel",
      "userId": "10287662568849688016"
     },
     "user_tz": 300
    },
    "id": "XmHOzVpKrFka"
   },
   "outputs": [],
   "source": [
    "# notebook level imports\n",
    "import pandas as pd\n",
    "from sklearn.feature_extraction.text import CountVectorizer\n",
    "from nltk.stem import PorterStemmer\n",
    "from sklearn.tree import DecisionTreeClassifier\n",
    "from sklearn.neighbors import KNeighborsClassifier\n",
    "from sklearn.naive_bayes import MultinomialNB\n",
    "from sklearn.model_selection import train_test_split\n",
    "from sklearn.model_selection import GridSearchCV\n",
    "from sklearn.metrics import accuracy_score\n",
    "from sklearn.metrics import confusion_matrix\n",
    "from dsutils import classification_confint"
   ]
  },
  {
   "cell_type": "markdown",
   "metadata": {
    "id": "V5Aqfl2Lfb_X"
   },
   "source": [
    "# NLP & ML: Classification\n",
    "\n",
    "We saw that we convert text document into a ‘vector model’ (bag-of-words).\n",
    "\n",
    "We showed that the vector model allows us to perform mathematical analysis on documents such as *which documents are similar to each other?*\n",
    "\n",
    "Next question: can we construct *machine learning classification models* on document collections using the vector model? -- **Yes!**\n",
    "\n"
   ]
  },
  {
   "cell_type": "markdown",
   "metadata": {
    "id": "goe8Cr5Rfb_X"
   },
   "source": [
    "Consider again our news article data set. We would like to construct a classifier that can correctly classifier political and science documents.\n"
   ]
  },
  {
   "cell_type": "markdown",
   "metadata": {
    "id": "ZVDJGfo9fb_Y"
   },
   "source": [
    "# Data\n",
    "\n",
    "Preprocess our data into a docarray and set up train and test sets."
   ]
  },
  {
   "cell_type": "markdown",
   "metadata": {
    "id": "bqGVZMtGtAjB"
   },
   "source": [
    "We are using the noheaders version because headers are too predictive.\n",
    "If we use the headers we will always get close to 100% accurate models.\n"
   ]
  },
  {
   "cell_type": "code",
   "execution_count": 20,
   "metadata": {
    "colab": {
     "base_uri": "https://localhost:8080/",
     "height": 363
    },
    "executionInfo": {
     "elapsed": 155,
     "status": "ok",
     "timestamp": 1736866786904,
     "user": {
      "displayName": "Lutz Hamel",
      "userId": "10287662568849688016"
     },
     "user_tz": 300
    },
    "id": "6Lx4nJN-fb_Z",
    "outputId": "31da55af-134e-4f5a-b734-8eb468d9f531"
   },
   "outputs": [
    {
     "data": {
      "text/html": [
       "<div>\n",
       "<style scoped>\n",
       "    .dataframe tbody tr th:only-of-type {\n",
       "        vertical-align: middle;\n",
       "    }\n",
       "\n",
       "    .dataframe tbody tr th {\n",
       "        vertical-align: top;\n",
       "    }\n",
       "\n",
       "    .dataframe thead th {\n",
       "        text-align: right;\n",
       "    }\n",
       "</style>\n",
       "<table border=\"1\" class=\"dataframe\">\n",
       "  <thead>\n",
       "    <tr style=\"text-align: right;\">\n",
       "      <th></th>\n",
       "      <th>text</th>\n",
       "      <th>label</th>\n",
       "    </tr>\n",
       "  </thead>\n",
       "  <tbody>\n",
       "    <tr>\n",
       "      <th>0</th>\n",
       "      <td>\\nIn billions of dollars (%GNP):\\nyear  GNP   ...</td>\n",
       "      <td>space</td>\n",
       "    </tr>\n",
       "    <tr>\n",
       "      <th>1</th>\n",
       "      <td>ajteel@dendrite.cs.Colorado.EDU (A.J. Teel) w...</td>\n",
       "      <td>space</td>\n",
       "    </tr>\n",
       "    <tr>\n",
       "      <th>2</th>\n",
       "      <td>\\nMy opinion is this:  In a society whose econ...</td>\n",
       "      <td>space</td>\n",
       "    </tr>\n",
       "    <tr>\n",
       "      <th>3</th>\n",
       "      <td>Ahhh, remember the days of Yesterday?  When we...</td>\n",
       "      <td>space</td>\n",
       "    </tr>\n",
       "    <tr>\n",
       "      <th>4</th>\n",
       "      <td>\\n\"...a la Chrysler\"??  Okay kids, to the near...</td>\n",
       "      <td>space</td>\n",
       "    </tr>\n",
       "    <tr>\n",
       "      <th>5</th>\n",
       "      <td>\\n   As for advertising -- sure, why not?  A N...</td>\n",
       "      <td>politics</td>\n",
       "    </tr>\n",
       "    <tr>\n",
       "      <th>6</th>\n",
       "      <td>\\n  What, pray tell, does this mean? Just who ...</td>\n",
       "      <td>space</td>\n",
       "    </tr>\n",
       "    <tr>\n",
       "      <th>7</th>\n",
       "      <td>\\nWhere does the shadow come from?  There's no...</td>\n",
       "      <td>politics</td>\n",
       "    </tr>\n",
       "    <tr>\n",
       "      <th>8</th>\n",
       "      <td>^^^^^^^^^...</td>\n",
       "      <td>politics</td>\n",
       "    </tr>\n",
       "    <tr>\n",
       "      <th>9</th>\n",
       "      <td>#Yet, when a law was proposed for Virginia tha...</td>\n",
       "      <td>space</td>\n",
       "    </tr>\n",
       "  </tbody>\n",
       "</table>\n",
       "</div>"
      ],
      "text/plain": [
       "                                                text     label\n",
       "0  \\nIn billions of dollars (%GNP):\\nyear  GNP   ...     space\n",
       "1   ajteel@dendrite.cs.Colorado.EDU (A.J. Teel) w...     space\n",
       "2  \\nMy opinion is this:  In a society whose econ...     space\n",
       "3  Ahhh, remember the days of Yesterday?  When we...     space\n",
       "4  \\n\"...a la Chrysler\"??  Okay kids, to the near...     space\n",
       "5  \\n   As for advertising -- sure, why not?  A N...  politics\n",
       "6  \\n  What, pray tell, does this mean? Just who ...     space\n",
       "7  \\nWhere does the shadow come from?  There's no...  politics\n",
       "8                                       ^^^^^^^^^...  politics\n",
       "9  #Yet, when a law was proposed for Virginia tha...     space"
      ]
     },
     "execution_count": 20,
     "metadata": {},
     "output_type": "execute_result"
    }
   ],
   "source": [
    "# get the newsgroup database\n",
    "\n",
    "# NOTE: news article headers are extremely predictive so we skip them\n",
    "#       here.  Hint: try the exercise below with the headers,\n",
    "\n",
    "# newsgroups = pd.read_csv(home+\"newsgroups.csv\")\n",
    "newsgroups = pd.read_csv(home+\"newsgroups-noheaders.csv\")\n",
    "newsgroups.head(n=10)"
   ]
  },
  {
   "cell_type": "code",
   "execution_count": 21,
   "metadata": {
    "colab": {
     "base_uri": "https://localhost:8080/"
    },
    "executionInfo": {
     "elapsed": 6,
     "status": "ok",
     "timestamp": 1736866786904,
     "user": {
      "displayName": "Lutz Hamel",
      "userId": "10287662568849688016"
     },
     "user_tz": 300
    },
    "id": "Ks6RI_1faLpC",
    "outputId": "68690b61-9365-4053-f074-9b2aea292663"
   },
   "outputs": [
    {
     "data": {
      "text/plain": [
       "(1038, 2)"
      ]
     },
     "execution_count": 21,
     "metadata": {},
     "output_type": "execute_result"
    }
   ],
   "source": [
    "newsgroups.shape"
   ]
  },
  {
   "cell_type": "markdown",
   "metadata": {},
   "source": [
    "Constructing our docterm matrix."
   ]
  },
  {
   "cell_type": "code",
   "execution_count": 22,
   "metadata": {
    "executionInfo": {
     "elapsed": 163,
     "status": "ok",
     "timestamp": 1736866787063,
     "user": {
      "displayName": "Lutz Hamel",
      "userId": "10287662568849688016"
     },
     "user_tz": 300
    },
    "id": "WeBRv5IHUvki"
   },
   "outputs": [],
   "source": [
    "doc_analyzer = CountVectorizer(analyzer = \"word\",\n",
    "                               stop_words = 'english',\n",
    "                               token_pattern = \"[a-zA-Z]+\") \\\n",
    "            .build_analyzer() # retrieve the analyzer\n",
    "stemmer = PorterStemmer()\n",
    "def doc_stemmer(doc):\n",
    "    return [stemmer.stem(w) for w in doc_analyzer(doc)]"
   ]
  },
  {
   "cell_type": "code",
   "execution_count": 23,
   "metadata": {
    "colab": {
     "base_uri": "https://localhost:8080/",
     "height": 253
    },
    "executionInfo": {
     "elapsed": 6931,
     "status": "ok",
     "timestamp": 1736866793993,
     "user": {
      "displayName": "Lutz Hamel",
      "userId": "10287662568849688016"
     },
     "user_tz": 300
    },
    "id": "6dTMmTB8fb_b",
    "outputId": "160cd42a-00e6-41c0-d39d-408be50e0a2c"
   },
   "outputs": [
    {
     "data": {
      "text/html": [
       "<div>\n",
       "<style scoped>\n",
       "    .dataframe tbody tr th:only-of-type {\n",
       "        vertical-align: middle;\n",
       "    }\n",
       "\n",
       "    .dataframe tbody tr th {\n",
       "        vertical-align: top;\n",
       "    }\n",
       "\n",
       "    .dataframe thead th {\n",
       "        text-align: right;\n",
       "    }\n",
       "</style>\n",
       "<table border=\"1\" class=\"dataframe\">\n",
       "  <thead>\n",
       "    <tr style=\"text-align: right;\">\n",
       "      <th></th>\n",
       "      <th>aa</th>\n",
       "      <th>abandon</th>\n",
       "      <th>abbey</th>\n",
       "      <th>abc</th>\n",
       "      <th>abil</th>\n",
       "      <th>abl</th>\n",
       "      <th>aboard</th>\n",
       "      <th>abolish</th>\n",
       "      <th>abort</th>\n",
       "      <th>abroad</th>\n",
       "      <th>...</th>\n",
       "      <th>yugoslavia</th>\n",
       "      <th>yup</th>\n",
       "      <th>z</th>\n",
       "      <th>zealand</th>\n",
       "      <th>zenit</th>\n",
       "      <th>zero</th>\n",
       "      <th>zeta</th>\n",
       "      <th>zip</th>\n",
       "      <th>zone</th>\n",
       "      <th>zoo</th>\n",
       "    </tr>\n",
       "  </thead>\n",
       "  <tbody>\n",
       "    <tr>\n",
       "      <th>0</th>\n",
       "      <td>0</td>\n",
       "      <td>0</td>\n",
       "      <td>0</td>\n",
       "      <td>0</td>\n",
       "      <td>0</td>\n",
       "      <td>0</td>\n",
       "      <td>0</td>\n",
       "      <td>0</td>\n",
       "      <td>0</td>\n",
       "      <td>0</td>\n",
       "      <td>...</td>\n",
       "      <td>0</td>\n",
       "      <td>0</td>\n",
       "      <td>0</td>\n",
       "      <td>0</td>\n",
       "      <td>0</td>\n",
       "      <td>0</td>\n",
       "      <td>0</td>\n",
       "      <td>0</td>\n",
       "      <td>0</td>\n",
       "      <td>0</td>\n",
       "    </tr>\n",
       "    <tr>\n",
       "      <th>1</th>\n",
       "      <td>0</td>\n",
       "      <td>0</td>\n",
       "      <td>0</td>\n",
       "      <td>0</td>\n",
       "      <td>0</td>\n",
       "      <td>0</td>\n",
       "      <td>0</td>\n",
       "      <td>0</td>\n",
       "      <td>0</td>\n",
       "      <td>0</td>\n",
       "      <td>...</td>\n",
       "      <td>0</td>\n",
       "      <td>0</td>\n",
       "      <td>0</td>\n",
       "      <td>0</td>\n",
       "      <td>0</td>\n",
       "      <td>0</td>\n",
       "      <td>0</td>\n",
       "      <td>0</td>\n",
       "      <td>0</td>\n",
       "      <td>0</td>\n",
       "    </tr>\n",
       "    <tr>\n",
       "      <th>2</th>\n",
       "      <td>0</td>\n",
       "      <td>0</td>\n",
       "      <td>0</td>\n",
       "      <td>0</td>\n",
       "      <td>0</td>\n",
       "      <td>0</td>\n",
       "      <td>0</td>\n",
       "      <td>0</td>\n",
       "      <td>0</td>\n",
       "      <td>0</td>\n",
       "      <td>...</td>\n",
       "      <td>0</td>\n",
       "      <td>0</td>\n",
       "      <td>0</td>\n",
       "      <td>0</td>\n",
       "      <td>0</td>\n",
       "      <td>0</td>\n",
       "      <td>0</td>\n",
       "      <td>0</td>\n",
       "      <td>0</td>\n",
       "      <td>0</td>\n",
       "    </tr>\n",
       "    <tr>\n",
       "      <th>3</th>\n",
       "      <td>0</td>\n",
       "      <td>0</td>\n",
       "      <td>0</td>\n",
       "      <td>0</td>\n",
       "      <td>0</td>\n",
       "      <td>0</td>\n",
       "      <td>0</td>\n",
       "      <td>0</td>\n",
       "      <td>0</td>\n",
       "      <td>0</td>\n",
       "      <td>...</td>\n",
       "      <td>0</td>\n",
       "      <td>0</td>\n",
       "      <td>0</td>\n",
       "      <td>0</td>\n",
       "      <td>0</td>\n",
       "      <td>0</td>\n",
       "      <td>0</td>\n",
       "      <td>0</td>\n",
       "      <td>0</td>\n",
       "      <td>0</td>\n",
       "    </tr>\n",
       "    <tr>\n",
       "      <th>4</th>\n",
       "      <td>0</td>\n",
       "      <td>0</td>\n",
       "      <td>0</td>\n",
       "      <td>0</td>\n",
       "      <td>0</td>\n",
       "      <td>0</td>\n",
       "      <td>0</td>\n",
       "      <td>0</td>\n",
       "      <td>0</td>\n",
       "      <td>0</td>\n",
       "      <td>...</td>\n",
       "      <td>0</td>\n",
       "      <td>0</td>\n",
       "      <td>0</td>\n",
       "      <td>0</td>\n",
       "      <td>0</td>\n",
       "      <td>1</td>\n",
       "      <td>0</td>\n",
       "      <td>0</td>\n",
       "      <td>0</td>\n",
       "      <td>0</td>\n",
       "    </tr>\n",
       "    <tr>\n",
       "      <th>...</th>\n",
       "      <td>...</td>\n",
       "      <td>...</td>\n",
       "      <td>...</td>\n",
       "      <td>...</td>\n",
       "      <td>...</td>\n",
       "      <td>...</td>\n",
       "      <td>...</td>\n",
       "      <td>...</td>\n",
       "      <td>...</td>\n",
       "      <td>...</td>\n",
       "      <td>...</td>\n",
       "      <td>...</td>\n",
       "      <td>...</td>\n",
       "      <td>...</td>\n",
       "      <td>...</td>\n",
       "      <td>...</td>\n",
       "      <td>...</td>\n",
       "      <td>...</td>\n",
       "      <td>...</td>\n",
       "      <td>...</td>\n",
       "      <td>...</td>\n",
       "    </tr>\n",
       "    <tr>\n",
       "      <th>1033</th>\n",
       "      <td>0</td>\n",
       "      <td>0</td>\n",
       "      <td>0</td>\n",
       "      <td>0</td>\n",
       "      <td>0</td>\n",
       "      <td>0</td>\n",
       "      <td>0</td>\n",
       "      <td>0</td>\n",
       "      <td>0</td>\n",
       "      <td>0</td>\n",
       "      <td>...</td>\n",
       "      <td>0</td>\n",
       "      <td>0</td>\n",
       "      <td>0</td>\n",
       "      <td>0</td>\n",
       "      <td>0</td>\n",
       "      <td>0</td>\n",
       "      <td>0</td>\n",
       "      <td>0</td>\n",
       "      <td>0</td>\n",
       "      <td>0</td>\n",
       "    </tr>\n",
       "    <tr>\n",
       "      <th>1034</th>\n",
       "      <td>0</td>\n",
       "      <td>0</td>\n",
       "      <td>0</td>\n",
       "      <td>0</td>\n",
       "      <td>0</td>\n",
       "      <td>0</td>\n",
       "      <td>0</td>\n",
       "      <td>0</td>\n",
       "      <td>0</td>\n",
       "      <td>0</td>\n",
       "      <td>...</td>\n",
       "      <td>0</td>\n",
       "      <td>0</td>\n",
       "      <td>0</td>\n",
       "      <td>0</td>\n",
       "      <td>0</td>\n",
       "      <td>0</td>\n",
       "      <td>0</td>\n",
       "      <td>0</td>\n",
       "      <td>0</td>\n",
       "      <td>0</td>\n",
       "    </tr>\n",
       "    <tr>\n",
       "      <th>1035</th>\n",
       "      <td>0</td>\n",
       "      <td>0</td>\n",
       "      <td>0</td>\n",
       "      <td>0</td>\n",
       "      <td>0</td>\n",
       "      <td>0</td>\n",
       "      <td>0</td>\n",
       "      <td>0</td>\n",
       "      <td>0</td>\n",
       "      <td>0</td>\n",
       "      <td>...</td>\n",
       "      <td>0</td>\n",
       "      <td>0</td>\n",
       "      <td>0</td>\n",
       "      <td>0</td>\n",
       "      <td>0</td>\n",
       "      <td>0</td>\n",
       "      <td>0</td>\n",
       "      <td>0</td>\n",
       "      <td>0</td>\n",
       "      <td>0</td>\n",
       "    </tr>\n",
       "    <tr>\n",
       "      <th>1036</th>\n",
       "      <td>0</td>\n",
       "      <td>0</td>\n",
       "      <td>0</td>\n",
       "      <td>0</td>\n",
       "      <td>0</td>\n",
       "      <td>0</td>\n",
       "      <td>0</td>\n",
       "      <td>0</td>\n",
       "      <td>0</td>\n",
       "      <td>0</td>\n",
       "      <td>...</td>\n",
       "      <td>0</td>\n",
       "      <td>0</td>\n",
       "      <td>0</td>\n",
       "      <td>0</td>\n",
       "      <td>0</td>\n",
       "      <td>0</td>\n",
       "      <td>0</td>\n",
       "      <td>0</td>\n",
       "      <td>0</td>\n",
       "      <td>0</td>\n",
       "    </tr>\n",
       "    <tr>\n",
       "      <th>1037</th>\n",
       "      <td>0</td>\n",
       "      <td>0</td>\n",
       "      <td>0</td>\n",
       "      <td>0</td>\n",
       "      <td>0</td>\n",
       "      <td>0</td>\n",
       "      <td>0</td>\n",
       "      <td>0</td>\n",
       "      <td>0</td>\n",
       "      <td>0</td>\n",
       "      <td>...</td>\n",
       "      <td>0</td>\n",
       "      <td>0</td>\n",
       "      <td>0</td>\n",
       "      <td>0</td>\n",
       "      <td>0</td>\n",
       "      <td>0</td>\n",
       "      <td>0</td>\n",
       "      <td>0</td>\n",
       "      <td>0</td>\n",
       "      <td>0</td>\n",
       "    </tr>\n",
       "  </tbody>\n",
       "</table>\n",
       "<p>1038 rows × 6045 columns</p>\n",
       "</div>"
      ],
      "text/plain": [
       "      aa  abandon  abbey  abc  abil  abl  aboard  abolish  abort  abroad  ...  \\\n",
       "0      0        0      0    0     0    0       0        0      0       0  ...   \n",
       "1      0        0      0    0     0    0       0        0      0       0  ...   \n",
       "2      0        0      0    0     0    0       0        0      0       0  ...   \n",
       "3      0        0      0    0     0    0       0        0      0       0  ...   \n",
       "4      0        0      0    0     0    0       0        0      0       0  ...   \n",
       "...   ..      ...    ...  ...   ...  ...     ...      ...    ...     ...  ...   \n",
       "1033   0        0      0    0     0    0       0        0      0       0  ...   \n",
       "1034   0        0      0    0     0    0       0        0      0       0  ...   \n",
       "1035   0        0      0    0     0    0       0        0      0       0  ...   \n",
       "1036   0        0      0    0     0    0       0        0      0       0  ...   \n",
       "1037   0        0      0    0     0    0       0        0      0       0  ...   \n",
       "\n",
       "      yugoslavia  yup  z  zealand  zenit  zero  zeta  zip  zone  zoo  \n",
       "0              0    0  0        0      0     0     0    0     0    0  \n",
       "1              0    0  0        0      0     0     0    0     0    0  \n",
       "2              0    0  0        0      0     0     0    0     0    0  \n",
       "3              0    0  0        0      0     0     0    0     0    0  \n",
       "4              0    0  0        0      0     1     0    0     0    0  \n",
       "...          ...  ... ..      ...    ...   ...   ...  ...   ...  ...  \n",
       "1033           0    0  0        0      0     0     0    0     0    0  \n",
       "1034           0    0  0        0      0     0     0    0     0    0  \n",
       "1035           0    0  0        0      0     0     0    0     0    0  \n",
       "1036           0    0  0        0      0     0     0    0     0    0  \n",
       "1037           0    0  0        0      0     0     0    0     0    0  \n",
       "\n",
       "[1038 rows x 6045 columns]"
      ]
     },
     "execution_count": 23,
     "metadata": {},
     "output_type": "execute_result"
    }
   ],
   "source": [
    "# construct our docterm matrix\n",
    "\n",
    "vectorizer = CountVectorizer(analyzer=doc_stemmer,\n",
    "                             binary=True,\n",
    "                             min_df=2) \n",
    "docterm = pd.DataFrame(data=vectorizer.fit_transform(newsgroups['text']).toarray(),\n",
    "                       columns=vectorizer.get_feature_names_out())\n",
    "\n",
    "docterm"
   ]
  },
  {
   "cell_type": "markdown",
   "metadata": {},
   "source": [
    "We want to be consistent with our testing, therefore we split out a test set."
   ]
  },
  {
   "cell_type": "code",
   "execution_count": 24,
   "metadata": {
    "executionInfo": {
     "elapsed": 141,
     "status": "ok",
     "timestamp": 1736866794132,
     "user": {
      "displayName": "Lutz Hamel",
      "userId": "10287662568849688016"
     },
     "user_tz": 300
    },
    "id": "EGoR8UkJwLBU"
   },
   "outputs": [],
   "source": [
    "# set up train and test sets\n",
    "X_train, X_test, y_train, y_test = \\\n",
    "  train_test_split(docterm,\n",
    "                   newsgroups['label'],\n",
    "                   train_size=0.8,\n",
    "                   test_size=0.2,\n",
    "                   random_state=2)"
   ]
  },
  {
   "cell_type": "markdown",
   "metadata": {
    "id": "qut5LJe8drZ1"
   },
   "source": [
    "# Decision Trees"
   ]
  },
  {
   "cell_type": "code",
   "execution_count": 25,
   "metadata": {
    "colab": {
     "base_uri": "https://localhost:8080/"
    },
    "executionInfo": {
     "elapsed": 31428,
     "status": "ok",
     "timestamp": 1736866825704,
     "user": {
      "displayName": "Lutz Hamel",
      "userId": "10287662568849688016"
     },
     "user_tz": 300
    },
    "id": "p3vQAlJEYsAm",
    "outputId": "e4171e3a-e9fb-4e82-9903-b34b481e3f70"
   },
   "outputs": [
    {
     "name": "stdout",
     "output_type": "stream",
     "text": [
      "Grid Search: best parameters: {'max_depth': 21}\n"
     ]
    }
   ],
   "source": [
    "# tree model\n",
    "\n",
    "# model object\n",
    "model = DecisionTreeClassifier(random_state=0)\n",
    "\n",
    "# grid search\n",
    "param_grid = {'max_depth': list(range(1,31))}\n",
    "grid = GridSearchCV(model, param_grid, cv=3).fit(X_train, y_train)\n",
    "\n",
    "print(\"Grid Search: best parameters: {}\".format(grid.best_params_))\n",
    "best_model = grid.best_estimator_"
   ]
  },
  {
   "cell_type": "markdown",
   "metadata": {
    "id": "-cwOq8KuCB7_"
   },
   "source": [
    "**Observation**: The resulting model is very complex with a depth of 21."
   ]
  },
  {
   "cell_type": "code",
   "execution_count": 26,
   "metadata": {
    "colab": {
     "base_uri": "https://localhost:8080/"
    },
    "executionInfo": {
     "elapsed": 4,
     "status": "ok",
     "timestamp": 1736866825704,
     "user": {
      "displayName": "Lutz Hamel",
      "userId": "10287662568849688016"
     },
     "user_tz": 300
    },
    "id": "8E8XLIGjZIH5",
    "outputId": "fbee8088-efb1-43df-d540-60664f95e9b2"
   },
   "outputs": [
    {
     "name": "stdout",
     "output_type": "stream",
     "text": [
      "Accuracy: 0.74 (0.68,0.80)\n"
     ]
    }
   ],
   "source": [
    "# Evaluate the best model\n",
    "predict_y = best_model.predict(X_test)\n",
    "acc = accuracy_score(y_test, predict_y)\n",
    "lb,ub = classification_confint(acc,X_test.shape[0])\n",
    "print(\"Accuracy: {:3.2f} ({:3.2f},{:3.2f})\".format(acc,lb,ub))"
   ]
  },
  {
   "cell_type": "code",
   "execution_count": 27,
   "metadata": {
    "colab": {
     "base_uri": "https://localhost:8080/"
    },
    "executionInfo": {
     "elapsed": 2,
     "status": "ok",
     "timestamp": 1736866825775,
     "user": {
      "displayName": "Lutz Hamel",
      "userId": "10287662568849688016"
     },
     "user_tz": 300
    },
    "id": "ZfWC5Ilocqr2",
    "outputId": "ce9f3997-1e32-4f22-b436-1f4c801ff830"
   },
   "outputs": [
    {
     "data": {
      "text/html": [
       "<div>\n",
       "<style scoped>\n",
       "    .dataframe tbody tr th:only-of-type {\n",
       "        vertical-align: middle;\n",
       "    }\n",
       "\n",
       "    .dataframe tbody tr th {\n",
       "        vertical-align: top;\n",
       "    }\n",
       "\n",
       "    .dataframe thead th {\n",
       "        text-align: right;\n",
       "    }\n",
       "</style>\n",
       "<table border=\"1\" class=\"dataframe\">\n",
       "  <thead>\n",
       "    <tr style=\"text-align: right;\">\n",
       "      <th></th>\n",
       "      <th>politics</th>\n",
       "      <th>space</th>\n",
       "    </tr>\n",
       "  </thead>\n",
       "  <tbody>\n",
       "    <tr>\n",
       "      <th>politics</th>\n",
       "      <td>90</td>\n",
       "      <td>19</td>\n",
       "    </tr>\n",
       "    <tr>\n",
       "      <th>space</th>\n",
       "      <td>36</td>\n",
       "      <td>63</td>\n",
       "    </tr>\n",
       "  </tbody>\n",
       "</table>\n",
       "</div>"
      ],
      "text/plain": [
       "          politics  space\n",
       "politics        90     19\n",
       "space           36     63"
      ]
     },
     "execution_count": 27,
     "metadata": {},
     "output_type": "execute_result"
    }
   ],
   "source": [
    "# build the confusion matrix\n",
    "labels = ['politics','space']\n",
    "cm = pd.DataFrame(data=confusion_matrix(y_test, predict_y, labels=labels), \n",
    "                  index=labels, \n",
    "                  columns=labels)\n",
    "cm\n"
   ]
  },
  {
   "cell_type": "markdown",
   "metadata": {
    "id": "N0BitS8NcsNW"
   },
   "source": [
    "# KNN\n",
    "\n",
    "Now let's apply  our KNN algorithm (k nearest neighbors). Since documents are considered points in an n-dimensional space KNN seems well suited for this problem."
   ]
  },
  {
   "cell_type": "code",
   "execution_count": 28,
   "metadata": {
    "colab": {
     "base_uri": "https://localhost:8080/"
    },
    "executionInfo": {
     "elapsed": 8319,
     "status": "ok",
     "timestamp": 1736866834093,
     "user": {
      "displayName": "Lutz Hamel",
      "userId": "10287662568849688016"
     },
     "user_tz": 300
    },
    "id": "ZIAw501Qfb_c",
    "outputId": "b43931bb-b236-4fe3-b278-c97b848d24dc"
   },
   "outputs": [
    {
     "name": "stdout",
     "output_type": "stream",
     "text": [
      "Grid Search: best parameters: {'n_neighbors': 2}\n"
     ]
    }
   ],
   "source": [
    "\n",
    "# KNN\n",
    "model = KNeighborsClassifier()\n",
    "\n",
    "# grid search\n",
    "param_grid = {'n_neighbors': list(range(1,11))}\n",
    "grid = GridSearchCV(model, param_grid, cv=3).fit(X_train, y_train)\n",
    "\n",
    "print(\"Grid Search: best parameters: {}\".format(grid.best_params_))\n",
    "best_model = grid.best_estimator_"
   ]
  },
  {
   "cell_type": "code",
   "execution_count": 29,
   "metadata": {
    "colab": {
     "base_uri": "https://localhost:8080/"
    },
    "executionInfo": {
     "elapsed": 195,
     "status": "ok",
     "timestamp": 1736866834285,
     "user": {
      "displayName": "Lutz Hamel",
      "userId": "10287662568849688016"
     },
     "user_tz": 300
    },
    "id": "rXytX14mfb_c",
    "outputId": "fcd5a48a-b7e2-42b8-c142-ee1ddc50b542"
   },
   "outputs": [
    {
     "name": "stdout",
     "output_type": "stream",
     "text": [
      "Accuracy: 0.53 (0.47,0.60)\n"
     ]
    }
   ],
   "source": [
    "# Evaluate the best model\n",
    "predict_y = best_model.predict(X_test)\n",
    "acc = accuracy_score(y_test, predict_y)\n",
    "lb,ub = classification_confint(acc,X_test.shape[0])\n",
    "print(\"Accuracy: {:3.2f} ({:3.2f},{:3.2f})\".format(acc,lb,ub))"
   ]
  },
  {
   "cell_type": "code",
   "execution_count": 30,
   "metadata": {
    "colab": {
     "base_uri": "https://localhost:8080/"
    },
    "executionInfo": {
     "elapsed": 4,
     "status": "ok",
     "timestamp": 1736866834285,
     "user": {
      "displayName": "Lutz Hamel",
      "userId": "10287662568849688016"
     },
     "user_tz": 300
    },
    "id": "vrNMB9tyfb_d",
    "outputId": "70f36464-dee2-4507-af83-d1d4a0ea6b33"
   },
   "outputs": [
    {
     "data": {
      "text/html": [
       "<div>\n",
       "<style scoped>\n",
       "    .dataframe tbody tr th:only-of-type {\n",
       "        vertical-align: middle;\n",
       "    }\n",
       "\n",
       "    .dataframe tbody tr th {\n",
       "        vertical-align: top;\n",
       "    }\n",
       "\n",
       "    .dataframe thead th {\n",
       "        text-align: right;\n",
       "    }\n",
       "</style>\n",
       "<table border=\"1\" class=\"dataframe\">\n",
       "  <thead>\n",
       "    <tr style=\"text-align: right;\">\n",
       "      <th></th>\n",
       "      <th>politics</th>\n",
       "      <th>space</th>\n",
       "    </tr>\n",
       "  </thead>\n",
       "  <tbody>\n",
       "    <tr>\n",
       "      <th>politics</th>\n",
       "      <td>19</td>\n",
       "      <td>90</td>\n",
       "    </tr>\n",
       "    <tr>\n",
       "      <th>space</th>\n",
       "      <td>7</td>\n",
       "      <td>92</td>\n",
       "    </tr>\n",
       "  </tbody>\n",
       "</table>\n",
       "</div>"
      ],
      "text/plain": [
       "          politics  space\n",
       "politics        19     90\n",
       "space            7     92"
      ]
     },
     "execution_count": 30,
     "metadata": {},
     "output_type": "execute_result"
    }
   ],
   "source": [
    "# build the confusion matrix\n",
    "labels = ['politics','space']\n",
    "cm = pd.DataFrame(data=confusion_matrix(y_test, predict_y, labels=labels), \n",
    "                  index=labels, \n",
    "                  columns=labels)\n",
    "cm"
   ]
  },
  {
   "cell_type": "markdown",
   "metadata": {
    "id": "1H94tYstfb_d"
   },
   "source": [
    "# Naive Bayes (NB)\n",
    "\n",
    "* “Standard” model for text processing\n",
    "* Fast to train, has no problems with very high dimensional data\n",
    "* NB is a classification technique based on Bayes’ Theorem with an assumption of independence among predictors.\n",
    "* In simple terms, a NB classifier assumes that the presence of a particular feature in a class is unrelated to the presence of any other feature.\n",
    "* For example, a fruit may be considered to be an apple if it is red, round, and about 3 inches in diameter. Even if these features depend on each other or upon the existence of the other features, all of these properties independently contribute to the probability that this fruit is an apple and that is why it is known as ‘Naive’.\n"
   ]
  },
  {
   "cell_type": "markdown",
   "metadata": {
    "id": "Gb_q1xG5fb_e"
   },
   "source": [
    "## The Algorithm\n",
    "\n",
    "\n",
    "Bayes theorem provides a way of calculating probability prediction of label $c$ given feature $x$,\n",
    "<br>\n",
    "<br>\n",
    "$$\n",
    "P(c|x) = \\frac{P(x|c)P(c)}{P(x)}\n",
    "$$\n",
    "\n",
    "where\n",
    "  * $P(c|x)$ is the probability of label $c$ given the feature $x$.\n",
    "  * $P(c)$ is the probability of label $c$ .\n",
    "  * $P(x|c)$ is the probability of the feature $x$ given label $c$.\n",
    "  * $P(x)$ is the probability of feature $x$.\n",
    "\n",
    "What is remarkable about the Naive Bayes algorithm is that all these probabilities can be computed by just counting values in the training data."
   ]
  },
  {
   "cell_type": "markdown",
   "metadata": {
    "id": "N-eW3am6fb_e"
   },
   "source": [
    "## Example\n",
    "\n",
    "Let's assume we have a feature `Weather` with feature values `Sunny`, `Overcast`, and `Rainy`, as well as a target `Play` that contains the labels `yes` and `no`.  \n",
    "\n",
    "<img src=\"https://www.analyticsvidhya.com/wp-content/uploads/2015/08/Bayes_41.png\">\n",
    "\n",
    "We want to compute if we play tennis when sunny.  That is we compute the two probabilities,\n",
    "\n",
    "1. $P(Yes|Sunny)$\n",
    "1. $P(No|Sunny)$\n",
    "\n",
    "and then pick the statement with the higher probability."
   ]
  },
  {
   "cell_type": "markdown",
   "metadata": {
    "id": "qg4Y_kGDfb_f"
   },
   "source": [
    "Let's look at $P(Yes|Sunny)$,\n",
    "<br>\n",
    "<br>\n",
    "$$\n",
    "P(Yes|Sunny) = \\frac{P(Sunny|Yes)P(Yes)}{P(Sunny)} = \\frac{3/9\\times 9/14}{5/14} = \\frac{.33 \\times .64}{.36}=.60\n",
    "$$\n",
    "\n",
    "where,\n",
    "* $P(Sunny|Yes)$ is computed by counting the number of `Yes` labels (9) and then counting how often `Sunny` appears in the context of `Yes` (3), therefore, $P(Sunny|Yes) = 3/9$.\n",
    "* $P(Yes)$ is computed by counting how many `Yes` labels appear in the whole data set (9) and then dividing by the number of rows in the data set (14), therefore, $P(Yes) = 9/14$.\n",
    "* $P(Sunny)$ is computed by counting how often the label `Sunny` appears in the data set (5) and divide it by the number of rows of the data set (14), therefore, $P(Sunny) = 5/14$.\n",
    "<br>\n",
    "<br>\n",
    "\n",
    "Now, let's look at $P(No|Sunny)$,\n",
    "<br>\n",
    "<br>\n",
    "\n",
    "$$\n",
    "P(No|Sunny) = \\frac{P(Sunny|No)P(No)}{P(Sunny)} = \\frac{2/5\\times 5/14}{5/14} = \\frac{.40 \\times .36}{.36}=.40\n",
    "$$\n",
    "<br>\n",
    "<br>\n",
    "Here, the individual probabilities are computed in a similar fashion as above.\n",
    "\n",
    "\n",
    "**Observation**: We are playing tennis when sunny because the probability $P(Yes|Sunny)$ is higher."
   ]
  },
  {
   "cell_type": "markdown",
   "metadata": {
    "id": "vxRk5tWPX44p"
   },
   "source": [
    "In order to predict a label $c$ based on multiple features $x_1$ through $x_n$ we use the formula,\n",
    "\n",
    "<br>\n",
    "<br>\n",
    "\n",
    "$$\n",
    "P(c|x_1,x_2,\\ldots,x_n) = P(c|x_1)\\times P(c|x_2)\\times\\ldots \\times P(c|x_n)\\times P(c)\n",
    "$$\n",
    "\n",
    "<br>\n",
    "<br>\n",
    "\n",
    "[Source](https://www.analyticsvidhya.com/blog/2017/09/naive-bayes-explained)\n"
   ]
  },
  {
   "cell_type": "markdown",
   "metadata": {
    "id": "17ixDJkoIMmX"
   },
   "source": [
    "## Text Classification"
   ]
  },
  {
   "cell_type": "markdown",
   "metadata": {
    "id": "kB8TjXIkfb_f"
   },
   "source": [
    "Let’s take our text classification problem and use a Naive Bayes classifier on it.\n",
    "\n",
    "The setup and data prep is the same as in the case of the KNN classifier."
   ]
  },
  {
   "cell_type": "code",
   "execution_count": 31,
   "metadata": {
    "executionInfo": {
     "elapsed": 134,
     "status": "ok",
     "timestamp": 1736866834417,
     "user": {
      "displayName": "Lutz Hamel",
      "userId": "10287662568849688016"
     },
     "user_tz": 300
    },
    "id": "MFeBwTMPfb_f"
   },
   "outputs": [],
   "source": [
    "\n",
    "# Naive Bayes\n",
    "model = MultinomialNB()\\\n",
    "            .fit(X_train, y_train)\n",
    "\n",
    "# NOTE: NB does not have any hyper-parameters - no searching over parameter space!"
   ]
  },
  {
   "cell_type": "code",
   "execution_count": 32,
   "metadata": {
    "colab": {
     "base_uri": "https://localhost:8080/"
    },
    "executionInfo": {
     "elapsed": 78,
     "status": "ok",
     "timestamp": 1736866834494,
     "user": {
      "displayName": "Lutz Hamel",
      "userId": "10287662568849688016"
     },
     "user_tz": 300
    },
    "id": "pHif2W4rOesu",
    "outputId": "f68db853-6f53-4e14-a37f-80e3189d6184"
   },
   "outputs": [
    {
     "name": "stdout",
     "output_type": "stream",
     "text": [
      "Accuracy: 0.96 (0.93,0.98)\n"
     ]
    }
   ],
   "source": [
    "# Evaluate the best model\n",
    "predict_y = model.predict(X_test)\n",
    "acc = accuracy_score(y_test, predict_y)\n",
    "lb,ub = classification_confint(acc,X_test.shape[0])\n",
    "print(\"Accuracy: {:3.2f} ({:3.2f},{:3.2f})\".format(acc,lb,ub))"
   ]
  },
  {
   "cell_type": "code",
   "execution_count": 33,
   "metadata": {
    "colab": {
     "base_uri": "https://localhost:8080/"
    },
    "executionInfo": {
     "elapsed": 3,
     "status": "ok",
     "timestamp": 1736866834494,
     "user": {
      "displayName": "Lutz Hamel",
      "userId": "10287662568849688016"
     },
     "user_tz": 300
    },
    "id": "nMqV6evTOZr3",
    "outputId": "f282ba48-7bdb-4a1a-ca87-4efb06ed2288"
   },
   "outputs": [
    {
     "data": {
      "text/html": [
       "<div>\n",
       "<style scoped>\n",
       "    .dataframe tbody tr th:only-of-type {\n",
       "        vertical-align: middle;\n",
       "    }\n",
       "\n",
       "    .dataframe tbody tr th {\n",
       "        vertical-align: top;\n",
       "    }\n",
       "\n",
       "    .dataframe thead th {\n",
       "        text-align: right;\n",
       "    }\n",
       "</style>\n",
       "<table border=\"1\" class=\"dataframe\">\n",
       "  <thead>\n",
       "    <tr style=\"text-align: right;\">\n",
       "      <th></th>\n",
       "      <th>politics</th>\n",
       "      <th>space</th>\n",
       "    </tr>\n",
       "  </thead>\n",
       "  <tbody>\n",
       "    <tr>\n",
       "      <th>politics</th>\n",
       "      <td>102</td>\n",
       "      <td>7</td>\n",
       "    </tr>\n",
       "    <tr>\n",
       "      <th>space</th>\n",
       "      <td>2</td>\n",
       "      <td>97</td>\n",
       "    </tr>\n",
       "  </tbody>\n",
       "</table>\n",
       "</div>"
      ],
      "text/plain": [
       "          politics  space\n",
       "politics       102      7\n",
       "space            2     97"
      ]
     },
     "execution_count": 33,
     "metadata": {},
     "output_type": "execute_result"
    }
   ],
   "source": [
    "# build the confusion matrix\n",
    "labels = ['politics','space']\n",
    "cm = pd.DataFrame(data=confusion_matrix(y_test, predict_y, labels=labels), \n",
    "                  index=labels, \n",
    "                  columns=labels)\n",
    "cm"
   ]
  },
  {
   "cell_type": "markdown",
   "metadata": {
    "id": "2w-o8bV1fb_g"
   },
   "source": [
    "**Observation**: Trains very fast and has a higher accuracy than DT or KNN and the difference in accuracy is statistically significant!\n"
   ]
  },
  {
   "cell_type": "markdown",
   "metadata": {
    "id": "XP4MuOaafb_h"
   },
   "source": [
    "# Project\n",
    "\n",
    "See BrightSpace"
   ]
  }
 ],
 "metadata": {
  "colab": {
   "provenance": []
  },
  "kernelspec": {
   "display_name": "Python 3",
   "language": "python",
   "name": "python3"
  },
  "language_info": {
   "codemirror_mode": {
    "name": "ipython",
    "version": 3
   },
   "file_extension": ".py",
   "mimetype": "text/x-python",
   "name": "python",
   "nbconvert_exporter": "python",
   "pygments_lexer": "ipython3",
   "version": "3.13.1"
  }
 },
 "nbformat": 4,
 "nbformat_minor": 0
}
