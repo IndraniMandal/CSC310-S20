{
 "cells": [
  {
   "cell_type": "code",
   "execution_count": 1,
   "metadata": {
    "colab": {
     "base_uri": "https://localhost:8080/"
    },
    "executionInfo": {
     "elapsed": 820,
     "status": "ok",
     "timestamp": 1710958733309,
     "user": {
      "displayName": "Lutz Hamel",
      "userId": "10287662568849688016"
     },
     "user_tz": 240
    },
    "id": "EM8hPCpbfRFK",
    "outputId": "0fede0c0-606c-4065-aa76-7db65d2e9b59"
   },
   "outputs": [
    {
     "name": "stdout",
     "output_type": "stream",
     "text": [
      "Already up to date.\n"
     ]
    }
   ],
   "source": [
    "###### Config #####\n",
    "import sys, os, platform\n",
    "if os.path.isdir(\"ds-assets\"):\n",
    "  !cd ds-assets && git pull\n",
    "else:\n",
    "  !git clone https://github.com/lutzhamel/ds-assets.git\n",
    "colab = True if 'google.colab' in os.sys.modules else False\n",
    "system = platform.system() # \"Windows\", \"Linux\", \"Darwin\"\n",
    "home = \"ds-assets/assets/\"\n",
    "sys.path.append(home)  "
   ]
  },
  {
   "cell_type": "code",
   "execution_count": 2,
   "metadata": {},
   "outputs": [],
   "source": [
    "# notebook level imports\n",
    "import random\n",
    "import dsutils  # regression_confint\n",
    "import pandas as pd\n",
    "import seaborn as sns; sns.set_theme()\n",
    "from sklearn import linear_model       # LinearRegression\n",
    "from sklearn import tree               # DecisionTreeRegressor\n",
    "from sklearn import neighbors          # KNeighborsRegressor\n",
    "from sklearn import neural_network     # MLPRegressor\n",
    "from sklearn import model_selection    # GridSearchCV\n",
    "\n"
   ]
  },
  {
   "cell_type": "markdown",
   "metadata": {
    "id": "64J_wUX4fRFN"
   },
   "source": [
    "# Regression\n",
    "\n",
    "In regression we predict **values** rather than discrete labels.\n",
    "In the simplest case we want to fit a line through a set of points - simple linear regression.\n",
    "A straight-line is a model of the form,\n",
    "\n",
    "$$y=mx+b$$\n",
    "\n",
    "where m is the *slope* and b is the *intercept*.  \n",
    "\n",
    "\n",
    "<center>\n",
    "<img src=\"https://raw.githubusercontent.com/lutzhamel/ds-assets/main/assets/linreg-scatter.png\"  \n",
    "height=\"200\" \n",
    "width=\"225\">\n",
    "</center>\n",
    "\n",
    "[source](https://towardsdatascience.com/mathematics-hidden-behind-linear-regression-431fe4d11969)\n",
    "\n",
    "\n",
    "\n"
   ]
  },
  {
   "cell_type": "markdown",
   "metadata": {
    "id": "RqCAamFjBiV4"
   },
   "source": [
    "Let's try this with a synthetic dataset that we generate with a linear model in mind plus some noise: given an $x$ value we compute the corresponding $y$ as\n",
    "\n",
    "$$y=mx+b+\\Delta_y$$\n",
    "\n",
    "where $m$ is the slope, $b$ the intercept, and $\\Delta_y$ the noise in the $y$ coordinate.\n"
   ]
  },
  {
   "cell_type": "code",
   "execution_count": 3,
   "metadata": {
    "colab": {
     "base_uri": "https://localhost:8080/",
     "height": 510
    },
    "executionInfo": {
     "elapsed": 2334,
     "status": "ok",
     "timestamp": 1710958735641,
     "user": {
      "displayName": "Lutz Hamel",
      "userId": "10287662568849688016"
     },
     "user_tz": 240
    },
    "id": "huuj8V4gfRFO",
    "outputId": "c694778b-3774-4dd9-9ff0-8bb23989e14c"
   },
   "outputs": [
    {
     "data": {
      "text/plain": [
       "<Axes: xlabel='x', ylabel='y'>"
      ]
     },
     "execution_count": 3,
     "metadata": {},
     "output_type": "execute_result"
    },
    {
     "data": {
      "image/png": "[encoded data removed]",
      "text/plain": [
       "<Figure size 640x480 with 1 Axes>"
      ]
     },
     "metadata": {},
     "output_type": "display_data"
    }
   ],
   "source": [
    "# generate the data\n",
    "# data parameters\n",
    "# implicit model parameters!\n",
    "m = 2        # slope\n",
    "b = -1       # intercept\n",
    "# data set specs\n",
    "n = 50       # number of points to generate\n",
    "y_range = 30 # governs the level of noise on the y coordinate\n",
    "delta_y = \\\n",
    "  pd.Series([random.uniform(-y_range,y_range) for _ in range(n)])\n",
    "\n",
    "# generate a dataframe for our data points\n",
    "# generate values on the x-axis\n",
    "x = pd.DataFrame({'x':[i for i in range(n)]})\n",
    "# generate values on the y-axis using x-values\n",
    "y = pd.DataFrame({'y': m * x['x'] + b + delta_y})\n",
    "# each row represents the point (x,y)\n",
    "points_df = pd.concat([x,y], axis=1)\n",
    "sns.scatterplot(data=points_df, x='x', y='y') "
   ]
  },
  {
   "cell_type": "code",
   "execution_count": 4,
   "metadata": {},
   "outputs": [
    {
     "name": "stdout",
     "output_type": "stream",
     "text": [
      "Slope: 2.13\n",
      "Intercept: -3.70\n"
     ]
    }
   ],
   "source": [
    "\n",
    "# linear regression model\n",
    "model = linear_model.LinearRegression()\n",
    "\n",
    "# fit the model to our noisy data\n",
    "# x is the independ variable, y the dependent variable\n",
    "model.fit(points_df[['x']], points_df['y'])\n",
    "\n",
    "# print model parameters\n",
    "print(\"Slope: {:3.2f}\".format(model.coef_[0]))\n",
    "print(\"Intercept: {:3.2f}\".format(model.intercept_))"
   ]
  },
  {
   "cell_type": "code",
   "execution_count": 5,
   "metadata": {},
   "outputs": [
    {
     "name": "stdout",
     "output_type": "stream",
     "text": [
      "R^2 score: 0.71\n"
     ]
    }
   ],
   "source": [
    "# model performance: the R^2 score\n",
    "rs = model.score(x,y)\n",
    "print(\"R^2 score: {:3.2f}\".format(rs))"
   ]
  },
  {
   "cell_type": "code",
   "execution_count": 6,
   "metadata": {},
   "outputs": [
    {
     "data": {
      "text/plain": [
       "<Axes: xlabel='x', ylabel='y'>"
      ]
     },
     "execution_count": 6,
     "metadata": {},
     "output_type": "execute_result"
    },
    {
     "data": {
      "image/png": "[encoded data removed]",
      "text/plain": [
       "<Figure size 640x480 with 1 Axes>"
      ]
     },
     "metadata": {},
     "output_type": "display_data"
    }
   ],
   "source": [
    "\n",
    "# plot the model together with the data\n",
    "# create a dataframe that represents the model using two points\n",
    "xfit = pd.DataFrame({'x':[0,n]})\n",
    "yfit = pd.DataFrame({'y':model.predict(xfit)})\n",
    "# each row represents a point on the model\n",
    "model_df = pd.concat([xfit, yfit], axis=1)\n",
    "\n",
    "sns.scatterplot(data=points_df, x='x', y='y')  # data\n",
    "sns.lineplot(data=model_df, x='x', y='y', color='red')  # model"
   ]
  },
  {
   "cell_type": "markdown",
   "metadata": {
    "id": "w7qQX-xGfRFP"
   },
   "source": [
    "# Another Look at the $R^2$ Score\n",
    "\n",
    "The $R^2$ score is a score that compares the errors squared of the regression model to the errors squared of a default model.\n",
    "The default model is just the average value $\\bar{y}$ of all y-values.  That is, for any x-value the model always returns the same answer: $\\bar{y}$.\n",
    "\n",
    "<center>\n",
    "<img src=\"https://raw.githubusercontent.com/lutzhamel/ds-assets/main/assets/rs.png\" height=\"400\" width=\"460\">\n",
    "</center>\n",
    "\n",
    "(Source: [Wikipedia](https://en.wikipedia.org/wiki/Coefficient_of_determination))\n",
    "\n",
    "Let's explore that figure a little bit more assuming that we have a training dataset that consists of the set of points,\n",
    "\n",
    "$$\\{(x_1,y_1), (x_2,y_2),\\dots,(x_n,y_n)\\}$$\n",
    "\n",
    "where $x_i$ are the values of the independent variable and $y_i$ are the values of the dependent variable. Then the we have the following definitions,\n",
    "\n",
    "1. The **default model** is defined as $\\bar{y} = \\frac{1}{n}\\sum_{i=1}^n y_i$, the average of the expected outcomes $y_i$ of the training data.\n",
    "1. The regression model is $f$ and the **residuals** are defined as $y_i - f(x_i)$ for $i=1\\ldots n$, that is, a residual is the difference between the expected outcome $y_i$ at point $x_i$ minus the outcome computed by the model $f(x_i)$.\n",
    "1. $SS_{\\rm res}$ is the squared sum of the residuals of the model $f$, more precisely, $SS_{\\rm res} = \\sum_{i=1}^n (y_i - f(x_i))^2$.\n",
    "1. $SS_{\\rm tot}$ is the squared sum of the residuals of the default model $\\bar{y}$, more precisely, $SS_{\\rm tot} = \\sum_{i=1}^n (y_i - \\bar{y})^2$.\n",
    "\n",
    "With these definitions we can now compute the $R^2$ score as\n",
    "\n",
    "$$R^2\n",
    "= 1 - \\frac{SS_{\\rm res}}{SS_{\\rm tot}}\n",
    "= 1 - \\frac{\\sum_{i=1}^n (y_i - f(x_i))^2}{\\sum_{i=1}^n (y_i - \\bar{y})^2}\n",
    "$$\n",
    "\n",
    "Notice that if the performance of our regression model $f$ approaches the performance of our default model $\\bar{y}$ then the\n",
    "score will be,\n",
    "\n",
    "$$R^2 \\approx 1 - 1 = 0$$\n",
    "\n",
    "If our model $f$ is perfect, that is, all residuals $y_i - f(x_i)$ are equal to zero then we obtain the score,\n",
    "\n",
    "$$R^2 = 1 - 0 = 1$$\n",
    "\n",
    "That means, the closer an $R^2$ score is to one the better the model.  It turns out that if our model $f$ is worse than the default model $\\bar{y}$ then it is possible to obtain negative $R^2$ values."
   ]
  },
  {
   "cell_type": "markdown",
   "metadata": {
    "id": "UK8kg8e1fRFP"
   },
   "source": [
    "# Regression Models\n",
    "\n",
    "Turns out that all the classification models we have covered so far also support regression models:\n",
    "\n",
    "* Regression Trees (we have seen these before when we discussed non-linear regression)\n",
    "* KNN Regression Models\n",
    "* MLP Regression Models\n",
    "\n",
    "We will use the cars dataset to study these regression models. "
   ]
  },
  {
   "cell_type": "code",
   "execution_count": 7,
   "metadata": {
    "colab": {
     "base_uri": "https://localhost:8080/",
     "height": 475
    },
    "executionInfo": {
     "elapsed": 1238,
     "status": "ok",
     "timestamp": 1710958736877,
     "user": {
      "displayName": "Lutz Hamel",
      "userId": "10287662568849688016"
     },
     "user_tz": 240
    },
    "id": "A-ONrCMDfRFQ",
    "outputId": "6ac11bcc-6fa4-4235-b61b-4da597001461"
   },
   "outputs": [
    {
     "data": {
      "text/plain": [
       "<Axes: xlabel='speed', ylabel='dist'>"
      ]
     },
     "execution_count": 7,
     "metadata": {},
     "output_type": "execute_result"
    },
    {
     "data": {
      "image/png": "[encoded data removed]",
      "text/plain": [
       "<Figure size 640x480 with 1 Axes>"
      ]
     },
     "metadata": {},
     "output_type": "display_data"
    }
   ],
   "source": [
    "# get our dataset\n",
    "cars_df = pd.read_csv(home+\"cars.csv\")\n",
    "\n",
    "# plot the data\n",
    "sns.scatterplot(data=cars_df, x='speed', y='dist')"
   ]
  },
  {
   "cell_type": "markdown",
   "metadata": {
    "id": "4hWlvKb9fRFP"
   },
   "source": [
    "## Regression Trees\n",
    "\n",
    "Here we restrict the complexity of the tree to a depth of 2."
   ]
  },
  {
   "cell_type": "code",
   "execution_count": 8,
   "metadata": {},
   "outputs": [],
   "source": [
    "\n",
    "# regression trees\n",
    "model = tree.DecisionTreeRegressor(max_depth=2) \\\n",
    "            .fit(cars_df[['speed']],cars_df['dist'])"
   ]
  },
  {
   "cell_type": "code",
   "execution_count": 9,
   "metadata": {},
   "outputs": [
    {
     "data": {
      "text/plain": [
       "<Axes: xlabel='speed', ylabel='dist'>"
      ]
     },
     "execution_count": 9,
     "metadata": {},
     "output_type": "execute_result"
    },
    {
     "data": {
      "image/png": "[encoded data removed]",
      "text/plain": [
       "<Figure size 640x480 with 1 Axes>"
      ]
     },
     "metadata": {},
     "output_type": "display_data"
    }
   ],
   "source": [
    "# plot the model\n",
    "# 0 to 25 in .1 increments\n",
    "x_ticks = pd.DataFrame(list(range(0,251)), columns=['speed']) / 10.0\n",
    "y_ticks = pd.DataFrame(model.predict(x_ticks), columns=['dist'])\n",
    "model_df = pd.concat([x_ticks, y_ticks], axis=1)\n",
    "\n",
    "sns.scatterplot(data=cars_df, x='speed', y='dist')   # data\n",
    "sns.lineplot(model_df, x='speed', y='dist', color='red') #model"
   ]
  },
  {
   "cell_type": "code",
   "execution_count": 10,
   "metadata": {},
   "outputs": [
    {
     "name": "stdout",
     "output_type": "stream",
     "text": [
      "R^2 score: 0.73 (0.60, 0.85)\n"
     ]
    }
   ],
   "source": [
    "# compute the R^2 score\n",
    "rs = model.score(cars_df[['speed']],cars_df['dist'])\n",
    "obs = cars_df.shape[0]\n",
    "vars = 1\n",
    "lb, ub = dsutils.regression_confint(rs, obs, vars)\n",
    "print(\"R^2 score: {:3.2f} ({:3.2f}, {:3.2f})\".format(rs,lb,ub))"
   ]
  },
  {
   "cell_type": "markdown",
   "metadata": {
    "id": "En378I7HfRFQ"
   },
   "source": [
    "## KNN Regression\n",
    "\n",
    "KNN regression is interesting in that we are not asking the neighbors for a majority label but instead we compute the average value associated with the neighbors and that becomes the value of the current point."
   ]
  },
  {
   "cell_type": "code",
   "execution_count": 11,
   "metadata": {
    "colab": {
     "base_uri": "https://localhost:8080/",
     "height": 475
    },
    "executionInfo": {
     "elapsed": 1265,
     "status": "ok",
     "timestamp": 1710958738139,
     "user": {
      "displayName": "Lutz Hamel",
      "userId": "10287662568849688016"
     },
     "user_tz": 240
    },
    "id": "8XkbG_jTfRFR",
    "outputId": "ebdaca56-3b8e-49cd-ff41-0c3d9fe43769"
   },
   "outputs": [],
   "source": [
    "\n",
    "# KNN regression with k=3\n",
    "model = neighbors.KNeighborsRegressor(n_neighbors=3) \\\n",
    "                 .fit(cars_df[['speed']],cars_df['dist'])"
   ]
  },
  {
   "cell_type": "code",
   "execution_count": 12,
   "metadata": {},
   "outputs": [
    {
     "data": {
      "text/plain": [
       "<Axes: xlabel='speed', ylabel='dist'>"
      ]
     },
     "execution_count": 12,
     "metadata": {},
     "output_type": "execute_result"
    },
    {
     "data": {
      "image/png": "[encoded data removed]",
      "text/plain": [
       "<Figure size 640x480 with 1 Axes>"
      ]
     },
     "metadata": {},
     "output_type": "display_data"
    }
   ],
   "source": [
    "# plot the model\n",
    "# 0 to 25 in .1 increments\n",
    "x_ticks = pd.DataFrame(list(range(0,251)), columns=['speed']) / 10.0\n",
    "y_ticks = pd.DataFrame(model.predict(x_ticks), columns=['dist'])\n",
    "model_df = pd.concat([x_ticks, y_ticks], axis=1)\n",
    "\n",
    "sns.scatterplot(data=cars_df, x='speed', y='dist') # data\n",
    "sns.lineplot(model_df, x='speed', y='dist', color='red') # model\n"
   ]
  },
  {
   "cell_type": "code",
   "execution_count": 13,
   "metadata": {},
   "outputs": [
    {
     "name": "stdout",
     "output_type": "stream",
     "text": [
      "R^2 score: 0.75 (0.64, 0.86)\n"
     ]
    }
   ],
   "source": [
    "\n",
    "# compute the R^2 score\n",
    "rs = model.score(cars_df[['speed']],cars_df['dist'])\n",
    "obs = cars_df.shape[0]\n",
    "vars = 1\n",
    "lb, ub = dsutils.regression_confint(rs, obs, vars)\n",
    "print(\"R^2 score: {:3.2f} ({:3.2f}, {:3.2f})\".format(rs,lb,ub))"
   ]
  },
  {
   "cell_type": "markdown",
   "metadata": {
    "id": "Y_HvPlOpfRFR"
   },
   "source": [
    "## MLP Regression\n",
    "\n",
    "In MLP regression we ask the network to model a continuous value.  This turns out to be just a change in interpretation of the output value.  Rather than applying a thresholding function to the output like the `sign` function we just use the raw output value as the model output value."
   ]
  },
  {
   "cell_type": "code",
   "execution_count": 14,
   "metadata": {
    "colab": {
     "base_uri": "https://localhost:8080/",
     "height": 475
    },
    "executionInfo": {
     "elapsed": 38128,
     "status": "ok",
     "timestamp": 1710958776264,
     "user": {
      "displayName": "Lutz Hamel",
      "userId": "10287662568849688016"
     },
     "user_tz": 240
    },
    "id": "_7mgrEVcfRFS",
    "outputId": "e437d4f7-4630-4442-9630-9216e5d38dd4"
   },
   "outputs": [
    {
     "data": {
      "text/html": [
       "<style>#sk-container-id-1 {\n",
       "  /* Definition of color scheme common for light and dark mode */\n",
       "  --sklearn-color-text: #000;\n",
       "  --sklearn-color-text-muted: #666;\n",
       "  --sklearn-color-line: gray;\n",
       "  /* Definition of color scheme for unfitted estimators */\n",
       "  --sklearn-color-unfitted-level-0: #fff5e6;\n",
       "  --sklearn-color-unfitted-level-1: #f6e4d2;\n",
       "  --sklearn-color-unfitted-level-2: #ffe0b3;\n",
       "  --sklearn-color-unfitted-level-3: chocolate;\n",
       "  /* Definition of color scheme for fitted estimators */\n",
       "  --sklearn-color-fitted-level-0: #f0f8ff;\n",
       "  --sklearn-color-fitted-level-1: #d4ebff;\n",
       "  --sklearn-color-fitted-level-2: #b3dbfd;\n",
       "  --sklearn-color-fitted-level-3: cornflowerblue;\n",
       "\n",
       "  /* Specific color for light theme */\n",
       "  --sklearn-color-text-on-default-background: var(--sg-text-color, var(--theme-code-foreground, var(--jp-content-font-color1, black)));\n",
       "  --sklearn-color-background: var(--sg-background-color, var(--theme-background, var(--jp-layout-color0, white)));\n",
       "  --sklearn-color-border-box: var(--sg-text-color, var(--theme-code-foreground, var(--jp-content-font-color1, black)));\n",
       "  --sklearn-color-icon: #696969;\n",
       "\n",
       "  @media (prefers-color-scheme: dark) {\n",
       "    /* Redefinition of color scheme for dark theme */\n",
       "    --sklearn-color-text-on-default-background: var(--sg-text-color, var(--theme-code-foreground, var(--jp-content-font-color1, white)));\n",
       "    --sklearn-color-background: var(--sg-background-color, var(--theme-background, var(--jp-layout-color0, #111)));\n",
       "    --sklearn-color-border-box: var(--sg-text-color, var(--theme-code-foreground, var(--jp-content-font-color1, white)));\n",
       "    --sklearn-color-icon: #878787;\n",
       "  }\n",
       "}\n",
       "\n",
       "#sk-container-id-1 {\n",
       "  color: var(--sklearn-color-text);\n",
       "}\n",
       "\n",
       "#sk-container-id-1 pre {\n",
       "  padding: 0;\n",
       "}\n",
       "\n",
       "#sk-container-id-1 input.sk-hidden--visually {\n",
       "  border: 0;\n",
       "  clip: rect(1px 1px 1px 1px);\n",
       "  clip: rect(1px, 1px, 1px, 1px);\n",
       "  height: 1px;\n",
       "  margin: -1px;\n",
       "  overflow: hidden;\n",
       "  padding: 0;\n",
       "  position: absolute;\n",
       "  width: 1px;\n",
       "}\n",
       "\n",
       "#sk-container-id-1 div.sk-dashed-wrapped {\n",
       "  border: 1px dashed var(--sklearn-color-line);\n",
       "  margin: 0 0.4em 0.5em 0.4em;\n",
       "  box-sizing: border-box;\n",
       "  padding-bottom: 0.4em;\n",
       "  background-color: var(--sklearn-color-background);\n",
       "}\n",
       "\n",
       "#sk-container-id-1 div.sk-container {\n",
       "  /* jupyter's `normalize.less` sets `[hidden] { display: none; }`\n",
       "     but bootstrap.min.css set `[hidden] { display: none !important; }`\n",
       "     so we also need the `!important` here to be able to override the\n",
       "     default hidden behavior on the sphinx rendered scikit-learn.org.\n",
       "     See: https://github.com/scikit-learn/scikit-learn/issues/21755 */\n",
       "  display: inline-block !important;\n",
       "  position: relative;\n",
       "}\n",
       "\n",
       "#sk-container-id-1 div.sk-text-repr-fallback {\n",
       "  display: none;\n",
       "}\n",
       "\n",
       "div.sk-parallel-item,\n",
       "div.sk-serial,\n",
       "div.sk-item {\n",
       "  /* draw centered vertical line to link estimators */\n",
       "  background-image: linear-gradient(var(--sklearn-color-text-on-default-background), var(--sklearn-color-text-on-default-background));\n",
       "  background-size: 2px 100%;\n",
       "  background-repeat: no-repeat;\n",
       "  background-position: center center;\n",
       "}\n",
       "\n",
       "/* Parallel-specific style estimator block */\n",
       "\n",
       "#sk-container-id-1 div.sk-parallel-item::after {\n",
       "  content: \"\";\n",
       "  width: 100%;\n",
       "  border-bottom: 2px solid var(--sklearn-color-text-on-default-background);\n",
       "  flex-grow: 1;\n",
       "}\n",
       "\n",
       "#sk-container-id-1 div.sk-parallel {\n",
       "  display: flex;\n",
       "  align-items: stretch;\n",
       "  justify-content: center;\n",
       "  background-color: var(--sklearn-color-background);\n",
       "  position: relative;\n",
       "}\n",
       "\n",
       "#sk-container-id-1 div.sk-parallel-item {\n",
       "  display: flex;\n",
       "  flex-direction: column;\n",
       "}\n",
       "\n",
       "#sk-container-id-1 div.sk-parallel-item:first-child::after {\n",
       "  align-self: flex-end;\n",
       "  width: 50%;\n",
       "}\n",
       "\n",
       "#sk-container-id-1 div.sk-parallel-item:last-child::after {\n",
       "  align-self: flex-start;\n",
       "  width: 50%;\n",
       "}\n",
       "\n",
       "#sk-container-id-1 div.sk-parallel-item:only-child::after {\n",
       "  width: 0;\n",
       "}\n",
       "\n",
       "/* Serial-specific style estimator block */\n",
       "\n",
       "#sk-container-id-1 div.sk-serial {\n",
       "  display: flex;\n",
       "  flex-direction: column;\n",
       "  align-items: center;\n",
       "  background-color: var(--sklearn-color-background);\n",
       "  padding-right: 1em;\n",
       "  padding-left: 1em;\n",
       "}\n",
       "\n",
       "\n",
       "/* Toggleable style: style used for estimator/Pipeline/ColumnTransformer box that is\n",
       "clickable and can be expanded/collapsed.\n",
       "- Pipeline and ColumnTransformer use this feature and define the default style\n",
       "- Estimators will overwrite some part of the style using the `sk-estimator` class\n",
       "*/\n",
       "\n",
       "/* Pipeline and ColumnTransformer style (default) */\n",
       "\n",
       "#sk-container-id-1 div.sk-toggleable {\n",
       "  /* Default theme specific background. It is overwritten whether we have a\n",
       "  specific estimator or a Pipeline/ColumnTransformer */\n",
       "  background-color: var(--sklearn-color-background);\n",
       "}\n",
       "\n",
       "/* Toggleable label */\n",
       "#sk-container-id-1 label.sk-toggleable__label {\n",
       "  cursor: pointer;\n",
       "  display: flex;\n",
       "  width: 100%;\n",
       "  margin-bottom: 0;\n",
       "  padding: 0.5em;\n",
       "  box-sizing: border-box;\n",
       "  text-align: center;\n",
       "  align-items: start;\n",
       "  justify-content: space-between;\n",
       "  gap: 0.5em;\n",
       "}\n",
       "\n",
       "#sk-container-id-1 label.sk-toggleable__label .caption {\n",
       "  font-size: 0.6rem;\n",
       "  font-weight: lighter;\n",
       "  color: var(--sklearn-color-text-muted);\n",
       "}\n",
       "\n",
       "#sk-container-id-1 label.sk-toggleable__label-arrow:before {\n",
       "  /* Arrow on the left of the label */\n",
       "  content: \"▸\";\n",
       "  float: left;\n",
       "  margin-right: 0.25em;\n",
       "  color: var(--sklearn-color-icon);\n",
       "}\n",
       "\n",
       "#sk-container-id-1 label.sk-toggleable__label-arrow:hover:before {\n",
       "  color: var(--sklearn-color-text);\n",
       "}\n",
       "\n",
       "/* Toggleable content - dropdown */\n",
       "\n",
       "#sk-container-id-1 div.sk-toggleable__content {\n",
       "  max-height: 0;\n",
       "  max-width: 0;\n",
       "  overflow: hidden;\n",
       "  text-align: left;\n",
       "  /* unfitted */\n",
       "  background-color: var(--sklearn-color-unfitted-level-0);\n",
       "}\n",
       "\n",
       "#sk-container-id-1 div.sk-toggleable__content.fitted {\n",
       "  /* fitted */\n",
       "  background-color: var(--sklearn-color-fitted-level-0);\n",
       "}\n",
       "\n",
       "#sk-container-id-1 div.sk-toggleable__content pre {\n",
       "  margin: 0.2em;\n",
       "  border-radius: 0.25em;\n",
       "  color: var(--sklearn-color-text);\n",
       "  /* unfitted */\n",
       "  background-color: var(--sklearn-color-unfitted-level-0);\n",
       "}\n",
       "\n",
       "#sk-container-id-1 div.sk-toggleable__content.fitted pre {\n",
       "  /* unfitted */\n",
       "  background-color: var(--sklearn-color-fitted-level-0);\n",
       "}\n",
       "\n",
       "#sk-container-id-1 input.sk-toggleable__control:checked~div.sk-toggleable__content {\n",
       "  /* Expand drop-down */\n",
       "  max-height: 200px;\n",
       "  max-width: 100%;\n",
       "  overflow: auto;\n",
       "}\n",
       "\n",
       "#sk-container-id-1 input.sk-toggleable__control:checked~label.sk-toggleable__label-arrow:before {\n",
       "  content: \"▾\";\n",
       "}\n",
       "\n",
       "/* Pipeline/ColumnTransformer-specific style */\n",
       "\n",
       "#sk-container-id-1 div.sk-label input.sk-toggleable__control:checked~label.sk-toggleable__label {\n",
       "  color: var(--sklearn-color-text);\n",
       "  background-color: var(--sklearn-color-unfitted-level-2);\n",
       "}\n",
       "\n",
       "#sk-container-id-1 div.sk-label.fitted input.sk-toggleable__control:checked~label.sk-toggleable__label {\n",
       "  background-color: var(--sklearn-color-fitted-level-2);\n",
       "}\n",
       "\n",
       "/* Estimator-specific style */\n",
       "\n",
       "/* Colorize estimator box */\n",
       "#sk-container-id-1 div.sk-estimator input.sk-toggleable__control:checked~label.sk-toggleable__label {\n",
       "  /* unfitted */\n",
       "  background-color: var(--sklearn-color-unfitted-level-2);\n",
       "}\n",
       "\n",
       "#sk-container-id-1 div.sk-estimator.fitted input.sk-toggleable__control:checked~label.sk-toggleable__label {\n",
       "  /* fitted */\n",
       "  background-color: var(--sklearn-color-fitted-level-2);\n",
       "}\n",
       "\n",
       "#sk-container-id-1 div.sk-label label.sk-toggleable__label,\n",
       "#sk-container-id-1 div.sk-label label {\n",
       "  /* The background is the default theme color */\n",
       "  color: var(--sklearn-color-text-on-default-background);\n",
       "}\n",
       "\n",
       "/* On hover, darken the color of the background */\n",
       "#sk-container-id-1 div.sk-label:hover label.sk-toggleable__label {\n",
       "  color: var(--sklearn-color-text);\n",
       "  background-color: var(--sklearn-color-unfitted-level-2);\n",
       "}\n",
       "\n",
       "/* Label box, darken color on hover, fitted */\n",
       "#sk-container-id-1 div.sk-label.fitted:hover label.sk-toggleable__label.fitted {\n",
       "  color: var(--sklearn-color-text);\n",
       "  background-color: var(--sklearn-color-fitted-level-2);\n",
       "}\n",
       "\n",
       "/* Estimator label */\n",
       "\n",
       "#sk-container-id-1 div.sk-label label {\n",
       "  font-family: monospace;\n",
       "  font-weight: bold;\n",
       "  display: inline-block;\n",
       "  line-height: 1.2em;\n",
       "}\n",
       "\n",
       "#sk-container-id-1 div.sk-label-container {\n",
       "  text-align: center;\n",
       "}\n",
       "\n",
       "/* Estimator-specific */\n",
       "#sk-container-id-1 div.sk-estimator {\n",
       "  font-family: monospace;\n",
       "  border: 1px dotted var(--sklearn-color-border-box);\n",
       "  border-radius: 0.25em;\n",
       "  box-sizing: border-box;\n",
       "  margin-bottom: 0.5em;\n",
       "  /* unfitted */\n",
       "  background-color: var(--sklearn-color-unfitted-level-0);\n",
       "}\n",
       "\n",
       "#sk-container-id-1 div.sk-estimator.fitted {\n",
       "  /* fitted */\n",
       "  background-color: var(--sklearn-color-fitted-level-0);\n",
       "}\n",
       "\n",
       "/* on hover */\n",
       "#sk-container-id-1 div.sk-estimator:hover {\n",
       "  /* unfitted */\n",
       "  background-color: var(--sklearn-color-unfitted-level-2);\n",
       "}\n",
       "\n",
       "#sk-container-id-1 div.sk-estimator.fitted:hover {\n",
       "  /* fitted */\n",
       "  background-color: var(--sklearn-color-fitted-level-2);\n",
       "}\n",
       "\n",
       "/* Specification for estimator info (e.g. \"i\" and \"?\") */\n",
       "\n",
       "/* Common style for \"i\" and \"?\" */\n",
       "\n",
       ".sk-estimator-doc-link,\n",
       "a:link.sk-estimator-doc-link,\n",
       "a:visited.sk-estimator-doc-link {\n",
       "  float: right;\n",
       "  font-size: smaller;\n",
       "  line-height: 1em;\n",
       "  font-family: monospace;\n",
       "  background-color: var(--sklearn-color-background);\n",
       "  border-radius: 1em;\n",
       "  height: 1em;\n",
       "  width: 1em;\n",
       "  text-decoration: none !important;\n",
       "  margin-left: 0.5em;\n",
       "  text-align: center;\n",
       "  /* unfitted */\n",
       "  border: var(--sklearn-color-unfitted-level-1) 1pt solid;\n",
       "  color: var(--sklearn-color-unfitted-level-1);\n",
       "}\n",
       "\n",
       ".sk-estimator-doc-link.fitted,\n",
       "a:link.sk-estimator-doc-link.fitted,\n",
       "a:visited.sk-estimator-doc-link.fitted {\n",
       "  /* fitted */\n",
       "  border: var(--sklearn-color-fitted-level-1) 1pt solid;\n",
       "  color: var(--sklearn-color-fitted-level-1);\n",
       "}\n",
       "\n",
       "/* On hover */\n",
       "div.sk-estimator:hover .sk-estimator-doc-link:hover,\n",
       ".sk-estimator-doc-link:hover,\n",
       "div.sk-label-container:hover .sk-estimator-doc-link:hover,\n",
       ".sk-estimator-doc-link:hover {\n",
       "  /* unfitted */\n",
       "  background-color: var(--sklearn-color-unfitted-level-3);\n",
       "  color: var(--sklearn-color-background);\n",
       "  text-decoration: none;\n",
       "}\n",
       "\n",
       "div.sk-estimator.fitted:hover .sk-estimator-doc-link.fitted:hover,\n",
       ".sk-estimator-doc-link.fitted:hover,\n",
       "div.sk-label-container:hover .sk-estimator-doc-link.fitted:hover,\n",
       ".sk-estimator-doc-link.fitted:hover {\n",
       "  /* fitted */\n",
       "  background-color: var(--sklearn-color-fitted-level-3);\n",
       "  color: var(--sklearn-color-background);\n",
       "  text-decoration: none;\n",
       "}\n",
       "\n",
       "/* Span, style for the box shown on hovering the info icon */\n",
       ".sk-estimator-doc-link span {\n",
       "  display: none;\n",
       "  z-index: 9999;\n",
       "  position: relative;\n",
       "  font-weight: normal;\n",
       "  right: .2ex;\n",
       "  padding: .5ex;\n",
       "  margin: .5ex;\n",
       "  width: min-content;\n",
       "  min-width: 20ex;\n",
       "  max-width: 50ex;\n",
       "  color: var(--sklearn-color-text);\n",
       "  box-shadow: 2pt 2pt 4pt #999;\n",
       "  /* unfitted */\n",
       "  background: var(--sklearn-color-unfitted-level-0);\n",
       "  border: .5pt solid var(--sklearn-color-unfitted-level-3);\n",
       "}\n",
       "\n",
       ".sk-estimator-doc-link.fitted span {\n",
       "  /* fitted */\n",
       "  background: var(--sklearn-color-fitted-level-0);\n",
       "  border: var(--sklearn-color-fitted-level-3);\n",
       "}\n",
       "\n",
       ".sk-estimator-doc-link:hover span {\n",
       "  display: block;\n",
       "}\n",
       "\n",
       "/* \"?\"-specific style due to the `<a>` HTML tag */\n",
       "\n",
       "#sk-container-id-1 a.estimator_doc_link {\n",
       "  float: right;\n",
       "  font-size: 1rem;\n",
       "  line-height: 1em;\n",
       "  font-family: monospace;\n",
       "  background-color: var(--sklearn-color-background);\n",
       "  border-radius: 1rem;\n",
       "  height: 1rem;\n",
       "  width: 1rem;\n",
       "  text-decoration: none;\n",
       "  /* unfitted */\n",
       "  color: var(--sklearn-color-unfitted-level-1);\n",
       "  border: var(--sklearn-color-unfitted-level-1) 1pt solid;\n",
       "}\n",
       "\n",
       "#sk-container-id-1 a.estimator_doc_link.fitted {\n",
       "  /* fitted */\n",
       "  border: var(--sklearn-color-fitted-level-1) 1pt solid;\n",
       "  color: var(--sklearn-color-fitted-level-1);\n",
       "}\n",
       "\n",
       "/* On hover */\n",
       "#sk-container-id-1 a.estimator_doc_link:hover {\n",
       "  /* unfitted */\n",
       "  background-color: var(--sklearn-color-unfitted-level-3);\n",
       "  color: var(--sklearn-color-background);\n",
       "  text-decoration: none;\n",
       "}\n",
       "\n",
       "#sk-container-id-1 a.estimator_doc_link.fitted:hover {\n",
       "  /* fitted */\n",
       "  background-color: var(--sklearn-color-fitted-level-3);\n",
       "}\n",
       "</style><div id=\"sk-container-id-1\" class=\"sk-top-container\"><div class=\"sk-text-repr-fallback\"><pre>MLPRegressor(activation=&#x27;tanh&#x27;, hidden_layer_sizes=(2,), max_iter=100000)</pre><b>In a Jupyter environment, please rerun this cell to show the HTML representation or trust the notebook. <br />On GitHub, the HTML representation is unable to render, please try loading this page with nbviewer.org.</b></div><div class=\"sk-container\" hidden><div class=\"sk-item\"><div class=\"sk-estimator fitted sk-toggleable\"><input class=\"sk-toggleable__control sk-hidden--visually\" id=\"sk-estimator-id-1\" type=\"checkbox\" checked><label for=\"sk-estimator-id-1\" class=\"sk-toggleable__label fitted sk-toggleable__label-arrow\"><div><div>MLPRegressor</div></div><div><a class=\"sk-estimator-doc-link fitted\" rel=\"noreferrer\" target=\"_blank\" href=\"https://scikit-learn.org/1.6/modules/generated/sklearn.neural_network.MLPRegressor.html\">?<span>Documentation for MLPRegressor</span></a><span class=\"sk-estimator-doc-link fitted\">i<span>Fitted</span></span></div></label><div class=\"sk-toggleable__content fitted\"><pre>MLPRegressor(activation=&#x27;tanh&#x27;, hidden_layer_sizes=(2,), max_iter=100000)</pre></div> </div></div></div></div>"
      ],
      "text/plain": [
       "MLPRegressor(activation='tanh', hidden_layer_sizes=(2,), max_iter=100000)"
      ]
     },
     "execution_count": 14,
     "metadata": {},
     "output_type": "execute_result"
    }
   ],
   "source": [
    "# MLP regression model\n",
    "model = neural_network.MLPRegressor(hidden_layer_sizes=(2,), # rule of thumb architecture\n",
    "                     activation='tanh',\n",
    "                     max_iter=100000)\n",
    "model.fit(cars_df[['speed']],cars_df['dist'])"
   ]
  },
  {
   "cell_type": "code",
   "execution_count": 15,
   "metadata": {},
   "outputs": [
    {
     "data": {
      "text/plain": [
       "<Axes: xlabel='speed', ylabel='dist'>"
      ]
     },
     "execution_count": 15,
     "metadata": {},
     "output_type": "execute_result"
    },
    {
     "data": {
      "image/png": "[encoded data removed]",
      "text/plain": [
       "<Figure size 640x480 with 1 Axes>"
      ]
     },
     "metadata": {},
     "output_type": "display_data"
    }
   ],
   "source": [
    "# plot the model\n",
    "# 0 to 25 in .1 increments\n",
    "x_ticks = pd.DataFrame(list(range(0,251)), columns=['speed']) / 10.0\n",
    "y_ticks = pd.DataFrame(model.predict(x_ticks), columns=['dist'])\n",
    "model_df = pd.concat([x_ticks, y_ticks], axis=1)\n",
    "\n",
    "sns.scatterplot(data=cars_df, x='speed', y='dist') # data \n",
    "sns.lineplot(model_df, x='speed', y='dist', color='red') # model"
   ]
  },
  {
   "cell_type": "code",
   "execution_count": 16,
   "metadata": {},
   "outputs": [
    {
     "name": "stdout",
     "output_type": "stream",
     "text": [
      "R^2 score: 0.70 (0.57, 0.84)\n"
     ]
    }
   ],
   "source": [
    "# compute the R^2 score\n",
    "rs = model.score(cars_df[['speed']],cars_df['dist'])\n",
    "obs = cars_df.shape[0]\n",
    "vars = 1\n",
    "lb, ub = dsutils.regression_confint(rs, obs, vars)\n",
    "print(\"R^2 score: {:3.2f} ({:3.2f}, {:3.2f})\".format(rs,lb,ub))"
   ]
  },
  {
   "cell_type": "markdown",
   "metadata": {
    "id": "i90n3xU6fRFS"
   },
   "source": [
    "# Regression and Grid Search: Tree Regression"
   ]
  },
  {
   "cell_type": "markdown",
   "metadata": {
    "id": "FWKVgkjffRFS"
   },
   "source": [
    "Just like in classification, regression models are built using a small sample of a possibly infinite data universe and we have to estimate the model parameters for the best model using this small sample. That means we have to perform a grid search over parameter ranges and we want to use cross-validation to minimize the bias of any one particular training-test split of the data.\n",
    "\n",
    "Let's try this with tree regression. We still use the car data set from the previous section."
   ]
  },
  {
   "cell_type": "code",
   "execution_count": 17,
   "metadata": {
    "colab": {
     "base_uri": "https://localhost:8080/",
     "height": 475
    },
    "executionInfo": {
     "elapsed": 804,
     "status": "ok",
     "timestamp": 1710958777065,
     "user": {
      "displayName": "Lutz Hamel",
      "userId": "10287662568849688016"
     },
     "user_tz": 240
    },
    "id": "mqx_tzmpfRFT",
    "outputId": "c77e1f2d-10b0-4c96-db29-c44f7320a5ab"
   },
   "outputs": [
    {
     "name": "stdout",
     "output_type": "stream",
     "text": [
      "{'max_depth': 3}\n"
     ]
    }
   ],
   "source": [
    "# setting up grid search\n",
    "model = tree.DecisionTreeRegressor()\n",
    "param_grid = {'max_depth': list(range(1,11))}\n",
    "grid = model_selection.GridSearchCV(model, param_grid, cv=5)\n",
    "\n",
    "# performing grid search\n",
    "grid.fit(cars_df[['speed']], cars_df['dist'])\n",
    "best_model = grid.best_estimator_\n",
    "\n",
    "print(grid.best_params_)"
   ]
  },
  {
   "cell_type": "markdown",
   "metadata": {},
   "source": [
    "**Observation**: Interestingly enough, the best regression tree happens to be the tree we used in our raw guess above."
   ]
  },
  {
   "cell_type": "code",
   "execution_count": 18,
   "metadata": {},
   "outputs": [
    {
     "data": {
      "text/plain": [
       "<Axes: xlabel='speed', ylabel='dist'>"
      ]
     },
     "execution_count": 18,
     "metadata": {},
     "output_type": "execute_result"
    },
    {
     "data": {
      "image/png": "[encoded data removed]",
      "text/plain": [
       "<Figure size 640x480 with 1 Axes>"
      ]
     },
     "metadata": {},
     "output_type": "display_data"
    }
   ],
   "source": [
    "# plot the model\n",
    "# 0 to 25 in .1 increments\n",
    "x_ticks = pd.DataFrame(list(range(0,251)), columns=['speed']) / 10.0\n",
    "y_ticks = pd.DataFrame(best_model.predict(x_ticks), columns=['dist'])\n",
    "model_df = pd.concat([x_ticks, y_ticks], axis=1)\n",
    "\n",
    "sns.scatterplot(data=cars_df, x='speed', y='dist') # data\n",
    "sns.lineplot(model_df, x='speed', y='dist', color='red') # model\n"
   ]
  },
  {
   "cell_type": "code",
   "execution_count": 19,
   "metadata": {},
   "outputs": [
    {
     "name": "stdout",
     "output_type": "stream",
     "text": [
      "R^2 score: 0.76 (0.66, 0.87)\n"
     ]
    }
   ],
   "source": [
    "# compute the R^2 score\n",
    "rs = best_model.score(cars_df[['speed']],cars_df['dist'])\n",
    "obs = cars_df.shape[0]\n",
    "vars = 1\n",
    "lb, ub = dsutils.regression_confint(rs, obs, vars)\n",
    "print(\"R^2 score: {:3.2f} ({:3.2f}, {:3.2f})\".format(rs,lb,ub))"
   ]
  },
  {
   "cell_type": "markdown",
   "metadata": {
    "id": "Z0c22xNUria7"
   },
   "source": [
    "Hint: Try to do a grid search for k-NN and ANNs."
   ]
  }
 ],
 "metadata": {
  "colab": {
   "provenance": []
  },
  "kernelspec": {
   "display_name": "Python 3",
   "language": "python",
   "name": "python3"
  },
  "language_info": {
   "codemirror_mode": {
    "name": "ipython",
    "version": 3
   },
   "file_extension": ".py",
   "mimetype": "text/x-python",
   "name": "python",
   "nbconvert_exporter": "python",
   "pygments_lexer": "ipython3",
   "version": "3.13.1"
  }
 },
 "nbformat": 4,
 "nbformat_minor": 0
}
